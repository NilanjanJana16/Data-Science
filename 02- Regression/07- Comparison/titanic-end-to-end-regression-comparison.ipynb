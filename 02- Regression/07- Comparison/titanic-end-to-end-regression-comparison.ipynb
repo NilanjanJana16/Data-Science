{
 "cells": [
  {
   "cell_type": "code",
   "execution_count": 1,
   "id": "81cd8231",
   "metadata": {
    "_cell_guid": "b1076dfc-b9ad-4769-8c92-a6c4dae69d19",
    "_uuid": "8f2839f25d086af736a60e9eeb907d3b93b6e0e5",
    "execution": {
     "iopub.execute_input": "2022-07-23T08:55:27.565825Z",
     "iopub.status.busy": "2022-07-23T08:55:27.565169Z",
     "iopub.status.idle": "2022-07-23T08:55:27.583609Z",
     "shell.execute_reply": "2022-07-23T08:55:27.582656Z"
    },
    "papermill": {
     "duration": 0.048193,
     "end_time": "2022-07-23T08:55:27.587134",
     "exception": false,
     "start_time": "2022-07-23T08:55:27.538941",
     "status": "completed"
    },
    "tags": []
   },
   "outputs": [
    {
     "name": "stdout",
     "output_type": "stream",
     "text": [
      "/kaggle/input/titanic/train.csv\n",
      "/kaggle/input/titanic/test.csv\n",
      "/kaggle/input/titanic/gender_submission.csv\n"
     ]
    }
   ],
   "source": [
    "# This Python 3 environment comes with many helpful analytics libraries installed\n",
    "# It is defined by the kaggle/python Docker image: https://github.com/kaggle/docker-python\n",
    "# For example, here's several helpful packages to load\n",
    "\n",
    "import numpy as np # linear algebra\n",
    "import pandas as pd # data processing, CSV file I/O (e.g. pd.read_csv)\n",
    "\n",
    "# Input data files are available in the read-only \"../input/\" directory\n",
    "# For example, running this (by clicking run or pressing Shift+Enter) will list all files under the input directory\n",
    "\n",
    "import os\n",
    "for dirname, _, filenames in os.walk('/kaggle/input'):\n",
    "    for filename in filenames:\n",
    "        print(os.path.join(dirname, filename))\n",
    "\n",
    "# You can write up to 20GB to the current directory (/kaggle/working/) that gets preserved as output when you create a version using \"Save & Run All\" \n",
    "# You can also write temporary files to /kaggle/temp/, but they won't be saved outside of the current session"
   ]
  },
  {
   "cell_type": "code",
   "execution_count": 2,
   "id": "27ff4d5d",
   "metadata": {
    "execution": {
     "iopub.execute_input": "2022-07-23T08:55:27.636659Z",
     "iopub.status.busy": "2022-07-23T08:55:27.636124Z",
     "iopub.status.idle": "2022-07-23T08:55:27.642234Z",
     "shell.execute_reply": "2022-07-23T08:55:27.640840Z"
    },
    "papermill": {
     "duration": 0.033017,
     "end_time": "2022-07-23T08:55:27.644542",
     "exception": false,
     "start_time": "2022-07-23T08:55:27.611525",
     "status": "completed"
    },
    "tags": []
   },
   "outputs": [],
   "source": [
    "#Importing required libraries\n",
    "import pandas as pd\n",
    "import numpy as np\n",
    "import matplotlib.pyplot as plt"
   ]
  },
  {
   "cell_type": "code",
   "execution_count": 3,
   "id": "46618368",
   "metadata": {
    "execution": {
     "iopub.execute_input": "2022-07-23T08:55:27.689802Z",
     "iopub.status.busy": "2022-07-23T08:55:27.689251Z",
     "iopub.status.idle": "2022-07-23T08:55:27.724845Z",
     "shell.execute_reply": "2022-07-23T08:55:27.723665Z"
    },
    "papermill": {
     "duration": 0.062151,
     "end_time": "2022-07-23T08:55:27.727670",
     "exception": false,
     "start_time": "2022-07-23T08:55:27.665519",
     "status": "completed"
    },
    "tags": []
   },
   "outputs": [],
   "source": [
    "#Reading datasets\n",
    "#train data and test data\n",
    "train=pd.read_csv('../input/titanic/train.csv')\n",
    "test=pd.read_csv('../input/titanic/test.csv')"
   ]
  },
  {
   "cell_type": "code",
   "execution_count": 4,
   "id": "4e0cfc93",
   "metadata": {
    "execution": {
     "iopub.execute_input": "2022-07-23T08:55:27.774037Z",
     "iopub.status.busy": "2022-07-23T08:55:27.773153Z",
     "iopub.status.idle": "2022-07-23T08:55:27.802536Z",
     "shell.execute_reply": "2022-07-23T08:55:27.800904Z"
    },
    "papermill": {
     "duration": 0.055918,
     "end_time": "2022-07-23T08:55:27.805951",
     "exception": false,
     "start_time": "2022-07-23T08:55:27.750033",
     "status": "completed"
    },
    "tags": []
   },
   "outputs": [
    {
     "data": {
      "text/html": [
       "<div>\n",
       "<style scoped>\n",
       "    .dataframe tbody tr th:only-of-type {\n",
       "        vertical-align: middle;\n",
       "    }\n",
       "\n",
       "    .dataframe tbody tr th {\n",
       "        vertical-align: top;\n",
       "    }\n",
       "\n",
       "    .dataframe thead th {\n",
       "        text-align: right;\n",
       "    }\n",
       "</style>\n",
       "<table border=\"1\" class=\"dataframe\">\n",
       "  <thead>\n",
       "    <tr style=\"text-align: right;\">\n",
       "      <th></th>\n",
       "      <th>PassengerId</th>\n",
       "      <th>Survived</th>\n",
       "      <th>Pclass</th>\n",
       "      <th>Name</th>\n",
       "      <th>Sex</th>\n",
       "      <th>Age</th>\n",
       "      <th>SibSp</th>\n",
       "      <th>Parch</th>\n",
       "      <th>Ticket</th>\n",
       "      <th>Fare</th>\n",
       "      <th>Cabin</th>\n",
       "      <th>Embarked</th>\n",
       "    </tr>\n",
       "  </thead>\n",
       "  <tbody>\n",
       "    <tr>\n",
       "      <th>0</th>\n",
       "      <td>1</td>\n",
       "      <td>0</td>\n",
       "      <td>3</td>\n",
       "      <td>Braund, Mr. Owen Harris</td>\n",
       "      <td>male</td>\n",
       "      <td>22.0</td>\n",
       "      <td>1</td>\n",
       "      <td>0</td>\n",
       "      <td>A/5 21171</td>\n",
       "      <td>7.2500</td>\n",
       "      <td>NaN</td>\n",
       "      <td>S</td>\n",
       "    </tr>\n",
       "    <tr>\n",
       "      <th>1</th>\n",
       "      <td>2</td>\n",
       "      <td>1</td>\n",
       "      <td>1</td>\n",
       "      <td>Cumings, Mrs. John Bradley (Florence Briggs Th...</td>\n",
       "      <td>female</td>\n",
       "      <td>38.0</td>\n",
       "      <td>1</td>\n",
       "      <td>0</td>\n",
       "      <td>PC 17599</td>\n",
       "      <td>71.2833</td>\n",
       "      <td>C85</td>\n",
       "      <td>C</td>\n",
       "    </tr>\n",
       "    <tr>\n",
       "      <th>2</th>\n",
       "      <td>3</td>\n",
       "      <td>1</td>\n",
       "      <td>3</td>\n",
       "      <td>Heikkinen, Miss. Laina</td>\n",
       "      <td>female</td>\n",
       "      <td>26.0</td>\n",
       "      <td>0</td>\n",
       "      <td>0</td>\n",
       "      <td>STON/O2. 3101282</td>\n",
       "      <td>7.9250</td>\n",
       "      <td>NaN</td>\n",
       "      <td>S</td>\n",
       "    </tr>\n",
       "    <tr>\n",
       "      <th>3</th>\n",
       "      <td>4</td>\n",
       "      <td>1</td>\n",
       "      <td>1</td>\n",
       "      <td>Futrelle, Mrs. Jacques Heath (Lily May Peel)</td>\n",
       "      <td>female</td>\n",
       "      <td>35.0</td>\n",
       "      <td>1</td>\n",
       "      <td>0</td>\n",
       "      <td>113803</td>\n",
       "      <td>53.1000</td>\n",
       "      <td>C123</td>\n",
       "      <td>S</td>\n",
       "    </tr>\n",
       "    <tr>\n",
       "      <th>4</th>\n",
       "      <td>5</td>\n",
       "      <td>0</td>\n",
       "      <td>3</td>\n",
       "      <td>Allen, Mr. William Henry</td>\n",
       "      <td>male</td>\n",
       "      <td>35.0</td>\n",
       "      <td>0</td>\n",
       "      <td>0</td>\n",
       "      <td>373450</td>\n",
       "      <td>8.0500</td>\n",
       "      <td>NaN</td>\n",
       "      <td>S</td>\n",
       "    </tr>\n",
       "  </tbody>\n",
       "</table>\n",
       "</div>"
      ],
      "text/plain": [
       "   PassengerId  Survived  Pclass  \\\n",
       "0            1         0       3   \n",
       "1            2         1       1   \n",
       "2            3         1       3   \n",
       "3            4         1       1   \n",
       "4            5         0       3   \n",
       "\n",
       "                                                Name     Sex   Age  SibSp  \\\n",
       "0                            Braund, Mr. Owen Harris    male  22.0      1   \n",
       "1  Cumings, Mrs. John Bradley (Florence Briggs Th...  female  38.0      1   \n",
       "2                             Heikkinen, Miss. Laina  female  26.0      0   \n",
       "3       Futrelle, Mrs. Jacques Heath (Lily May Peel)  female  35.0      1   \n",
       "4                           Allen, Mr. William Henry    male  35.0      0   \n",
       "\n",
       "   Parch            Ticket     Fare Cabin Embarked  \n",
       "0      0         A/5 21171   7.2500   NaN        S  \n",
       "1      0          PC 17599  71.2833   C85        C  \n",
       "2      0  STON/O2. 3101282   7.9250   NaN        S  \n",
       "3      0            113803  53.1000  C123        S  \n",
       "4      0            373450   8.0500   NaN        S  "
      ]
     },
     "execution_count": 4,
     "metadata": {},
     "output_type": "execute_result"
    }
   ],
   "source": [
    "#Viewing data and different features\n",
    "train.head()"
   ]
  },
  {
   "cell_type": "code",
   "execution_count": 5,
   "id": "080aee31",
   "metadata": {
    "execution": {
     "iopub.execute_input": "2022-07-23T08:55:27.851805Z",
     "iopub.status.busy": "2022-07-23T08:55:27.851062Z",
     "iopub.status.idle": "2022-07-23T08:55:27.857998Z",
     "shell.execute_reply": "2022-07-23T08:55:27.856640Z"
    },
    "papermill": {
     "duration": 0.032839,
     "end_time": "2022-07-23T08:55:27.860326",
     "exception": false,
     "start_time": "2022-07-23T08:55:27.827487",
     "status": "completed"
    },
    "tags": []
   },
   "outputs": [
    {
     "data": {
      "text/plain": [
       "(891, 12)"
      ]
     },
     "execution_count": 5,
     "metadata": {},
     "output_type": "execute_result"
    }
   ],
   "source": [
    "train.shape"
   ]
  },
  {
   "cell_type": "code",
   "execution_count": 6,
   "id": "f1748ab0",
   "metadata": {
    "execution": {
     "iopub.execute_input": "2022-07-23T08:55:27.904556Z",
     "iopub.status.busy": "2022-07-23T08:55:27.904065Z",
     "iopub.status.idle": "2022-07-23T08:55:27.921647Z",
     "shell.execute_reply": "2022-07-23T08:55:27.920377Z"
    },
    "papermill": {
     "duration": 0.042708,
     "end_time": "2022-07-23T08:55:27.924264",
     "exception": false,
     "start_time": "2022-07-23T08:55:27.881556",
     "status": "completed"
    },
    "tags": []
   },
   "outputs": [
    {
     "data": {
      "text/plain": [
       "PassengerId   -0.005007\n",
       "Survived       1.000000\n",
       "Pclass        -0.338481\n",
       "Age           -0.077221\n",
       "SibSp         -0.035322\n",
       "Parch          0.081629\n",
       "Fare           0.257307\n",
       "Name: Survived, dtype: float64"
      ]
     },
     "execution_count": 6,
     "metadata": {},
     "output_type": "execute_result"
    }
   ],
   "source": [
    "train.corr()['Survived']"
   ]
  },
  {
   "cell_type": "markdown",
   "id": "601ef955",
   "metadata": {
    "papermill": {
     "duration": 0.021305,
     "end_time": "2022-07-23T08:55:27.967077",
     "exception": false,
     "start_time": "2022-07-23T08:55:27.945772",
     "status": "completed"
    },
    "tags": []
   },
   "source": [
    "**Removing useless data from the data set such as 'Name','Ticket','Cabin','PassengerId'**"
   ]
  },
  {
   "cell_type": "code",
   "execution_count": 7,
   "id": "cc70eb2d",
   "metadata": {
    "execution": {
     "iopub.execute_input": "2022-07-23T08:55:28.016447Z",
     "iopub.status.busy": "2022-07-23T08:55:28.015377Z",
     "iopub.status.idle": "2022-07-23T08:55:28.037625Z",
     "shell.execute_reply": "2022-07-23T08:55:28.036437Z"
    },
    "papermill": {
     "duration": 0.052001,
     "end_time": "2022-07-23T08:55:28.040775",
     "exception": false,
     "start_time": "2022-07-23T08:55:27.988774",
     "status": "completed"
    },
    "tags": []
   },
   "outputs": [
    {
     "data": {
      "text/html": [
       "<div>\n",
       "<style scoped>\n",
       "    .dataframe tbody tr th:only-of-type {\n",
       "        vertical-align: middle;\n",
       "    }\n",
       "\n",
       "    .dataframe tbody tr th {\n",
       "        vertical-align: top;\n",
       "    }\n",
       "\n",
       "    .dataframe thead th {\n",
       "        text-align: right;\n",
       "    }\n",
       "</style>\n",
       "<table border=\"1\" class=\"dataframe\">\n",
       "  <thead>\n",
       "    <tr style=\"text-align: right;\">\n",
       "      <th></th>\n",
       "      <th>Survived</th>\n",
       "      <th>Pclass</th>\n",
       "      <th>Sex</th>\n",
       "      <th>Age</th>\n",
       "      <th>SibSp</th>\n",
       "      <th>Parch</th>\n",
       "      <th>Fare</th>\n",
       "      <th>Embarked</th>\n",
       "    </tr>\n",
       "  </thead>\n",
       "  <tbody>\n",
       "    <tr>\n",
       "      <th>0</th>\n",
       "      <td>0</td>\n",
       "      <td>3</td>\n",
       "      <td>male</td>\n",
       "      <td>22.0</td>\n",
       "      <td>1</td>\n",
       "      <td>0</td>\n",
       "      <td>7.2500</td>\n",
       "      <td>S</td>\n",
       "    </tr>\n",
       "    <tr>\n",
       "      <th>1</th>\n",
       "      <td>1</td>\n",
       "      <td>1</td>\n",
       "      <td>female</td>\n",
       "      <td>38.0</td>\n",
       "      <td>1</td>\n",
       "      <td>0</td>\n",
       "      <td>71.2833</td>\n",
       "      <td>C</td>\n",
       "    </tr>\n",
       "    <tr>\n",
       "      <th>2</th>\n",
       "      <td>1</td>\n",
       "      <td>3</td>\n",
       "      <td>female</td>\n",
       "      <td>26.0</td>\n",
       "      <td>0</td>\n",
       "      <td>0</td>\n",
       "      <td>7.9250</td>\n",
       "      <td>S</td>\n",
       "    </tr>\n",
       "    <tr>\n",
       "      <th>3</th>\n",
       "      <td>1</td>\n",
       "      <td>1</td>\n",
       "      <td>female</td>\n",
       "      <td>35.0</td>\n",
       "      <td>1</td>\n",
       "      <td>0</td>\n",
       "      <td>53.1000</td>\n",
       "      <td>S</td>\n",
       "    </tr>\n",
       "    <tr>\n",
       "      <th>4</th>\n",
       "      <td>0</td>\n",
       "      <td>3</td>\n",
       "      <td>male</td>\n",
       "      <td>35.0</td>\n",
       "      <td>0</td>\n",
       "      <td>0</td>\n",
       "      <td>8.0500</td>\n",
       "      <td>S</td>\n",
       "    </tr>\n",
       "  </tbody>\n",
       "</table>\n",
       "</div>"
      ],
      "text/plain": [
       "   Survived  Pclass     Sex   Age  SibSp  Parch     Fare Embarked\n",
       "0         0       3    male  22.0      1      0   7.2500        S\n",
       "1         1       1  female  38.0      1      0  71.2833        C\n",
       "2         1       3  female  26.0      0      0   7.9250        S\n",
       "3         1       1  female  35.0      1      0  53.1000        S\n",
       "4         0       3    male  35.0      0      0   8.0500        S"
      ]
     },
     "execution_count": 7,
     "metadata": {},
     "output_type": "execute_result"
    }
   ],
   "source": [
    "df=train.drop(['Name','Ticket','Cabin','PassengerId'], axis=1)\n",
    "df.head(5)"
   ]
  },
  {
   "cell_type": "code",
   "execution_count": 8,
   "id": "850a5c14",
   "metadata": {
    "execution": {
     "iopub.execute_input": "2022-07-23T08:55:28.086066Z",
     "iopub.status.busy": "2022-07-23T08:55:28.085540Z",
     "iopub.status.idle": "2022-07-23T08:55:28.095091Z",
     "shell.execute_reply": "2022-07-23T08:55:28.094096Z"
    },
    "papermill": {
     "duration": 0.034762,
     "end_time": "2022-07-23T08:55:28.097334",
     "exception": false,
     "start_time": "2022-07-23T08:55:28.062572",
     "status": "completed"
    },
    "tags": []
   },
   "outputs": [
    {
     "data": {
      "text/plain": [
       "Survived      int64\n",
       "Pclass        int64\n",
       "Sex          object\n",
       "Age         float64\n",
       "SibSp         int64\n",
       "Parch         int64\n",
       "Fare        float64\n",
       "Embarked     object\n",
       "dtype: object"
      ]
     },
     "execution_count": 8,
     "metadata": {},
     "output_type": "execute_result"
    }
   ],
   "source": [
    "# identifying categorical and continuous variables\n",
    "\n",
    "df.dtypes"
   ]
  },
  {
   "cell_type": "markdown",
   "id": "65d6b7bd",
   "metadata": {
    "papermill": {
     "duration": 0.021314,
     "end_time": "2022-07-23T08:55:28.140498",
     "exception": false,
     "start_time": "2022-07-23T08:55:28.119184",
     "status": "completed"
    },
    "tags": []
   },
   "source": [
    "**Categorical variables are stored as objects and continuous variables are stored as int or float therefore name, sex and ticket are categorical variables**"
   ]
  },
  {
   "cell_type": "markdown",
   "id": "f14d5488",
   "metadata": {
    "papermill": {
     "duration": 0.021615,
     "end_time": "2022-07-23T08:55:28.183932",
     "exception": false,
     "start_time": "2022-07-23T08:55:28.162317",
     "status": "completed"
    },
    "tags": []
   },
   "source": [
    "> **UNIVARIATE ANALYSIS OF CONTINUOS VARIABLES**"
   ]
  },
  {
   "cell_type": "code",
   "execution_count": 9,
   "id": "1fd02707",
   "metadata": {
    "execution": {
     "iopub.execute_input": "2022-07-23T08:55:28.229447Z",
     "iopub.status.busy": "2022-07-23T08:55:28.228748Z",
     "iopub.status.idle": "2022-07-23T08:55:28.266464Z",
     "shell.execute_reply": "2022-07-23T08:55:28.265554Z"
    },
    "papermill": {
     "duration": 0.063509,
     "end_time": "2022-07-23T08:55:28.269002",
     "exception": false,
     "start_time": "2022-07-23T08:55:28.205493",
     "status": "completed"
    },
    "tags": []
   },
   "outputs": [
    {
     "data": {
      "text/html": [
       "<div>\n",
       "<style scoped>\n",
       "    .dataframe tbody tr th:only-of-type {\n",
       "        vertical-align: middle;\n",
       "    }\n",
       "\n",
       "    .dataframe tbody tr th {\n",
       "        vertical-align: top;\n",
       "    }\n",
       "\n",
       "    .dataframe thead th {\n",
       "        text-align: right;\n",
       "    }\n",
       "</style>\n",
       "<table border=\"1\" class=\"dataframe\">\n",
       "  <thead>\n",
       "    <tr style=\"text-align: right;\">\n",
       "      <th></th>\n",
       "      <th>Survived</th>\n",
       "      <th>Pclass</th>\n",
       "      <th>Age</th>\n",
       "      <th>SibSp</th>\n",
       "      <th>Parch</th>\n",
       "      <th>Fare</th>\n",
       "    </tr>\n",
       "  </thead>\n",
       "  <tbody>\n",
       "    <tr>\n",
       "      <th>count</th>\n",
       "      <td>891.000000</td>\n",
       "      <td>891.000000</td>\n",
       "      <td>714.000000</td>\n",
       "      <td>891.000000</td>\n",
       "      <td>891.000000</td>\n",
       "      <td>891.000000</td>\n",
       "    </tr>\n",
       "    <tr>\n",
       "      <th>mean</th>\n",
       "      <td>0.383838</td>\n",
       "      <td>2.308642</td>\n",
       "      <td>29.699118</td>\n",
       "      <td>0.523008</td>\n",
       "      <td>0.381594</td>\n",
       "      <td>32.204208</td>\n",
       "    </tr>\n",
       "    <tr>\n",
       "      <th>std</th>\n",
       "      <td>0.486592</td>\n",
       "      <td>0.836071</td>\n",
       "      <td>14.526497</td>\n",
       "      <td>1.102743</td>\n",
       "      <td>0.806057</td>\n",
       "      <td>49.693429</td>\n",
       "    </tr>\n",
       "    <tr>\n",
       "      <th>min</th>\n",
       "      <td>0.000000</td>\n",
       "      <td>1.000000</td>\n",
       "      <td>0.420000</td>\n",
       "      <td>0.000000</td>\n",
       "      <td>0.000000</td>\n",
       "      <td>0.000000</td>\n",
       "    </tr>\n",
       "    <tr>\n",
       "      <th>25%</th>\n",
       "      <td>0.000000</td>\n",
       "      <td>2.000000</td>\n",
       "      <td>20.125000</td>\n",
       "      <td>0.000000</td>\n",
       "      <td>0.000000</td>\n",
       "      <td>7.910400</td>\n",
       "    </tr>\n",
       "    <tr>\n",
       "      <th>50%</th>\n",
       "      <td>0.000000</td>\n",
       "      <td>3.000000</td>\n",
       "      <td>28.000000</td>\n",
       "      <td>0.000000</td>\n",
       "      <td>0.000000</td>\n",
       "      <td>14.454200</td>\n",
       "    </tr>\n",
       "    <tr>\n",
       "      <th>75%</th>\n",
       "      <td>1.000000</td>\n",
       "      <td>3.000000</td>\n",
       "      <td>38.000000</td>\n",
       "      <td>1.000000</td>\n",
       "      <td>0.000000</td>\n",
       "      <td>31.000000</td>\n",
       "    </tr>\n",
       "    <tr>\n",
       "      <th>max</th>\n",
       "      <td>1.000000</td>\n",
       "      <td>3.000000</td>\n",
       "      <td>80.000000</td>\n",
       "      <td>8.000000</td>\n",
       "      <td>6.000000</td>\n",
       "      <td>512.329200</td>\n",
       "    </tr>\n",
       "  </tbody>\n",
       "</table>\n",
       "</div>"
      ],
      "text/plain": [
       "         Survived      Pclass         Age       SibSp       Parch        Fare\n",
       "count  891.000000  891.000000  714.000000  891.000000  891.000000  891.000000\n",
       "mean     0.383838    2.308642   29.699118    0.523008    0.381594   32.204208\n",
       "std      0.486592    0.836071   14.526497    1.102743    0.806057   49.693429\n",
       "min      0.000000    1.000000    0.420000    0.000000    0.000000    0.000000\n",
       "25%      0.000000    2.000000   20.125000    0.000000    0.000000    7.910400\n",
       "50%      0.000000    3.000000   28.000000    0.000000    0.000000   14.454200\n",
       "75%      1.000000    3.000000   38.000000    1.000000    0.000000   31.000000\n",
       "max      1.000000    3.000000   80.000000    8.000000    6.000000  512.329200"
      ]
     },
     "execution_count": 9,
     "metadata": {},
     "output_type": "execute_result"
    }
   ],
   "source": [
    "# using describe func on the continuos variabes ( only works for continuos variables)\n",
    "\n",
    "df.describe()"
   ]
  },
  {
   "cell_type": "code",
   "execution_count": 10,
   "id": "5796f444",
   "metadata": {
    "execution": {
     "iopub.execute_input": "2022-07-23T08:55:28.316634Z",
     "iopub.status.busy": "2022-07-23T08:55:28.315555Z",
     "iopub.status.idle": "2022-07-23T08:55:28.567266Z",
     "shell.execute_reply": "2022-07-23T08:55:28.565717Z"
    },
    "papermill": {
     "duration": 0.279158,
     "end_time": "2022-07-23T08:55:28.570315",
     "exception": false,
     "start_time": "2022-07-23T08:55:28.291157",
     "status": "completed"
    },
    "tags": []
   },
   "outputs": [
    {
     "data": {
      "text/plain": [
       "<AxesSubplot:>"
      ]
     },
     "execution_count": 10,
     "metadata": {},
     "output_type": "execute_result"
    },
    {
     "data": {
      "image/png": "[encoded data removed]",
      "text/plain": [
       "<Figure size 432x288 with 1 Axes>"
      ]
     },
     "metadata": {
      "needs_background": "light"
     },
     "output_type": "display_data"
    }
   ],
   "source": [
    "# plotting a boxplot of the age variable\n",
    "\n",
    "df['Age'].plot.box()"
   ]
  },
  {
   "cell_type": "markdown",
   "id": "e5617b1b",
   "metadata": {
    "papermill": {
     "duration": 0.022645,
     "end_time": "2022-07-23T08:55:28.617555",
     "exception": false,
     "start_time": "2022-07-23T08:55:28.594910",
     "status": "completed"
    },
    "tags": []
   },
   "source": [
    "> **UNIVARIATE ANALYSIS OF CATEGORICAL VARIABLES**"
   ]
  },
  {
   "cell_type": "code",
   "execution_count": 11,
   "id": "91cc8059",
   "metadata": {
    "execution": {
     "iopub.execute_input": "2022-07-23T08:55:28.665255Z",
     "iopub.status.busy": "2022-07-23T08:55:28.664440Z",
     "iopub.status.idle": "2022-07-23T08:55:28.675265Z",
     "shell.execute_reply": "2022-07-23T08:55:28.674348Z"
    },
    "papermill": {
     "duration": 0.037294,
     "end_time": "2022-07-23T08:55:28.677481",
     "exception": false,
     "start_time": "2022-07-23T08:55:28.640187",
     "status": "completed"
    },
    "tags": []
   },
   "outputs": [
    {
     "data": {
      "text/plain": [
       "male      577\n",
       "female    314\n",
       "Name: Sex, dtype: int64"
      ]
     },
     "execution_count": 11,
     "metadata": {},
     "output_type": "execute_result"
    }
   ],
   "source": [
    "# creating frequence table for sex variable\n",
    "\n",
    "df['Sex'].value_counts()"
   ]
  },
  {
   "cell_type": "code",
   "execution_count": 12,
   "id": "52ad218a",
   "metadata": {
    "execution": {
     "iopub.execute_input": "2022-07-23T08:55:28.725660Z",
     "iopub.status.busy": "2022-07-23T08:55:28.724911Z",
     "iopub.status.idle": "2022-07-23T08:55:28.910771Z",
     "shell.execute_reply": "2022-07-23T08:55:28.909265Z"
    },
    "papermill": {
     "duration": 0.213957,
     "end_time": "2022-07-23T08:55:28.913994",
     "exception": false,
     "start_time": "2022-07-23T08:55:28.700037",
     "status": "completed"
    },
    "tags": []
   },
   "outputs": [
    {
     "data": {
      "text/plain": [
       "<AxesSubplot:>"
      ]
     },
     "execution_count": 12,
     "metadata": {},
     "output_type": "execute_result"
    },
    {
     "data": {
      "image/png": "[encoded data removed]",
      "text/plain": [
       "<Figure size 432x288 with 1 Axes>"
      ]
     },
     "metadata": {
      "needs_background": "light"
     },
     "output_type": "display_data"
    }
   ],
   "source": [
    "# creating a bar plt for the same\n",
    "\n",
    "df['Sex'].value_counts().plot.bar()"
   ]
  },
  {
   "cell_type": "markdown",
   "id": "68fff464",
   "metadata": {
    "papermill": {
     "duration": 0.024064,
     "end_time": "2022-07-23T08:55:28.962513",
     "exception": false,
     "start_time": "2022-07-23T08:55:28.938449",
     "status": "completed"
    },
    "tags": []
   },
   "source": [
    "**BIVARIATE ANALYSIS**"
   ]
  },
  {
   "cell_type": "code",
   "execution_count": 13,
   "id": "da32a3bf",
   "metadata": {
    "execution": {
     "iopub.execute_input": "2022-07-23T08:55:29.019453Z",
     "iopub.status.busy": "2022-07-23T08:55:29.017824Z",
     "iopub.status.idle": "2022-07-23T08:55:29.249191Z",
     "shell.execute_reply": "2022-07-23T08:55:29.247777Z"
    },
    "papermill": {
     "duration": 0.2656,
     "end_time": "2022-07-23T08:55:29.252555",
     "exception": false,
     "start_time": "2022-07-23T08:55:28.986955",
     "status": "completed"
    },
    "tags": []
   },
   "outputs": [
    {
     "data": {
      "text/plain": [
       "<AxesSubplot:xlabel='Age', ylabel='Fare'>"
      ]
     },
     "execution_count": 13,
     "metadata": {},
     "output_type": "execute_result"
    },
    {
     "data": {
      "image/png": "[encoded data removed]",
      "text/plain": [
       "<Figure size 432x288 with 1 Axes>"
      ]
     },
     "metadata": {
      "needs_background": "light"
     },
     "output_type": "display_data"
    }
   ],
   "source": [
    "# using scatter plot to compare age and fare\n",
    "\n",
    "df.plot.scatter('Age', 'Fare')"
   ]
  },
  {
   "cell_type": "markdown",
   "id": "8b0acd1f",
   "metadata": {
    "papermill": {
     "duration": 0.024718,
     "end_time": "2022-07-23T08:55:29.302339",
     "exception": false,
     "start_time": "2022-07-23T08:55:29.277621",
     "status": "completed"
    },
    "tags": []
   },
   "source": [
    "**CHECKING FOR MISSING VALUES**"
   ]
  },
  {
   "cell_type": "code",
   "execution_count": 14,
   "id": "91bde97b",
   "metadata": {
    "execution": {
     "iopub.execute_input": "2022-07-23T08:55:29.354947Z",
     "iopub.status.busy": "2022-07-23T08:55:29.353983Z",
     "iopub.status.idle": "2022-07-23T08:55:29.365531Z",
     "shell.execute_reply": "2022-07-23T08:55:29.364375Z"
    },
    "papermill": {
     "duration": 0.040517,
     "end_time": "2022-07-23T08:55:29.368089",
     "exception": false,
     "start_time": "2022-07-23T08:55:29.327572",
     "status": "completed"
    },
    "tags": []
   },
   "outputs": [
    {
     "data": {
      "text/plain": [
       "Survived      0\n",
       "Pclass        0\n",
       "Sex           0\n",
       "Age         177\n",
       "SibSp         0\n",
       "Parch         0\n",
       "Fare          0\n",
       "Embarked      2\n",
       "dtype: int64"
      ]
     },
     "execution_count": 14,
     "metadata": {},
     "output_type": "execute_result"
    }
   ],
   "source": [
    "df.isnull().sum()"
   ]
  },
  {
   "cell_type": "markdown",
   "id": "41b8536e",
   "metadata": {
    "papermill": {
     "duration": 0.024171,
     "end_time": "2022-07-23T08:55:29.417289",
     "exception": false,
     "start_time": "2022-07-23T08:55:29.393118",
     "status": "completed"
    },
    "tags": []
   },
   "source": [
    "**OUTLIER TREATMENT**"
   ]
  },
  {
   "cell_type": "code",
   "execution_count": 15,
   "id": "3c4b17e4",
   "metadata": {
    "execution": {
     "iopub.execute_input": "2022-07-23T08:55:29.467889Z",
     "iopub.status.busy": "2022-07-23T08:55:29.467045Z",
     "iopub.status.idle": "2022-07-23T08:55:29.671688Z",
     "shell.execute_reply": "2022-07-23T08:55:29.670481Z"
    },
    "papermill": {
     "duration": 0.233356,
     "end_time": "2022-07-23T08:55:29.674840",
     "exception": false,
     "start_time": "2022-07-23T08:55:29.441484",
     "status": "completed"
    },
    "tags": []
   },
   "outputs": [
    {
     "data": {
      "text/plain": [
       "<AxesSubplot:>"
      ]
     },
     "execution_count": 15,
     "metadata": {},
     "output_type": "execute_result"
    },
    {
     "data": {
      "image/png": "[encoded data removed]",
      "text/plain": [
       "<Figure size 432x288 with 1 Axes>"
      ]
     },
     "metadata": {
      "needs_background": "light"
     },
     "output_type": "display_data"
    }
   ],
   "source": [
    "# UNIVARIATE OUTLIER DETECTION USING BOX PLOT\n",
    "\n",
    "df['Age'].plot.box()"
   ]
  },
  {
   "cell_type": "code",
   "execution_count": 16,
   "id": "add23b8a",
   "metadata": {
    "execution": {
     "iopub.execute_input": "2022-07-23T08:55:29.731068Z",
     "iopub.status.busy": "2022-07-23T08:55:29.730517Z",
     "iopub.status.idle": "2022-07-23T08:55:29.957595Z",
     "shell.execute_reply": "2022-07-23T08:55:29.955879Z"
    },
    "papermill": {
     "duration": 0.256975,
     "end_time": "2022-07-23T08:55:29.960450",
     "exception": false,
     "start_time": "2022-07-23T08:55:29.703475",
     "status": "completed"
    },
    "tags": []
   },
   "outputs": [
    {
     "data": {
      "text/plain": [
       "<AxesSubplot:xlabel='Age', ylabel='Fare'>"
      ]
     },
     "execution_count": 16,
     "metadata": {},
     "output_type": "execute_result"
    },
    {
     "data": {
      "image/png": "[encoded data removed]",
      "text/plain": [
       "<Figure size 432x288 with 1 Axes>"
      ]
     },
     "metadata": {
      "needs_background": "light"
     },
     "output_type": "display_data"
    }
   ],
   "source": [
    "# BIVARIATE OUTLIER DETECTION USING SCATTER PLOT\n",
    "\n",
    "df.plot.scatter('Age', 'Fare')"
   ]
  },
  {
   "cell_type": "code",
   "execution_count": 17,
   "id": "f16f3fba",
   "metadata": {
    "execution": {
     "iopub.execute_input": "2022-07-23T08:55:30.019389Z",
     "iopub.status.busy": "2022-07-23T08:55:30.018920Z",
     "iopub.status.idle": "2022-07-23T08:55:30.025617Z",
     "shell.execute_reply": "2022-07-23T08:55:30.024743Z"
    },
    "papermill": {
     "duration": 0.041308,
     "end_time": "2022-07-23T08:55:30.028178",
     "exception": false,
     "start_time": "2022-07-23T08:55:29.986870",
     "status": "completed"
    },
    "tags": []
   },
   "outputs": [],
   "source": [
    "# Treating outliers\n",
    "\n",
    "#removing fare outliers from dataset\n",
    "\n",
    "df = df[df['Fare']<300]"
   ]
  },
  {
   "cell_type": "code",
   "execution_count": 18,
   "id": "ec0cf1d4",
   "metadata": {
    "execution": {
     "iopub.execute_input": "2022-07-23T08:55:30.084397Z",
     "iopub.status.busy": "2022-07-23T08:55:30.083787Z",
     "iopub.status.idle": "2022-07-23T08:55:30.097297Z",
     "shell.execute_reply": "2022-07-23T08:55:30.096409Z"
    },
    "papermill": {
     "duration": 0.045846,
     "end_time": "2022-07-23T08:55:30.101034",
     "exception": false,
     "start_time": "2022-07-23T08:55:30.055188",
     "status": "completed"
    },
    "tags": []
   },
   "outputs": [
    {
     "name": "stderr",
     "output_type": "stream",
     "text": [
      "/opt/conda/lib/python3.7/site-packages/pandas/core/generic.py:6392: SettingWithCopyWarning: \n",
      "A value is trying to be set on a copy of a slice from a DataFrame\n",
      "\n",
      "See the caveats in the documentation: https://pandas.pydata.org/pandas-docs/stable/user_guide/indexing.html#returning-a-view-versus-a-copy\n",
      "  return self._update_inplace(result)\n"
     ]
    }
   ],
   "source": [
    "#replacing outliers in age with the mean age value\n",
    "\n",
    "df['Age'].fillna(df['Age'].mean(), inplace=True)"
   ]
  },
  {
   "cell_type": "code",
   "execution_count": 19,
   "id": "b4243d3b",
   "metadata": {
    "execution": {
     "iopub.execute_input": "2022-07-23T08:55:30.158965Z",
     "iopub.status.busy": "2022-07-23T08:55:30.158203Z",
     "iopub.status.idle": "2022-07-23T08:55:30.165803Z",
     "shell.execute_reply": "2022-07-23T08:55:30.164613Z"
    },
    "papermill": {
     "duration": 0.040079,
     "end_time": "2022-07-23T08:55:30.169834",
     "exception": false,
     "start_time": "2022-07-23T08:55:30.129755",
     "status": "completed"
    },
    "tags": []
   },
   "outputs": [
    {
     "name": "stdout",
     "output_type": "stream",
     "text": [
      "0    S\n",
      "dtype: object\n"
     ]
    }
   ],
   "source": [
    "# Finding the mode value of the “Embarked” column as it will have occurred the maximum number of times\n",
    "\n",
    "print(df['Embarked'].mode())"
   ]
  },
  {
   "cell_type": "code",
   "execution_count": 20,
   "id": "f30ceda7",
   "metadata": {
    "execution": {
     "iopub.execute_input": "2022-07-23T08:55:30.226853Z",
     "iopub.status.busy": "2022-07-23T08:55:30.226156Z",
     "iopub.status.idle": "2022-07-23T08:55:30.232451Z",
     "shell.execute_reply": "2022-07-23T08:55:30.231604Z"
    },
    "papermill": {
     "duration": 0.038382,
     "end_time": "2022-07-23T08:55:30.235667",
     "exception": false,
     "start_time": "2022-07-23T08:55:30.197285",
     "status": "completed"
    },
    "tags": []
   },
   "outputs": [],
   "source": [
    "# replacing with mode\n",
    "\n",
    "df['Embarked'].fillna(df['Embarked'].mode()[0], inplace=True)"
   ]
  },
  {
   "cell_type": "code",
   "execution_count": 21,
   "id": "d3f5f792",
   "metadata": {
    "execution": {
     "iopub.execute_input": "2022-07-23T08:55:30.288624Z",
     "iopub.status.busy": "2022-07-23T08:55:30.287678Z",
     "iopub.status.idle": "2022-07-23T08:55:30.300075Z",
     "shell.execute_reply": "2022-07-23T08:55:30.298610Z"
    },
    "papermill": {
     "duration": 0.042026,
     "end_time": "2022-07-23T08:55:30.302788",
     "exception": false,
     "start_time": "2022-07-23T08:55:30.260762",
     "status": "completed"
    },
    "tags": []
   },
   "outputs": [
    {
     "data": {
      "text/plain": [
       "Survived    0\n",
       "Pclass      0\n",
       "Sex         0\n",
       "Age         0\n",
       "SibSp       0\n",
       "Parch       0\n",
       "Fare        0\n",
       "Embarked    0\n",
       "dtype: int64"
      ]
     },
     "execution_count": 21,
     "metadata": {},
     "output_type": "execute_result"
    }
   ],
   "source": [
    "# checking again\n",
    "df.isna().sum()"
   ]
  },
  {
   "cell_type": "code",
   "execution_count": 22,
   "id": "0d092c28",
   "metadata": {
    "execution": {
     "iopub.execute_input": "2022-07-23T08:55:30.359234Z",
     "iopub.status.busy": "2022-07-23T08:55:30.358239Z",
     "iopub.status.idle": "2022-07-23T08:55:30.378459Z",
     "shell.execute_reply": "2022-07-23T08:55:30.377170Z"
    },
    "papermill": {
     "duration": 0.051981,
     "end_time": "2022-07-23T08:55:30.382045",
     "exception": false,
     "start_time": "2022-07-23T08:55:30.330064",
     "status": "completed"
    },
    "tags": []
   },
   "outputs": [
    {
     "name": "stdout",
     "output_type": "stream",
     "text": [
      "<class 'pandas.core.frame.DataFrame'>\n",
      "Int64Index: 888 entries, 0 to 890\n",
      "Data columns (total 8 columns):\n",
      " #   Column    Non-Null Count  Dtype  \n",
      "---  ------    --------------  -----  \n",
      " 0   Survived  888 non-null    int64  \n",
      " 1   Pclass    888 non-null    int64  \n",
      " 2   Sex       888 non-null    object \n",
      " 3   Age       888 non-null    float64\n",
      " 4   SibSp     888 non-null    int64  \n",
      " 5   Parch     888 non-null    int64  \n",
      " 6   Fare      888 non-null    float64\n",
      " 7   Embarked  888 non-null    object \n",
      "dtypes: float64(2), int64(4), object(2)\n",
      "memory usage: 62.4+ KB\n"
     ]
    }
   ],
   "source": [
    "df.info()"
   ]
  },
  {
   "cell_type": "markdown",
   "id": "4293131d",
   "metadata": {
    "papermill": {
     "duration": 0.025317,
     "end_time": "2022-07-23T08:55:30.433194",
     "exception": false,
     "start_time": "2022-07-23T08:55:30.407877",
     "status": "completed"
    },
    "tags": []
   },
   "source": [
    "**Encoding Categorical Data**"
   ]
  },
  {
   "cell_type": "code",
   "execution_count": 23,
   "id": "5dc5f64d",
   "metadata": {
    "execution": {
     "iopub.execute_input": "2022-07-23T08:55:30.487719Z",
     "iopub.status.busy": "2022-07-23T08:55:30.486792Z",
     "iopub.status.idle": "2022-07-23T08:55:30.499360Z",
     "shell.execute_reply": "2022-07-23T08:55:30.498290Z"
    },
    "papermill": {
     "duration": 0.043265,
     "end_time": "2022-07-23T08:55:30.502266",
     "exception": false,
     "start_time": "2022-07-23T08:55:30.459001",
     "status": "completed"
    },
    "tags": []
   },
   "outputs": [],
   "source": [
    "#Converting the categorical features 'Sex' and 'Embarked' into numerical values 0 & 1\n",
    "df = pd.get_dummies(df, columns=[\"Sex\", \"Embarked\"])"
   ]
  },
  {
   "cell_type": "markdown",
   "id": "273b1a48",
   "metadata": {
    "papermill": {
     "duration": 0.026624,
     "end_time": "2022-07-23T08:55:30.554821",
     "exception": false,
     "start_time": "2022-07-23T08:55:30.528197",
     "status": "completed"
    },
    "tags": []
   },
   "source": [
    "# **Splitting data into Test set & Training Set**\n",
    "1.Clean and adjust data for X and y\n",
    "\n",
    "2.Split Data in Train/Test for X and y\n",
    "\n",
    "3.Fit/Train Scaler on Training X\n",
    "\n",
    "4.Scale X\n",
    "\n",
    "5.Create Model\n",
    "\n",
    "6.Fit/Train Model on X Train\n",
    "\n",
    "7.Evaluate Model on X Test by comparing to Y Test\n",
    "\n",
    "8.Adjust Parameters as Necessary and repeat 6 and 7"
   ]
  },
  {
   "cell_type": "code",
   "execution_count": 24,
   "id": "d9c18a37",
   "metadata": {
    "execution": {
     "iopub.execute_input": "2022-07-23T08:55:30.610850Z",
     "iopub.status.busy": "2022-07-23T08:55:30.610362Z",
     "iopub.status.idle": "2022-07-23T08:55:30.618203Z",
     "shell.execute_reply": "2022-07-23T08:55:30.617060Z"
    },
    "papermill": {
     "duration": 0.038695,
     "end_time": "2022-07-23T08:55:30.620751",
     "exception": false,
     "start_time": "2022-07-23T08:55:30.582056",
     "status": "completed"
    },
    "tags": []
   },
   "outputs": [],
   "source": [
    "X = df.drop('Survived', axis=1)\n",
    "y = df['Survived']"
   ]
  },
  {
   "cell_type": "code",
   "execution_count": 25,
   "id": "68aa8ab8",
   "metadata": {
    "execution": {
     "iopub.execute_input": "2022-07-23T08:55:30.677575Z",
     "iopub.status.busy": "2022-07-23T08:55:30.676277Z",
     "iopub.status.idle": "2022-07-23T08:55:32.023366Z",
     "shell.execute_reply": "2022-07-23T08:55:32.021649Z"
    },
    "papermill": {
     "duration": 1.379587,
     "end_time": "2022-07-23T08:55:32.027078",
     "exception": false,
     "start_time": "2022-07-23T08:55:30.647491",
     "status": "completed"
    },
    "tags": []
   },
   "outputs": [],
   "source": [
    "# Split Data in Train/Test for X and y\n",
    "from sklearn.model_selection import train_test_split\n",
    "X_train, X_test, y_train, y_test = train_test_split(X, y, test_size = 0.3, random_state = 42)"
   ]
  },
  {
   "cell_type": "code",
   "execution_count": 26,
   "id": "a95c2921",
   "metadata": {
    "execution": {
     "iopub.execute_input": "2022-07-23T08:55:32.086395Z",
     "iopub.status.busy": "2022-07-23T08:55:32.085198Z",
     "iopub.status.idle": "2022-07-23T08:55:32.101061Z",
     "shell.execute_reply": "2022-07-23T08:55:32.099085Z"
    },
    "papermill": {
     "duration": 0.047254,
     "end_time": "2022-07-23T08:55:32.103906",
     "exception": false,
     "start_time": "2022-07-23T08:55:32.056652",
     "status": "completed"
    },
    "tags": []
   },
   "outputs": [
    {
     "data": {
      "text/plain": [
       "StandardScaler()"
      ]
     },
     "execution_count": 26,
     "metadata": {},
     "output_type": "execute_result"
    }
   ],
   "source": [
    "# Fit/Train Scaler on Training X\n",
    "from sklearn.preprocessing import StandardScaler\n",
    "\n",
    "scaler = StandardScaler()\n",
    "scaler.fit(X_train)"
   ]
  },
  {
   "cell_type": "code",
   "execution_count": 27,
   "id": "758d0ed1",
   "metadata": {
    "execution": {
     "iopub.execute_input": "2022-07-23T08:55:32.160115Z",
     "iopub.status.busy": "2022-07-23T08:55:32.159157Z",
     "iopub.status.idle": "2022-07-23T08:55:32.171611Z",
     "shell.execute_reply": "2022-07-23T08:55:32.170283Z"
    },
    "papermill": {
     "duration": 0.043701,
     "end_time": "2022-07-23T08:55:32.174507",
     "exception": false,
     "start_time": "2022-07-23T08:55:32.130806",
     "status": "completed"
    },
    "tags": []
   },
   "outputs": [],
   "source": [
    "# Scale X\n",
    "X_train = scaler.transform(X_train)\n",
    "X_test = scaler.transform(X_test)"
   ]
  },
  {
   "cell_type": "markdown",
   "id": "7b515487",
   "metadata": {
    "papermill": {
     "duration": 0.027097,
     "end_time": "2022-07-23T08:55:32.228963",
     "exception": false,
     "start_time": "2022-07-23T08:55:32.201866",
     "status": "completed"
    },
    "tags": []
   },
   "source": [
    "**01. Logistic Regression**"
   ]
  },
  {
   "cell_type": "code",
   "execution_count": 28,
   "id": "5bae7e50",
   "metadata": {
    "execution": {
     "iopub.execute_input": "2022-07-23T08:55:32.286193Z",
     "iopub.status.busy": "2022-07-23T08:55:32.284925Z",
     "iopub.status.idle": "2022-07-23T08:55:32.398623Z",
     "shell.execute_reply": "2022-07-23T08:55:32.397659Z"
    },
    "papermill": {
     "duration": 0.145766,
     "end_time": "2022-07-23T08:55:32.401912",
     "exception": false,
     "start_time": "2022-07-23T08:55:32.256146",
     "status": "completed"
    },
    "tags": []
   },
   "outputs": [
    {
     "data": {
      "text/plain": [
       "LogisticRegression()"
      ]
     },
     "execution_count": 28,
     "metadata": {},
     "output_type": "execute_result"
    }
   ],
   "source": [
    "from sklearn.linear_model import LogisticRegression\n",
    "logreg = LogisticRegression()\n",
    "logreg.fit(X_train, y_train)"
   ]
  },
  {
   "cell_type": "code",
   "execution_count": 29,
   "id": "32f1a6ae",
   "metadata": {
    "execution": {
     "iopub.execute_input": "2022-07-23T08:55:32.460489Z",
     "iopub.status.busy": "2022-07-23T08:55:32.459162Z",
     "iopub.status.idle": "2022-07-23T08:55:32.466144Z",
     "shell.execute_reply": "2022-07-23T08:55:32.464817Z"
    },
    "papermill": {
     "duration": 0.038528,
     "end_time": "2022-07-23T08:55:32.468505",
     "exception": false,
     "start_time": "2022-07-23T08:55:32.429977",
     "status": "completed"
    },
    "tags": []
   },
   "outputs": [],
   "source": [
    "y_pred = logreg.predict(X_test)"
   ]
  },
  {
   "cell_type": "code",
   "execution_count": 30,
   "id": "890adb4f",
   "metadata": {
    "execution": {
     "iopub.execute_input": "2022-07-23T08:55:32.522428Z",
     "iopub.status.busy": "2022-07-23T08:55:32.521913Z",
     "iopub.status.idle": "2022-07-23T08:55:32.531679Z",
     "shell.execute_reply": "2022-07-23T08:55:32.530295Z"
    },
    "papermill": {
     "duration": 0.040573,
     "end_time": "2022-07-23T08:55:32.534770",
     "exception": false,
     "start_time": "2022-07-23T08:55:32.494197",
     "status": "completed"
    },
    "tags": []
   },
   "outputs": [
    {
     "data": {
      "text/plain": [
       "0.26699766355140175"
      ]
     },
     "execution_count": 30,
     "metadata": {},
     "output_type": "execute_result"
    }
   ],
   "source": [
    "# Model Performance Evaluation for Logistic Regression\n",
    "\n",
    "from sklearn.metrics import r2_score\n",
    "r2_score(y_test, y_pred)"
   ]
  },
  {
   "cell_type": "code",
   "execution_count": 31,
   "id": "117d2a95",
   "metadata": {
    "execution": {
     "iopub.execute_input": "2022-07-23T08:55:32.592433Z",
     "iopub.status.busy": "2022-07-23T08:55:32.591962Z",
     "iopub.status.idle": "2022-07-23T08:55:32.601508Z",
     "shell.execute_reply": "2022-07-23T08:55:32.600292Z"
    },
    "papermill": {
     "duration": 0.041722,
     "end_time": "2022-07-23T08:55:32.604208",
     "exception": false,
     "start_time": "2022-07-23T08:55:32.562486",
     "status": "completed"
    },
    "tags": []
   },
   "outputs": [
    {
     "data": {
      "text/plain": [
       "0.8239700374531835"
      ]
     },
     "execution_count": 31,
     "metadata": {},
     "output_type": "execute_result"
    }
   ],
   "source": [
    "from sklearn.metrics import accuracy_score\n",
    "accuracy_score(y_test, y_pred)"
   ]
  },
  {
   "cell_type": "markdown",
   "id": "316c6d8b",
   "metadata": {
    "papermill": {
     "duration": 0.027457,
     "end_time": "2022-07-23T08:55:32.658404",
     "exception": false,
     "start_time": "2022-07-23T08:55:32.630947",
     "status": "completed"
    },
    "tags": []
   },
   "source": [
    "**02. Multiple Linear Regression model**"
   ]
  },
  {
   "cell_type": "code",
   "execution_count": 32,
   "id": "60bd20d7",
   "metadata": {
    "execution": {
     "iopub.execute_input": "2022-07-23T08:55:32.715749Z",
     "iopub.status.busy": "2022-07-23T08:55:32.714660Z",
     "iopub.status.idle": "2022-07-23T08:55:32.734830Z",
     "shell.execute_reply": "2022-07-23T08:55:32.733756Z"
    },
    "papermill": {
     "duration": 0.051344,
     "end_time": "2022-07-23T08:55:32.737689",
     "exception": false,
     "start_time": "2022-07-23T08:55:32.686345",
     "status": "completed"
    },
    "tags": []
   },
   "outputs": [],
   "source": [
    "from sklearn.linear_model import LinearRegression\n",
    "regressor = LinearRegression()\n",
    "regressor.fit(X_train, y_train)\n",
    "y_pred = regressor.predict(X_test)"
   ]
  },
  {
   "cell_type": "code",
   "execution_count": 33,
   "id": "f75faa7b",
   "metadata": {
    "execution": {
     "iopub.execute_input": "2022-07-23T08:55:32.793719Z",
     "iopub.status.busy": "2022-07-23T08:55:32.792922Z",
     "iopub.status.idle": "2022-07-23T08:55:32.801559Z",
     "shell.execute_reply": "2022-07-23T08:55:32.800402Z"
    },
    "papermill": {
     "duration": 0.039427,
     "end_time": "2022-07-23T08:55:32.804068",
     "exception": false,
     "start_time": "2022-07-23T08:55:32.764641",
     "status": "completed"
    },
    "tags": []
   },
   "outputs": [
    {
     "data": {
      "text/plain": [
       "0.43716166155312597"
      ]
     },
     "execution_count": 33,
     "metadata": {},
     "output_type": "execute_result"
    }
   ],
   "source": [
    "# Model Performance Evaluation for Linear Regression\n",
    "\n",
    "from sklearn.metrics import r2_score\n",
    "r2_score(y_test, y_pred)"
   ]
  },
  {
   "cell_type": "markdown",
   "id": "549e2cca",
   "metadata": {
    "papermill": {
     "duration": 0.02671,
     "end_time": "2022-07-23T08:55:32.858154",
     "exception": false,
     "start_time": "2022-07-23T08:55:32.831444",
     "status": "completed"
    },
    "tags": []
   },
   "source": [
    "**03. Support Vector Regression**"
   ]
  },
  {
   "cell_type": "code",
   "execution_count": 34,
   "id": "b2ecb455",
   "metadata": {
    "execution": {
     "iopub.execute_input": "2022-07-23T08:55:32.915087Z",
     "iopub.status.busy": "2022-07-23T08:55:32.914660Z",
     "iopub.status.idle": "2022-07-23T08:55:32.950063Z",
     "shell.execute_reply": "2022-07-23T08:55:32.948843Z"
    },
    "papermill": {
     "duration": 0.066811,
     "end_time": "2022-07-23T08:55:32.953260",
     "exception": false,
     "start_time": "2022-07-23T08:55:32.886449",
     "status": "completed"
    },
    "tags": []
   },
   "outputs": [
    {
     "data": {
      "text/plain": [
       "SVR()"
      ]
     },
     "execution_count": 34,
     "metadata": {},
     "output_type": "execute_result"
    }
   ],
   "source": [
    "from sklearn.svm import SVR\n",
    "regressor = SVR(kernel = 'rbf')\n",
    "regressor.fit(X_train, y_train)"
   ]
  },
  {
   "cell_type": "code",
   "execution_count": 35,
   "id": "5d86efa4",
   "metadata": {
    "execution": {
     "iopub.execute_input": "2022-07-23T08:55:33.016811Z",
     "iopub.status.busy": "2022-07-23T08:55:33.015314Z",
     "iopub.status.idle": "2022-07-23T08:55:33.029899Z",
     "shell.execute_reply": "2022-07-23T08:55:33.028259Z"
    },
    "papermill": {
     "duration": 0.052586,
     "end_time": "2022-07-23T08:55:33.034080",
     "exception": false,
     "start_time": "2022-07-23T08:55:32.981494",
     "status": "completed"
    },
    "tags": []
   },
   "outputs": [],
   "source": [
    "y_pred = regressor.predict(X_test)\n",
    "np.set_printoptions(precision=2)"
   ]
  },
  {
   "cell_type": "code",
   "execution_count": 36,
   "id": "29f0a441",
   "metadata": {
    "execution": {
     "iopub.execute_input": "2022-07-23T08:55:33.093491Z",
     "iopub.status.busy": "2022-07-23T08:55:33.091784Z",
     "iopub.status.idle": "2022-07-23T08:55:33.100881Z",
     "shell.execute_reply": "2022-07-23T08:55:33.099759Z"
    },
    "papermill": {
     "duration": 0.039749,
     "end_time": "2022-07-23T08:55:33.103283",
     "exception": false,
     "start_time": "2022-07-23T08:55:33.063534",
     "status": "completed"
    },
    "tags": []
   },
   "outputs": [
    {
     "data": {
      "text/plain": [
       "0.40042926901542997"
      ]
     },
     "execution_count": 36,
     "metadata": {},
     "output_type": "execute_result"
    }
   ],
   "source": [
    "# Model Performance Evaluation for Support Vector Regression\n",
    "from sklearn.metrics import r2_score\n",
    "r2_score(y_test, y_pred)"
   ]
  },
  {
   "cell_type": "markdown",
   "id": "96dc16ee",
   "metadata": {
    "papermill": {
     "duration": 0.026284,
     "end_time": "2022-07-23T08:55:33.156324",
     "exception": false,
     "start_time": "2022-07-23T08:55:33.130040",
     "status": "completed"
    },
    "tags": []
   },
   "source": [
    "**TEST DATA SET**"
   ]
  },
  {
   "cell_type": "code",
   "execution_count": 37,
   "id": "5a6ced35",
   "metadata": {
    "execution": {
     "iopub.execute_input": "2022-07-23T08:55:33.212307Z",
     "iopub.status.busy": "2022-07-23T08:55:33.211512Z",
     "iopub.status.idle": "2022-07-23T08:55:33.216820Z",
     "shell.execute_reply": "2022-07-23T08:55:33.215651Z"
    },
    "papermill": {
     "duration": 0.036083,
     "end_time": "2022-07-23T08:55:33.219253",
     "exception": false,
     "start_time": "2022-07-23T08:55:33.183170",
     "status": "completed"
    },
    "tags": []
   },
   "outputs": [],
   "source": [
    "df1=test"
   ]
  },
  {
   "cell_type": "code",
   "execution_count": 38,
   "id": "c6e2de8f",
   "metadata": {
    "execution": {
     "iopub.execute_input": "2022-07-23T08:55:33.274953Z",
     "iopub.status.busy": "2022-07-23T08:55:33.274446Z",
     "iopub.status.idle": "2022-07-23T08:55:33.293281Z",
     "shell.execute_reply": "2022-07-23T08:55:33.292333Z"
    },
    "papermill": {
     "duration": 0.049446,
     "end_time": "2022-07-23T08:55:33.295525",
     "exception": false,
     "start_time": "2022-07-23T08:55:33.246079",
     "status": "completed"
    },
    "tags": []
   },
   "outputs": [
    {
     "data": {
      "text/html": [
       "<div>\n",
       "<style scoped>\n",
       "    .dataframe tbody tr th:only-of-type {\n",
       "        vertical-align: middle;\n",
       "    }\n",
       "\n",
       "    .dataframe tbody tr th {\n",
       "        vertical-align: top;\n",
       "    }\n",
       "\n",
       "    .dataframe thead th {\n",
       "        text-align: right;\n",
       "    }\n",
       "</style>\n",
       "<table border=\"1\" class=\"dataframe\">\n",
       "  <thead>\n",
       "    <tr style=\"text-align: right;\">\n",
       "      <th></th>\n",
       "      <th>PassengerId</th>\n",
       "      <th>Pclass</th>\n",
       "      <th>Name</th>\n",
       "      <th>Sex</th>\n",
       "      <th>Age</th>\n",
       "      <th>SibSp</th>\n",
       "      <th>Parch</th>\n",
       "      <th>Ticket</th>\n",
       "      <th>Fare</th>\n",
       "      <th>Cabin</th>\n",
       "      <th>Embarked</th>\n",
       "    </tr>\n",
       "  </thead>\n",
       "  <tbody>\n",
       "    <tr>\n",
       "      <th>0</th>\n",
       "      <td>892</td>\n",
       "      <td>3</td>\n",
       "      <td>Kelly, Mr. James</td>\n",
       "      <td>male</td>\n",
       "      <td>34.5</td>\n",
       "      <td>0</td>\n",
       "      <td>0</td>\n",
       "      <td>330911</td>\n",
       "      <td>7.8292</td>\n",
       "      <td>NaN</td>\n",
       "      <td>Q</td>\n",
       "    </tr>\n",
       "    <tr>\n",
       "      <th>1</th>\n",
       "      <td>893</td>\n",
       "      <td>3</td>\n",
       "      <td>Wilkes, Mrs. James (Ellen Needs)</td>\n",
       "      <td>female</td>\n",
       "      <td>47.0</td>\n",
       "      <td>1</td>\n",
       "      <td>0</td>\n",
       "      <td>363272</td>\n",
       "      <td>7.0000</td>\n",
       "      <td>NaN</td>\n",
       "      <td>S</td>\n",
       "    </tr>\n",
       "    <tr>\n",
       "      <th>2</th>\n",
       "      <td>894</td>\n",
       "      <td>2</td>\n",
       "      <td>Myles, Mr. Thomas Francis</td>\n",
       "      <td>male</td>\n",
       "      <td>62.0</td>\n",
       "      <td>0</td>\n",
       "      <td>0</td>\n",
       "      <td>240276</td>\n",
       "      <td>9.6875</td>\n",
       "      <td>NaN</td>\n",
       "      <td>Q</td>\n",
       "    </tr>\n",
       "    <tr>\n",
       "      <th>3</th>\n",
       "      <td>895</td>\n",
       "      <td>3</td>\n",
       "      <td>Wirz, Mr. Albert</td>\n",
       "      <td>male</td>\n",
       "      <td>27.0</td>\n",
       "      <td>0</td>\n",
       "      <td>0</td>\n",
       "      <td>315154</td>\n",
       "      <td>8.6625</td>\n",
       "      <td>NaN</td>\n",
       "      <td>S</td>\n",
       "    </tr>\n",
       "    <tr>\n",
       "      <th>4</th>\n",
       "      <td>896</td>\n",
       "      <td>3</td>\n",
       "      <td>Hirvonen, Mrs. Alexander (Helga E Lindqvist)</td>\n",
       "      <td>female</td>\n",
       "      <td>22.0</td>\n",
       "      <td>1</td>\n",
       "      <td>1</td>\n",
       "      <td>3101298</td>\n",
       "      <td>12.2875</td>\n",
       "      <td>NaN</td>\n",
       "      <td>S</td>\n",
       "    </tr>\n",
       "  </tbody>\n",
       "</table>\n",
       "</div>"
      ],
      "text/plain": [
       "   PassengerId  Pclass                                          Name     Sex  \\\n",
       "0          892       3                              Kelly, Mr. James    male   \n",
       "1          893       3              Wilkes, Mrs. James (Ellen Needs)  female   \n",
       "2          894       2                     Myles, Mr. Thomas Francis    male   \n",
       "3          895       3                              Wirz, Mr. Albert    male   \n",
       "4          896       3  Hirvonen, Mrs. Alexander (Helga E Lindqvist)  female   \n",
       "\n",
       "    Age  SibSp  Parch   Ticket     Fare Cabin Embarked  \n",
       "0  34.5      0      0   330911   7.8292   NaN        Q  \n",
       "1  47.0      1      0   363272   7.0000   NaN        S  \n",
       "2  62.0      0      0   240276   9.6875   NaN        Q  \n",
       "3  27.0      0      0   315154   8.6625   NaN        S  \n",
       "4  22.0      1      1  3101298  12.2875   NaN        S  "
      ]
     },
     "execution_count": 38,
     "metadata": {},
     "output_type": "execute_result"
    }
   ],
   "source": [
    "df1.head()"
   ]
  },
  {
   "cell_type": "code",
   "execution_count": 39,
   "id": "2fe3d7ed",
   "metadata": {
    "execution": {
     "iopub.execute_input": "2022-07-23T08:55:33.354819Z",
     "iopub.status.busy": "2022-07-23T08:55:33.353793Z",
     "iopub.status.idle": "2022-07-23T08:55:33.367103Z",
     "shell.execute_reply": "2022-07-23T08:55:33.365973Z"
    },
    "papermill": {
     "duration": 0.046512,
     "end_time": "2022-07-23T08:55:33.370047",
     "exception": false,
     "start_time": "2022-07-23T08:55:33.323535",
     "status": "completed"
    },
    "tags": []
   },
   "outputs": [
    {
     "data": {
      "text/plain": [
       "PassengerId      0\n",
       "Pclass           0\n",
       "Name             0\n",
       "Sex              0\n",
       "Age             86\n",
       "SibSp            0\n",
       "Parch            0\n",
       "Ticket           0\n",
       "Fare             1\n",
       "Cabin          327\n",
       "Embarked         0\n",
       "dtype: int64"
      ]
     },
     "execution_count": 39,
     "metadata": {},
     "output_type": "execute_result"
    }
   ],
   "source": [
    "df1.isnull().sum()"
   ]
  },
  {
   "cell_type": "code",
   "execution_count": 40,
   "id": "7bdfbe5f",
   "metadata": {
    "execution": {
     "iopub.execute_input": "2022-07-23T08:55:33.429998Z",
     "iopub.status.busy": "2022-07-23T08:55:33.428939Z",
     "iopub.status.idle": "2022-07-23T08:55:33.647020Z",
     "shell.execute_reply": "2022-07-23T08:55:33.645389Z"
    },
    "papermill": {
     "duration": 0.251051,
     "end_time": "2022-07-23T08:55:33.650000",
     "exception": false,
     "start_time": "2022-07-23T08:55:33.398949",
     "status": "completed"
    },
    "tags": []
   },
   "outputs": [
    {
     "data": {
      "text/plain": [
       "<AxesSubplot:xlabel='Age', ylabel='Fare'>"
      ]
     },
     "execution_count": 40,
     "metadata": {},
     "output_type": "execute_result"
    },
    {
     "data": {
      "image/png": "[encoded data removed]",
      "text/plain": [
       "<Figure size 432x288 with 1 Axes>"
      ]
     },
     "metadata": {
      "needs_background": "light"
     },
     "output_type": "display_data"
    }
   ],
   "source": [
    "df1.plot.scatter('Age', 'Fare')"
   ]
  },
  {
   "cell_type": "code",
   "execution_count": 41,
   "id": "3567e6b7",
   "metadata": {
    "execution": {
     "iopub.execute_input": "2022-07-23T08:55:33.710400Z",
     "iopub.status.busy": "2022-07-23T08:55:33.709923Z",
     "iopub.status.idle": "2022-07-23T08:55:33.718129Z",
     "shell.execute_reply": "2022-07-23T08:55:33.716261Z"
    },
    "papermill": {
     "duration": 0.042113,
     "end_time": "2022-07-23T08:55:33.720897",
     "exception": false,
     "start_time": "2022-07-23T08:55:33.678784",
     "status": "completed"
    },
    "tags": []
   },
   "outputs": [],
   "source": [
    "#removing fare outliers from dataset\n",
    "\n",
    "df1 = df1[df1['Fare']<300]"
   ]
  },
  {
   "cell_type": "code",
   "execution_count": 42,
   "id": "7af08ca6",
   "metadata": {
    "execution": {
     "iopub.execute_input": "2022-07-23T08:55:33.782555Z",
     "iopub.status.busy": "2022-07-23T08:55:33.781905Z",
     "iopub.status.idle": "2022-07-23T08:55:34.013854Z",
     "shell.execute_reply": "2022-07-23T08:55:34.011499Z"
    },
    "papermill": {
     "duration": 0.266222,
     "end_time": "2022-07-23T08:55:34.017278",
     "exception": false,
     "start_time": "2022-07-23T08:55:33.751056",
     "status": "completed"
    },
    "tags": []
   },
   "outputs": [
    {
     "data": {
      "text/plain": [
       "<AxesSubplot:xlabel='Age', ylabel='Fare'>"
      ]
     },
     "execution_count": 42,
     "metadata": {},
     "output_type": "execute_result"
    },
    {
     "data": {
      "image/png": "[encoded data removed]",
      "text/plain": [
       "<Figure size 432x288 with 1 Axes>"
      ]
     },
     "metadata": {
      "needs_background": "light"
     },
     "output_type": "display_data"
    }
   ],
   "source": [
    "#checking\n",
    "df1.plot.scatter('Age', 'Fare')"
   ]
  },
  {
   "cell_type": "code",
   "execution_count": 43,
   "id": "69b97b46",
   "metadata": {
    "execution": {
     "iopub.execute_input": "2022-07-23T08:55:34.078054Z",
     "iopub.status.busy": "2022-07-23T08:55:34.077636Z",
     "iopub.status.idle": "2022-07-23T08:55:34.084978Z",
     "shell.execute_reply": "2022-07-23T08:55:34.083655Z"
    },
    "papermill": {
     "duration": 0.041175,
     "end_time": "2022-07-23T08:55:34.087706",
     "exception": false,
     "start_time": "2022-07-23T08:55:34.046531",
     "status": "completed"
    },
    "tags": []
   },
   "outputs": [
    {
     "name": "stderr",
     "output_type": "stream",
     "text": [
      "/opt/conda/lib/python3.7/site-packages/pandas/core/generic.py:6392: SettingWithCopyWarning: \n",
      "A value is trying to be set on a copy of a slice from a DataFrame\n",
      "\n",
      "See the caveats in the documentation: https://pandas.pydata.org/pandas-docs/stable/user_guide/indexing.html#returning-a-view-versus-a-copy\n",
      "  return self._update_inplace(result)\n"
     ]
    }
   ],
   "source": [
    "#replacing outliers in age with the mean age value\n",
    "\n",
    "df1['Age'].fillna(df1['Age'].mean(), inplace=True)"
   ]
  },
  {
   "cell_type": "code",
   "execution_count": 44,
   "id": "fb54167c",
   "metadata": {
    "execution": {
     "iopub.execute_input": "2022-07-23T08:55:34.148926Z",
     "iopub.status.busy": "2022-07-23T08:55:34.147908Z",
     "iopub.status.idle": "2022-07-23T08:55:34.158111Z",
     "shell.execute_reply": "2022-07-23T08:55:34.157177Z"
    },
    "papermill": {
     "duration": 0.043363,
     "end_time": "2022-07-23T08:55:34.160309",
     "exception": false,
     "start_time": "2022-07-23T08:55:34.116946",
     "status": "completed"
    },
    "tags": []
   },
   "outputs": [
    {
     "data": {
      "text/plain": [
       "PassengerId      0\n",
       "Pclass           0\n",
       "Name             0\n",
       "Sex              0\n",
       "Age              0\n",
       "SibSp            0\n",
       "Parch            0\n",
       "Ticket           0\n",
       "Fare             0\n",
       "Cabin          326\n",
       "Embarked         0\n",
       "dtype: int64"
      ]
     },
     "execution_count": 44,
     "metadata": {},
     "output_type": "execute_result"
    }
   ],
   "source": [
    "df1.isnull().sum()"
   ]
  },
  {
   "cell_type": "code",
   "execution_count": 45,
   "id": "0fc225dd",
   "metadata": {
    "execution": {
     "iopub.execute_input": "2022-07-23T08:55:34.220067Z",
     "iopub.status.busy": "2022-07-23T08:55:34.219558Z",
     "iopub.status.idle": "2022-07-23T08:55:34.234011Z",
     "shell.execute_reply": "2022-07-23T08:55:34.232657Z"
    },
    "papermill": {
     "duration": 0.047607,
     "end_time": "2022-07-23T08:55:34.236973",
     "exception": false,
     "start_time": "2022-07-23T08:55:34.189366",
     "status": "completed"
    },
    "tags": []
   },
   "outputs": [
    {
     "name": "stderr",
     "output_type": "stream",
     "text": [
      "/opt/conda/lib/python3.7/site-packages/pandas/core/frame.py:4913: SettingWithCopyWarning: \n",
      "A value is trying to be set on a copy of a slice from a DataFrame\n",
      "\n",
      "See the caveats in the documentation: https://pandas.pydata.org/pandas-docs/stable/user_guide/indexing.html#returning-a-view-versus-a-copy\n",
      "  errors=errors,\n"
     ]
    }
   ],
   "source": [
    "# dropping useless columns \n",
    "df1.drop(['Cabin','PassengerId','Name','Ticket'],axis=1,inplace=True)"
   ]
  },
  {
   "cell_type": "code",
   "execution_count": 46,
   "id": "df251026",
   "metadata": {
    "execution": {
     "iopub.execute_input": "2022-07-23T08:55:34.298575Z",
     "iopub.status.busy": "2022-07-23T08:55:34.298126Z",
     "iopub.status.idle": "2022-07-23T08:55:34.313498Z",
     "shell.execute_reply": "2022-07-23T08:55:34.312574Z"
    },
    "papermill": {
     "duration": 0.049771,
     "end_time": "2022-07-23T08:55:34.316267",
     "exception": false,
     "start_time": "2022-07-23T08:55:34.266496",
     "status": "completed"
    },
    "tags": []
   },
   "outputs": [
    {
     "data": {
      "text/html": [
       "<div>\n",
       "<style scoped>\n",
       "    .dataframe tbody tr th:only-of-type {\n",
       "        vertical-align: middle;\n",
       "    }\n",
       "\n",
       "    .dataframe tbody tr th {\n",
       "        vertical-align: top;\n",
       "    }\n",
       "\n",
       "    .dataframe thead th {\n",
       "        text-align: right;\n",
       "    }\n",
       "</style>\n",
       "<table border=\"1\" class=\"dataframe\">\n",
       "  <thead>\n",
       "    <tr style=\"text-align: right;\">\n",
       "      <th></th>\n",
       "      <th>Pclass</th>\n",
       "      <th>Sex</th>\n",
       "      <th>Age</th>\n",
       "      <th>SibSp</th>\n",
       "      <th>Parch</th>\n",
       "      <th>Fare</th>\n",
       "      <th>Embarked</th>\n",
       "    </tr>\n",
       "  </thead>\n",
       "  <tbody>\n",
       "    <tr>\n",
       "      <th>0</th>\n",
       "      <td>3</td>\n",
       "      <td>male</td>\n",
       "      <td>34.5</td>\n",
       "      <td>0</td>\n",
       "      <td>0</td>\n",
       "      <td>7.8292</td>\n",
       "      <td>Q</td>\n",
       "    </tr>\n",
       "    <tr>\n",
       "      <th>1</th>\n",
       "      <td>3</td>\n",
       "      <td>female</td>\n",
       "      <td>47.0</td>\n",
       "      <td>1</td>\n",
       "      <td>0</td>\n",
       "      <td>7.0000</td>\n",
       "      <td>S</td>\n",
       "    </tr>\n",
       "    <tr>\n",
       "      <th>2</th>\n",
       "      <td>2</td>\n",
       "      <td>male</td>\n",
       "      <td>62.0</td>\n",
       "      <td>0</td>\n",
       "      <td>0</td>\n",
       "      <td>9.6875</td>\n",
       "      <td>Q</td>\n",
       "    </tr>\n",
       "    <tr>\n",
       "      <th>3</th>\n",
       "      <td>3</td>\n",
       "      <td>male</td>\n",
       "      <td>27.0</td>\n",
       "      <td>0</td>\n",
       "      <td>0</td>\n",
       "      <td>8.6625</td>\n",
       "      <td>S</td>\n",
       "    </tr>\n",
       "    <tr>\n",
       "      <th>4</th>\n",
       "      <td>3</td>\n",
       "      <td>female</td>\n",
       "      <td>22.0</td>\n",
       "      <td>1</td>\n",
       "      <td>1</td>\n",
       "      <td>12.2875</td>\n",
       "      <td>S</td>\n",
       "    </tr>\n",
       "  </tbody>\n",
       "</table>\n",
       "</div>"
      ],
      "text/plain": [
       "   Pclass     Sex   Age  SibSp  Parch     Fare Embarked\n",
       "0       3    male  34.5      0      0   7.8292        Q\n",
       "1       3  female  47.0      1      0   7.0000        S\n",
       "2       2    male  62.0      0      0   9.6875        Q\n",
       "3       3    male  27.0      0      0   8.6625        S\n",
       "4       3  female  22.0      1      1  12.2875        S"
      ]
     },
     "execution_count": 46,
     "metadata": {},
     "output_type": "execute_result"
    }
   ],
   "source": [
    "df1.head()"
   ]
  },
  {
   "cell_type": "code",
   "execution_count": 47,
   "id": "952f0b9f",
   "metadata": {
    "execution": {
     "iopub.execute_input": "2022-07-23T08:55:34.380253Z",
     "iopub.status.busy": "2022-07-23T08:55:34.379822Z",
     "iopub.status.idle": "2022-07-23T08:55:34.391816Z",
     "shell.execute_reply": "2022-07-23T08:55:34.390210Z"
    },
    "papermill": {
     "duration": 0.047392,
     "end_time": "2022-07-23T08:55:34.394652",
     "exception": false,
     "start_time": "2022-07-23T08:55:34.347260",
     "status": "completed"
    },
    "tags": []
   },
   "outputs": [],
   "source": [
    "#Converting the categorical features 'Sex' and 'Embarked' into numerical values 0 & 1\n",
    "df1 = pd.get_dummies(df1, columns=[\"Sex\", \"Embarked\"])"
   ]
  },
  {
   "cell_type": "code",
   "execution_count": 48,
   "id": "76143a85",
   "metadata": {
    "execution": {
     "iopub.execute_input": "2022-07-23T08:55:34.457007Z",
     "iopub.status.busy": "2022-07-23T08:55:34.456613Z",
     "iopub.status.idle": "2022-07-23T08:55:34.472182Z",
     "shell.execute_reply": "2022-07-23T08:55:34.471239Z"
    },
    "papermill": {
     "duration": 0.050118,
     "end_time": "2022-07-23T08:55:34.475089",
     "exception": false,
     "start_time": "2022-07-23T08:55:34.424971",
     "status": "completed"
    },
    "tags": []
   },
   "outputs": [
    {
     "data": {
      "text/html": [
       "<div>\n",
       "<style scoped>\n",
       "    .dataframe tbody tr th:only-of-type {\n",
       "        vertical-align: middle;\n",
       "    }\n",
       "\n",
       "    .dataframe tbody tr th {\n",
       "        vertical-align: top;\n",
       "    }\n",
       "\n",
       "    .dataframe thead th {\n",
       "        text-align: right;\n",
       "    }\n",
       "</style>\n",
       "<table border=\"1\" class=\"dataframe\">\n",
       "  <thead>\n",
       "    <tr style=\"text-align: right;\">\n",
       "      <th></th>\n",
       "      <th>Pclass</th>\n",
       "      <th>Age</th>\n",
       "      <th>SibSp</th>\n",
       "      <th>Parch</th>\n",
       "      <th>Fare</th>\n",
       "      <th>Sex_female</th>\n",
       "      <th>Sex_male</th>\n",
       "      <th>Embarked_C</th>\n",
       "      <th>Embarked_Q</th>\n",
       "      <th>Embarked_S</th>\n",
       "    </tr>\n",
       "  </thead>\n",
       "  <tbody>\n",
       "    <tr>\n",
       "      <th>0</th>\n",
       "      <td>3</td>\n",
       "      <td>34.5</td>\n",
       "      <td>0</td>\n",
       "      <td>0</td>\n",
       "      <td>7.8292</td>\n",
       "      <td>0</td>\n",
       "      <td>1</td>\n",
       "      <td>0</td>\n",
       "      <td>1</td>\n",
       "      <td>0</td>\n",
       "    </tr>\n",
       "    <tr>\n",
       "      <th>1</th>\n",
       "      <td>3</td>\n",
       "      <td>47.0</td>\n",
       "      <td>1</td>\n",
       "      <td>0</td>\n",
       "      <td>7.0000</td>\n",
       "      <td>1</td>\n",
       "      <td>0</td>\n",
       "      <td>0</td>\n",
       "      <td>0</td>\n",
       "      <td>1</td>\n",
       "    </tr>\n",
       "    <tr>\n",
       "      <th>2</th>\n",
       "      <td>2</td>\n",
       "      <td>62.0</td>\n",
       "      <td>0</td>\n",
       "      <td>0</td>\n",
       "      <td>9.6875</td>\n",
       "      <td>0</td>\n",
       "      <td>1</td>\n",
       "      <td>0</td>\n",
       "      <td>1</td>\n",
       "      <td>0</td>\n",
       "    </tr>\n",
       "    <tr>\n",
       "      <th>3</th>\n",
       "      <td>3</td>\n",
       "      <td>27.0</td>\n",
       "      <td>0</td>\n",
       "      <td>0</td>\n",
       "      <td>8.6625</td>\n",
       "      <td>0</td>\n",
       "      <td>1</td>\n",
       "      <td>0</td>\n",
       "      <td>0</td>\n",
       "      <td>1</td>\n",
       "    </tr>\n",
       "    <tr>\n",
       "      <th>4</th>\n",
       "      <td>3</td>\n",
       "      <td>22.0</td>\n",
       "      <td>1</td>\n",
       "      <td>1</td>\n",
       "      <td>12.2875</td>\n",
       "      <td>1</td>\n",
       "      <td>0</td>\n",
       "      <td>0</td>\n",
       "      <td>0</td>\n",
       "      <td>1</td>\n",
       "    </tr>\n",
       "  </tbody>\n",
       "</table>\n",
       "</div>"
      ],
      "text/plain": [
       "   Pclass   Age  SibSp  Parch     Fare  Sex_female  Sex_male  Embarked_C  \\\n",
       "0       3  34.5      0      0   7.8292           0         1           0   \n",
       "1       3  47.0      1      0   7.0000           1         0           0   \n",
       "2       2  62.0      0      0   9.6875           0         1           0   \n",
       "3       3  27.0      0      0   8.6625           0         1           0   \n",
       "4       3  22.0      1      1  12.2875           1         0           0   \n",
       "\n",
       "   Embarked_Q  Embarked_S  \n",
       "0           1           0  \n",
       "1           0           1  \n",
       "2           1           0  \n",
       "3           0           1  \n",
       "4           0           1  "
      ]
     },
     "execution_count": 48,
     "metadata": {},
     "output_type": "execute_result"
    }
   ],
   "source": [
    "df1.head()"
   ]
  },
  {
   "cell_type": "code",
   "execution_count": 49,
   "id": "731b4a54",
   "metadata": {
    "execution": {
     "iopub.execute_input": "2022-07-23T08:55:34.539512Z",
     "iopub.status.busy": "2022-07-23T08:55:34.539120Z",
     "iopub.status.idle": "2022-07-23T08:55:34.550724Z",
     "shell.execute_reply": "2022-07-23T08:55:34.549002Z"
    },
    "papermill": {
     "duration": 0.047271,
     "end_time": "2022-07-23T08:55:34.553324",
     "exception": false,
     "start_time": "2022-07-23T08:55:34.506053",
     "status": "completed"
    },
    "tags": []
   },
   "outputs": [
    {
     "data": {
      "text/plain": [
       "Pclass        0\n",
       "Age           0\n",
       "SibSp         0\n",
       "Parch         0\n",
       "Fare          0\n",
       "Sex_female    0\n",
       "Sex_male      0\n",
       "Embarked_C    0\n",
       "Embarked_Q    0\n",
       "Embarked_S    0\n",
       "dtype: int64"
      ]
     },
     "execution_count": 49,
     "metadata": {},
     "output_type": "execute_result"
    }
   ],
   "source": [
    "df1.isnull().sum()"
   ]
  },
  {
   "cell_type": "code",
   "execution_count": 50,
   "id": "15f3fa4c",
   "metadata": {
    "execution": {
     "iopub.execute_input": "2022-07-23T08:55:34.617061Z",
     "iopub.status.busy": "2022-07-23T08:55:34.616568Z",
     "iopub.status.idle": "2022-07-23T08:55:34.633167Z",
     "shell.execute_reply": "2022-07-23T08:55:34.631891Z"
    },
    "papermill": {
     "duration": 0.052169,
     "end_time": "2022-07-23T08:55:34.636244",
     "exception": false,
     "start_time": "2022-07-23T08:55:34.584075",
     "status": "completed"
    },
    "tags": []
   },
   "outputs": [
    {
     "name": "stdout",
     "output_type": "stream",
     "text": [
      "<class 'pandas.core.frame.DataFrame'>\n",
      "Int64Index: 416 entries, 0 to 417\n",
      "Data columns (total 10 columns):\n",
      " #   Column      Non-Null Count  Dtype  \n",
      "---  ------      --------------  -----  \n",
      " 0   Pclass      416 non-null    int64  \n",
      " 1   Age         416 non-null    float64\n",
      " 2   SibSp       416 non-null    int64  \n",
      " 3   Parch       416 non-null    int64  \n",
      " 4   Fare        416 non-null    float64\n",
      " 5   Sex_female  416 non-null    uint8  \n",
      " 6   Sex_male    416 non-null    uint8  \n",
      " 7   Embarked_C  416 non-null    uint8  \n",
      " 8   Embarked_Q  416 non-null    uint8  \n",
      " 9   Embarked_S  416 non-null    uint8  \n",
      "dtypes: float64(2), int64(3), uint8(5)\n",
      "memory usage: 21.5 KB\n"
     ]
    }
   ],
   "source": [
    "df1.info()"
   ]
  },
  {
   "cell_type": "code",
   "execution_count": 51,
   "id": "51d3f602",
   "metadata": {
    "execution": {
     "iopub.execute_input": "2022-07-23T08:55:34.698860Z",
     "iopub.status.busy": "2022-07-23T08:55:34.698284Z",
     "iopub.status.idle": "2022-07-23T08:55:34.706039Z",
     "shell.execute_reply": "2022-07-23T08:55:34.704294Z"
    },
    "papermill": {
     "duration": 0.042466,
     "end_time": "2022-07-23T08:55:34.708564",
     "exception": false,
     "start_time": "2022-07-23T08:55:34.666098",
     "status": "completed"
    },
    "tags": []
   },
   "outputs": [
    {
     "data": {
      "text/plain": [
       "(416, 10)"
      ]
     },
     "execution_count": 51,
     "metadata": {},
     "output_type": "execute_result"
    }
   ],
   "source": [
    "df1.shape"
   ]
  },
  {
   "cell_type": "markdown",
   "id": "a93b8b4b",
   "metadata": {
    "papermill": {
     "duration": 0.032022,
     "end_time": "2022-07-23T08:55:34.770258",
     "exception": false,
     "start_time": "2022-07-23T08:55:34.738236",
     "status": "completed"
    },
    "tags": []
   },
   "source": [
    "**Prediction**"
   ]
  },
  {
   "cell_type": "code",
   "execution_count": 52,
   "id": "c4f696e7",
   "metadata": {
    "execution": {
     "iopub.execute_input": "2022-07-23T08:55:34.833307Z",
     "iopub.status.busy": "2022-07-23T08:55:34.832802Z",
     "iopub.status.idle": "2022-07-23T08:55:34.846352Z",
     "shell.execute_reply": "2022-07-23T08:55:34.845033Z"
    },
    "papermill": {
     "duration": 0.049215,
     "end_time": "2022-07-23T08:55:34.849886",
     "exception": false,
     "start_time": "2022-07-23T08:55:34.800671",
     "status": "completed"
    },
    "tags": []
   },
   "outputs": [
    {
     "name": "stderr",
     "output_type": "stream",
     "text": [
      "/opt/conda/lib/python3.7/site-packages/sklearn/base.py:444: UserWarning: X has feature names, but LogisticRegression was fitted without feature names\n",
      "  f\"X has feature names, but {self.__class__.__name__} was fitted without\"\n"
     ]
    }
   ],
   "source": [
    "prediction=logreg.predict(df1)  #name of logistic regression model (logreg)\n"
   ]
  },
  {
   "cell_type": "code",
   "execution_count": 53,
   "id": "00c8b68f",
   "metadata": {
    "execution": {
     "iopub.execute_input": "2022-07-23T08:55:34.912761Z",
     "iopub.status.busy": "2022-07-23T08:55:34.912337Z",
     "iopub.status.idle": "2022-07-23T08:55:34.922652Z",
     "shell.execute_reply": "2022-07-23T08:55:34.921686Z"
    },
    "papermill": {
     "duration": 0.044263,
     "end_time": "2022-07-23T08:55:34.924910",
     "exception": false,
     "start_time": "2022-07-23T08:55:34.880647",
     "status": "completed"
    },
    "tags": []
   },
   "outputs": [
    {
     "data": {
      "text/plain": [
       "array([0, 0, 0, 0, 0, 0, 0, 0, 0, 0, 0, 0, 0, 0, 0, 0, 0, 0, 0, 0, 0, 0,\n",
       "       0, 0, 1, 0, 0, 0, 0, 0, 0, 0, 0, 0, 0, 0, 0, 0, 0, 0, 0, 0, 0, 0,\n",
       "       0, 0, 0, 0, 0, 0, 0, 0, 0, 1, 0, 0, 0, 0, 0, 1, 0, 0, 0, 0, 1, 0,\n",
       "       0, 0, 0, 0, 0, 0, 0, 0, 1, 1, 0, 0, 0, 0, 0, 0, 0, 0, 0, 0, 0, 0,\n",
       "       0, 0, 0, 0, 0, 0, 0, 0, 0, 0, 0, 0, 0, 0, 0, 0, 0, 0, 0, 0, 0, 0,\n",
       "       0, 0, 0, 0, 0, 0, 0, 0, 0, 0, 0, 0, 0, 0, 0, 0, 0, 0, 0, 0, 0, 0,\n",
       "       0, 0, 0, 0, 0, 0, 0, 0, 0, 0, 0, 0, 0, 0, 0, 0, 0, 0, 0, 0, 0, 0,\n",
       "       0, 1, 0, 0, 0, 0, 0, 0, 0, 0, 0, 0, 0, 0, 0, 0, 0, 0, 0, 0, 0, 0,\n",
       "       0, 0, 0, 0, 0, 0, 0, 1, 0, 0, 0, 0, 0, 0, 0, 0, 0, 0, 0, 1, 0, 0,\n",
       "       0, 0, 0, 0, 0, 0, 0, 0, 0, 0, 0, 0, 0, 0, 0, 0, 0, 0, 0, 0, 0, 0,\n",
       "       0, 0, 0, 0, 0, 0, 0, 0, 0, 0, 0, 0, 0, 0, 0, 0, 0, 0, 0, 0, 0, 0,\n",
       "       0, 0, 0, 0, 0, 0, 0, 0, 0, 0, 0, 0, 0, 0, 0, 0, 0, 0, 0, 0, 0, 0,\n",
       "       0, 0, 0, 0, 0, 0, 0, 0, 0, 0, 0, 0, 0, 0, 0, 0, 0, 0, 0, 0, 0, 0,\n",
       "       0, 0, 0, 0, 0, 0, 0, 0, 0, 1, 0, 0, 0, 0, 0, 0, 0, 0, 0, 0, 0, 0,\n",
       "       0, 0, 0, 0, 0, 0, 0, 0, 0, 0, 0, 0, 0, 0, 0, 1, 0, 0, 0, 0, 0, 0,\n",
       "       0, 0, 0, 0, 0, 0, 0, 0, 0, 0, 0, 0, 0, 0, 0, 0, 0, 0, 0, 0, 0, 0,\n",
       "       0, 0, 0, 0, 0, 0, 0, 0, 0, 0, 0, 0, 0, 0, 0, 0, 0, 0, 0, 0, 0, 1,\n",
       "       0, 0, 0, 0, 0, 0, 0, 0, 0, 0, 0, 0, 0, 0, 0, 0, 0, 0, 0, 0, 0, 0,\n",
       "       0, 0, 1, 0, 0, 0, 0, 0, 0, 0, 0, 0, 0, 0, 0, 0, 0, 0, 0, 0])"
      ]
     },
     "execution_count": 53,
     "metadata": {},
     "output_type": "execute_result"
    }
   ],
   "source": [
    "prediction"
   ]
  },
  {
   "cell_type": "code",
   "execution_count": 54,
   "id": "467434e3",
   "metadata": {
    "execution": {
     "iopub.execute_input": "2022-07-23T08:55:34.988328Z",
     "iopub.status.busy": "2022-07-23T08:55:34.987913Z",
     "iopub.status.idle": "2022-07-23T08:55:35.003714Z",
     "shell.execute_reply": "2022-07-23T08:55:34.999957Z"
    },
    "papermill": {
     "duration": 0.056484,
     "end_time": "2022-07-23T08:55:35.012468",
     "exception": false,
     "start_time": "2022-07-23T08:55:34.955984",
     "status": "completed"
    },
    "tags": []
   },
   "outputs": [],
   "source": [
    "test=pd.read_csv('../input/titanic/test.csv')"
   ]
  },
  {
   "cell_type": "code",
   "execution_count": null,
   "id": "aee632d4",
   "metadata": {
    "papermill": {
     "duration": 0.029945,
     "end_time": "2022-07-23T08:55:35.075656",
     "exception": false,
     "start_time": "2022-07-23T08:55:35.045711",
     "status": "completed"
    },
    "tags": []
   },
   "outputs": [],
   "source": []
  },
  {
   "cell_type": "code",
   "execution_count": null,
   "id": "6767f83f",
   "metadata": {
    "papermill": {
     "duration": 0.029776,
     "end_time": "2022-07-23T08:55:35.135444",
     "exception": false,
     "start_time": "2022-07-23T08:55:35.105668",
     "status": "completed"
    },
    "tags": []
   },
   "outputs": [],
   "source": []
  }
 ],
 "metadata": {
  "kernelspec": {
   "display_name": "Python 3",
   "language": "python",
   "name": "python3"
  },
  "language_info": {
   "codemirror_mode": {
    "name": "ipython",
    "version": 3
   },
   "file_extension": ".py",
   "mimetype": "text/x-python",
   "name": "python",
   "nbconvert_exporter": "python",
   "pygments_lexer": "ipython3",
   "version": "3.7.12"
  },
  "papermill": {
   "default_parameters": {},
   "duration": 20.845808,
   "end_time": "2022-07-23T08:55:36.191890",
   "environment_variables": {},
   "exception": null,
   "input_path": "__notebook__.ipynb",
   "output_path": "__notebook__.ipynb",
   "parameters": {},
   "start_time": "2022-07-23T08:55:15.346082",
   "version": "2.3.4"
  }
 },
 "nbformat": 4,
 "nbformat_minor": 5
}
