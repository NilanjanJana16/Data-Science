{
 "cells": [
  {
   "cell_type": "code",
   "execution_count": 1,
   "id": "eabb6b25",
   "metadata": {
    "_cell_guid": "b1076dfc-b9ad-4769-8c92-a6c4dae69d19",
    "_uuid": "8f2839f25d086af736a60e9eeb907d3b93b6e0e5",
    "execution": {
     "iopub.execute_input": "2022-07-27T10:59:06.381047Z",
     "iopub.status.busy": "2022-07-27T10:59:06.380172Z",
     "iopub.status.idle": "2022-07-27T10:59:06.395143Z",
     "shell.execute_reply": "2022-07-27T10:59:06.394314Z"
    },
    "papermill": {
     "duration": 0.040611,
     "end_time": "2022-07-27T10:59:06.397665",
     "exception": false,
     "start_time": "2022-07-27T10:59:06.357054",
     "status": "completed"
    },
    "tags": []
   },
   "outputs": [
    {
     "name": "stdout",
     "output_type": "stream",
     "text": [
      "/kaggle/input/titanic/train.csv\n",
      "/kaggle/input/titanic/test.csv\n",
      "/kaggle/input/titanic/gender_submission.csv\n"
     ]
    }
   ],
   "source": [
    "# This Python 3 environment comes with many helpful analytics libraries installed\n",
    "# It is defined by the kaggle/python Docker image: https://github.com/kaggle/docker-python\n",
    "# For example, here's several helpful packages to load\n",
    "\n",
    "import numpy as np # linear algebra\n",
    "import pandas as pd # data processing, CSV file I/O (e.g. pd.read_csv)\n",
    "\n",
    "# Input data files are available in the read-only \"../input/\" directory\n",
    "# For example, running this (by clicking run or pressing Shift+Enter) will list all files under the input directory\n",
    "\n",
    "import os\n",
    "for dirname, _, filenames in os.walk('/kaggle/input'):\n",
    "    for filename in filenames:\n",
    "        print(os.path.join(dirname, filename))\n",
    "\n",
    "# You can write up to 20GB to the current directory (/kaggle/working/) that gets preserved as output when you create a version using \"Save & Run All\" \n",
    "# You can also write temporary files to /kaggle/temp/, but they won't be saved outside of the current session"
   ]
  },
  {
   "cell_type": "code",
   "execution_count": 2,
   "id": "58c3f5bd",
   "metadata": {
    "execution": {
     "iopub.execute_input": "2022-07-27T10:59:06.441987Z",
     "iopub.status.busy": "2022-07-27T10:59:06.441301Z",
     "iopub.status.idle": "2022-07-27T10:59:06.445711Z",
     "shell.execute_reply": "2022-07-27T10:59:06.444748Z"
    },
    "papermill": {
     "duration": 0.027768,
     "end_time": "2022-07-27T10:59:06.447748",
     "exception": false,
     "start_time": "2022-07-27T10:59:06.419980",
     "status": "completed"
    },
    "tags": []
   },
   "outputs": [],
   "source": [
    "#Importing required libraries\n",
    "import pandas as pd\n",
    "import numpy as np\n",
    "import matplotlib.pyplot as plt"
   ]
  },
  {
   "cell_type": "code",
   "execution_count": 3,
   "id": "397e0dcc",
   "metadata": {
    "execution": {
     "iopub.execute_input": "2022-07-27T10:59:06.490325Z",
     "iopub.status.busy": "2022-07-27T10:59:06.489916Z",
     "iopub.status.idle": "2022-07-27T10:59:06.525250Z",
     "shell.execute_reply": "2022-07-27T10:59:06.524388Z"
    },
    "papermill": {
     "duration": 0.059807,
     "end_time": "2022-07-27T10:59:06.527690",
     "exception": false,
     "start_time": "2022-07-27T10:59:06.467883",
     "status": "completed"
    },
    "tags": []
   },
   "outputs": [],
   "source": [
    "#Reading datasets\n",
    "#train data and test data\n",
    "train=pd.read_csv('../input/titanic/train.csv')\n",
    "test=pd.read_csv('../input/titanic/test.csv')"
   ]
  },
  {
   "cell_type": "code",
   "execution_count": 4,
   "id": "7da2a4d8",
   "metadata": {
    "execution": {
     "iopub.execute_input": "2022-07-27T10:59:06.569703Z",
     "iopub.status.busy": "2022-07-27T10:59:06.569011Z",
     "iopub.status.idle": "2022-07-27T10:59:06.593611Z",
     "shell.execute_reply": "2022-07-27T10:59:06.592288Z"
    },
    "papermill": {
     "duration": 0.048132,
     "end_time": "2022-07-27T10:59:06.596078",
     "exception": false,
     "start_time": "2022-07-27T10:59:06.547946",
     "status": "completed"
    },
    "tags": []
   },
   "outputs": [
    {
     "data": {
      "text/html": [
       "<div>\n",
       "<style scoped>\n",
       "    .dataframe tbody tr th:only-of-type {\n",
       "        vertical-align: middle;\n",
       "    }\n",
       "\n",
       "    .dataframe tbody tr th {\n",
       "        vertical-align: top;\n",
       "    }\n",
       "\n",
       "    .dataframe thead th {\n",
       "        text-align: right;\n",
       "    }\n",
       "</style>\n",
       "<table border=\"1\" class=\"dataframe\">\n",
       "  <thead>\n",
       "    <tr style=\"text-align: right;\">\n",
       "      <th></th>\n",
       "      <th>PassengerId</th>\n",
       "      <th>Survived</th>\n",
       "      <th>Pclass</th>\n",
       "      <th>Name</th>\n",
       "      <th>Sex</th>\n",
       "      <th>Age</th>\n",
       "      <th>SibSp</th>\n",
       "      <th>Parch</th>\n",
       "      <th>Ticket</th>\n",
       "      <th>Fare</th>\n",
       "      <th>Cabin</th>\n",
       "      <th>Embarked</th>\n",
       "    </tr>\n",
       "  </thead>\n",
       "  <tbody>\n",
       "    <tr>\n",
       "      <th>0</th>\n",
       "      <td>1</td>\n",
       "      <td>0</td>\n",
       "      <td>3</td>\n",
       "      <td>Braund, Mr. Owen Harris</td>\n",
       "      <td>male</td>\n",
       "      <td>22.0</td>\n",
       "      <td>1</td>\n",
       "      <td>0</td>\n",
       "      <td>A/5 21171</td>\n",
       "      <td>7.2500</td>\n",
       "      <td>NaN</td>\n",
       "      <td>S</td>\n",
       "    </tr>\n",
       "    <tr>\n",
       "      <th>1</th>\n",
       "      <td>2</td>\n",
       "      <td>1</td>\n",
       "      <td>1</td>\n",
       "      <td>Cumings, Mrs. John Bradley (Florence Briggs Th...</td>\n",
       "      <td>female</td>\n",
       "      <td>38.0</td>\n",
       "      <td>1</td>\n",
       "      <td>0</td>\n",
       "      <td>PC 17599</td>\n",
       "      <td>71.2833</td>\n",
       "      <td>C85</td>\n",
       "      <td>C</td>\n",
       "    </tr>\n",
       "    <tr>\n",
       "      <th>2</th>\n",
       "      <td>3</td>\n",
       "      <td>1</td>\n",
       "      <td>3</td>\n",
       "      <td>Heikkinen, Miss. Laina</td>\n",
       "      <td>female</td>\n",
       "      <td>26.0</td>\n",
       "      <td>0</td>\n",
       "      <td>0</td>\n",
       "      <td>STON/O2. 3101282</td>\n",
       "      <td>7.9250</td>\n",
       "      <td>NaN</td>\n",
       "      <td>S</td>\n",
       "    </tr>\n",
       "    <tr>\n",
       "      <th>3</th>\n",
       "      <td>4</td>\n",
       "      <td>1</td>\n",
       "      <td>1</td>\n",
       "      <td>Futrelle, Mrs. Jacques Heath (Lily May Peel)</td>\n",
       "      <td>female</td>\n",
       "      <td>35.0</td>\n",
       "      <td>1</td>\n",
       "      <td>0</td>\n",
       "      <td>113803</td>\n",
       "      <td>53.1000</td>\n",
       "      <td>C123</td>\n",
       "      <td>S</td>\n",
       "    </tr>\n",
       "    <tr>\n",
       "      <th>4</th>\n",
       "      <td>5</td>\n",
       "      <td>0</td>\n",
       "      <td>3</td>\n",
       "      <td>Allen, Mr. William Henry</td>\n",
       "      <td>male</td>\n",
       "      <td>35.0</td>\n",
       "      <td>0</td>\n",
       "      <td>0</td>\n",
       "      <td>373450</td>\n",
       "      <td>8.0500</td>\n",
       "      <td>NaN</td>\n",
       "      <td>S</td>\n",
       "    </tr>\n",
       "  </tbody>\n",
       "</table>\n",
       "</div>"
      ],
      "text/plain": [
       "   PassengerId  Survived  Pclass  \\\n",
       "0            1         0       3   \n",
       "1            2         1       1   \n",
       "2            3         1       3   \n",
       "3            4         1       1   \n",
       "4            5         0       3   \n",
       "\n",
       "                                                Name     Sex   Age  SibSp  \\\n",
       "0                            Braund, Mr. Owen Harris    male  22.0      1   \n",
       "1  Cumings, Mrs. John Bradley (Florence Briggs Th...  female  38.0      1   \n",
       "2                             Heikkinen, Miss. Laina  female  26.0      0   \n",
       "3       Futrelle, Mrs. Jacques Heath (Lily May Peel)  female  35.0      1   \n",
       "4                           Allen, Mr. William Henry    male  35.0      0   \n",
       "\n",
       "   Parch            Ticket     Fare Cabin Embarked  \n",
       "0      0         A/5 21171   7.2500   NaN        S  \n",
       "1      0          PC 17599  71.2833   C85        C  \n",
       "2      0  STON/O2. 3101282   7.9250   NaN        S  \n",
       "3      0            113803  53.1000  C123        S  \n",
       "4      0            373450   8.0500   NaN        S  "
      ]
     },
     "execution_count": 4,
     "metadata": {},
     "output_type": "execute_result"
    }
   ],
   "source": [
    "#Viewing data and different features\n",
    "train.head()"
   ]
  },
  {
   "cell_type": "code",
   "execution_count": 5,
   "id": "eb29a2d4",
   "metadata": {
    "execution": {
     "iopub.execute_input": "2022-07-27T10:59:06.638465Z",
     "iopub.status.busy": "2022-07-27T10:59:06.638093Z",
     "iopub.status.idle": "2022-07-27T10:59:06.644591Z",
     "shell.execute_reply": "2022-07-27T10:59:06.643493Z"
    },
    "papermill": {
     "duration": 0.030103,
     "end_time": "2022-07-27T10:59:06.646722",
     "exception": false,
     "start_time": "2022-07-27T10:59:06.616619",
     "status": "completed"
    },
    "tags": []
   },
   "outputs": [
    {
     "data": {
      "text/plain": [
       "(891, 12)"
      ]
     },
     "execution_count": 5,
     "metadata": {},
     "output_type": "execute_result"
    }
   ],
   "source": [
    "train.shape"
   ]
  },
  {
   "cell_type": "code",
   "execution_count": 6,
   "id": "dccf9a16",
   "metadata": {
    "execution": {
     "iopub.execute_input": "2022-07-27T10:59:06.689217Z",
     "iopub.status.busy": "2022-07-27T10:59:06.688329Z",
     "iopub.status.idle": "2022-07-27T10:59:06.704449Z",
     "shell.execute_reply": "2022-07-27T10:59:06.703256Z"
    },
    "papermill": {
     "duration": 0.039839,
     "end_time": "2022-07-27T10:59:06.706768",
     "exception": false,
     "start_time": "2022-07-27T10:59:06.666929",
     "status": "completed"
    },
    "tags": []
   },
   "outputs": [
    {
     "data": {
      "text/plain": [
       "PassengerId   -0.005007\n",
       "Survived       1.000000\n",
       "Pclass        -0.338481\n",
       "Age           -0.077221\n",
       "SibSp         -0.035322\n",
       "Parch          0.081629\n",
       "Fare           0.257307\n",
       "Name: Survived, dtype: float64"
      ]
     },
     "execution_count": 6,
     "metadata": {},
     "output_type": "execute_result"
    }
   ],
   "source": [
    "train.corr()['Survived']"
   ]
  },
  {
   "cell_type": "markdown",
   "id": "88c037cc",
   "metadata": {
    "papermill": {
     "duration": 0.020039,
     "end_time": "2022-07-27T10:59:06.747292",
     "exception": false,
     "start_time": "2022-07-27T10:59:06.727253",
     "status": "completed"
    },
    "tags": []
   },
   "source": [
    "**Removing useless data from the data set such as 'Name','Ticket','Cabin','PassengerId'**"
   ]
  },
  {
   "cell_type": "code",
   "execution_count": 7,
   "id": "5b56e188",
   "metadata": {
    "execution": {
     "iopub.execute_input": "2022-07-27T10:59:06.790137Z",
     "iopub.status.busy": "2022-07-27T10:59:06.789445Z",
     "iopub.status.idle": "2022-07-27T10:59:06.808345Z",
     "shell.execute_reply": "2022-07-27T10:59:06.807424Z"
    },
    "papermill": {
     "duration": 0.0427,
     "end_time": "2022-07-27T10:59:06.810414",
     "exception": false,
     "start_time": "2022-07-27T10:59:06.767714",
     "status": "completed"
    },
    "tags": []
   },
   "outputs": [
    {
     "data": {
      "text/html": [
       "<div>\n",
       "<style scoped>\n",
       "    .dataframe tbody tr th:only-of-type {\n",
       "        vertical-align: middle;\n",
       "    }\n",
       "\n",
       "    .dataframe tbody tr th {\n",
       "        vertical-align: top;\n",
       "    }\n",
       "\n",
       "    .dataframe thead th {\n",
       "        text-align: right;\n",
       "    }\n",
       "</style>\n",
       "<table border=\"1\" class=\"dataframe\">\n",
       "  <thead>\n",
       "    <tr style=\"text-align: right;\">\n",
       "      <th></th>\n",
       "      <th>Survived</th>\n",
       "      <th>Pclass</th>\n",
       "      <th>Sex</th>\n",
       "      <th>Age</th>\n",
       "      <th>SibSp</th>\n",
       "      <th>Parch</th>\n",
       "      <th>Fare</th>\n",
       "      <th>Embarked</th>\n",
       "    </tr>\n",
       "  </thead>\n",
       "  <tbody>\n",
       "    <tr>\n",
       "      <th>0</th>\n",
       "      <td>0</td>\n",
       "      <td>3</td>\n",
       "      <td>male</td>\n",
       "      <td>22.0</td>\n",
       "      <td>1</td>\n",
       "      <td>0</td>\n",
       "      <td>7.2500</td>\n",
       "      <td>S</td>\n",
       "    </tr>\n",
       "    <tr>\n",
       "      <th>1</th>\n",
       "      <td>1</td>\n",
       "      <td>1</td>\n",
       "      <td>female</td>\n",
       "      <td>38.0</td>\n",
       "      <td>1</td>\n",
       "      <td>0</td>\n",
       "      <td>71.2833</td>\n",
       "      <td>C</td>\n",
       "    </tr>\n",
       "    <tr>\n",
       "      <th>2</th>\n",
       "      <td>1</td>\n",
       "      <td>3</td>\n",
       "      <td>female</td>\n",
       "      <td>26.0</td>\n",
       "      <td>0</td>\n",
       "      <td>0</td>\n",
       "      <td>7.9250</td>\n",
       "      <td>S</td>\n",
       "    </tr>\n",
       "    <tr>\n",
       "      <th>3</th>\n",
       "      <td>1</td>\n",
       "      <td>1</td>\n",
       "      <td>female</td>\n",
       "      <td>35.0</td>\n",
       "      <td>1</td>\n",
       "      <td>0</td>\n",
       "      <td>53.1000</td>\n",
       "      <td>S</td>\n",
       "    </tr>\n",
       "    <tr>\n",
       "      <th>4</th>\n",
       "      <td>0</td>\n",
       "      <td>3</td>\n",
       "      <td>male</td>\n",
       "      <td>35.0</td>\n",
       "      <td>0</td>\n",
       "      <td>0</td>\n",
       "      <td>8.0500</td>\n",
       "      <td>S</td>\n",
       "    </tr>\n",
       "  </tbody>\n",
       "</table>\n",
       "</div>"
      ],
      "text/plain": [
       "   Survived  Pclass     Sex   Age  SibSp  Parch     Fare Embarked\n",
       "0         0       3    male  22.0      1      0   7.2500        S\n",
       "1         1       1  female  38.0      1      0  71.2833        C\n",
       "2         1       3  female  26.0      0      0   7.9250        S\n",
       "3         1       1  female  35.0      1      0  53.1000        S\n",
       "4         0       3    male  35.0      0      0   8.0500        S"
      ]
     },
     "execution_count": 7,
     "metadata": {},
     "output_type": "execute_result"
    }
   ],
   "source": [
    "df=train.drop(['Name','Ticket','Cabin','PassengerId'], axis=1)\n",
    "df.head(5)"
   ]
  },
  {
   "cell_type": "code",
   "execution_count": 8,
   "id": "505f2d29",
   "metadata": {
    "execution": {
     "iopub.execute_input": "2022-07-27T10:59:06.854422Z",
     "iopub.status.busy": "2022-07-27T10:59:06.853718Z",
     "iopub.status.idle": "2022-07-27T10:59:06.860574Z",
     "shell.execute_reply": "2022-07-27T10:59:06.859750Z"
    },
    "papermill": {
     "duration": 0.031531,
     "end_time": "2022-07-27T10:59:06.862699",
     "exception": false,
     "start_time": "2022-07-27T10:59:06.831168",
     "status": "completed"
    },
    "tags": []
   },
   "outputs": [
    {
     "data": {
      "text/plain": [
       "Survived      int64\n",
       "Pclass        int64\n",
       "Sex          object\n",
       "Age         float64\n",
       "SibSp         int64\n",
       "Parch         int64\n",
       "Fare        float64\n",
       "Embarked     object\n",
       "dtype: object"
      ]
     },
     "execution_count": 8,
     "metadata": {},
     "output_type": "execute_result"
    }
   ],
   "source": [
    "# identifying categorical and continuous variables\n",
    "\n",
    "df.dtypes"
   ]
  },
  {
   "cell_type": "markdown",
   "id": "eaea05f0",
   "metadata": {
    "papermill": {
     "duration": 0.020471,
     "end_time": "2022-07-27T10:59:06.904425",
     "exception": false,
     "start_time": "2022-07-27T10:59:06.883954",
     "status": "completed"
    },
    "tags": []
   },
   "source": [
    "**Categorical variables are stored as objects and continuous variables are stored as int or float therefore name, sex and ticket are categorical variables**"
   ]
  },
  {
   "cell_type": "markdown",
   "id": "f91f15e5",
   "metadata": {
    "papermill": {
     "duration": 0.020972,
     "end_time": "2022-07-27T10:59:06.946861",
     "exception": false,
     "start_time": "2022-07-27T10:59:06.925889",
     "status": "completed"
    },
    "tags": []
   },
   "source": [
    "> **UNIVARIATE ANALYSIS OF CONTINUOS VARIABLES**"
   ]
  },
  {
   "cell_type": "code",
   "execution_count": 9,
   "id": "4c51846f",
   "metadata": {
    "execution": {
     "iopub.execute_input": "2022-07-27T10:59:06.990873Z",
     "iopub.status.busy": "2022-07-27T10:59:06.990163Z",
     "iopub.status.idle": "2022-07-27T10:59:07.022785Z",
     "shell.execute_reply": "2022-07-27T10:59:07.021608Z"
    },
    "papermill": {
     "duration": 0.05743,
     "end_time": "2022-07-27T10:59:07.025249",
     "exception": false,
     "start_time": "2022-07-27T10:59:06.967819",
     "status": "completed"
    },
    "tags": []
   },
   "outputs": [
    {
     "data": {
      "text/html": [
       "<div>\n",
       "<style scoped>\n",
       "    .dataframe tbody tr th:only-of-type {\n",
       "        vertical-align: middle;\n",
       "    }\n",
       "\n",
       "    .dataframe tbody tr th {\n",
       "        vertical-align: top;\n",
       "    }\n",
       "\n",
       "    .dataframe thead th {\n",
       "        text-align: right;\n",
       "    }\n",
       "</style>\n",
       "<table border=\"1\" class=\"dataframe\">\n",
       "  <thead>\n",
       "    <tr style=\"text-align: right;\">\n",
       "      <th></th>\n",
       "      <th>Survived</th>\n",
       "      <th>Pclass</th>\n",
       "      <th>Age</th>\n",
       "      <th>SibSp</th>\n",
       "      <th>Parch</th>\n",
       "      <th>Fare</th>\n",
       "    </tr>\n",
       "  </thead>\n",
       "  <tbody>\n",
       "    <tr>\n",
       "      <th>count</th>\n",
       "      <td>891.000000</td>\n",
       "      <td>891.000000</td>\n",
       "      <td>714.000000</td>\n",
       "      <td>891.000000</td>\n",
       "      <td>891.000000</td>\n",
       "      <td>891.000000</td>\n",
       "    </tr>\n",
       "    <tr>\n",
       "      <th>mean</th>\n",
       "      <td>0.383838</td>\n",
       "      <td>2.308642</td>\n",
       "      <td>29.699118</td>\n",
       "      <td>0.523008</td>\n",
       "      <td>0.381594</td>\n",
       "      <td>32.204208</td>\n",
       "    </tr>\n",
       "    <tr>\n",
       "      <th>std</th>\n",
       "      <td>0.486592</td>\n",
       "      <td>0.836071</td>\n",
       "      <td>14.526497</td>\n",
       "      <td>1.102743</td>\n",
       "      <td>0.806057</td>\n",
       "      <td>49.693429</td>\n",
       "    </tr>\n",
       "    <tr>\n",
       "      <th>min</th>\n",
       "      <td>0.000000</td>\n",
       "      <td>1.000000</td>\n",
       "      <td>0.420000</td>\n",
       "      <td>0.000000</td>\n",
       "      <td>0.000000</td>\n",
       "      <td>0.000000</td>\n",
       "    </tr>\n",
       "    <tr>\n",
       "      <th>25%</th>\n",
       "      <td>0.000000</td>\n",
       "      <td>2.000000</td>\n",
       "      <td>20.125000</td>\n",
       "      <td>0.000000</td>\n",
       "      <td>0.000000</td>\n",
       "      <td>7.910400</td>\n",
       "    </tr>\n",
       "    <tr>\n",
       "      <th>50%</th>\n",
       "      <td>0.000000</td>\n",
       "      <td>3.000000</td>\n",
       "      <td>28.000000</td>\n",
       "      <td>0.000000</td>\n",
       "      <td>0.000000</td>\n",
       "      <td>14.454200</td>\n",
       "    </tr>\n",
       "    <tr>\n",
       "      <th>75%</th>\n",
       "      <td>1.000000</td>\n",
       "      <td>3.000000</td>\n",
       "      <td>38.000000</td>\n",
       "      <td>1.000000</td>\n",
       "      <td>0.000000</td>\n",
       "      <td>31.000000</td>\n",
       "    </tr>\n",
       "    <tr>\n",
       "      <th>max</th>\n",
       "      <td>1.000000</td>\n",
       "      <td>3.000000</td>\n",
       "      <td>80.000000</td>\n",
       "      <td>8.000000</td>\n",
       "      <td>6.000000</td>\n",
       "      <td>512.329200</td>\n",
       "    </tr>\n",
       "  </tbody>\n",
       "</table>\n",
       "</div>"
      ],
      "text/plain": [
       "         Survived      Pclass         Age       SibSp       Parch        Fare\n",
       "count  891.000000  891.000000  714.000000  891.000000  891.000000  891.000000\n",
       "mean     0.383838    2.308642   29.699118    0.523008    0.381594   32.204208\n",
       "std      0.486592    0.836071   14.526497    1.102743    0.806057   49.693429\n",
       "min      0.000000    1.000000    0.420000    0.000000    0.000000    0.000000\n",
       "25%      0.000000    2.000000   20.125000    0.000000    0.000000    7.910400\n",
       "50%      0.000000    3.000000   28.000000    0.000000    0.000000   14.454200\n",
       "75%      1.000000    3.000000   38.000000    1.000000    0.000000   31.000000\n",
       "max      1.000000    3.000000   80.000000    8.000000    6.000000  512.329200"
      ]
     },
     "execution_count": 9,
     "metadata": {},
     "output_type": "execute_result"
    }
   ],
   "source": [
    "# using describe func on the continuos variabes ( only works for continuos variables)\n",
    "\n",
    "df.describe()"
   ]
  },
  {
   "cell_type": "code",
   "execution_count": 10,
   "id": "ee82e087",
   "metadata": {
    "execution": {
     "iopub.execute_input": "2022-07-27T10:59:07.069029Z",
     "iopub.status.busy": "2022-07-27T10:59:07.068646Z",
     "iopub.status.idle": "2022-07-27T10:59:07.252831Z",
     "shell.execute_reply": "2022-07-27T10:59:07.251912Z"
    },
    "papermill": {
     "duration": 0.208778,
     "end_time": "2022-07-27T10:59:07.255191",
     "exception": false,
     "start_time": "2022-07-27T10:59:07.046413",
     "status": "completed"
    },
    "tags": []
   },
   "outputs": [
    {
     "data": {
      "text/plain": [
       "<AxesSubplot:>"
      ]
     },
     "execution_count": 10,
     "metadata": {},
     "output_type": "execute_result"
    },
    {
     "data": {
      "image/png": "[encoded data removed]",
      "text/plain": [
       "<Figure size 432x288 with 1 Axes>"
      ]
     },
     "metadata": {
      "needs_background": "light"
     },
     "output_type": "display_data"
    }
   ],
   "source": [
    "# plotting a boxplot of the age variable\n",
    "\n",
    "df['Age'].plot.box()"
   ]
  },
  {
   "cell_type": "markdown",
   "id": "734482d9",
   "metadata": {
    "papermill": {
     "duration": 0.021967,
     "end_time": "2022-07-27T10:59:07.298857",
     "exception": false,
     "start_time": "2022-07-27T10:59:07.276890",
     "status": "completed"
    },
    "tags": []
   },
   "source": [
    "> **UNIVARIATE ANALYSIS OF CATEGORICAL VARIABLES**"
   ]
  },
  {
   "cell_type": "code",
   "execution_count": 11,
   "id": "d1da1f4e",
   "metadata": {
    "execution": {
     "iopub.execute_input": "2022-07-27T10:59:07.344325Z",
     "iopub.status.busy": "2022-07-27T10:59:07.343540Z",
     "iopub.status.idle": "2022-07-27T10:59:07.352261Z",
     "shell.execute_reply": "2022-07-27T10:59:07.351404Z"
    },
    "papermill": {
     "duration": 0.034121,
     "end_time": "2022-07-27T10:59:07.354616",
     "exception": false,
     "start_time": "2022-07-27T10:59:07.320495",
     "status": "completed"
    },
    "tags": []
   },
   "outputs": [
    {
     "data": {
      "text/plain": [
       "male      577\n",
       "female    314\n",
       "Name: Sex, dtype: int64"
      ]
     },
     "execution_count": 11,
     "metadata": {},
     "output_type": "execute_result"
    }
   ],
   "source": [
    "# creating frequence table for sex variable\n",
    "\n",
    "df['Sex'].value_counts()"
   ]
  },
  {
   "cell_type": "code",
   "execution_count": 12,
   "id": "923676bc",
   "metadata": {
    "execution": {
     "iopub.execute_input": "2022-07-27T10:59:07.399934Z",
     "iopub.status.busy": "2022-07-27T10:59:07.399141Z",
     "iopub.status.idle": "2022-07-27T10:59:07.516769Z",
     "shell.execute_reply": "2022-07-27T10:59:07.515644Z"
    },
    "papermill": {
     "duration": 0.143212,
     "end_time": "2022-07-27T10:59:07.519161",
     "exception": false,
     "start_time": "2022-07-27T10:59:07.375949",
     "status": "completed"
    },
    "tags": []
   },
   "outputs": [
    {
     "data": {
      "text/plain": [
       "<AxesSubplot:>"
      ]
     },
     "execution_count": 12,
     "metadata": {},
     "output_type": "execute_result"
    },
    {
     "data": {
      "image/png": "[encoded data removed]",
      "text/plain": [
       "<Figure size 432x288 with 1 Axes>"
      ]
     },
     "metadata": {
      "needs_background": "light"
     },
     "output_type": "display_data"
    }
   ],
   "source": [
    "# creating a bar plt for the same\n",
    "\n",
    "df['Sex'].value_counts().plot.bar()"
   ]
  },
  {
   "cell_type": "markdown",
   "id": "f4c00fdd",
   "metadata": {
    "papermill": {
     "duration": 0.022934,
     "end_time": "2022-07-27T10:59:07.565975",
     "exception": false,
     "start_time": "2022-07-27T10:59:07.543041",
     "status": "completed"
    },
    "tags": []
   },
   "source": [
    "**BIVARIATE ANALYSIS**"
   ]
  },
  {
   "cell_type": "code",
   "execution_count": 13,
   "id": "3ca3ab59",
   "metadata": {
    "execution": {
     "iopub.execute_input": "2022-07-27T10:59:07.613095Z",
     "iopub.status.busy": "2022-07-27T10:59:07.612330Z",
     "iopub.status.idle": "2022-07-27T10:59:07.783359Z",
     "shell.execute_reply": "2022-07-27T10:59:07.782033Z"
    },
    "papermill": {
     "duration": 0.19727,
     "end_time": "2022-07-27T10:59:07.785884",
     "exception": false,
     "start_time": "2022-07-27T10:59:07.588614",
     "status": "completed"
    },
    "tags": []
   },
   "outputs": [
    {
     "data": {
      "text/plain": [
       "<AxesSubplot:xlabel='Age', ylabel='Fare'>"
      ]
     },
     "execution_count": 13,
     "metadata": {},
     "output_type": "execute_result"
    },
    {
     "data": {
      "image/png": "[encoded data removed]",
      "text/plain": [
       "<Figure size 432x288 with 1 Axes>"
      ]
     },
     "metadata": {
      "needs_background": "light"
     },
     "output_type": "display_data"
    }
   ],
   "source": [
    "# using scatter plot to compare age and fare\n",
    "\n",
    "df.plot.scatter('Age', 'Fare')"
   ]
  },
  {
   "cell_type": "markdown",
   "id": "1bd16789",
   "metadata": {
    "papermill": {
     "duration": 0.022418,
     "end_time": "2022-07-27T10:59:07.831675",
     "exception": false,
     "start_time": "2022-07-27T10:59:07.809257",
     "status": "completed"
    },
    "tags": []
   },
   "source": [
    "**CHECKING FOR MISSING VALUES**"
   ]
  },
  {
   "cell_type": "code",
   "execution_count": 14,
   "id": "b54ca5b9",
   "metadata": {
    "execution": {
     "iopub.execute_input": "2022-07-27T10:59:07.879373Z",
     "iopub.status.busy": "2022-07-27T10:59:07.878942Z",
     "iopub.status.idle": "2022-07-27T10:59:07.889050Z",
     "shell.execute_reply": "2022-07-27T10:59:07.887935Z"
    },
    "papermill": {
     "duration": 0.037035,
     "end_time": "2022-07-27T10:59:07.891234",
     "exception": false,
     "start_time": "2022-07-27T10:59:07.854199",
     "status": "completed"
    },
    "tags": []
   },
   "outputs": [
    {
     "data": {
      "text/plain": [
       "Survived      0\n",
       "Pclass        0\n",
       "Sex           0\n",
       "Age         177\n",
       "SibSp         0\n",
       "Parch         0\n",
       "Fare          0\n",
       "Embarked      2\n",
       "dtype: int64"
      ]
     },
     "execution_count": 14,
     "metadata": {},
     "output_type": "execute_result"
    }
   ],
   "source": [
    "df.isnull().sum()"
   ]
  },
  {
   "cell_type": "markdown",
   "id": "59c9bf9a",
   "metadata": {
    "papermill": {
     "duration": 0.023396,
     "end_time": "2022-07-27T10:59:07.937550",
     "exception": false,
     "start_time": "2022-07-27T10:59:07.914154",
     "status": "completed"
    },
    "tags": []
   },
   "source": [
    "**OUTLIER TREATMENT**"
   ]
  },
  {
   "cell_type": "code",
   "execution_count": 15,
   "id": "aa48e4eb",
   "metadata": {
    "execution": {
     "iopub.execute_input": "2022-07-27T10:59:07.985285Z",
     "iopub.status.busy": "2022-07-27T10:59:07.984877Z",
     "iopub.status.idle": "2022-07-27T10:59:08.114805Z",
     "shell.execute_reply": "2022-07-27T10:59:08.113502Z"
    },
    "papermill": {
     "duration": 0.158329,
     "end_time": "2022-07-27T10:59:08.118577",
     "exception": false,
     "start_time": "2022-07-27T10:59:07.960248",
     "status": "completed"
    },
    "tags": []
   },
   "outputs": [
    {
     "data": {
      "text/plain": [
       "<AxesSubplot:>"
      ]
     },
     "execution_count": 15,
     "metadata": {},
     "output_type": "execute_result"
    },
    {
     "data": {
      "image/png": "[encoded data removed]",
      "text/plain": [
       "<Figure size 432x288 with 1 Axes>"
      ]
     },
     "metadata": {
      "needs_background": "light"
     },
     "output_type": "display_data"
    }
   ],
   "source": [
    "# UNIVARIATE OUTLIER DETECTION USING BOX PLOT\n",
    "\n",
    "df['Age'].plot.box()"
   ]
  },
  {
   "cell_type": "code",
   "execution_count": 16,
   "id": "e4e9e522",
   "metadata": {
    "execution": {
     "iopub.execute_input": "2022-07-27T10:59:08.183480Z",
     "iopub.status.busy": "2022-07-27T10:59:08.182738Z",
     "iopub.status.idle": "2022-07-27T10:59:08.386766Z",
     "shell.execute_reply": "2022-07-27T10:59:08.385889Z"
    },
    "papermill": {
     "duration": 0.232034,
     "end_time": "2022-07-27T10:59:08.388953",
     "exception": false,
     "start_time": "2022-07-27T10:59:08.156919",
     "status": "completed"
    },
    "tags": []
   },
   "outputs": [
    {
     "data": {
      "text/plain": [
       "<AxesSubplot:xlabel='Age', ylabel='Fare'>"
      ]
     },
     "execution_count": 16,
     "metadata": {},
     "output_type": "execute_result"
    },
    {
     "data": {
      "image/png": "[encoded data removed]",
      "text/plain": [
       "<Figure size 432x288 with 1 Axes>"
      ]
     },
     "metadata": {
      "needs_background": "light"
     },
     "output_type": "display_data"
    }
   ],
   "source": [
    "# BIVARIATE OUTLIER DETECTION USING SCATTER PLOT\n",
    "\n",
    "df.plot.scatter('Age', 'Fare')"
   ]
  },
  {
   "cell_type": "code",
   "execution_count": 17,
   "id": "82073cca",
   "metadata": {
    "execution": {
     "iopub.execute_input": "2022-07-27T10:59:08.438865Z",
     "iopub.status.busy": "2022-07-27T10:59:08.438191Z",
     "iopub.status.idle": "2022-07-27T10:59:08.444098Z",
     "shell.execute_reply": "2022-07-27T10:59:08.443337Z"
    },
    "papermill": {
     "duration": 0.033174,
     "end_time": "2022-07-27T10:59:08.446355",
     "exception": false,
     "start_time": "2022-07-27T10:59:08.413181",
     "status": "completed"
    },
    "tags": []
   },
   "outputs": [],
   "source": [
    "# Treating null values\n",
    "\n",
    "df['Fare']=df['Fare'].fillna(df['Fare'].mean())\n",
    "df['Age']=df['Age'].fillna(df['Age'].mean())"
   ]
  },
  {
   "cell_type": "code",
   "execution_count": 18,
   "id": "20330576",
   "metadata": {
    "execution": {
     "iopub.execute_input": "2022-07-27T10:59:08.495875Z",
     "iopub.status.busy": "2022-07-27T10:59:08.495336Z",
     "iopub.status.idle": "2022-07-27T10:59:08.503098Z",
     "shell.execute_reply": "2022-07-27T10:59:08.502253Z"
    },
    "papermill": {
     "duration": 0.034644,
     "end_time": "2022-07-27T10:59:08.505306",
     "exception": false,
     "start_time": "2022-07-27T10:59:08.470662",
     "status": "completed"
    },
    "tags": []
   },
   "outputs": [],
   "source": [
    "#replacing outliers in Fare with the mean Fare value\n",
    "\n",
    "median = float(df['Fare'].median())\n",
    "df[\"Fare\"] = np.where(df[\"Fare\"] > 300, median, df['Fare'])\n",
    "\n"
   ]
  },
  {
   "cell_type": "code",
   "execution_count": 19,
   "id": "3b0d5884",
   "metadata": {
    "execution": {
     "iopub.execute_input": "2022-07-27T10:59:08.554532Z",
     "iopub.status.busy": "2022-07-27T10:59:08.553564Z",
     "iopub.status.idle": "2022-07-27T10:59:08.759070Z",
     "shell.execute_reply": "2022-07-27T10:59:08.757810Z"
    },
    "papermill": {
     "duration": 0.232718,
     "end_time": "2022-07-27T10:59:08.761834",
     "exception": false,
     "start_time": "2022-07-27T10:59:08.529116",
     "status": "completed"
    },
    "tags": []
   },
   "outputs": [
    {
     "data": {
      "text/plain": [
       "<AxesSubplot:xlabel='Age', ylabel='Fare'>"
      ]
     },
     "execution_count": 19,
     "metadata": {},
     "output_type": "execute_result"
    },
    {
     "data": {
      "image/png": "[encoded data removed]",
      "text/plain": [
       "<Figure size 432x288 with 1 Axes>"
      ]
     },
     "metadata": {
      "needs_background": "light"
     },
     "output_type": "display_data"
    }
   ],
   "source": [
    "df.plot.scatter('Age', 'Fare')"
   ]
  },
  {
   "cell_type": "code",
   "execution_count": 20,
   "id": "b6758d1a",
   "metadata": {
    "execution": {
     "iopub.execute_input": "2022-07-27T10:59:08.813138Z",
     "iopub.status.busy": "2022-07-27T10:59:08.812734Z",
     "iopub.status.idle": "2022-07-27T10:59:08.819553Z",
     "shell.execute_reply": "2022-07-27T10:59:08.818570Z"
    },
    "papermill": {
     "duration": 0.03471,
     "end_time": "2022-07-27T10:59:08.821949",
     "exception": false,
     "start_time": "2022-07-27T10:59:08.787239",
     "status": "completed"
    },
    "tags": []
   },
   "outputs": [
    {
     "name": "stdout",
     "output_type": "stream",
     "text": [
      "0    S\n",
      "dtype: object\n"
     ]
    }
   ],
   "source": [
    "# Finding the mode value of the “Embarked” column as it will have occurred the maximum number of times\n",
    "\n",
    "print(df['Embarked'].mode())"
   ]
  },
  {
   "cell_type": "code",
   "execution_count": 21,
   "id": "2495d408",
   "metadata": {
    "execution": {
     "iopub.execute_input": "2022-07-27T10:59:08.872648Z",
     "iopub.status.busy": "2022-07-27T10:59:08.871940Z",
     "iopub.status.idle": "2022-07-27T10:59:08.877419Z",
     "shell.execute_reply": "2022-07-27T10:59:08.876588Z"
    },
    "papermill": {
     "duration": 0.033413,
     "end_time": "2022-07-27T10:59:08.879539",
     "exception": false,
     "start_time": "2022-07-27T10:59:08.846126",
     "status": "completed"
    },
    "tags": []
   },
   "outputs": [],
   "source": [
    "# replacing with mode\n",
    "\n",
    "df['Embarked'].fillna(df['Embarked'].mode()[0], inplace=True)"
   ]
  },
  {
   "cell_type": "code",
   "execution_count": 22,
   "id": "57d5052d",
   "metadata": {
    "execution": {
     "iopub.execute_input": "2022-07-27T10:59:08.929860Z",
     "iopub.status.busy": "2022-07-27T10:59:08.929497Z",
     "iopub.status.idle": "2022-07-27T10:59:08.938156Z",
     "shell.execute_reply": "2022-07-27T10:59:08.937365Z"
    },
    "papermill": {
     "duration": 0.036492,
     "end_time": "2022-07-27T10:59:08.940069",
     "exception": false,
     "start_time": "2022-07-27T10:59:08.903577",
     "status": "completed"
    },
    "tags": []
   },
   "outputs": [
    {
     "data": {
      "text/plain": [
       "Survived    0\n",
       "Pclass      0\n",
       "Sex         0\n",
       "Age         0\n",
       "SibSp       0\n",
       "Parch       0\n",
       "Fare        0\n",
       "Embarked    0\n",
       "dtype: int64"
      ]
     },
     "execution_count": 22,
     "metadata": {},
     "output_type": "execute_result"
    }
   ],
   "source": [
    "# checking again\n",
    "df.isna().sum()"
   ]
  },
  {
   "cell_type": "code",
   "execution_count": 23,
   "id": "a4e35525",
   "metadata": {
    "execution": {
     "iopub.execute_input": "2022-07-27T10:59:08.990964Z",
     "iopub.status.busy": "2022-07-27T10:59:08.990284Z",
     "iopub.status.idle": "2022-07-27T10:59:09.005964Z",
     "shell.execute_reply": "2022-07-27T10:59:09.004775Z"
    },
    "papermill": {
     "duration": 0.044733,
     "end_time": "2022-07-27T10:59:09.009347",
     "exception": false,
     "start_time": "2022-07-27T10:59:08.964614",
     "status": "completed"
    },
    "tags": []
   },
   "outputs": [
    {
     "name": "stdout",
     "output_type": "stream",
     "text": [
      "<class 'pandas.core.frame.DataFrame'>\n",
      "RangeIndex: 891 entries, 0 to 890\n",
      "Data columns (total 8 columns):\n",
      " #   Column    Non-Null Count  Dtype  \n",
      "---  ------    --------------  -----  \n",
      " 0   Survived  891 non-null    int64  \n",
      " 1   Pclass    891 non-null    int64  \n",
      " 2   Sex       891 non-null    object \n",
      " 3   Age       891 non-null    float64\n",
      " 4   SibSp     891 non-null    int64  \n",
      " 5   Parch     891 non-null    int64  \n",
      " 6   Fare      891 non-null    float64\n",
      " 7   Embarked  891 non-null    object \n",
      "dtypes: float64(2), int64(4), object(2)\n",
      "memory usage: 55.8+ KB\n"
     ]
    }
   ],
   "source": [
    "df.info()"
   ]
  },
  {
   "cell_type": "markdown",
   "id": "f1a6665b",
   "metadata": {
    "papermill": {
     "duration": 0.024187,
     "end_time": "2022-07-27T10:59:09.058587",
     "exception": false,
     "start_time": "2022-07-27T10:59:09.034400",
     "status": "completed"
    },
    "tags": []
   },
   "source": [
    "**Encoding Categorical Data**"
   ]
  },
  {
   "cell_type": "code",
   "execution_count": 24,
   "id": "0019e5d2",
   "metadata": {
    "execution": {
     "iopub.execute_input": "2022-07-27T10:59:09.108957Z",
     "iopub.status.busy": "2022-07-27T10:59:09.108599Z",
     "iopub.status.idle": "2022-07-27T10:59:09.126226Z",
     "shell.execute_reply": "2022-07-27T10:59:09.124987Z"
    },
    "papermill": {
     "duration": 0.046042,
     "end_time": "2022-07-27T10:59:09.128672",
     "exception": false,
     "start_time": "2022-07-27T10:59:09.082630",
     "status": "completed"
    },
    "tags": []
   },
   "outputs": [
    {
     "data": {
      "text/html": [
       "<div>\n",
       "<style scoped>\n",
       "    .dataframe tbody tr th:only-of-type {\n",
       "        vertical-align: middle;\n",
       "    }\n",
       "\n",
       "    .dataframe tbody tr th {\n",
       "        vertical-align: top;\n",
       "    }\n",
       "\n",
       "    .dataframe thead th {\n",
       "        text-align: right;\n",
       "    }\n",
       "</style>\n",
       "<table border=\"1\" class=\"dataframe\">\n",
       "  <thead>\n",
       "    <tr style=\"text-align: right;\">\n",
       "      <th></th>\n",
       "      <th>Survived</th>\n",
       "      <th>Pclass</th>\n",
       "      <th>Sex</th>\n",
       "      <th>Age</th>\n",
       "      <th>SibSp</th>\n",
       "      <th>Parch</th>\n",
       "      <th>Fare</th>\n",
       "      <th>Embarked</th>\n",
       "    </tr>\n",
       "  </thead>\n",
       "  <tbody>\n",
       "    <tr>\n",
       "      <th>0</th>\n",
       "      <td>0</td>\n",
       "      <td>3</td>\n",
       "      <td>1</td>\n",
       "      <td>22.0</td>\n",
       "      <td>1</td>\n",
       "      <td>0</td>\n",
       "      <td>7.2500</td>\n",
       "      <td>0</td>\n",
       "    </tr>\n",
       "    <tr>\n",
       "      <th>1</th>\n",
       "      <td>1</td>\n",
       "      <td>1</td>\n",
       "      <td>0</td>\n",
       "      <td>38.0</td>\n",
       "      <td>1</td>\n",
       "      <td>0</td>\n",
       "      <td>71.2833</td>\n",
       "      <td>1</td>\n",
       "    </tr>\n",
       "    <tr>\n",
       "      <th>2</th>\n",
       "      <td>1</td>\n",
       "      <td>3</td>\n",
       "      <td>0</td>\n",
       "      <td>26.0</td>\n",
       "      <td>0</td>\n",
       "      <td>0</td>\n",
       "      <td>7.9250</td>\n",
       "      <td>0</td>\n",
       "    </tr>\n",
       "    <tr>\n",
       "      <th>3</th>\n",
       "      <td>1</td>\n",
       "      <td>1</td>\n",
       "      <td>0</td>\n",
       "      <td>35.0</td>\n",
       "      <td>1</td>\n",
       "      <td>0</td>\n",
       "      <td>53.1000</td>\n",
       "      <td>0</td>\n",
       "    </tr>\n",
       "    <tr>\n",
       "      <th>4</th>\n",
       "      <td>0</td>\n",
       "      <td>3</td>\n",
       "      <td>1</td>\n",
       "      <td>35.0</td>\n",
       "      <td>0</td>\n",
       "      <td>0</td>\n",
       "      <td>8.0500</td>\n",
       "      <td>0</td>\n",
       "    </tr>\n",
       "  </tbody>\n",
       "</table>\n",
       "</div>"
      ],
      "text/plain": [
       "   Survived  Pclass  Sex   Age  SibSp  Parch     Fare Embarked\n",
       "0         0       3    1  22.0      1      0   7.2500        0\n",
       "1         1       1    0  38.0      1      0  71.2833        1\n",
       "2         1       3    0  26.0      0      0   7.9250        0\n",
       "3         1       1    0  35.0      1      0  53.1000        0\n",
       "4         0       3    1  35.0      0      0   8.0500        0"
      ]
     },
     "execution_count": 24,
     "metadata": {},
     "output_type": "execute_result"
    }
   ],
   "source": [
    "#Converting the categorical features 'Sex' and 'Embarked' into numerical values 0 & 1\n",
    "df.Sex=df.Sex.map({'female':0, 'male':1})\n",
    "df.Embarked=df.Embarked.map({'S':0, 'C':1, 'Q':2,'nan':'NaN'})\n",
    "df.head()"
   ]
  },
  {
   "cell_type": "markdown",
   "id": "1d57b807",
   "metadata": {
    "papermill": {
     "duration": 0.024578,
     "end_time": "2022-07-27T10:59:09.178001",
     "exception": false,
     "start_time": "2022-07-27T10:59:09.153423",
     "status": "completed"
    },
    "tags": []
   },
   "source": [
    "# **Splitting data into Test set & Training Set**\n",
    "1.Clean and adjust data for X and y\n",
    "\n",
    "2.Split Data in Train/Test for X and y\n",
    "\n",
    "3.Fit/Train Scaler on Training X\n",
    "\n",
    "4.Scale X\n",
    "\n",
    "5.Create Model\n",
    "\n",
    "6.Fit/Train Model on X Train\n",
    "\n",
    "7.Evaluate Model on X Test by comparing to Y Test\n",
    "\n",
    "8.Adjust Parameters as Necessary and repeat 6 and 7"
   ]
  },
  {
   "cell_type": "code",
   "execution_count": 25,
   "id": "3b85c8f2",
   "metadata": {
    "execution": {
     "iopub.execute_input": "2022-07-27T10:59:09.231381Z",
     "iopub.status.busy": "2022-07-27T10:59:09.230028Z",
     "iopub.status.idle": "2022-07-27T10:59:09.237283Z",
     "shell.execute_reply": "2022-07-27T10:59:09.236354Z"
    },
    "papermill": {
     "duration": 0.036477,
     "end_time": "2022-07-27T10:59:09.239538",
     "exception": false,
     "start_time": "2022-07-27T10:59:09.203061",
     "status": "completed"
    },
    "tags": []
   },
   "outputs": [],
   "source": [
    "X = df.drop('Survived', axis=1)\n",
    "y = df['Survived']\n",
    "X=X.values"
   ]
  },
  {
   "cell_type": "code",
   "execution_count": 26,
   "id": "bf733cfd",
   "metadata": {
    "execution": {
     "iopub.execute_input": "2022-07-27T10:59:09.291513Z",
     "iopub.status.busy": "2022-07-27T10:59:09.291094Z",
     "iopub.status.idle": "2022-07-27T10:59:09.296954Z",
     "shell.execute_reply": "2022-07-27T10:59:09.296176Z"
    },
    "papermill": {
     "duration": 0.035137,
     "end_time": "2022-07-27T10:59:09.299230",
     "exception": false,
     "start_time": "2022-07-27T10:59:09.264093",
     "status": "completed"
    },
    "tags": []
   },
   "outputs": [
    {
     "data": {
      "text/plain": [
       "array([[3, 1, 22.0, ..., 0, 7.25, 0],\n",
       "       [1, 0, 38.0, ..., 0, 71.2833, 1],\n",
       "       [3, 0, 26.0, ..., 0, 7.925, 0],\n",
       "       ...,\n",
       "       [3, 0, 29.69911764705882, ..., 2, 23.45, 0],\n",
       "       [1, 1, 26.0, ..., 0, 30.0, 1],\n",
       "       [3, 1, 32.0, ..., 0, 7.75, 2]], dtype=object)"
      ]
     },
     "execution_count": 26,
     "metadata": {},
     "output_type": "execute_result"
    }
   ],
   "source": [
    "X"
   ]
  },
  {
   "cell_type": "code",
   "execution_count": null,
   "id": "9547d061",
   "metadata": {
    "papermill": {
     "duration": 0.024221,
     "end_time": "2022-07-27T10:59:09.348140",
     "exception": false,
     "start_time": "2022-07-27T10:59:09.323919",
     "status": "completed"
    },
    "tags": []
   },
   "outputs": [],
   "source": []
  },
  {
   "cell_type": "code",
   "execution_count": 27,
   "id": "8d6f794b",
   "metadata": {
    "execution": {
     "iopub.execute_input": "2022-07-27T10:59:09.399760Z",
     "iopub.status.busy": "2022-07-27T10:59:09.398789Z",
     "iopub.status.idle": "2022-07-27T10:59:10.600757Z",
     "shell.execute_reply": "2022-07-27T10:59:10.599546Z"
    },
    "papermill": {
     "duration": 1.230642,
     "end_time": "2022-07-27T10:59:10.603580",
     "exception": false,
     "start_time": "2022-07-27T10:59:09.372938",
     "status": "completed"
    },
    "tags": []
   },
   "outputs": [],
   "source": [
    "# Split Data in Train/Test for X and y\n",
    "from sklearn.model_selection import train_test_split\n",
    "X_train, X_test, y_train, y_test = train_test_split(X, y, test_size = 0.3, random_state = 42)"
   ]
  },
  {
   "cell_type": "code",
   "execution_count": 28,
   "id": "e824c1a2",
   "metadata": {
    "execution": {
     "iopub.execute_input": "2022-07-27T10:59:10.654507Z",
     "iopub.status.busy": "2022-07-27T10:59:10.653814Z",
     "iopub.status.idle": "2022-07-27T10:59:10.663819Z",
     "shell.execute_reply": "2022-07-27T10:59:10.662989Z"
    },
    "papermill": {
     "duration": 0.037912,
     "end_time": "2022-07-27T10:59:10.666005",
     "exception": false,
     "start_time": "2022-07-27T10:59:10.628093",
     "status": "completed"
    },
    "tags": []
   },
   "outputs": [
    {
     "data": {
      "text/plain": [
       "StandardScaler()"
      ]
     },
     "execution_count": 28,
     "metadata": {},
     "output_type": "execute_result"
    }
   ],
   "source": [
    "# Fit/Train Scaler on Training X\n",
    "from sklearn.preprocessing import StandardScaler\n",
    "\n",
    "scaler = StandardScaler()\n",
    "scaler.fit(X_train)"
   ]
  },
  {
   "cell_type": "code",
   "execution_count": 29,
   "id": "07033db3",
   "metadata": {
    "execution": {
     "iopub.execute_input": "2022-07-27T10:59:10.717545Z",
     "iopub.status.busy": "2022-07-27T10:59:10.716701Z",
     "iopub.status.idle": "2022-07-27T10:59:10.723190Z",
     "shell.execute_reply": "2022-07-27T10:59:10.722023Z"
    },
    "papermill": {
     "duration": 0.034599,
     "end_time": "2022-07-27T10:59:10.725454",
     "exception": false,
     "start_time": "2022-07-27T10:59:10.690855",
     "status": "completed"
    },
    "tags": []
   },
   "outputs": [],
   "source": [
    "# Scale X\n",
    "X_train = scaler.transform(X_train)\n",
    "X_test = scaler.transform(X_test)"
   ]
  },
  {
   "cell_type": "markdown",
   "id": "b67eaf90",
   "metadata": {
    "papermill": {
     "duration": 0.025355,
     "end_time": "2022-07-27T10:59:10.776316",
     "exception": false,
     "start_time": "2022-07-27T10:59:10.750961",
     "status": "completed"
    },
    "tags": []
   },
   "source": [
    "**01. Logistic Regression**"
   ]
  },
  {
   "cell_type": "code",
   "execution_count": 30,
   "id": "b3ae88ef",
   "metadata": {
    "execution": {
     "iopub.execute_input": "2022-07-27T10:59:10.829114Z",
     "iopub.status.busy": "2022-07-27T10:59:10.828435Z",
     "iopub.status.idle": "2022-07-27T10:59:10.928087Z",
     "shell.execute_reply": "2022-07-27T10:59:10.926975Z"
    },
    "papermill": {
     "duration": 0.128165,
     "end_time": "2022-07-27T10:59:10.930438",
     "exception": false,
     "start_time": "2022-07-27T10:59:10.802273",
     "status": "completed"
    },
    "tags": []
   },
   "outputs": [
    {
     "data": {
      "text/plain": [
       "LogisticRegression()"
      ]
     },
     "execution_count": 30,
     "metadata": {},
     "output_type": "execute_result"
    }
   ],
   "source": [
    "from sklearn.linear_model import LogisticRegression\n",
    "classifier_logr = LogisticRegression()\n",
    "classifier_logr.fit(X_train, y_train)"
   ]
  },
  {
   "cell_type": "code",
   "execution_count": 31,
   "id": "08cd4f56",
   "metadata": {
    "execution": {
     "iopub.execute_input": "2022-07-27T10:59:10.983737Z",
     "iopub.status.busy": "2022-07-27T10:59:10.982671Z",
     "iopub.status.idle": "2022-07-27T10:59:10.988848Z",
     "shell.execute_reply": "2022-07-27T10:59:10.987881Z"
    },
    "papermill": {
     "duration": 0.035656,
     "end_time": "2022-07-27T10:59:10.991244",
     "exception": false,
     "start_time": "2022-07-27T10:59:10.955588",
     "status": "completed"
    },
    "tags": []
   },
   "outputs": [],
   "source": [
    "y_pred = classifier_logr.predict(X_test)"
   ]
  },
  {
   "cell_type": "code",
   "execution_count": 32,
   "id": "802b9d7d",
   "metadata": {
    "execution": {
     "iopub.execute_input": "2022-07-27T10:59:11.045572Z",
     "iopub.status.busy": "2022-07-27T10:59:11.044726Z",
     "iopub.status.idle": "2022-07-27T10:59:11.052862Z",
     "shell.execute_reply": "2022-07-27T10:59:11.051735Z"
    },
    "papermill": {
     "duration": 0.037658,
     "end_time": "2022-07-27T10:59:11.055094",
     "exception": false,
     "start_time": "2022-07-27T10:59:11.017436",
     "status": "completed"
    },
    "tags": []
   },
   "outputs": [
    {
     "data": {
      "text/plain": [
       "0.23107821196993172"
      ]
     },
     "execution_count": 32,
     "metadata": {},
     "output_type": "execute_result"
    }
   ],
   "source": [
    "# Model Performance Evaluation for Logistic Regression\n",
    "\n",
    "from sklearn.metrics import r2_score\n",
    "r2_score(y_test, y_pred)"
   ]
  },
  {
   "cell_type": "code",
   "execution_count": 33,
   "id": "aa21713a",
   "metadata": {
    "execution": {
     "iopub.execute_input": "2022-07-27T10:59:11.106637Z",
     "iopub.status.busy": "2022-07-27T10:59:11.106023Z",
     "iopub.status.idle": "2022-07-27T10:59:11.113570Z",
     "shell.execute_reply": "2022-07-27T10:59:11.112410Z"
    },
    "papermill": {
     "duration": 0.03602,
     "end_time": "2022-07-27T10:59:11.115918",
     "exception": false,
     "start_time": "2022-07-27T10:59:11.079898",
     "status": "completed"
    },
    "tags": []
   },
   "outputs": [
    {
     "data": {
      "text/plain": [
       "0.8134328358208955"
      ]
     },
     "execution_count": 33,
     "metadata": {},
     "output_type": "execute_result"
    }
   ],
   "source": [
    "from sklearn.metrics import accuracy_score\n",
    "accuracy_score(y_test, y_pred)"
   ]
  },
  {
   "cell_type": "markdown",
   "id": "7650dfd1",
   "metadata": {
    "papermill": {
     "duration": 0.024717,
     "end_time": "2022-07-27T10:59:11.166894",
     "exception": false,
     "start_time": "2022-07-27T10:59:11.142177",
     "status": "completed"
    },
    "tags": []
   },
   "source": [
    "**02. K-Nearest**"
   ]
  },
  {
   "cell_type": "code",
   "execution_count": 34,
   "id": "6b818421",
   "metadata": {
    "execution": {
     "iopub.execute_input": "2022-07-27T10:59:11.218605Z",
     "iopub.status.busy": "2022-07-27T10:59:11.218193Z",
     "iopub.status.idle": "2022-07-27T10:59:11.282358Z",
     "shell.execute_reply": "2022-07-27T10:59:11.281226Z"
    },
    "papermill": {
     "duration": 0.093457,
     "end_time": "2022-07-27T10:59:11.285098",
     "exception": false,
     "start_time": "2022-07-27T10:59:11.191641",
     "status": "completed"
    },
    "tags": []
   },
   "outputs": [
    {
     "data": {
      "text/plain": [
       "KNeighborsClassifier()"
      ]
     },
     "execution_count": 34,
     "metadata": {},
     "output_type": "execute_result"
    }
   ],
   "source": [
    "from sklearn.neighbors import KNeighborsClassifier\n",
    "classifier_knn = KNeighborsClassifier(n_neighbors=5, metric = 'minkowski', p = 2)\n",
    "classifier_knn.fit(X_train, y_train)"
   ]
  },
  {
   "cell_type": "code",
   "execution_count": 35,
   "id": "388efb05",
   "metadata": {
    "execution": {
     "iopub.execute_input": "2022-07-27T10:59:11.337534Z",
     "iopub.status.busy": "2022-07-27T10:59:11.336581Z",
     "iopub.status.idle": "2022-07-27T10:59:11.354350Z",
     "shell.execute_reply": "2022-07-27T10:59:11.353264Z"
    },
    "papermill": {
     "duration": 0.046876,
     "end_time": "2022-07-27T10:59:11.357249",
     "exception": false,
     "start_time": "2022-07-27T10:59:11.310373",
     "status": "completed"
    },
    "tags": []
   },
   "outputs": [],
   "source": [
    "y_pred = classifier_knn.predict(X_test)"
   ]
  },
  {
   "cell_type": "code",
   "execution_count": 36,
   "id": "3b8a1764",
   "metadata": {
    "execution": {
     "iopub.execute_input": "2022-07-27T10:59:11.422857Z",
     "iopub.status.busy": "2022-07-27T10:59:11.422485Z",
     "iopub.status.idle": "2022-07-27T10:59:11.434466Z",
     "shell.execute_reply": "2022-07-27T10:59:11.433236Z"
    },
    "papermill": {
     "duration": 0.053414,
     "end_time": "2022-07-27T10:59:11.436610",
     "exception": false,
     "start_time": "2022-07-27T10:59:11.383196",
     "status": "completed"
    },
    "tags": []
   },
   "outputs": [
    {
     "name": "stdout",
     "output_type": "stream",
     "text": [
      "[[137  20]\n",
      " [ 32  79]]\n"
     ]
    },
    {
     "data": {
      "text/plain": [
       "0.8059701492537313"
      ]
     },
     "execution_count": 36,
     "metadata": {},
     "output_type": "execute_result"
    }
   ],
   "source": [
    "# Model Performance Evaluation for K Nearest\n",
    "\n",
    "from sklearn.metrics import confusion_matrix, accuracy_score\n",
    "cm = confusion_matrix(y_test, y_pred)\n",
    "print(cm)\n",
    "accuracy_score(y_test, y_pred)"
   ]
  },
  {
   "cell_type": "markdown",
   "id": "f6bf028f",
   "metadata": {
    "papermill": {
     "duration": 0.025253,
     "end_time": "2022-07-27T10:59:11.487013",
     "exception": false,
     "start_time": "2022-07-27T10:59:11.461760",
     "status": "completed"
    },
    "tags": []
   },
   "source": [
    "**03. Kernel SVM**"
   ]
  },
  {
   "cell_type": "code",
   "execution_count": 37,
   "id": "d3cc14c6",
   "metadata": {
    "execution": {
     "iopub.execute_input": "2022-07-27T10:59:11.539303Z",
     "iopub.status.busy": "2022-07-27T10:59:11.538612Z",
     "iopub.status.idle": "2022-07-27T10:59:11.559322Z",
     "shell.execute_reply": "2022-07-27T10:59:11.558391Z"
    },
    "papermill": {
     "duration": 0.049463,
     "end_time": "2022-07-27T10:59:11.561514",
     "exception": false,
     "start_time": "2022-07-27T10:59:11.512051",
     "status": "completed"
    },
    "tags": []
   },
   "outputs": [
    {
     "data": {
      "text/plain": [
       "SVC(random_state=42)"
      ]
     },
     "execution_count": 37,
     "metadata": {},
     "output_type": "execute_result"
    }
   ],
   "source": [
    "from sklearn.svm import SVC\n",
    "classifier_ksvm = SVC(kernel = 'rbf', random_state = 42)\n",
    "classifier_ksvm.fit(X_train, y_train)"
   ]
  },
  {
   "cell_type": "code",
   "execution_count": 38,
   "id": "d5d4c425",
   "metadata": {
    "execution": {
     "iopub.execute_input": "2022-07-27T10:59:11.614849Z",
     "iopub.status.busy": "2022-07-27T10:59:11.614076Z",
     "iopub.status.idle": "2022-07-27T10:59:11.623369Z",
     "shell.execute_reply": "2022-07-27T10:59:11.622409Z"
    },
    "papermill": {
     "duration": 0.038836,
     "end_time": "2022-07-27T10:59:11.625698",
     "exception": false,
     "start_time": "2022-07-27T10:59:11.586862",
     "status": "completed"
    },
    "tags": []
   },
   "outputs": [],
   "source": [
    "y_pred = classifier_ksvm.predict(X_test)"
   ]
  },
  {
   "cell_type": "code",
   "execution_count": 39,
   "id": "9a2b3062",
   "metadata": {
    "execution": {
     "iopub.execute_input": "2022-07-27T10:59:11.678373Z",
     "iopub.status.busy": "2022-07-27T10:59:11.677400Z",
     "iopub.status.idle": "2022-07-27T10:59:11.687455Z",
     "shell.execute_reply": "2022-07-27T10:59:11.686066Z"
    },
    "papermill": {
     "duration": 0.038918,
     "end_time": "2022-07-27T10:59:11.689955",
     "exception": false,
     "start_time": "2022-07-27T10:59:11.651037",
     "status": "completed"
    },
    "tags": []
   },
   "outputs": [
    {
     "name": "stdout",
     "output_type": "stream",
     "text": [
      "[[146  11]\n",
      " [ 38  73]]\n"
     ]
    },
    {
     "data": {
      "text/plain": [
       "0.8171641791044776"
      ]
     },
     "execution_count": 39,
     "metadata": {},
     "output_type": "execute_result"
    }
   ],
   "source": [
    "# Model Performance Evaluation for K SVM\n",
    "\n",
    "cm = confusion_matrix(y_test, y_pred)\n",
    "print(cm)\n",
    "accuracy_score(y_test, y_pred)"
   ]
  },
  {
   "cell_type": "markdown",
   "id": "c72c3051",
   "metadata": {
    "papermill": {
     "duration": 0.025418,
     "end_time": "2022-07-27T10:59:11.741323",
     "exception": false,
     "start_time": "2022-07-27T10:59:11.715905",
     "status": "completed"
    },
    "tags": []
   },
   "source": [
    "**04. Support Vector Machine**"
   ]
  },
  {
   "cell_type": "code",
   "execution_count": 40,
   "id": "61a2093f",
   "metadata": {
    "execution": {
     "iopub.execute_input": "2022-07-27T10:59:11.795467Z",
     "iopub.status.busy": "2022-07-27T10:59:11.794491Z",
     "iopub.status.idle": "2022-07-27T10:59:11.812115Z",
     "shell.execute_reply": "2022-07-27T10:59:11.810953Z"
    },
    "papermill": {
     "duration": 0.047759,
     "end_time": "2022-07-27T10:59:11.814698",
     "exception": false,
     "start_time": "2022-07-27T10:59:11.766939",
     "status": "completed"
    },
    "tags": []
   },
   "outputs": [
    {
     "data": {
      "text/plain": [
       "SVC(kernel='linear', random_state=0)"
      ]
     },
     "execution_count": 40,
     "metadata": {},
     "output_type": "execute_result"
    }
   ],
   "source": [
    "from sklearn.svm import SVC\n",
    "classifier_svm = SVC(kernel = 'linear', random_state = 0)\n",
    "classifier_svm.fit(X_train, y_train)"
   ]
  },
  {
   "cell_type": "code",
   "execution_count": 41,
   "id": "dfd46062",
   "metadata": {
    "execution": {
     "iopub.execute_input": "2022-07-27T10:59:11.868739Z",
     "iopub.status.busy": "2022-07-27T10:59:11.868351Z",
     "iopub.status.idle": "2022-07-27T10:59:11.875579Z",
     "shell.execute_reply": "2022-07-27T10:59:11.874467Z"
    },
    "papermill": {
     "duration": 0.037359,
     "end_time": "2022-07-27T10:59:11.878193",
     "exception": false,
     "start_time": "2022-07-27T10:59:11.840834",
     "status": "completed"
    },
    "tags": []
   },
   "outputs": [],
   "source": [
    "y_pred = classifier_svm.predict(X_test)"
   ]
  },
  {
   "cell_type": "code",
   "execution_count": 42,
   "id": "74cdd464",
   "metadata": {
    "execution": {
     "iopub.execute_input": "2022-07-27T10:59:11.931800Z",
     "iopub.status.busy": "2022-07-27T10:59:11.931037Z",
     "iopub.status.idle": "2022-07-27T10:59:11.942153Z",
     "shell.execute_reply": "2022-07-27T10:59:11.940881Z"
    },
    "papermill": {
     "duration": 0.040497,
     "end_time": "2022-07-27T10:59:11.944537",
     "exception": false,
     "start_time": "2022-07-27T10:59:11.904040",
     "status": "completed"
    },
    "tags": []
   },
   "outputs": [
    {
     "name": "stdout",
     "output_type": "stream",
     "text": [
      "[[134  23]\n",
      " [ 33  78]]\n"
     ]
    },
    {
     "data": {
      "text/plain": [
       "0.7910447761194029"
      ]
     },
     "execution_count": 42,
     "metadata": {},
     "output_type": "execute_result"
    }
   ],
   "source": [
    "# Model Performance Evaluation for SVM\n",
    "\n",
    "cm = confusion_matrix(y_test, y_pred)\n",
    "print(cm)\n",
    "accuracy_score(y_test, y_pred)"
   ]
  },
  {
   "cell_type": "markdown",
   "id": "9acfaa6e",
   "metadata": {
    "papermill": {
     "duration": 0.025387,
     "end_time": "2022-07-27T10:59:11.996227",
     "exception": false,
     "start_time": "2022-07-27T10:59:11.970840",
     "status": "completed"
    },
    "tags": []
   },
   "source": [
    "**05. NAIVE BAYES**"
   ]
  },
  {
   "cell_type": "code",
   "execution_count": 43,
   "id": "4b882bea",
   "metadata": {
    "execution": {
     "iopub.execute_input": "2022-07-27T10:59:12.050359Z",
     "iopub.status.busy": "2022-07-27T10:59:12.049546Z",
     "iopub.status.idle": "2022-07-27T10:59:12.060791Z",
     "shell.execute_reply": "2022-07-27T10:59:12.059522Z"
    },
    "papermill": {
     "duration": 0.040886,
     "end_time": "2022-07-27T10:59:12.063030",
     "exception": false,
     "start_time": "2022-07-27T10:59:12.022144",
     "status": "completed"
    },
    "tags": []
   },
   "outputs": [
    {
     "data": {
      "text/plain": [
       "GaussianNB()"
      ]
     },
     "execution_count": 43,
     "metadata": {},
     "output_type": "execute_result"
    }
   ],
   "source": [
    "from sklearn.naive_bayes import GaussianNB\n",
    "classifier_nb = GaussianNB()\n",
    "classifier_nb.fit(X_train, y_train)"
   ]
  },
  {
   "cell_type": "code",
   "execution_count": 44,
   "id": "2b0c1f5a",
   "metadata": {
    "execution": {
     "iopub.execute_input": "2022-07-27T10:59:12.117103Z",
     "iopub.status.busy": "2022-07-27T10:59:12.116075Z",
     "iopub.status.idle": "2022-07-27T10:59:12.121951Z",
     "shell.execute_reply": "2022-07-27T10:59:12.121100Z"
    },
    "papermill": {
     "duration": 0.034832,
     "end_time": "2022-07-27T10:59:12.124021",
     "exception": false,
     "start_time": "2022-07-27T10:59:12.089189",
     "status": "completed"
    },
    "tags": []
   },
   "outputs": [],
   "source": [
    "y_pred = classifier_nb.predict(X_test)"
   ]
  },
  {
   "cell_type": "code",
   "execution_count": 45,
   "id": "c8252293",
   "metadata": {
    "execution": {
     "iopub.execute_input": "2022-07-27T10:59:12.177899Z",
     "iopub.status.busy": "2022-07-27T10:59:12.177507Z",
     "iopub.status.idle": "2022-07-27T10:59:12.187527Z",
     "shell.execute_reply": "2022-07-27T10:59:12.186609Z"
    },
    "papermill": {
     "duration": 0.039716,
     "end_time": "2022-07-27T10:59:12.189794",
     "exception": false,
     "start_time": "2022-07-27T10:59:12.150078",
     "status": "completed"
    },
    "tags": []
   },
   "outputs": [
    {
     "name": "stdout",
     "output_type": "stream",
     "text": [
      "[[128  29]\n",
      " [ 28  83]]\n"
     ]
    },
    {
     "data": {
      "text/plain": [
       "0.7873134328358209"
      ]
     },
     "execution_count": 45,
     "metadata": {},
     "output_type": "execute_result"
    }
   ],
   "source": [
    "# Model Performance Evaluation for Naive Bayes\n",
    "\n",
    "cm = confusion_matrix(y_test, y_pred)\n",
    "print(cm)\n",
    "accuracy_score(y_test, y_pred)"
   ]
  },
  {
   "cell_type": "markdown",
   "id": "f833b0f7",
   "metadata": {
    "papermill": {
     "duration": 0.025906,
     "end_time": "2022-07-27T10:59:12.241904",
     "exception": false,
     "start_time": "2022-07-27T10:59:12.215998",
     "status": "completed"
    },
    "tags": []
   },
   "source": [
    "**06. DECISION TREE**"
   ]
  },
  {
   "cell_type": "code",
   "execution_count": 46,
   "id": "2f20ad0b",
   "metadata": {
    "execution": {
     "iopub.execute_input": "2022-07-27T10:59:12.296962Z",
     "iopub.status.busy": "2022-07-27T10:59:12.296272Z",
     "iopub.status.idle": "2022-07-27T10:59:12.340955Z",
     "shell.execute_reply": "2022-07-27T10:59:12.340111Z"
    },
    "papermill": {
     "duration": 0.075049,
     "end_time": "2022-07-27T10:59:12.343052",
     "exception": false,
     "start_time": "2022-07-27T10:59:12.268003",
     "status": "completed"
    },
    "tags": []
   },
   "outputs": [
    {
     "data": {
      "text/plain": [
       "DecisionTreeClassifier(criterion='entropy', random_state=21)"
      ]
     },
     "execution_count": 46,
     "metadata": {},
     "output_type": "execute_result"
    }
   ],
   "source": [
    "from sklearn.tree import DecisionTreeClassifier\n",
    "classifier_dtc = DecisionTreeClassifier(criterion = 'entropy', random_state = 21)\n",
    "classifier_dtc.fit(X_train, y_train)"
   ]
  },
  {
   "cell_type": "code",
   "execution_count": 47,
   "id": "19dddda6",
   "metadata": {
    "execution": {
     "iopub.execute_input": "2022-07-27T10:59:12.398243Z",
     "iopub.status.busy": "2022-07-27T10:59:12.397456Z",
     "iopub.status.idle": "2022-07-27T10:59:12.402420Z",
     "shell.execute_reply": "2022-07-27T10:59:12.401565Z"
    },
    "papermill": {
     "duration": 0.035001,
     "end_time": "2022-07-27T10:59:12.404478",
     "exception": false,
     "start_time": "2022-07-27T10:59:12.369477",
     "status": "completed"
    },
    "tags": []
   },
   "outputs": [],
   "source": [
    "y_pred = classifier_dtc.predict(X_test)"
   ]
  },
  {
   "cell_type": "code",
   "execution_count": 48,
   "id": "8c8cc59c",
   "metadata": {
    "execution": {
     "iopub.execute_input": "2022-07-27T10:59:12.459309Z",
     "iopub.status.busy": "2022-07-27T10:59:12.458246Z",
     "iopub.status.idle": "2022-07-27T10:59:12.467026Z",
     "shell.execute_reply": "2022-07-27T10:59:12.466183Z"
    },
    "papermill": {
     "duration": 0.039097,
     "end_time": "2022-07-27T10:59:12.469810",
     "exception": false,
     "start_time": "2022-07-27T10:59:12.430713",
     "status": "completed"
    },
    "tags": []
   },
   "outputs": [
    {
     "name": "stdout",
     "output_type": "stream",
     "text": [
      "[[133  24]\n",
      " [ 41  70]]\n"
     ]
    },
    {
     "data": {
      "text/plain": [
       "0.7574626865671642"
      ]
     },
     "execution_count": 48,
     "metadata": {},
     "output_type": "execute_result"
    }
   ],
   "source": [
    "# Model Performance Evaluation for Decision Tree\n",
    "\n",
    "cm = confusion_matrix(y_test, y_pred)\n",
    "print(cm)\n",
    "accuracy_score(y_test, y_pred)"
   ]
  },
  {
   "cell_type": "markdown",
   "id": "4222e949",
   "metadata": {
    "papermill": {
     "duration": 0.026021,
     "end_time": "2022-07-27T10:59:12.522503",
     "exception": false,
     "start_time": "2022-07-27T10:59:12.496482",
     "status": "completed"
    },
    "tags": []
   },
   "source": [
    "**TEST DATA SET**"
   ]
  },
  {
   "cell_type": "code",
   "execution_count": 49,
   "id": "207d4555",
   "metadata": {
    "execution": {
     "iopub.execute_input": "2022-07-27T10:59:12.578195Z",
     "iopub.status.busy": "2022-07-27T10:59:12.577374Z",
     "iopub.status.idle": "2022-07-27T10:59:12.582585Z",
     "shell.execute_reply": "2022-07-27T10:59:12.581253Z"
    },
    "papermill": {
     "duration": 0.035474,
     "end_time": "2022-07-27T10:59:12.585009",
     "exception": false,
     "start_time": "2022-07-27T10:59:12.549535",
     "status": "completed"
    },
    "tags": []
   },
   "outputs": [],
   "source": [
    "df1=test"
   ]
  },
  {
   "cell_type": "code",
   "execution_count": 50,
   "id": "60147e85",
   "metadata": {
    "execution": {
     "iopub.execute_input": "2022-07-27T10:59:12.639720Z",
     "iopub.status.busy": "2022-07-27T10:59:12.639307Z",
     "iopub.status.idle": "2022-07-27T10:59:12.656411Z",
     "shell.execute_reply": "2022-07-27T10:59:12.655271Z"
    },
    "papermill": {
     "duration": 0.047308,
     "end_time": "2022-07-27T10:59:12.658797",
     "exception": false,
     "start_time": "2022-07-27T10:59:12.611489",
     "status": "completed"
    },
    "tags": []
   },
   "outputs": [
    {
     "data": {
      "text/html": [
       "<div>\n",
       "<style scoped>\n",
       "    .dataframe tbody tr th:only-of-type {\n",
       "        vertical-align: middle;\n",
       "    }\n",
       "\n",
       "    .dataframe tbody tr th {\n",
       "        vertical-align: top;\n",
       "    }\n",
       "\n",
       "    .dataframe thead th {\n",
       "        text-align: right;\n",
       "    }\n",
       "</style>\n",
       "<table border=\"1\" class=\"dataframe\">\n",
       "  <thead>\n",
       "    <tr style=\"text-align: right;\">\n",
       "      <th></th>\n",
       "      <th>PassengerId</th>\n",
       "      <th>Pclass</th>\n",
       "      <th>Name</th>\n",
       "      <th>Sex</th>\n",
       "      <th>Age</th>\n",
       "      <th>SibSp</th>\n",
       "      <th>Parch</th>\n",
       "      <th>Ticket</th>\n",
       "      <th>Fare</th>\n",
       "      <th>Cabin</th>\n",
       "      <th>Embarked</th>\n",
       "    </tr>\n",
       "  </thead>\n",
       "  <tbody>\n",
       "    <tr>\n",
       "      <th>0</th>\n",
       "      <td>892</td>\n",
       "      <td>3</td>\n",
       "      <td>Kelly, Mr. James</td>\n",
       "      <td>male</td>\n",
       "      <td>34.5</td>\n",
       "      <td>0</td>\n",
       "      <td>0</td>\n",
       "      <td>330911</td>\n",
       "      <td>7.8292</td>\n",
       "      <td>NaN</td>\n",
       "      <td>Q</td>\n",
       "    </tr>\n",
       "    <tr>\n",
       "      <th>1</th>\n",
       "      <td>893</td>\n",
       "      <td>3</td>\n",
       "      <td>Wilkes, Mrs. James (Ellen Needs)</td>\n",
       "      <td>female</td>\n",
       "      <td>47.0</td>\n",
       "      <td>1</td>\n",
       "      <td>0</td>\n",
       "      <td>363272</td>\n",
       "      <td>7.0000</td>\n",
       "      <td>NaN</td>\n",
       "      <td>S</td>\n",
       "    </tr>\n",
       "    <tr>\n",
       "      <th>2</th>\n",
       "      <td>894</td>\n",
       "      <td>2</td>\n",
       "      <td>Myles, Mr. Thomas Francis</td>\n",
       "      <td>male</td>\n",
       "      <td>62.0</td>\n",
       "      <td>0</td>\n",
       "      <td>0</td>\n",
       "      <td>240276</td>\n",
       "      <td>9.6875</td>\n",
       "      <td>NaN</td>\n",
       "      <td>Q</td>\n",
       "    </tr>\n",
       "    <tr>\n",
       "      <th>3</th>\n",
       "      <td>895</td>\n",
       "      <td>3</td>\n",
       "      <td>Wirz, Mr. Albert</td>\n",
       "      <td>male</td>\n",
       "      <td>27.0</td>\n",
       "      <td>0</td>\n",
       "      <td>0</td>\n",
       "      <td>315154</td>\n",
       "      <td>8.6625</td>\n",
       "      <td>NaN</td>\n",
       "      <td>S</td>\n",
       "    </tr>\n",
       "    <tr>\n",
       "      <th>4</th>\n",
       "      <td>896</td>\n",
       "      <td>3</td>\n",
       "      <td>Hirvonen, Mrs. Alexander (Helga E Lindqvist)</td>\n",
       "      <td>female</td>\n",
       "      <td>22.0</td>\n",
       "      <td>1</td>\n",
       "      <td>1</td>\n",
       "      <td>3101298</td>\n",
       "      <td>12.2875</td>\n",
       "      <td>NaN</td>\n",
       "      <td>S</td>\n",
       "    </tr>\n",
       "  </tbody>\n",
       "</table>\n",
       "</div>"
      ],
      "text/plain": [
       "   PassengerId  Pclass                                          Name     Sex  \\\n",
       "0          892       3                              Kelly, Mr. James    male   \n",
       "1          893       3              Wilkes, Mrs. James (Ellen Needs)  female   \n",
       "2          894       2                     Myles, Mr. Thomas Francis    male   \n",
       "3          895       3                              Wirz, Mr. Albert    male   \n",
       "4          896       3  Hirvonen, Mrs. Alexander (Helga E Lindqvist)  female   \n",
       "\n",
       "    Age  SibSp  Parch   Ticket     Fare Cabin Embarked  \n",
       "0  34.5      0      0   330911   7.8292   NaN        Q  \n",
       "1  47.0      1      0   363272   7.0000   NaN        S  \n",
       "2  62.0      0      0   240276   9.6875   NaN        Q  \n",
       "3  27.0      0      0   315154   8.6625   NaN        S  \n",
       "4  22.0      1      1  3101298  12.2875   NaN        S  "
      ]
     },
     "execution_count": 50,
     "metadata": {},
     "output_type": "execute_result"
    }
   ],
   "source": [
    "df1.head()"
   ]
  },
  {
   "cell_type": "code",
   "execution_count": 51,
   "id": "f842ae7b",
   "metadata": {
    "execution": {
     "iopub.execute_input": "2022-07-27T10:59:12.714391Z",
     "iopub.status.busy": "2022-07-27T10:59:12.713941Z",
     "iopub.status.idle": "2022-07-27T10:59:12.723620Z",
     "shell.execute_reply": "2022-07-27T10:59:12.722523Z"
    },
    "papermill": {
     "duration": 0.040248,
     "end_time": "2022-07-27T10:59:12.725911",
     "exception": false,
     "start_time": "2022-07-27T10:59:12.685663",
     "status": "completed"
    },
    "tags": []
   },
   "outputs": [
    {
     "data": {
      "text/plain": [
       "PassengerId      0\n",
       "Pclass           0\n",
       "Name             0\n",
       "Sex              0\n",
       "Age             86\n",
       "SibSp            0\n",
       "Parch            0\n",
       "Ticket           0\n",
       "Fare             1\n",
       "Cabin          327\n",
       "Embarked         0\n",
       "dtype: int64"
      ]
     },
     "execution_count": 51,
     "metadata": {},
     "output_type": "execute_result"
    }
   ],
   "source": [
    "df1.isnull().sum()"
   ]
  },
  {
   "cell_type": "code",
   "execution_count": 52,
   "id": "7205b4d2",
   "metadata": {
    "execution": {
     "iopub.execute_input": "2022-07-27T10:59:12.782704Z",
     "iopub.status.busy": "2022-07-27T10:59:12.782336Z",
     "iopub.status.idle": "2022-07-27T10:59:12.983620Z",
     "shell.execute_reply": "2022-07-27T10:59:12.982672Z"
    },
    "papermill": {
     "duration": 0.232549,
     "end_time": "2022-07-27T10:59:12.985801",
     "exception": false,
     "start_time": "2022-07-27T10:59:12.753252",
     "status": "completed"
    },
    "tags": []
   },
   "outputs": [
    {
     "data": {
      "text/plain": [
       "<AxesSubplot:xlabel='Age', ylabel='Fare'>"
      ]
     },
     "execution_count": 52,
     "metadata": {},
     "output_type": "execute_result"
    },
    {
     "data": {
      "image/png": "[encoded data removed]",
      "text/plain": [
       "<Figure size 432x288 with 1 Axes>"
      ]
     },
     "metadata": {
      "needs_background": "light"
     },
     "output_type": "display_data"
    }
   ],
   "source": [
    "df1.plot.scatter('Age', 'Fare')"
   ]
  },
  {
   "cell_type": "code",
   "execution_count": 53,
   "id": "cdb27aaa",
   "metadata": {
    "execution": {
     "iopub.execute_input": "2022-07-27T10:59:13.042442Z",
     "iopub.status.busy": "2022-07-27T10:59:13.041594Z",
     "iopub.status.idle": "2022-07-27T10:59:13.048751Z",
     "shell.execute_reply": "2022-07-27T10:59:13.047967Z"
    },
    "papermill": {
     "duration": 0.037519,
     "end_time": "2022-07-27T10:59:13.050650",
     "exception": false,
     "start_time": "2022-07-27T10:59:13.013131",
     "status": "completed"
    },
    "tags": []
   },
   "outputs": [],
   "source": [
    "#removing fare outliers from dataset\n",
    "median = float(df1['Fare'].median())\n",
    "df1[\"Fare\"] = np.where(df1[\"Fare\"] > 300, median, df1['Fare'])\n",
    "\n",
    "\n"
   ]
  },
  {
   "cell_type": "code",
   "execution_count": 54,
   "id": "1b007045",
   "metadata": {
    "execution": {
     "iopub.execute_input": "2022-07-27T10:59:13.106997Z",
     "iopub.status.busy": "2022-07-27T10:59:13.106605Z",
     "iopub.status.idle": "2022-07-27T10:59:13.305573Z",
     "shell.execute_reply": "2022-07-27T10:59:13.304388Z"
    },
    "papermill": {
     "duration": 0.229901,
     "end_time": "2022-07-27T10:59:13.308048",
     "exception": false,
     "start_time": "2022-07-27T10:59:13.078147",
     "status": "completed"
    },
    "tags": []
   },
   "outputs": [
    {
     "data": {
      "text/plain": [
       "<AxesSubplot:xlabel='Age', ylabel='Fare'>"
      ]
     },
     "execution_count": 54,
     "metadata": {},
     "output_type": "execute_result"
    },
    {
     "data": {
      "image/png": "[encoded data removed]",
      "text/plain": [
       "<Figure size 432x288 with 1 Axes>"
      ]
     },
     "metadata": {
      "needs_background": "light"
     },
     "output_type": "display_data"
    }
   ],
   "source": [
    "#checking\n",
    "df1.plot.scatter('Age', 'Fare')"
   ]
  },
  {
   "cell_type": "code",
   "execution_count": 55,
   "id": "7e587f6e",
   "metadata": {
    "execution": {
     "iopub.execute_input": "2022-07-27T10:59:13.367158Z",
     "iopub.status.busy": "2022-07-27T10:59:13.366480Z",
     "iopub.status.idle": "2022-07-27T10:59:13.372759Z",
     "shell.execute_reply": "2022-07-27T10:59:13.371707Z"
    },
    "papermill": {
     "duration": 0.037871,
     "end_time": "2022-07-27T10:59:13.374816",
     "exception": false,
     "start_time": "2022-07-27T10:59:13.336945",
     "status": "completed"
    },
    "tags": []
   },
   "outputs": [],
   "source": [
    "df1['Age'].fillna(df1['Age'].mean(), inplace=True)\n",
    "df1['Fare'].fillna(df1['Fare'].mean(), inplace=True)"
   ]
  },
  {
   "cell_type": "code",
   "execution_count": 56,
   "id": "5540f684",
   "metadata": {
    "execution": {
     "iopub.execute_input": "2022-07-27T10:59:13.432747Z",
     "iopub.status.busy": "2022-07-27T10:59:13.432071Z",
     "iopub.status.idle": "2022-07-27T10:59:13.440215Z",
     "shell.execute_reply": "2022-07-27T10:59:13.439412Z"
    },
    "papermill": {
     "duration": 0.039257,
     "end_time": "2022-07-27T10:59:13.442103",
     "exception": false,
     "start_time": "2022-07-27T10:59:13.402846",
     "status": "completed"
    },
    "tags": []
   },
   "outputs": [
    {
     "data": {
      "text/plain": [
       "PassengerId      0\n",
       "Pclass           0\n",
       "Name             0\n",
       "Sex              0\n",
       "Age              0\n",
       "SibSp            0\n",
       "Parch            0\n",
       "Ticket           0\n",
       "Fare             0\n",
       "Cabin          327\n",
       "Embarked         0\n",
       "dtype: int64"
      ]
     },
     "execution_count": 56,
     "metadata": {},
     "output_type": "execute_result"
    }
   ],
   "source": [
    "df1.isnull().sum()"
   ]
  },
  {
   "cell_type": "code",
   "execution_count": 57,
   "id": "a48c6313",
   "metadata": {
    "execution": {
     "iopub.execute_input": "2022-07-27T10:59:13.500220Z",
     "iopub.status.busy": "2022-07-27T10:59:13.499528Z",
     "iopub.status.idle": "2022-07-27T10:59:13.505546Z",
     "shell.execute_reply": "2022-07-27T10:59:13.504517Z"
    },
    "papermill": {
     "duration": 0.037868,
     "end_time": "2022-07-27T10:59:13.507896",
     "exception": false,
     "start_time": "2022-07-27T10:59:13.470028",
     "status": "completed"
    },
    "tags": []
   },
   "outputs": [],
   "source": [
    "# dropping useless columns \n",
    "df1.drop(['Cabin','PassengerId','Name','Ticket'],axis=1,inplace=True)"
   ]
  },
  {
   "cell_type": "code",
   "execution_count": 58,
   "id": "b03df440",
   "metadata": {
    "execution": {
     "iopub.execute_input": "2022-07-27T10:59:13.566066Z",
     "iopub.status.busy": "2022-07-27T10:59:13.565381Z",
     "iopub.status.idle": "2022-07-27T10:59:13.578730Z",
     "shell.execute_reply": "2022-07-27T10:59:13.577610Z"
    },
    "papermill": {
     "duration": 0.045177,
     "end_time": "2022-07-27T10:59:13.581235",
     "exception": false,
     "start_time": "2022-07-27T10:59:13.536058",
     "status": "completed"
    },
    "tags": []
   },
   "outputs": [
    {
     "data": {
      "text/html": [
       "<div>\n",
       "<style scoped>\n",
       "    .dataframe tbody tr th:only-of-type {\n",
       "        vertical-align: middle;\n",
       "    }\n",
       "\n",
       "    .dataframe tbody tr th {\n",
       "        vertical-align: top;\n",
       "    }\n",
       "\n",
       "    .dataframe thead th {\n",
       "        text-align: right;\n",
       "    }\n",
       "</style>\n",
       "<table border=\"1\" class=\"dataframe\">\n",
       "  <thead>\n",
       "    <tr style=\"text-align: right;\">\n",
       "      <th></th>\n",
       "      <th>Pclass</th>\n",
       "      <th>Sex</th>\n",
       "      <th>Age</th>\n",
       "      <th>SibSp</th>\n",
       "      <th>Parch</th>\n",
       "      <th>Fare</th>\n",
       "      <th>Embarked</th>\n",
       "    </tr>\n",
       "  </thead>\n",
       "  <tbody>\n",
       "    <tr>\n",
       "      <th>0</th>\n",
       "      <td>3</td>\n",
       "      <td>male</td>\n",
       "      <td>34.5</td>\n",
       "      <td>0</td>\n",
       "      <td>0</td>\n",
       "      <td>7.8292</td>\n",
       "      <td>Q</td>\n",
       "    </tr>\n",
       "    <tr>\n",
       "      <th>1</th>\n",
       "      <td>3</td>\n",
       "      <td>female</td>\n",
       "      <td>47.0</td>\n",
       "      <td>1</td>\n",
       "      <td>0</td>\n",
       "      <td>7.0000</td>\n",
       "      <td>S</td>\n",
       "    </tr>\n",
       "    <tr>\n",
       "      <th>2</th>\n",
       "      <td>2</td>\n",
       "      <td>male</td>\n",
       "      <td>62.0</td>\n",
       "      <td>0</td>\n",
       "      <td>0</td>\n",
       "      <td>9.6875</td>\n",
       "      <td>Q</td>\n",
       "    </tr>\n",
       "    <tr>\n",
       "      <th>3</th>\n",
       "      <td>3</td>\n",
       "      <td>male</td>\n",
       "      <td>27.0</td>\n",
       "      <td>0</td>\n",
       "      <td>0</td>\n",
       "      <td>8.6625</td>\n",
       "      <td>S</td>\n",
       "    </tr>\n",
       "    <tr>\n",
       "      <th>4</th>\n",
       "      <td>3</td>\n",
       "      <td>female</td>\n",
       "      <td>22.0</td>\n",
       "      <td>1</td>\n",
       "      <td>1</td>\n",
       "      <td>12.2875</td>\n",
       "      <td>S</td>\n",
       "    </tr>\n",
       "  </tbody>\n",
       "</table>\n",
       "</div>"
      ],
      "text/plain": [
       "   Pclass     Sex   Age  SibSp  Parch     Fare Embarked\n",
       "0       3    male  34.5      0      0   7.8292        Q\n",
       "1       3  female  47.0      1      0   7.0000        S\n",
       "2       2    male  62.0      0      0   9.6875        Q\n",
       "3       3    male  27.0      0      0   8.6625        S\n",
       "4       3  female  22.0      1      1  12.2875        S"
      ]
     },
     "execution_count": 58,
     "metadata": {},
     "output_type": "execute_result"
    }
   ],
   "source": [
    "df1.head()"
   ]
  },
  {
   "cell_type": "code",
   "execution_count": 59,
   "id": "8131176d",
   "metadata": {
    "execution": {
     "iopub.execute_input": "2022-07-27T10:59:13.640329Z",
     "iopub.status.busy": "2022-07-27T10:59:13.639415Z",
     "iopub.status.idle": "2022-07-27T10:59:13.645441Z",
     "shell.execute_reply": "2022-07-27T10:59:13.644571Z"
    },
    "papermill": {
     "duration": 0.038066,
     "end_time": "2022-07-27T10:59:13.647460",
     "exception": false,
     "start_time": "2022-07-27T10:59:13.609394",
     "status": "completed"
    },
    "tags": []
   },
   "outputs": [],
   "source": [
    "df1['Embarked'].fillna(df1['Embarked'].mode()[0], inplace=True)"
   ]
  },
  {
   "cell_type": "code",
   "execution_count": 60,
   "id": "0d944d25",
   "metadata": {
    "execution": {
     "iopub.execute_input": "2022-07-27T10:59:13.705668Z",
     "iopub.status.busy": "2022-07-27T10:59:13.704990Z",
     "iopub.status.idle": "2022-07-27T10:59:13.721175Z",
     "shell.execute_reply": "2022-07-27T10:59:13.719973Z"
    },
    "papermill": {
     "duration": 0.048014,
     "end_time": "2022-07-27T10:59:13.723558",
     "exception": false,
     "start_time": "2022-07-27T10:59:13.675544",
     "status": "completed"
    },
    "tags": []
   },
   "outputs": [
    {
     "data": {
      "text/html": [
       "<div>\n",
       "<style scoped>\n",
       "    .dataframe tbody tr th:only-of-type {\n",
       "        vertical-align: middle;\n",
       "    }\n",
       "\n",
       "    .dataframe tbody tr th {\n",
       "        vertical-align: top;\n",
       "    }\n",
       "\n",
       "    .dataframe thead th {\n",
       "        text-align: right;\n",
       "    }\n",
       "</style>\n",
       "<table border=\"1\" class=\"dataframe\">\n",
       "  <thead>\n",
       "    <tr style=\"text-align: right;\">\n",
       "      <th></th>\n",
       "      <th>Pclass</th>\n",
       "      <th>Sex</th>\n",
       "      <th>Age</th>\n",
       "      <th>SibSp</th>\n",
       "      <th>Parch</th>\n",
       "      <th>Fare</th>\n",
       "      <th>Embarked</th>\n",
       "    </tr>\n",
       "  </thead>\n",
       "  <tbody>\n",
       "    <tr>\n",
       "      <th>0</th>\n",
       "      <td>3</td>\n",
       "      <td>1</td>\n",
       "      <td>34.5</td>\n",
       "      <td>0</td>\n",
       "      <td>0</td>\n",
       "      <td>7.8292</td>\n",
       "      <td>2</td>\n",
       "    </tr>\n",
       "    <tr>\n",
       "      <th>1</th>\n",
       "      <td>3</td>\n",
       "      <td>0</td>\n",
       "      <td>47.0</td>\n",
       "      <td>1</td>\n",
       "      <td>0</td>\n",
       "      <td>7.0000</td>\n",
       "      <td>0</td>\n",
       "    </tr>\n",
       "    <tr>\n",
       "      <th>2</th>\n",
       "      <td>2</td>\n",
       "      <td>1</td>\n",
       "      <td>62.0</td>\n",
       "      <td>0</td>\n",
       "      <td>0</td>\n",
       "      <td>9.6875</td>\n",
       "      <td>2</td>\n",
       "    </tr>\n",
       "    <tr>\n",
       "      <th>3</th>\n",
       "      <td>3</td>\n",
       "      <td>1</td>\n",
       "      <td>27.0</td>\n",
       "      <td>0</td>\n",
       "      <td>0</td>\n",
       "      <td>8.6625</td>\n",
       "      <td>0</td>\n",
       "    </tr>\n",
       "    <tr>\n",
       "      <th>4</th>\n",
       "      <td>3</td>\n",
       "      <td>0</td>\n",
       "      <td>22.0</td>\n",
       "      <td>1</td>\n",
       "      <td>1</td>\n",
       "      <td>12.2875</td>\n",
       "      <td>0</td>\n",
       "    </tr>\n",
       "  </tbody>\n",
       "</table>\n",
       "</div>"
      ],
      "text/plain": [
       "   Pclass  Sex   Age  SibSp  Parch     Fare  Embarked\n",
       "0       3    1  34.5      0      0   7.8292         2\n",
       "1       3    0  47.0      1      0   7.0000         0\n",
       "2       2    1  62.0      0      0   9.6875         2\n",
       "3       3    1  27.0      0      0   8.6625         0\n",
       "4       3    0  22.0      1      1  12.2875         0"
      ]
     },
     "execution_count": 60,
     "metadata": {},
     "output_type": "execute_result"
    }
   ],
   "source": [
    "#Converting the categorical features 'Sex' and 'Embarked' into numerical values 0 & 1\n",
    "df1.Sex=df1.Sex.map({'female':0, 'male':1})\n",
    "df1.Embarked=df1.Embarked.map({'S':0, 'C':1, 'Q':2})\n",
    "df1.head()"
   ]
  },
  {
   "cell_type": "code",
   "execution_count": 61,
   "id": "fd06faba",
   "metadata": {
    "execution": {
     "iopub.execute_input": "2022-07-27T10:59:13.785061Z",
     "iopub.status.busy": "2022-07-27T10:59:13.784302Z",
     "iopub.status.idle": "2022-07-27T10:59:13.793029Z",
     "shell.execute_reply": "2022-07-27T10:59:13.792178Z"
    },
    "papermill": {
     "duration": 0.041869,
     "end_time": "2022-07-27T10:59:13.795299",
     "exception": false,
     "start_time": "2022-07-27T10:59:13.753430",
     "status": "completed"
    },
    "tags": []
   },
   "outputs": [
    {
     "data": {
      "text/plain": [
       "Pclass      0\n",
       "Sex         0\n",
       "Age         0\n",
       "SibSp       0\n",
       "Parch       0\n",
       "Fare        0\n",
       "Embarked    0\n",
       "dtype: int64"
      ]
     },
     "execution_count": 61,
     "metadata": {},
     "output_type": "execute_result"
    }
   ],
   "source": [
    "df1.isnull().sum()"
   ]
  },
  {
   "cell_type": "code",
   "execution_count": 62,
   "id": "18d85297",
   "metadata": {
    "execution": {
     "iopub.execute_input": "2022-07-27T10:59:13.854305Z",
     "iopub.status.busy": "2022-07-27T10:59:13.853890Z",
     "iopub.status.idle": "2022-07-27T10:59:13.867935Z",
     "shell.execute_reply": "2022-07-27T10:59:13.866423Z"
    },
    "papermill": {
     "duration": 0.047081,
     "end_time": "2022-07-27T10:59:13.871052",
     "exception": false,
     "start_time": "2022-07-27T10:59:13.823971",
     "status": "completed"
    },
    "tags": []
   },
   "outputs": [
    {
     "name": "stdout",
     "output_type": "stream",
     "text": [
      "<class 'pandas.core.frame.DataFrame'>\n",
      "RangeIndex: 418 entries, 0 to 417\n",
      "Data columns (total 7 columns):\n",
      " #   Column    Non-Null Count  Dtype  \n",
      "---  ------    --------------  -----  \n",
      " 0   Pclass    418 non-null    int64  \n",
      " 1   Sex       418 non-null    int64  \n",
      " 2   Age       418 non-null    float64\n",
      " 3   SibSp     418 non-null    int64  \n",
      " 4   Parch     418 non-null    int64  \n",
      " 5   Fare      418 non-null    float64\n",
      " 6   Embarked  418 non-null    int64  \n",
      "dtypes: float64(2), int64(5)\n",
      "memory usage: 23.0 KB\n"
     ]
    }
   ],
   "source": [
    "df1.info()"
   ]
  },
  {
   "cell_type": "code",
   "execution_count": 63,
   "id": "bb07f7ad",
   "metadata": {
    "execution": {
     "iopub.execute_input": "2022-07-27T10:59:13.931001Z",
     "iopub.status.busy": "2022-07-27T10:59:13.930189Z",
     "iopub.status.idle": "2022-07-27T10:59:13.937791Z",
     "shell.execute_reply": "2022-07-27T10:59:13.936706Z"
    },
    "papermill": {
     "duration": 0.040032,
     "end_time": "2022-07-27T10:59:13.940070",
     "exception": false,
     "start_time": "2022-07-27T10:59:13.900038",
     "status": "completed"
    },
    "tags": []
   },
   "outputs": [
    {
     "data": {
      "text/plain": [
       "(418, 7)"
      ]
     },
     "execution_count": 63,
     "metadata": {},
     "output_type": "execute_result"
    }
   ],
   "source": [
    "df1.shape"
   ]
  },
  {
   "cell_type": "code",
   "execution_count": 64,
   "id": "4b8bd1c0",
   "metadata": {
    "execution": {
     "iopub.execute_input": "2022-07-27T10:59:13.999629Z",
     "iopub.status.busy": "2022-07-27T10:59:13.999226Z",
     "iopub.status.idle": "2022-07-27T10:59:14.038417Z",
     "shell.execute_reply": "2022-07-27T10:59:14.037350Z"
    },
    "papermill": {
     "duration": 0.071942,
     "end_time": "2022-07-27T10:59:14.040957",
     "exception": false,
     "start_time": "2022-07-27T10:59:13.969015",
     "status": "completed"
    },
    "tags": []
   },
   "outputs": [
    {
     "data": {
      "text/html": [
       "<div>\n",
       "<style scoped>\n",
       "    .dataframe tbody tr th:only-of-type {\n",
       "        vertical-align: middle;\n",
       "    }\n",
       "\n",
       "    .dataframe tbody tr th {\n",
       "        vertical-align: top;\n",
       "    }\n",
       "\n",
       "    .dataframe thead th {\n",
       "        text-align: right;\n",
       "    }\n",
       "</style>\n",
       "<table border=\"1\" class=\"dataframe\">\n",
       "  <thead>\n",
       "    <tr style=\"text-align: right;\">\n",
       "      <th></th>\n",
       "      <th>Pclass</th>\n",
       "      <th>Sex</th>\n",
       "      <th>Age</th>\n",
       "      <th>SibSp</th>\n",
       "      <th>Parch</th>\n",
       "      <th>Fare</th>\n",
       "      <th>Embarked</th>\n",
       "    </tr>\n",
       "  </thead>\n",
       "  <tbody>\n",
       "    <tr>\n",
       "      <th>count</th>\n",
       "      <td>418.000000</td>\n",
       "      <td>418.000000</td>\n",
       "      <td>418.000000</td>\n",
       "      <td>418.000000</td>\n",
       "      <td>418.000000</td>\n",
       "      <td>418.000000</td>\n",
       "      <td>418.000000</td>\n",
       "    </tr>\n",
       "    <tr>\n",
       "      <th>mean</th>\n",
       "      <td>2.265550</td>\n",
       "      <td>0.636364</td>\n",
       "      <td>0.396975</td>\n",
       "      <td>0.447368</td>\n",
       "      <td>0.392344</td>\n",
       "      <td>0.130925</td>\n",
       "      <td>0.464115</td>\n",
       "    </tr>\n",
       "    <tr>\n",
       "      <th>std</th>\n",
       "      <td>0.841838</td>\n",
       "      <td>0.481622</td>\n",
       "      <td>0.166617</td>\n",
       "      <td>0.896760</td>\n",
       "      <td>0.981429</td>\n",
       "      <td>0.192864</td>\n",
       "      <td>0.685516</td>\n",
       "    </tr>\n",
       "    <tr>\n",
       "      <th>min</th>\n",
       "      <td>1.000000</td>\n",
       "      <td>0.000000</td>\n",
       "      <td>0.000000</td>\n",
       "      <td>0.000000</td>\n",
       "      <td>0.000000</td>\n",
       "      <td>0.000000</td>\n",
       "      <td>0.000000</td>\n",
       "    </tr>\n",
       "    <tr>\n",
       "      <th>25%</th>\n",
       "      <td>1.000000</td>\n",
       "      <td>0.000000</td>\n",
       "      <td>0.301068</td>\n",
       "      <td>0.000000</td>\n",
       "      <td>0.000000</td>\n",
       "      <td>0.030022</td>\n",
       "      <td>0.000000</td>\n",
       "    </tr>\n",
       "    <tr>\n",
       "      <th>50%</th>\n",
       "      <td>3.000000</td>\n",
       "      <td>1.000000</td>\n",
       "      <td>0.396975</td>\n",
       "      <td>0.000000</td>\n",
       "      <td>0.000000</td>\n",
       "      <td>0.054959</td>\n",
       "      <td>0.000000</td>\n",
       "    </tr>\n",
       "    <tr>\n",
       "      <th>75%</th>\n",
       "      <td>3.000000</td>\n",
       "      <td>1.000000</td>\n",
       "      <td>0.469207</td>\n",
       "      <td>1.000000</td>\n",
       "      <td>0.000000</td>\n",
       "      <td>0.119665</td>\n",
       "      <td>1.000000</td>\n",
       "    </tr>\n",
       "    <tr>\n",
       "      <th>max</th>\n",
       "      <td>3.000000</td>\n",
       "      <td>1.000000</td>\n",
       "      <td>1.000000</td>\n",
       "      <td>8.000000</td>\n",
       "      <td>9.000000</td>\n",
       "      <td>1.000000</td>\n",
       "      <td>2.000000</td>\n",
       "    </tr>\n",
       "  </tbody>\n",
       "</table>\n",
       "</div>"
      ],
      "text/plain": [
       "           Pclass         Sex         Age       SibSp       Parch        Fare  \\\n",
       "count  418.000000  418.000000  418.000000  418.000000  418.000000  418.000000   \n",
       "mean     2.265550    0.636364    0.396975    0.447368    0.392344    0.130925   \n",
       "std      0.841838    0.481622    0.166617    0.896760    0.981429    0.192864   \n",
       "min      1.000000    0.000000    0.000000    0.000000    0.000000    0.000000   \n",
       "25%      1.000000    0.000000    0.301068    0.000000    0.000000    0.030022   \n",
       "50%      3.000000    1.000000    0.396975    0.000000    0.000000    0.054959   \n",
       "75%      3.000000    1.000000    0.469207    1.000000    0.000000    0.119665   \n",
       "max      3.000000    1.000000    1.000000    8.000000    9.000000    1.000000   \n",
       "\n",
       "         Embarked  \n",
       "count  418.000000  \n",
       "mean     0.464115  \n",
       "std      0.685516  \n",
       "min      0.000000  \n",
       "25%      0.000000  \n",
       "50%      0.000000  \n",
       "75%      1.000000  \n",
       "max      2.000000  "
      ]
     },
     "execution_count": 64,
     "metadata": {},
     "output_type": "execute_result"
    }
   ],
   "source": [
    "df1.Age = (df1.Age-min(df1.Age))/(max(df1.Age)-min(df1.Age))\n",
    "df1.Fare = (df1.Fare-min(df1.Fare))/(max(df1.Fare)-min(df1.Fare))\n",
    "df1.describe()"
   ]
  },
  {
   "cell_type": "markdown",
   "id": "a66b161d",
   "metadata": {
    "papermill": {
     "duration": 0.028697,
     "end_time": "2022-07-27T10:59:14.099974",
     "exception": false,
     "start_time": "2022-07-27T10:59:14.071277",
     "status": "completed"
    },
    "tags": []
   },
   "source": [
    "**Prediction**"
   ]
  },
  {
   "cell_type": "code",
   "execution_count": 65,
   "id": "2f4518c4",
   "metadata": {
    "execution": {
     "iopub.execute_input": "2022-07-27T10:59:14.159195Z",
     "iopub.status.busy": "2022-07-27T10:59:14.158836Z",
     "iopub.status.idle": "2022-07-27T10:59:14.163453Z",
     "shell.execute_reply": "2022-07-27T10:59:14.162291Z"
    },
    "papermill": {
     "duration": 0.036717,
     "end_time": "2022-07-27T10:59:14.165601",
     "exception": false,
     "start_time": "2022-07-27T10:59:14.128884",
     "status": "completed"
    },
    "tags": []
   },
   "outputs": [],
   "source": [
    "# prediction = classifier_logr.predict(df1)\n",
    "# prediction"
   ]
  },
  {
   "cell_type": "code",
   "execution_count": 66,
   "id": "cc8bc55c",
   "metadata": {
    "execution": {
     "iopub.execute_input": "2022-07-27T10:59:14.226741Z",
     "iopub.status.busy": "2022-07-27T10:59:14.225570Z",
     "iopub.status.idle": "2022-07-27T10:59:14.230536Z",
     "shell.execute_reply": "2022-07-27T10:59:14.229717Z"
    },
    "papermill": {
     "duration": 0.037773,
     "end_time": "2022-07-27T10:59:14.232666",
     "exception": false,
     "start_time": "2022-07-27T10:59:14.194893",
     "status": "completed"
    },
    "tags": []
   },
   "outputs": [],
   "source": [
    "# submission = pd.DataFrame({\"PassengerId\": test[\"PassengerId\"],\n",
    "                            # \"Survived\": prediction})\n",
    "# submission.to_csv('submission.csv', index=False)"
   ]
  },
  {
   "cell_type": "code",
   "execution_count": null,
   "id": "d4a811d0",
   "metadata": {
    "papermill": {
     "duration": 0.028682,
     "end_time": "2022-07-27T10:59:14.290377",
     "exception": false,
     "start_time": "2022-07-27T10:59:14.261695",
     "status": "completed"
    },
    "tags": []
   },
   "outputs": [],
   "source": []
  }
 ],
 "metadata": {
  "kernelspec": {
   "display_name": "Python 3",
   "language": "python",
   "name": "python3"
  },
  "language_info": {
   "codemirror_mode": {
    "name": "ipython",
    "version": 3
   },
   "file_extension": ".py",
   "mimetype": "text/x-python",
   "name": "python",
   "nbconvert_exporter": "python",
   "pygments_lexer": "ipython3",
   "version": "3.7.12"
  },
  "papermill": {
   "default_parameters": {},
   "duration": 18.832463,
   "end_time": "2022-07-27T10:59:15.041450",
   "environment_variables": {},
   "exception": null,
   "input_path": "__notebook__.ipynb",
   "output_path": "__notebook__.ipynb",
   "parameters": {},
   "start_time": "2022-07-27T10:58:56.208987",
   "version": "2.3.4"
  }
 },
 "nbformat": 4,
 "nbformat_minor": 5
}
