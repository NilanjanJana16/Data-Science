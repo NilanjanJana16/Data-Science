{
 "cells": [
  {
   "cell_type": "code",
   "execution_count": 1,
   "id": "abb7203c",
   "metadata": {
    "_cell_guid": "b1076dfc-b9ad-4769-8c92-a6c4dae69d19",
    "_uuid": "8f2839f25d086af736a60e9eeb907d3b93b6e0e5",
    "execution": {
     "iopub.execute_input": "2022-07-30T10:45:10.351579Z",
     "iopub.status.busy": "2022-07-30T10:45:10.350960Z",
     "iopub.status.idle": "2022-07-30T10:45:11.483978Z",
     "shell.execute_reply": "2022-07-30T10:45:11.481901Z"
    },
    "papermill": {
     "duration": 1.150139,
     "end_time": "2022-07-30T10:45:11.488460",
     "exception": false,
     "start_time": "2022-07-30T10:45:10.338321",
     "status": "completed"
    },
    "tags": []
   },
   "outputs": [
    {
     "name": "stdout",
     "output_type": "stream",
     "text": [
      "/kaggle/input/lung-cancer-detection/survey lung cancer.csv\n"
     ]
    }
   ],
   "source": [
    "# This Python 3 environment comes with many helpful analytics libraries installed\n",
    "# It is defined by the kaggle/python Docker image: https://github.com/kaggle/docker-python\n",
    "# For example, here's several helpful packages to load\n",
    "\n",
    "import numpy as np # linear algebra\n",
    "import pandas as pd # data processing, CSV file I/O (e.g. pd.read_csv)\n",
    "import matplotlib.pyplot as plt\n",
    "import seaborn as sns\n",
    "\n",
    "# Input data files are available in the read-only \"../input/\" directory\n",
    "# For example, running this (by clicking run or pressing Shift+Enter) will list all files under the input directory\n",
    "\n",
    "import os\n",
    "for dirname, _, filenames in os.walk('/kaggle/input'):\n",
    "    for filename in filenames:\n",
    "        print(os.path.join(dirname, filename))\n",
    "\n",
    "# You can write up to 20GB to the current directory (/kaggle/working/) that gets preserved as output when you create a version using \"Save & Run All\" \n",
    "# You can also write temporary files to /kaggle/temp/, but they won't be saved outside of the current session"
   ]
  },
  {
   "cell_type": "code",
   "execution_count": 2,
   "id": "7e1d3b04",
   "metadata": {
    "execution": {
     "iopub.execute_input": "2022-07-30T10:45:11.510496Z",
     "iopub.status.busy": "2022-07-30T10:45:11.510078Z",
     "iopub.status.idle": "2022-07-30T10:45:11.522893Z",
     "shell.execute_reply": "2022-07-30T10:45:11.521852Z"
    },
    "papermill": {
     "duration": 0.026315,
     "end_time": "2022-07-30T10:45:11.525512",
     "exception": false,
     "start_time": "2022-07-30T10:45:11.499197",
     "status": "completed"
    },
    "tags": []
   },
   "outputs": [],
   "source": [
    "df = pd.read_csv('/kaggle/input/lung-cancer-detection/survey lung cancer.csv')"
   ]
  },
  {
   "cell_type": "code",
   "execution_count": 3,
   "id": "95d232d6",
   "metadata": {
    "execution": {
     "iopub.execute_input": "2022-07-30T10:45:11.546707Z",
     "iopub.status.busy": "2022-07-30T10:45:11.545420Z",
     "iopub.status.idle": "2022-07-30T10:45:11.573260Z",
     "shell.execute_reply": "2022-07-30T10:45:11.571838Z"
    },
    "papermill": {
     "duration": 0.041106,
     "end_time": "2022-07-30T10:45:11.576051",
     "exception": false,
     "start_time": "2022-07-30T10:45:11.534945",
     "status": "completed"
    },
    "tags": []
   },
   "outputs": [
    {
     "name": "stdout",
     "output_type": "stream",
     "text": [
      "<class 'pandas.core.frame.DataFrame'>\n",
      "RangeIndex: 309 entries, 0 to 308\n",
      "Data columns (total 16 columns):\n",
      " #   Column                 Non-Null Count  Dtype \n",
      "---  ------                 --------------  ----- \n",
      " 0   GENDER                 309 non-null    object\n",
      " 1   AGE                    309 non-null    int64 \n",
      " 2   SMOKING                309 non-null    int64 \n",
      " 3   YELLOW_FINGERS         309 non-null    int64 \n",
      " 4   ANXIETY                309 non-null    int64 \n",
      " 5   PEER_PRESSURE          309 non-null    int64 \n",
      " 6   CHRONIC DISEASE        309 non-null    int64 \n",
      " 7   FATIGUE                309 non-null    int64 \n",
      " 8   ALLERGY                309 non-null    int64 \n",
      " 9   WHEEZING               309 non-null    int64 \n",
      " 10  ALCOHOL CONSUMING      309 non-null    int64 \n",
      " 11  COUGHING               309 non-null    int64 \n",
      " 12  SHORTNESS OF BREATH    309 non-null    int64 \n",
      " 13  SWALLOWING DIFFICULTY  309 non-null    int64 \n",
      " 14  CHEST PAIN             309 non-null    int64 \n",
      " 15  LUNG_CANCER            309 non-null    object\n",
      "dtypes: int64(14), object(2)\n",
      "memory usage: 38.8+ KB\n"
     ]
    }
   ],
   "source": [
    "df.info()"
   ]
  },
  {
   "cell_type": "code",
   "execution_count": 4,
   "id": "610f5314",
   "metadata": {
    "execution": {
     "iopub.execute_input": "2022-07-30T10:45:11.597974Z",
     "iopub.status.busy": "2022-07-30T10:45:11.597169Z",
     "iopub.status.idle": "2022-07-30T10:45:11.655147Z",
     "shell.execute_reply": "2022-07-30T10:45:11.653780Z"
    },
    "papermill": {
     "duration": 0.072336,
     "end_time": "2022-07-30T10:45:11.658055",
     "exception": false,
     "start_time": "2022-07-30T10:45:11.585719",
     "status": "completed"
    },
    "tags": []
   },
   "outputs": [
    {
     "data": {
      "text/html": [
       "<div>\n",
       "<style scoped>\n",
       "    .dataframe tbody tr th:only-of-type {\n",
       "        vertical-align: middle;\n",
       "    }\n",
       "\n",
       "    .dataframe tbody tr th {\n",
       "        vertical-align: top;\n",
       "    }\n",
       "\n",
       "    .dataframe thead th {\n",
       "        text-align: right;\n",
       "    }\n",
       "</style>\n",
       "<table border=\"1\" class=\"dataframe\">\n",
       "  <thead>\n",
       "    <tr style=\"text-align: right;\">\n",
       "      <th></th>\n",
       "      <th>AGE</th>\n",
       "      <th>SMOKING</th>\n",
       "      <th>YELLOW_FINGERS</th>\n",
       "      <th>ANXIETY</th>\n",
       "      <th>PEER_PRESSURE</th>\n",
       "      <th>CHRONIC DISEASE</th>\n",
       "      <th>FATIGUE</th>\n",
       "      <th>ALLERGY</th>\n",
       "      <th>WHEEZING</th>\n",
       "      <th>ALCOHOL CONSUMING</th>\n",
       "      <th>COUGHING</th>\n",
       "      <th>SHORTNESS OF BREATH</th>\n",
       "      <th>SWALLOWING DIFFICULTY</th>\n",
       "      <th>CHEST PAIN</th>\n",
       "    </tr>\n",
       "  </thead>\n",
       "  <tbody>\n",
       "    <tr>\n",
       "      <th>count</th>\n",
       "      <td>309.000000</td>\n",
       "      <td>309.000000</td>\n",
       "      <td>309.000000</td>\n",
       "      <td>309.000000</td>\n",
       "      <td>309.000000</td>\n",
       "      <td>309.000000</td>\n",
       "      <td>309.000000</td>\n",
       "      <td>309.000000</td>\n",
       "      <td>309.000000</td>\n",
       "      <td>309.000000</td>\n",
       "      <td>309.000000</td>\n",
       "      <td>309.000000</td>\n",
       "      <td>309.000000</td>\n",
       "      <td>309.000000</td>\n",
       "    </tr>\n",
       "    <tr>\n",
       "      <th>mean</th>\n",
       "      <td>62.673139</td>\n",
       "      <td>1.563107</td>\n",
       "      <td>1.569579</td>\n",
       "      <td>1.498382</td>\n",
       "      <td>1.501618</td>\n",
       "      <td>1.504854</td>\n",
       "      <td>1.673139</td>\n",
       "      <td>1.556634</td>\n",
       "      <td>1.556634</td>\n",
       "      <td>1.556634</td>\n",
       "      <td>1.579288</td>\n",
       "      <td>1.640777</td>\n",
       "      <td>1.469256</td>\n",
       "      <td>1.556634</td>\n",
       "    </tr>\n",
       "    <tr>\n",
       "      <th>std</th>\n",
       "      <td>8.210301</td>\n",
       "      <td>0.496806</td>\n",
       "      <td>0.495938</td>\n",
       "      <td>0.500808</td>\n",
       "      <td>0.500808</td>\n",
       "      <td>0.500787</td>\n",
       "      <td>0.469827</td>\n",
       "      <td>0.497588</td>\n",
       "      <td>0.497588</td>\n",
       "      <td>0.497588</td>\n",
       "      <td>0.494474</td>\n",
       "      <td>0.480551</td>\n",
       "      <td>0.499863</td>\n",
       "      <td>0.497588</td>\n",
       "    </tr>\n",
       "    <tr>\n",
       "      <th>min</th>\n",
       "      <td>21.000000</td>\n",
       "      <td>1.000000</td>\n",
       "      <td>1.000000</td>\n",
       "      <td>1.000000</td>\n",
       "      <td>1.000000</td>\n",
       "      <td>1.000000</td>\n",
       "      <td>1.000000</td>\n",
       "      <td>1.000000</td>\n",
       "      <td>1.000000</td>\n",
       "      <td>1.000000</td>\n",
       "      <td>1.000000</td>\n",
       "      <td>1.000000</td>\n",
       "      <td>1.000000</td>\n",
       "      <td>1.000000</td>\n",
       "    </tr>\n",
       "    <tr>\n",
       "      <th>25%</th>\n",
       "      <td>57.000000</td>\n",
       "      <td>1.000000</td>\n",
       "      <td>1.000000</td>\n",
       "      <td>1.000000</td>\n",
       "      <td>1.000000</td>\n",
       "      <td>1.000000</td>\n",
       "      <td>1.000000</td>\n",
       "      <td>1.000000</td>\n",
       "      <td>1.000000</td>\n",
       "      <td>1.000000</td>\n",
       "      <td>1.000000</td>\n",
       "      <td>1.000000</td>\n",
       "      <td>1.000000</td>\n",
       "      <td>1.000000</td>\n",
       "    </tr>\n",
       "    <tr>\n",
       "      <th>50%</th>\n",
       "      <td>62.000000</td>\n",
       "      <td>2.000000</td>\n",
       "      <td>2.000000</td>\n",
       "      <td>1.000000</td>\n",
       "      <td>2.000000</td>\n",
       "      <td>2.000000</td>\n",
       "      <td>2.000000</td>\n",
       "      <td>2.000000</td>\n",
       "      <td>2.000000</td>\n",
       "      <td>2.000000</td>\n",
       "      <td>2.000000</td>\n",
       "      <td>2.000000</td>\n",
       "      <td>1.000000</td>\n",
       "      <td>2.000000</td>\n",
       "    </tr>\n",
       "    <tr>\n",
       "      <th>75%</th>\n",
       "      <td>69.000000</td>\n",
       "      <td>2.000000</td>\n",
       "      <td>2.000000</td>\n",
       "      <td>2.000000</td>\n",
       "      <td>2.000000</td>\n",
       "      <td>2.000000</td>\n",
       "      <td>2.000000</td>\n",
       "      <td>2.000000</td>\n",
       "      <td>2.000000</td>\n",
       "      <td>2.000000</td>\n",
       "      <td>2.000000</td>\n",
       "      <td>2.000000</td>\n",
       "      <td>2.000000</td>\n",
       "      <td>2.000000</td>\n",
       "    </tr>\n",
       "    <tr>\n",
       "      <th>max</th>\n",
       "      <td>87.000000</td>\n",
       "      <td>2.000000</td>\n",
       "      <td>2.000000</td>\n",
       "      <td>2.000000</td>\n",
       "      <td>2.000000</td>\n",
       "      <td>2.000000</td>\n",
       "      <td>2.000000</td>\n",
       "      <td>2.000000</td>\n",
       "      <td>2.000000</td>\n",
       "      <td>2.000000</td>\n",
       "      <td>2.000000</td>\n",
       "      <td>2.000000</td>\n",
       "      <td>2.000000</td>\n",
       "      <td>2.000000</td>\n",
       "    </tr>\n",
       "  </tbody>\n",
       "</table>\n",
       "</div>"
      ],
      "text/plain": [
       "              AGE     SMOKING  YELLOW_FINGERS     ANXIETY  PEER_PRESSURE  \\\n",
       "count  309.000000  309.000000      309.000000  309.000000     309.000000   \n",
       "mean    62.673139    1.563107        1.569579    1.498382       1.501618   \n",
       "std      8.210301    0.496806        0.495938    0.500808       0.500808   \n",
       "min     21.000000    1.000000        1.000000    1.000000       1.000000   \n",
       "25%     57.000000    1.000000        1.000000    1.000000       1.000000   \n",
       "50%     62.000000    2.000000        2.000000    1.000000       2.000000   \n",
       "75%     69.000000    2.000000        2.000000    2.000000       2.000000   \n",
       "max     87.000000    2.000000        2.000000    2.000000       2.000000   \n",
       "\n",
       "       CHRONIC DISEASE    FATIGUE     ALLERGY     WHEEZING  ALCOHOL CONSUMING  \\\n",
       "count       309.000000  309.000000  309.000000  309.000000         309.000000   \n",
       "mean          1.504854    1.673139    1.556634    1.556634           1.556634   \n",
       "std           0.500787    0.469827    0.497588    0.497588           0.497588   \n",
       "min           1.000000    1.000000    1.000000    1.000000           1.000000   \n",
       "25%           1.000000    1.000000    1.000000    1.000000           1.000000   \n",
       "50%           2.000000    2.000000    2.000000    2.000000           2.000000   \n",
       "75%           2.000000    2.000000    2.000000    2.000000           2.000000   \n",
       "max           2.000000    2.000000    2.000000    2.000000           2.000000   \n",
       "\n",
       "         COUGHING  SHORTNESS OF BREATH  SWALLOWING DIFFICULTY  CHEST PAIN  \n",
       "count  309.000000           309.000000             309.000000  309.000000  \n",
       "mean     1.579288             1.640777               1.469256    1.556634  \n",
       "std      0.494474             0.480551               0.499863    0.497588  \n",
       "min      1.000000             1.000000               1.000000    1.000000  \n",
       "25%      1.000000             1.000000               1.000000    1.000000  \n",
       "50%      2.000000             2.000000               1.000000    2.000000  \n",
       "75%      2.000000             2.000000               2.000000    2.000000  \n",
       "max      2.000000             2.000000               2.000000    2.000000  "
      ]
     },
     "execution_count": 4,
     "metadata": {},
     "output_type": "execute_result"
    }
   ],
   "source": [
    "df.describe()"
   ]
  },
  {
   "cell_type": "code",
   "execution_count": 5,
   "id": "46e0daca",
   "metadata": {
    "execution": {
     "iopub.execute_input": "2022-07-30T10:45:11.680932Z",
     "iopub.status.busy": "2022-07-30T10:45:11.680507Z",
     "iopub.status.idle": "2022-07-30T10:45:11.688941Z",
     "shell.execute_reply": "2022-07-30T10:45:11.687759Z"
    },
    "papermill": {
     "duration": 0.02327,
     "end_time": "2022-07-30T10:45:11.691419",
     "exception": false,
     "start_time": "2022-07-30T10:45:11.668149",
     "status": "completed"
    },
    "tags": []
   },
   "outputs": [
    {
     "data": {
      "text/plain": [
       "Index(['GENDER', 'AGE', 'SMOKING', 'YELLOW_FINGERS', 'ANXIETY',\n",
       "       'PEER_PRESSURE', 'CHRONIC DISEASE', 'FATIGUE ', 'ALLERGY ', 'WHEEZING',\n",
       "       'ALCOHOL CONSUMING', 'COUGHING', 'SHORTNESS OF BREATH',\n",
       "       'SWALLOWING DIFFICULTY', 'CHEST PAIN', 'LUNG_CANCER'],\n",
       "      dtype='object')"
      ]
     },
     "execution_count": 5,
     "metadata": {},
     "output_type": "execute_result"
    }
   ],
   "source": [
    "df.columns"
   ]
  },
  {
   "cell_type": "code",
   "execution_count": 6,
   "id": "ade6b21f",
   "metadata": {
    "execution": {
     "iopub.execute_input": "2022-07-30T10:45:11.713671Z",
     "iopub.status.busy": "2022-07-30T10:45:11.713015Z",
     "iopub.status.idle": "2022-07-30T10:45:11.729073Z",
     "shell.execute_reply": "2022-07-30T10:45:11.728028Z"
    },
    "papermill": {
     "duration": 0.029944,
     "end_time": "2022-07-30T10:45:11.731547",
     "exception": false,
     "start_time": "2022-07-30T10:45:11.701603",
     "status": "completed"
    },
    "tags": []
   },
   "outputs": [
    {
     "data": {
      "text/html": [
       "<div>\n",
       "<style scoped>\n",
       "    .dataframe tbody tr th:only-of-type {\n",
       "        vertical-align: middle;\n",
       "    }\n",
       "\n",
       "    .dataframe tbody tr th {\n",
       "        vertical-align: top;\n",
       "    }\n",
       "\n",
       "    .dataframe thead th {\n",
       "        text-align: right;\n",
       "    }\n",
       "</style>\n",
       "<table border=\"1\" class=\"dataframe\">\n",
       "  <thead>\n",
       "    <tr style=\"text-align: right;\">\n",
       "      <th></th>\n",
       "      <th>GENDER</th>\n",
       "      <th>AGE</th>\n",
       "      <th>SMOKING</th>\n",
       "      <th>YELLOW_FINGERS</th>\n",
       "      <th>ANXIETY</th>\n",
       "      <th>PEER_PRESSURE</th>\n",
       "      <th>CHRONIC DISEASE</th>\n",
       "      <th>FATIGUE</th>\n",
       "      <th>ALLERGY</th>\n",
       "      <th>WHEEZING</th>\n",
       "      <th>ALCOHOL CONSUMING</th>\n",
       "      <th>COUGHING</th>\n",
       "      <th>SHORTNESS OF BREATH</th>\n",
       "      <th>SWALLOWING DIFFICULTY</th>\n",
       "      <th>CHEST PAIN</th>\n",
       "      <th>LUNG_CANCER</th>\n",
       "    </tr>\n",
       "  </thead>\n",
       "  <tbody>\n",
       "    <tr>\n",
       "      <th>0</th>\n",
       "      <td>M</td>\n",
       "      <td>69</td>\n",
       "      <td>1</td>\n",
       "      <td>2</td>\n",
       "      <td>2</td>\n",
       "      <td>1</td>\n",
       "      <td>1</td>\n",
       "      <td>2</td>\n",
       "      <td>1</td>\n",
       "      <td>2</td>\n",
       "      <td>2</td>\n",
       "      <td>2</td>\n",
       "      <td>2</td>\n",
       "      <td>2</td>\n",
       "      <td>2</td>\n",
       "      <td>YES</td>\n",
       "    </tr>\n",
       "    <tr>\n",
       "      <th>1</th>\n",
       "      <td>M</td>\n",
       "      <td>74</td>\n",
       "      <td>2</td>\n",
       "      <td>1</td>\n",
       "      <td>1</td>\n",
       "      <td>1</td>\n",
       "      <td>2</td>\n",
       "      <td>2</td>\n",
       "      <td>2</td>\n",
       "      <td>1</td>\n",
       "      <td>1</td>\n",
       "      <td>1</td>\n",
       "      <td>2</td>\n",
       "      <td>2</td>\n",
       "      <td>2</td>\n",
       "      <td>YES</td>\n",
       "    </tr>\n",
       "    <tr>\n",
       "      <th>2</th>\n",
       "      <td>F</td>\n",
       "      <td>59</td>\n",
       "      <td>1</td>\n",
       "      <td>1</td>\n",
       "      <td>1</td>\n",
       "      <td>2</td>\n",
       "      <td>1</td>\n",
       "      <td>2</td>\n",
       "      <td>1</td>\n",
       "      <td>2</td>\n",
       "      <td>1</td>\n",
       "      <td>2</td>\n",
       "      <td>2</td>\n",
       "      <td>1</td>\n",
       "      <td>2</td>\n",
       "      <td>NO</td>\n",
       "    </tr>\n",
       "    <tr>\n",
       "      <th>3</th>\n",
       "      <td>M</td>\n",
       "      <td>63</td>\n",
       "      <td>2</td>\n",
       "      <td>2</td>\n",
       "      <td>2</td>\n",
       "      <td>1</td>\n",
       "      <td>1</td>\n",
       "      <td>1</td>\n",
       "      <td>1</td>\n",
       "      <td>1</td>\n",
       "      <td>2</td>\n",
       "      <td>1</td>\n",
       "      <td>1</td>\n",
       "      <td>2</td>\n",
       "      <td>2</td>\n",
       "      <td>NO</td>\n",
       "    </tr>\n",
       "    <tr>\n",
       "      <th>4</th>\n",
       "      <td>F</td>\n",
       "      <td>63</td>\n",
       "      <td>1</td>\n",
       "      <td>2</td>\n",
       "      <td>1</td>\n",
       "      <td>1</td>\n",
       "      <td>1</td>\n",
       "      <td>1</td>\n",
       "      <td>1</td>\n",
       "      <td>2</td>\n",
       "      <td>1</td>\n",
       "      <td>2</td>\n",
       "      <td>2</td>\n",
       "      <td>1</td>\n",
       "      <td>1</td>\n",
       "      <td>NO</td>\n",
       "    </tr>\n",
       "  </tbody>\n",
       "</table>\n",
       "</div>"
      ],
      "text/plain": [
       "  GENDER  AGE  SMOKING  YELLOW_FINGERS  ANXIETY  PEER_PRESSURE  \\\n",
       "0      M   69        1               2        2              1   \n",
       "1      M   74        2               1        1              1   \n",
       "2      F   59        1               1        1              2   \n",
       "3      M   63        2               2        2              1   \n",
       "4      F   63        1               2        1              1   \n",
       "\n",
       "   CHRONIC DISEASE  FATIGUE   ALLERGY   WHEEZING  ALCOHOL CONSUMING  COUGHING  \\\n",
       "0                1         2         1         2                  2         2   \n",
       "1                2         2         2         1                  1         1   \n",
       "2                1         2         1         2                  1         2   \n",
       "3                1         1         1         1                  2         1   \n",
       "4                1         1         1         2                  1         2   \n",
       "\n",
       "   SHORTNESS OF BREATH  SWALLOWING DIFFICULTY  CHEST PAIN LUNG_CANCER  \n",
       "0                    2                      2           2         YES  \n",
       "1                    2                      2           2         YES  \n",
       "2                    2                      1           2          NO  \n",
       "3                    1                      2           2          NO  \n",
       "4                    2                      1           1          NO  "
      ]
     },
     "execution_count": 6,
     "metadata": {},
     "output_type": "execute_result"
    }
   ],
   "source": [
    "df.head()"
   ]
  },
  {
   "cell_type": "code",
   "execution_count": 7,
   "id": "db46b4c3",
   "metadata": {
    "execution": {
     "iopub.execute_input": "2022-07-30T10:45:11.753903Z",
     "iopub.status.busy": "2022-07-30T10:45:11.753469Z",
     "iopub.status.idle": "2022-07-30T10:45:11.764867Z",
     "shell.execute_reply": "2022-07-30T10:45:11.763423Z"
    },
    "papermill": {
     "duration": 0.026274,
     "end_time": "2022-07-30T10:45:11.768135",
     "exception": false,
     "start_time": "2022-07-30T10:45:11.741861",
     "status": "completed"
    },
    "tags": []
   },
   "outputs": [
    {
     "data": {
      "text/plain": [
       "GENDER                   0\n",
       "AGE                      0\n",
       "SMOKING                  0\n",
       "YELLOW_FINGERS           0\n",
       "ANXIETY                  0\n",
       "PEER_PRESSURE            0\n",
       "CHRONIC DISEASE          0\n",
       "FATIGUE                  0\n",
       "ALLERGY                  0\n",
       "WHEEZING                 0\n",
       "ALCOHOL CONSUMING        0\n",
       "COUGHING                 0\n",
       "SHORTNESS OF BREATH      0\n",
       "SWALLOWING DIFFICULTY    0\n",
       "CHEST PAIN               0\n",
       "LUNG_CANCER              0\n",
       "dtype: int64"
      ]
     },
     "execution_count": 7,
     "metadata": {},
     "output_type": "execute_result"
    }
   ],
   "source": [
    "df.isnull().sum()"
   ]
  },
  {
   "cell_type": "code",
   "execution_count": 8,
   "id": "df5dfbdf",
   "metadata": {
    "execution": {
     "iopub.execute_input": "2022-07-30T10:45:11.792068Z",
     "iopub.status.busy": "2022-07-30T10:45:11.791705Z",
     "iopub.status.idle": "2022-07-30T10:45:11.797672Z",
     "shell.execute_reply": "2022-07-30T10:45:11.796829Z"
    },
    "papermill": {
     "duration": 0.019813,
     "end_time": "2022-07-30T10:45:11.799747",
     "exception": false,
     "start_time": "2022-07-30T10:45:11.779934",
     "status": "completed"
    },
    "tags": []
   },
   "outputs": [
    {
     "data": {
      "text/plain": [
       "(309, 16)"
      ]
     },
     "execution_count": 8,
     "metadata": {},
     "output_type": "execute_result"
    }
   ],
   "source": [
    "df.shape"
   ]
  },
  {
   "cell_type": "code",
   "execution_count": 9,
   "id": "da9fb2b9",
   "metadata": {
    "execution": {
     "iopub.execute_input": "2022-07-30T10:45:11.822243Z",
     "iopub.status.busy": "2022-07-30T10:45:11.821841Z",
     "iopub.status.idle": "2022-07-30T10:45:11.830276Z",
     "shell.execute_reply": "2022-07-30T10:45:11.829480Z"
    },
    "papermill": {
     "duration": 0.022212,
     "end_time": "2022-07-30T10:45:11.832229",
     "exception": false,
     "start_time": "2022-07-30T10:45:11.810017",
     "status": "completed"
    },
    "tags": []
   },
   "outputs": [
    {
     "data": {
      "text/plain": [
       "33"
      ]
     },
     "execution_count": 9,
     "metadata": {},
     "output_type": "execute_result"
    }
   ],
   "source": [
    "#checking for duplicate data\n",
    "\n",
    "df.duplicated().sum()"
   ]
  },
  {
   "cell_type": "code",
   "execution_count": 10,
   "id": "8c29cf28",
   "metadata": {
    "execution": {
     "iopub.execute_input": "2022-07-30T10:45:11.855650Z",
     "iopub.status.busy": "2022-07-30T10:45:11.855256Z",
     "iopub.status.idle": "2022-07-30T10:45:11.862434Z",
     "shell.execute_reply": "2022-07-30T10:45:11.861455Z"
    },
    "papermill": {
     "duration": 0.02163,
     "end_time": "2022-07-30T10:45:11.864690",
     "exception": false,
     "start_time": "2022-07-30T10:45:11.843060",
     "status": "completed"
    },
    "tags": []
   },
   "outputs": [],
   "source": [
    "# dropping them\n",
    "\n",
    "df = df.drop_duplicates()"
   ]
  },
  {
   "cell_type": "code",
   "execution_count": 11,
   "id": "cfa5556f",
   "metadata": {
    "execution": {
     "iopub.execute_input": "2022-07-30T10:45:11.888610Z",
     "iopub.status.busy": "2022-07-30T10:45:11.887951Z",
     "iopub.status.idle": "2022-07-30T10:45:11.915775Z",
     "shell.execute_reply": "2022-07-30T10:45:11.915018Z"
    },
    "papermill": {
     "duration": 0.042116,
     "end_time": "2022-07-30T10:45:11.917801",
     "exception": false,
     "start_time": "2022-07-30T10:45:11.875685",
     "status": "completed"
    },
    "tags": []
   },
   "outputs": [
    {
     "data": {
      "text/html": [
       "<div>\n",
       "<style scoped>\n",
       "    .dataframe tbody tr th:only-of-type {\n",
       "        vertical-align: middle;\n",
       "    }\n",
       "\n",
       "    .dataframe tbody tr th {\n",
       "        vertical-align: top;\n",
       "    }\n",
       "\n",
       "    .dataframe thead th {\n",
       "        text-align: right;\n",
       "    }\n",
       "</style>\n",
       "<table border=\"1\" class=\"dataframe\">\n",
       "  <thead>\n",
       "    <tr style=\"text-align: right;\">\n",
       "      <th></th>\n",
       "      <th>AGE</th>\n",
       "      <th>SMOKING</th>\n",
       "      <th>YELLOW_FINGERS</th>\n",
       "      <th>ANXIETY</th>\n",
       "      <th>PEER_PRESSURE</th>\n",
       "      <th>CHRONIC DISEASE</th>\n",
       "      <th>FATIGUE</th>\n",
       "      <th>ALLERGY</th>\n",
       "      <th>WHEEZING</th>\n",
       "      <th>ALCOHOL CONSUMING</th>\n",
       "      <th>COUGHING</th>\n",
       "      <th>SHORTNESS OF BREATH</th>\n",
       "      <th>SWALLOWING DIFFICULTY</th>\n",
       "      <th>CHEST PAIN</th>\n",
       "    </tr>\n",
       "  </thead>\n",
       "  <tbody>\n",
       "    <tr>\n",
       "      <th>AGE</th>\n",
       "      <td>1.000000</td>\n",
       "      <td>-0.073410</td>\n",
       "      <td>0.025773</td>\n",
       "      <td>0.050605</td>\n",
       "      <td>0.037848</td>\n",
       "      <td>-0.003431</td>\n",
       "      <td>0.021606</td>\n",
       "      <td>0.037139</td>\n",
       "      <td>0.052803</td>\n",
       "      <td>0.052049</td>\n",
       "      <td>0.168654</td>\n",
       "      <td>-0.009189</td>\n",
       "      <td>0.003199</td>\n",
       "      <td>-0.035806</td>\n",
       "    </tr>\n",
       "    <tr>\n",
       "      <th>SMOKING</th>\n",
       "      <td>-0.073410</td>\n",
       "      <td>1.000000</td>\n",
       "      <td>-0.020799</td>\n",
       "      <td>0.153389</td>\n",
       "      <td>-0.030364</td>\n",
       "      <td>-0.149415</td>\n",
       "      <td>-0.037803</td>\n",
       "      <td>-0.030179</td>\n",
       "      <td>-0.147081</td>\n",
       "      <td>-0.052771</td>\n",
       "      <td>-0.138553</td>\n",
       "      <td>0.051761</td>\n",
       "      <td>0.042152</td>\n",
       "      <td>0.106984</td>\n",
       "    </tr>\n",
       "    <tr>\n",
       "      <th>YELLOW_FINGERS</th>\n",
       "      <td>0.025773</td>\n",
       "      <td>-0.020799</td>\n",
       "      <td>1.000000</td>\n",
       "      <td>0.558344</td>\n",
       "      <td>0.313067</td>\n",
       "      <td>0.015316</td>\n",
       "      <td>-0.099644</td>\n",
       "      <td>-0.147130</td>\n",
       "      <td>-0.058756</td>\n",
       "      <td>-0.273643</td>\n",
       "      <td>0.020803</td>\n",
       "      <td>-0.109959</td>\n",
       "      <td>0.333349</td>\n",
       "      <td>-0.099169</td>\n",
       "    </tr>\n",
       "    <tr>\n",
       "      <th>ANXIETY</th>\n",
       "      <td>0.050605</td>\n",
       "      <td>0.153389</td>\n",
       "      <td>0.558344</td>\n",
       "      <td>1.000000</td>\n",
       "      <td>0.210278</td>\n",
       "      <td>-0.006938</td>\n",
       "      <td>-0.181474</td>\n",
       "      <td>-0.159451</td>\n",
       "      <td>-0.174009</td>\n",
       "      <td>-0.152228</td>\n",
       "      <td>-0.218843</td>\n",
       "      <td>-0.155678</td>\n",
       "      <td>0.478820</td>\n",
       "      <td>-0.123182</td>\n",
       "    </tr>\n",
       "    <tr>\n",
       "      <th>PEER_PRESSURE</th>\n",
       "      <td>0.037848</td>\n",
       "      <td>-0.030364</td>\n",
       "      <td>0.313067</td>\n",
       "      <td>0.210278</td>\n",
       "      <td>1.000000</td>\n",
       "      <td>0.042893</td>\n",
       "      <td>0.094661</td>\n",
       "      <td>-0.066887</td>\n",
       "      <td>-0.037769</td>\n",
       "      <td>-0.132603</td>\n",
       "      <td>-0.068224</td>\n",
       "      <td>-0.214115</td>\n",
       "      <td>0.327764</td>\n",
       "      <td>-0.074655</td>\n",
       "    </tr>\n",
       "    <tr>\n",
       "      <th>CHRONIC DISEASE</th>\n",
       "      <td>-0.003431</td>\n",
       "      <td>-0.149415</td>\n",
       "      <td>0.015316</td>\n",
       "      <td>-0.006938</td>\n",
       "      <td>0.042893</td>\n",
       "      <td>1.000000</td>\n",
       "      <td>-0.099411</td>\n",
       "      <td>0.134309</td>\n",
       "      <td>-0.040546</td>\n",
       "      <td>0.010144</td>\n",
       "      <td>-0.160813</td>\n",
       "      <td>-0.011760</td>\n",
       "      <td>0.068263</td>\n",
       "      <td>-0.048895</td>\n",
       "    </tr>\n",
       "    <tr>\n",
       "      <th>FATIGUE</th>\n",
       "      <td>0.021606</td>\n",
       "      <td>-0.037803</td>\n",
       "      <td>-0.099644</td>\n",
       "      <td>-0.181474</td>\n",
       "      <td>0.094661</td>\n",
       "      <td>-0.099411</td>\n",
       "      <td>1.000000</td>\n",
       "      <td>-0.001841</td>\n",
       "      <td>0.152151</td>\n",
       "      <td>-0.181573</td>\n",
       "      <td>0.148538</td>\n",
       "      <td>0.407027</td>\n",
       "      <td>-0.115727</td>\n",
       "      <td>0.013757</td>\n",
       "    </tr>\n",
       "    <tr>\n",
       "      <th>ALLERGY</th>\n",
       "      <td>0.037139</td>\n",
       "      <td>-0.030179</td>\n",
       "      <td>-0.147130</td>\n",
       "      <td>-0.159451</td>\n",
       "      <td>-0.066887</td>\n",
       "      <td>0.134309</td>\n",
       "      <td>-0.001841</td>\n",
       "      <td>1.000000</td>\n",
       "      <td>0.166517</td>\n",
       "      <td>0.378125</td>\n",
       "      <td>0.206367</td>\n",
       "      <td>-0.018030</td>\n",
       "      <td>-0.037581</td>\n",
       "      <td>0.245440</td>\n",
       "    </tr>\n",
       "    <tr>\n",
       "      <th>WHEEZING</th>\n",
       "      <td>0.052803</td>\n",
       "      <td>-0.147081</td>\n",
       "      <td>-0.058756</td>\n",
       "      <td>-0.174009</td>\n",
       "      <td>-0.037769</td>\n",
       "      <td>-0.040546</td>\n",
       "      <td>0.152151</td>\n",
       "      <td>0.166517</td>\n",
       "      <td>1.000000</td>\n",
       "      <td>0.261061</td>\n",
       "      <td>0.353657</td>\n",
       "      <td>0.042289</td>\n",
       "      <td>0.108304</td>\n",
       "      <td>0.142846</td>\n",
       "    </tr>\n",
       "    <tr>\n",
       "      <th>ALCOHOL CONSUMING</th>\n",
       "      <td>0.052049</td>\n",
       "      <td>-0.052771</td>\n",
       "      <td>-0.273643</td>\n",
       "      <td>-0.152228</td>\n",
       "      <td>-0.132603</td>\n",
       "      <td>0.010144</td>\n",
       "      <td>-0.181573</td>\n",
       "      <td>0.378125</td>\n",
       "      <td>0.261061</td>\n",
       "      <td>1.000000</td>\n",
       "      <td>0.198023</td>\n",
       "      <td>-0.163370</td>\n",
       "      <td>-0.000635</td>\n",
       "      <td>0.310767</td>\n",
       "    </tr>\n",
       "    <tr>\n",
       "      <th>COUGHING</th>\n",
       "      <td>0.168654</td>\n",
       "      <td>-0.138553</td>\n",
       "      <td>0.020803</td>\n",
       "      <td>-0.218843</td>\n",
       "      <td>-0.068224</td>\n",
       "      <td>-0.160813</td>\n",
       "      <td>0.148538</td>\n",
       "      <td>0.206367</td>\n",
       "      <td>0.353657</td>\n",
       "      <td>0.198023</td>\n",
       "      <td>1.000000</td>\n",
       "      <td>0.284968</td>\n",
       "      <td>-0.136885</td>\n",
       "      <td>0.077988</td>\n",
       "    </tr>\n",
       "    <tr>\n",
       "      <th>SHORTNESS OF BREATH</th>\n",
       "      <td>-0.009189</td>\n",
       "      <td>0.051761</td>\n",
       "      <td>-0.109959</td>\n",
       "      <td>-0.155678</td>\n",
       "      <td>-0.214115</td>\n",
       "      <td>-0.011760</td>\n",
       "      <td>0.407027</td>\n",
       "      <td>-0.018030</td>\n",
       "      <td>0.042289</td>\n",
       "      <td>-0.163370</td>\n",
       "      <td>0.284968</td>\n",
       "      <td>1.000000</td>\n",
       "      <td>-0.140307</td>\n",
       "      <td>0.044029</td>\n",
       "    </tr>\n",
       "    <tr>\n",
       "      <th>SWALLOWING DIFFICULTY</th>\n",
       "      <td>0.003199</td>\n",
       "      <td>0.042152</td>\n",
       "      <td>0.333349</td>\n",
       "      <td>0.478820</td>\n",
       "      <td>0.327764</td>\n",
       "      <td>0.068263</td>\n",
       "      <td>-0.115727</td>\n",
       "      <td>-0.037581</td>\n",
       "      <td>0.108304</td>\n",
       "      <td>-0.000635</td>\n",
       "      <td>-0.136885</td>\n",
       "      <td>-0.140307</td>\n",
       "      <td>1.000000</td>\n",
       "      <td>0.102674</td>\n",
       "    </tr>\n",
       "    <tr>\n",
       "      <th>CHEST PAIN</th>\n",
       "      <td>-0.035806</td>\n",
       "      <td>0.106984</td>\n",
       "      <td>-0.099169</td>\n",
       "      <td>-0.123182</td>\n",
       "      <td>-0.074655</td>\n",
       "      <td>-0.048895</td>\n",
       "      <td>0.013757</td>\n",
       "      <td>0.245440</td>\n",
       "      <td>0.142846</td>\n",
       "      <td>0.310767</td>\n",
       "      <td>0.077988</td>\n",
       "      <td>0.044029</td>\n",
       "      <td>0.102674</td>\n",
       "      <td>1.000000</td>\n",
       "    </tr>\n",
       "  </tbody>\n",
       "</table>\n",
       "</div>"
      ],
      "text/plain": [
       "                            AGE   SMOKING  YELLOW_FINGERS   ANXIETY  \\\n",
       "AGE                    1.000000 -0.073410        0.025773  0.050605   \n",
       "SMOKING               -0.073410  1.000000       -0.020799  0.153389   \n",
       "YELLOW_FINGERS         0.025773 -0.020799        1.000000  0.558344   \n",
       "ANXIETY                0.050605  0.153389        0.558344  1.000000   \n",
       "PEER_PRESSURE          0.037848 -0.030364        0.313067  0.210278   \n",
       "CHRONIC DISEASE       -0.003431 -0.149415        0.015316 -0.006938   \n",
       "FATIGUE                0.021606 -0.037803       -0.099644 -0.181474   \n",
       "ALLERGY                0.037139 -0.030179       -0.147130 -0.159451   \n",
       "WHEEZING               0.052803 -0.147081       -0.058756 -0.174009   \n",
       "ALCOHOL CONSUMING      0.052049 -0.052771       -0.273643 -0.152228   \n",
       "COUGHING               0.168654 -0.138553        0.020803 -0.218843   \n",
       "SHORTNESS OF BREATH   -0.009189  0.051761       -0.109959 -0.155678   \n",
       "SWALLOWING DIFFICULTY  0.003199  0.042152        0.333349  0.478820   \n",
       "CHEST PAIN            -0.035806  0.106984       -0.099169 -0.123182   \n",
       "\n",
       "                       PEER_PRESSURE  CHRONIC DISEASE  FATIGUE   ALLERGY   \\\n",
       "AGE                         0.037848        -0.003431  0.021606  0.037139   \n",
       "SMOKING                    -0.030364        -0.149415 -0.037803 -0.030179   \n",
       "YELLOW_FINGERS              0.313067         0.015316 -0.099644 -0.147130   \n",
       "ANXIETY                     0.210278        -0.006938 -0.181474 -0.159451   \n",
       "PEER_PRESSURE               1.000000         0.042893  0.094661 -0.066887   \n",
       "CHRONIC DISEASE             0.042893         1.000000 -0.099411  0.134309   \n",
       "FATIGUE                     0.094661        -0.099411  1.000000 -0.001841   \n",
       "ALLERGY                    -0.066887         0.134309 -0.001841  1.000000   \n",
       "WHEEZING                   -0.037769        -0.040546  0.152151  0.166517   \n",
       "ALCOHOL CONSUMING          -0.132603         0.010144 -0.181573  0.378125   \n",
       "COUGHING                   -0.068224        -0.160813  0.148538  0.206367   \n",
       "SHORTNESS OF BREATH        -0.214115        -0.011760  0.407027 -0.018030   \n",
       "SWALLOWING DIFFICULTY       0.327764         0.068263 -0.115727 -0.037581   \n",
       "CHEST PAIN                 -0.074655        -0.048895  0.013757  0.245440   \n",
       "\n",
       "                       WHEEZING  ALCOHOL CONSUMING  COUGHING  \\\n",
       "AGE                    0.052803           0.052049  0.168654   \n",
       "SMOKING               -0.147081          -0.052771 -0.138553   \n",
       "YELLOW_FINGERS        -0.058756          -0.273643  0.020803   \n",
       "ANXIETY               -0.174009          -0.152228 -0.218843   \n",
       "PEER_PRESSURE         -0.037769          -0.132603 -0.068224   \n",
       "CHRONIC DISEASE       -0.040546           0.010144 -0.160813   \n",
       "FATIGUE                0.152151          -0.181573  0.148538   \n",
       "ALLERGY                0.166517           0.378125  0.206367   \n",
       "WHEEZING               1.000000           0.261061  0.353657   \n",
       "ALCOHOL CONSUMING      0.261061           1.000000  0.198023   \n",
       "COUGHING               0.353657           0.198023  1.000000   \n",
       "SHORTNESS OF BREATH    0.042289          -0.163370  0.284968   \n",
       "SWALLOWING DIFFICULTY  0.108304          -0.000635 -0.136885   \n",
       "CHEST PAIN             0.142846           0.310767  0.077988   \n",
       "\n",
       "                       SHORTNESS OF BREATH  SWALLOWING DIFFICULTY  CHEST PAIN  \n",
       "AGE                              -0.009189               0.003199   -0.035806  \n",
       "SMOKING                           0.051761               0.042152    0.106984  \n",
       "YELLOW_FINGERS                   -0.109959               0.333349   -0.099169  \n",
       "ANXIETY                          -0.155678               0.478820   -0.123182  \n",
       "PEER_PRESSURE                    -0.214115               0.327764   -0.074655  \n",
       "CHRONIC DISEASE                  -0.011760               0.068263   -0.048895  \n",
       "FATIGUE                           0.407027              -0.115727    0.013757  \n",
       "ALLERGY                          -0.018030              -0.037581    0.245440  \n",
       "WHEEZING                          0.042289               0.108304    0.142846  \n",
       "ALCOHOL CONSUMING                -0.163370              -0.000635    0.310767  \n",
       "COUGHING                          0.284968              -0.136885    0.077988  \n",
       "SHORTNESS OF BREATH               1.000000              -0.140307    0.044029  \n",
       "SWALLOWING DIFFICULTY            -0.140307               1.000000    0.102674  \n",
       "CHEST PAIN                        0.044029               0.102674    1.000000  "
      ]
     },
     "execution_count": 11,
     "metadata": {},
     "output_type": "execute_result"
    }
   ],
   "source": [
    "corr = df.corr()\n",
    "corr"
   ]
  },
  {
   "cell_type": "markdown",
   "id": "859698f2",
   "metadata": {
    "papermill": {
     "duration": 0.010986,
     "end_time": "2022-07-30T10:45:11.939767",
     "exception": false,
     "start_time": "2022-07-30T10:45:11.928781",
     "status": "completed"
    },
    "tags": []
   },
   "source": [
    "# **DATA VISUALIZATION**"
   ]
  },
  {
   "cell_type": "code",
   "execution_count": 12,
   "id": "ee674f85",
   "metadata": {
    "execution": {
     "iopub.execute_input": "2022-07-30T10:45:11.963744Z",
     "iopub.status.busy": "2022-07-30T10:45:11.963362Z",
     "iopub.status.idle": "2022-07-30T10:45:12.312048Z",
     "shell.execute_reply": "2022-07-30T10:45:12.310739Z"
    },
    "papermill": {
     "duration": 0.363832,
     "end_time": "2022-07-30T10:45:12.314552",
     "exception": false,
     "start_time": "2022-07-30T10:45:11.950720",
     "status": "completed"
    },
    "tags": []
   },
   "outputs": [
    {
     "data": {
      "text/plain": [
       "<seaborn.axisgrid.FacetGrid at 0x7f3b2c741690>"
      ]
     },
     "execution_count": 12,
     "metadata": {},
     "output_type": "execute_result"
    },
    {
     "data": {
      "image/png": "[encoded data removed]",
      "text/plain": [
       "<Figure size 360x360 with 1 Axes>"
      ]
     },
     "metadata": {
      "needs_background": "light"
     },
     "output_type": "display_data"
    }
   ],
   "source": [
    "sns.displot(df[\"AGE\"])"
   ]
  },
  {
   "cell_type": "code",
   "execution_count": 13,
   "id": "52b5f20c",
   "metadata": {
    "execution": {
     "iopub.execute_input": "2022-07-30T10:45:12.339676Z",
     "iopub.status.busy": "2022-07-30T10:45:12.339254Z",
     "iopub.status.idle": "2022-07-30T10:45:12.506965Z",
     "shell.execute_reply": "2022-07-30T10:45:12.505845Z"
    },
    "papermill": {
     "duration": 0.183041,
     "end_time": "2022-07-30T10:45:12.509351",
     "exception": false,
     "start_time": "2022-07-30T10:45:12.326310",
     "status": "completed"
    },
    "tags": []
   },
   "outputs": [
    {
     "data": {
      "image/png": "[encoded data removed]",
      "text/plain": [
       "<Figure size 432x288 with 1 Axes>"
      ]
     },
     "metadata": {
      "needs_background": "light"
     },
     "output_type": "display_data"
    }
   ],
   "source": [
    "#checking for outliers using boxplot\n",
    "\n",
    "sns.boxplot(y = 'AGE', data = df);"
   ]
  },
  {
   "cell_type": "code",
   "execution_count": 14,
   "id": "b23f395e",
   "metadata": {
    "execution": {
     "iopub.execute_input": "2022-07-30T10:45:12.535841Z",
     "iopub.status.busy": "2022-07-30T10:45:12.533843Z",
     "iopub.status.idle": "2022-07-30T10:45:12.685311Z",
     "shell.execute_reply": "2022-07-30T10:45:12.684355Z"
    },
    "papermill": {
     "duration": 0.167638,
     "end_time": "2022-07-30T10:45:12.688569",
     "exception": false,
     "start_time": "2022-07-30T10:45:12.520931",
     "status": "completed"
    },
    "tags": []
   },
   "outputs": [
    {
     "data": {
      "image/png": "[encoded data removed]",
      "text/plain": [
       "<Figure size 432x288 with 1 Axes>"
      ]
     },
     "metadata": {
      "needs_background": "light"
     },
     "output_type": "display_data"
    }
   ],
   "source": [
    "sns.countplot(x=\"LUNG_CANCER\", data=df);"
   ]
  },
  {
   "cell_type": "code",
   "execution_count": 15,
   "id": "6bd24486",
   "metadata": {
    "execution": {
     "iopub.execute_input": "2022-07-30T10:45:12.715419Z",
     "iopub.status.busy": "2022-07-30T10:45:12.714675Z",
     "iopub.status.idle": "2022-07-30T10:45:12.851733Z",
     "shell.execute_reply": "2022-07-30T10:45:12.850046Z"
    },
    "papermill": {
     "duration": 0.155467,
     "end_time": "2022-07-30T10:45:12.856212",
     "exception": false,
     "start_time": "2022-07-30T10:45:12.700745",
     "status": "completed"
    },
    "tags": []
   },
   "outputs": [
    {
     "data": {
      "image/png": "[encoded data removed]",
      "text/plain": [
       "<Figure size 432x288 with 1 Axes>"
      ]
     },
     "metadata": {},
     "output_type": "display_data"
    }
   ],
   "source": [
    "r = df.groupby('LUNG_CANCER')['LUNG_CANCER'].count()\n",
    "plt.pie(r, explode=[0.05, 0.1], labels=['No', 'Yes'], radius=1.5, autopct='%1.1f%%',  shadow=True);"
   ]
  },
  {
   "cell_type": "markdown",
   "id": "7a223169",
   "metadata": {
    "papermill": {
     "duration": 0.022722,
     "end_time": "2022-07-30T10:45:12.904102",
     "exception": false,
     "start_time": "2022-07-30T10:45:12.881380",
     "status": "completed"
    },
    "tags": []
   },
   "source": [
    "As we can see that only 13.8% have no cancer, so we will need to increase the data due to huge imbalance. We will thus use SMOTE"
   ]
  },
  {
   "cell_type": "code",
   "execution_count": 16,
   "id": "c3e6703b",
   "metadata": {
    "execution": {
     "iopub.execute_input": "2022-07-30T10:45:12.944010Z",
     "iopub.status.busy": "2022-07-30T10:45:12.943589Z",
     "iopub.status.idle": "2022-07-30T10:45:15.431219Z",
     "shell.execute_reply": "2022-07-30T10:45:15.430087Z"
    },
    "papermill": {
     "duration": 2.507901,
     "end_time": "2022-07-30T10:45:15.433870",
     "exception": false,
     "start_time": "2022-07-30T10:45:12.925969",
     "status": "completed"
    },
    "tags": []
   },
   "outputs": [
    {
     "data": {
      "image/png": "[encoded data removed]",
      "text/plain": [
       "<Figure size 1800x1080 with 16 Axes>"
      ]
     },
     "metadata": {
      "needs_background": "light"
     },
     "output_type": "display_data"
    }
   ],
   "source": [
    "fig, axes = plt.subplots(4, 4, figsize=(25, 15))\n",
    "fig.suptitle('Different feature distributions')\n",
    "axes = axes.reshape(16,)\n",
    "\n",
    "for i,column in enumerate(df.columns):\n",
    "    sns.histplot(ax = axes[i],data = df, x= column)"
   ]
  },
  {
   "cell_type": "markdown",
   "id": "dc41f741",
   "metadata": {
    "papermill": {
     "duration": 0.012997,
     "end_time": "2022-07-30T10:45:15.460244",
     "exception": false,
     "start_time": "2022-07-30T10:45:15.447247",
     "status": "completed"
    },
    "tags": []
   },
   "source": [
    "# **PREPING DATA FOR MODEL**"
   ]
  },
  {
   "cell_type": "code",
   "execution_count": 17,
   "id": "dda596fe",
   "metadata": {
    "execution": {
     "iopub.execute_input": "2022-07-30T10:45:15.489555Z",
     "iopub.status.busy": "2022-07-30T10:45:15.488957Z",
     "iopub.status.idle": "2022-07-30T10:45:15.511468Z",
     "shell.execute_reply": "2022-07-30T10:45:15.510383Z"
    },
    "papermill": {
     "duration": 0.040419,
     "end_time": "2022-07-30T10:45:15.513979",
     "exception": false,
     "start_time": "2022-07-30T10:45:15.473560",
     "status": "completed"
    },
    "tags": []
   },
   "outputs": [
    {
     "data": {
      "text/html": [
       "<div>\n",
       "<style scoped>\n",
       "    .dataframe tbody tr th:only-of-type {\n",
       "        vertical-align: middle;\n",
       "    }\n",
       "\n",
       "    .dataframe tbody tr th {\n",
       "        vertical-align: top;\n",
       "    }\n",
       "\n",
       "    .dataframe thead th {\n",
       "        text-align: right;\n",
       "    }\n",
       "</style>\n",
       "<table border=\"1\" class=\"dataframe\">\n",
       "  <thead>\n",
       "    <tr style=\"text-align: right;\">\n",
       "      <th></th>\n",
       "      <th>index</th>\n",
       "      <th>GENDER</th>\n",
       "      <th>AGE</th>\n",
       "      <th>SMOKING</th>\n",
       "      <th>YELLOW_FINGERS</th>\n",
       "      <th>ANXIETY</th>\n",
       "      <th>PEER_PRESSURE</th>\n",
       "      <th>CHRONIC DISEASE</th>\n",
       "      <th>FATIGUE</th>\n",
       "      <th>ALLERGY</th>\n",
       "      <th>WHEEZING</th>\n",
       "      <th>ALCOHOL CONSUMING</th>\n",
       "      <th>COUGHING</th>\n",
       "      <th>SHORTNESS OF BREATH</th>\n",
       "      <th>SWALLOWING DIFFICULTY</th>\n",
       "      <th>CHEST PAIN</th>\n",
       "      <th>LUNG_CANCER</th>\n",
       "    </tr>\n",
       "  </thead>\n",
       "  <tbody>\n",
       "    <tr>\n",
       "      <th>0</th>\n",
       "      <td>0</td>\n",
       "      <td>M</td>\n",
       "      <td>69</td>\n",
       "      <td>1</td>\n",
       "      <td>2</td>\n",
       "      <td>2</td>\n",
       "      <td>1</td>\n",
       "      <td>1</td>\n",
       "      <td>2</td>\n",
       "      <td>1</td>\n",
       "      <td>2</td>\n",
       "      <td>2</td>\n",
       "      <td>2</td>\n",
       "      <td>2</td>\n",
       "      <td>2</td>\n",
       "      <td>2</td>\n",
       "      <td>YES</td>\n",
       "    </tr>\n",
       "    <tr>\n",
       "      <th>1</th>\n",
       "      <td>1</td>\n",
       "      <td>M</td>\n",
       "      <td>74</td>\n",
       "      <td>2</td>\n",
       "      <td>1</td>\n",
       "      <td>1</td>\n",
       "      <td>1</td>\n",
       "      <td>2</td>\n",
       "      <td>2</td>\n",
       "      <td>2</td>\n",
       "      <td>1</td>\n",
       "      <td>1</td>\n",
       "      <td>1</td>\n",
       "      <td>2</td>\n",
       "      <td>2</td>\n",
       "      <td>2</td>\n",
       "      <td>YES</td>\n",
       "    </tr>\n",
       "    <tr>\n",
       "      <th>2</th>\n",
       "      <td>2</td>\n",
       "      <td>F</td>\n",
       "      <td>59</td>\n",
       "      <td>1</td>\n",
       "      <td>1</td>\n",
       "      <td>1</td>\n",
       "      <td>2</td>\n",
       "      <td>1</td>\n",
       "      <td>2</td>\n",
       "      <td>1</td>\n",
       "      <td>2</td>\n",
       "      <td>1</td>\n",
       "      <td>2</td>\n",
       "      <td>2</td>\n",
       "      <td>1</td>\n",
       "      <td>2</td>\n",
       "      <td>NO</td>\n",
       "    </tr>\n",
       "    <tr>\n",
       "      <th>3</th>\n",
       "      <td>3</td>\n",
       "      <td>M</td>\n",
       "      <td>63</td>\n",
       "      <td>2</td>\n",
       "      <td>2</td>\n",
       "      <td>2</td>\n",
       "      <td>1</td>\n",
       "      <td>1</td>\n",
       "      <td>1</td>\n",
       "      <td>1</td>\n",
       "      <td>1</td>\n",
       "      <td>2</td>\n",
       "      <td>1</td>\n",
       "      <td>1</td>\n",
       "      <td>2</td>\n",
       "      <td>2</td>\n",
       "      <td>NO</td>\n",
       "    </tr>\n",
       "    <tr>\n",
       "      <th>4</th>\n",
       "      <td>4</td>\n",
       "      <td>F</td>\n",
       "      <td>63</td>\n",
       "      <td>1</td>\n",
       "      <td>2</td>\n",
       "      <td>1</td>\n",
       "      <td>1</td>\n",
       "      <td>1</td>\n",
       "      <td>1</td>\n",
       "      <td>1</td>\n",
       "      <td>2</td>\n",
       "      <td>1</td>\n",
       "      <td>2</td>\n",
       "      <td>2</td>\n",
       "      <td>1</td>\n",
       "      <td>1</td>\n",
       "      <td>NO</td>\n",
       "    </tr>\n",
       "    <tr>\n",
       "      <th>...</th>\n",
       "      <td>...</td>\n",
       "      <td>...</td>\n",
       "      <td>...</td>\n",
       "      <td>...</td>\n",
       "      <td>...</td>\n",
       "      <td>...</td>\n",
       "      <td>...</td>\n",
       "      <td>...</td>\n",
       "      <td>...</td>\n",
       "      <td>...</td>\n",
       "      <td>...</td>\n",
       "      <td>...</td>\n",
       "      <td>...</td>\n",
       "      <td>...</td>\n",
       "      <td>...</td>\n",
       "      <td>...</td>\n",
       "      <td>...</td>\n",
       "    </tr>\n",
       "    <tr>\n",
       "      <th>271</th>\n",
       "      <td>279</td>\n",
       "      <td>F</td>\n",
       "      <td>59</td>\n",
       "      <td>1</td>\n",
       "      <td>2</td>\n",
       "      <td>2</td>\n",
       "      <td>2</td>\n",
       "      <td>1</td>\n",
       "      <td>1</td>\n",
       "      <td>2</td>\n",
       "      <td>2</td>\n",
       "      <td>1</td>\n",
       "      <td>2</td>\n",
       "      <td>1</td>\n",
       "      <td>2</td>\n",
       "      <td>1</td>\n",
       "      <td>YES</td>\n",
       "    </tr>\n",
       "    <tr>\n",
       "      <th>272</th>\n",
       "      <td>280</td>\n",
       "      <td>F</td>\n",
       "      <td>59</td>\n",
       "      <td>2</td>\n",
       "      <td>1</td>\n",
       "      <td>1</td>\n",
       "      <td>1</td>\n",
       "      <td>2</td>\n",
       "      <td>2</td>\n",
       "      <td>2</td>\n",
       "      <td>1</td>\n",
       "      <td>1</td>\n",
       "      <td>1</td>\n",
       "      <td>2</td>\n",
       "      <td>1</td>\n",
       "      <td>1</td>\n",
       "      <td>NO</td>\n",
       "    </tr>\n",
       "    <tr>\n",
       "      <th>273</th>\n",
       "      <td>281</td>\n",
       "      <td>M</td>\n",
       "      <td>55</td>\n",
       "      <td>2</td>\n",
       "      <td>1</td>\n",
       "      <td>1</td>\n",
       "      <td>1</td>\n",
       "      <td>1</td>\n",
       "      <td>2</td>\n",
       "      <td>2</td>\n",
       "      <td>1</td>\n",
       "      <td>1</td>\n",
       "      <td>1</td>\n",
       "      <td>2</td>\n",
       "      <td>1</td>\n",
       "      <td>2</td>\n",
       "      <td>NO</td>\n",
       "    </tr>\n",
       "    <tr>\n",
       "      <th>274</th>\n",
       "      <td>282</td>\n",
       "      <td>M</td>\n",
       "      <td>46</td>\n",
       "      <td>1</td>\n",
       "      <td>2</td>\n",
       "      <td>2</td>\n",
       "      <td>1</td>\n",
       "      <td>1</td>\n",
       "      <td>1</td>\n",
       "      <td>1</td>\n",
       "      <td>1</td>\n",
       "      <td>1</td>\n",
       "      <td>1</td>\n",
       "      <td>1</td>\n",
       "      <td>2</td>\n",
       "      <td>2</td>\n",
       "      <td>NO</td>\n",
       "    </tr>\n",
       "    <tr>\n",
       "      <th>275</th>\n",
       "      <td>283</td>\n",
       "      <td>M</td>\n",
       "      <td>60</td>\n",
       "      <td>1</td>\n",
       "      <td>2</td>\n",
       "      <td>2</td>\n",
       "      <td>1</td>\n",
       "      <td>1</td>\n",
       "      <td>2</td>\n",
       "      <td>1</td>\n",
       "      <td>2</td>\n",
       "      <td>2</td>\n",
       "      <td>2</td>\n",
       "      <td>2</td>\n",
       "      <td>2</td>\n",
       "      <td>2</td>\n",
       "      <td>YES</td>\n",
       "    </tr>\n",
       "  </tbody>\n",
       "</table>\n",
       "<p>276 rows × 17 columns</p>\n",
       "</div>"
      ],
      "text/plain": [
       "     index GENDER  AGE  SMOKING  YELLOW_FINGERS  ANXIETY  PEER_PRESSURE  \\\n",
       "0        0      M   69        1               2        2              1   \n",
       "1        1      M   74        2               1        1              1   \n",
       "2        2      F   59        1               1        1              2   \n",
       "3        3      M   63        2               2        2              1   \n",
       "4        4      F   63        1               2        1              1   \n",
       "..     ...    ...  ...      ...             ...      ...            ...   \n",
       "271    279      F   59        1               2        2              2   \n",
       "272    280      F   59        2               1        1              1   \n",
       "273    281      M   55        2               1        1              1   \n",
       "274    282      M   46        1               2        2              1   \n",
       "275    283      M   60        1               2        2              1   \n",
       "\n",
       "     CHRONIC DISEASE  FATIGUE   ALLERGY   WHEEZING  ALCOHOL CONSUMING  \\\n",
       "0                  1         2         1         2                  2   \n",
       "1                  2         2         2         1                  1   \n",
       "2                  1         2         1         2                  1   \n",
       "3                  1         1         1         1                  2   \n",
       "4                  1         1         1         2                  1   \n",
       "..               ...       ...       ...       ...                ...   \n",
       "271                1         1         2         2                  1   \n",
       "272                2         2         2         1                  1   \n",
       "273                1         2         2         1                  1   \n",
       "274                1         1         1         1                  1   \n",
       "275                1         2         1         2                  2   \n",
       "\n",
       "     COUGHING  SHORTNESS OF BREATH  SWALLOWING DIFFICULTY  CHEST PAIN  \\\n",
       "0           2                    2                      2           2   \n",
       "1           1                    2                      2           2   \n",
       "2           2                    2                      1           2   \n",
       "3           1                    1                      2           2   \n",
       "4           2                    2                      1           1   \n",
       "..        ...                  ...                    ...         ...   \n",
       "271         2                    1                      2           1   \n",
       "272         1                    2                      1           1   \n",
       "273         1                    2                      1           2   \n",
       "274         1                    1                      2           2   \n",
       "275         2                    2                      2           2   \n",
       "\n",
       "    LUNG_CANCER  \n",
       "0           YES  \n",
       "1           YES  \n",
       "2            NO  \n",
       "3            NO  \n",
       "4            NO  \n",
       "..          ...  \n",
       "271         YES  \n",
       "272          NO  \n",
       "273          NO  \n",
       "274          NO  \n",
       "275         YES  \n",
       "\n",
       "[276 rows x 17 columns]"
      ]
     },
     "execution_count": 17,
     "metadata": {},
     "output_type": "execute_result"
    }
   ],
   "source": [
    "df.reset_index()"
   ]
  },
  {
   "cell_type": "code",
   "execution_count": 18,
   "id": "3064b4b3",
   "metadata": {
    "execution": {
     "iopub.execute_input": "2022-07-30T10:45:15.543882Z",
     "iopub.status.busy": "2022-07-30T10:45:15.543498Z",
     "iopub.status.idle": "2022-07-30T10:45:15.691714Z",
     "shell.execute_reply": "2022-07-30T10:45:15.690439Z"
    },
    "papermill": {
     "duration": 0.16618,
     "end_time": "2022-07-30T10:45:15.694476",
     "exception": false,
     "start_time": "2022-07-30T10:45:15.528296",
     "status": "completed"
    },
    "tags": []
   },
   "outputs": [],
   "source": [
    "from sklearn.preprocessing import LabelEncoder, StandardScaler, MinMaxScaler"
   ]
  },
  {
   "cell_type": "code",
   "execution_count": 19,
   "id": "fc06bef8",
   "metadata": {
    "execution": {
     "iopub.execute_input": "2022-07-30T10:45:15.725545Z",
     "iopub.status.busy": "2022-07-30T10:45:15.724585Z",
     "iopub.status.idle": "2022-07-30T10:45:15.728831Z",
     "shell.execute_reply": "2022-07-30T10:45:15.727980Z"
    },
    "papermill": {
     "duration": 0.021761,
     "end_time": "2022-07-30T10:45:15.730783",
     "exception": false,
     "start_time": "2022-07-30T10:45:15.709022",
     "status": "completed"
    },
    "tags": []
   },
   "outputs": [],
   "source": [
    "le = LabelEncoder()"
   ]
  },
  {
   "cell_type": "code",
   "execution_count": 20,
   "id": "ffebbd03",
   "metadata": {
    "execution": {
     "iopub.execute_input": "2022-07-30T10:45:15.760940Z",
     "iopub.status.busy": "2022-07-30T10:45:15.760323Z",
     "iopub.status.idle": "2022-07-30T10:45:15.764881Z",
     "shell.execute_reply": "2022-07-30T10:45:15.763991Z"
    },
    "papermill": {
     "duration": 0.02264,
     "end_time": "2022-07-30T10:45:15.767041",
     "exception": false,
     "start_time": "2022-07-30T10:45:15.744401",
     "status": "completed"
    },
    "tags": []
   },
   "outputs": [],
   "source": [
    "df1 = df.copy(deep=True)"
   ]
  },
  {
   "cell_type": "code",
   "execution_count": 21,
   "id": "14a82bfe",
   "metadata": {
    "execution": {
     "iopub.execute_input": "2022-07-30T10:45:15.796980Z",
     "iopub.status.busy": "2022-07-30T10:45:15.796357Z",
     "iopub.status.idle": "2022-07-30T10:45:15.802259Z",
     "shell.execute_reply": "2022-07-30T10:45:15.801363Z"
    },
    "papermill": {
     "duration": 0.023997,
     "end_time": "2022-07-30T10:45:15.804843",
     "exception": false,
     "start_time": "2022-07-30T10:45:15.780846",
     "status": "completed"
    },
    "tags": []
   },
   "outputs": [],
   "source": [
    "df1.GENDER = le.fit_transform(df1.GENDER)\n",
    "df1.LUNG_CANCER = le.fit_transform(df1.LUNG_CANCER)"
   ]
  },
  {
   "cell_type": "code",
   "execution_count": 22,
   "id": "375adaa0",
   "metadata": {
    "execution": {
     "iopub.execute_input": "2022-07-30T10:45:15.834763Z",
     "iopub.status.busy": "2022-07-30T10:45:15.834170Z",
     "iopub.status.idle": "2022-07-30T10:45:15.844092Z",
     "shell.execute_reply": "2022-07-30T10:45:15.843325Z"
    },
    "papermill": {
     "duration": 0.027586,
     "end_time": "2022-07-30T10:45:15.846421",
     "exception": false,
     "start_time": "2022-07-30T10:45:15.818835",
     "status": "completed"
    },
    "tags": []
   },
   "outputs": [],
   "source": [
    "scaler = MinMaxScaler(copy=True, feature_range=(0, 1))\n",
    "df2 = pd.DataFrame(scaler.fit_transform(df1),columns=df.columns,index=df.index)"
   ]
  },
  {
   "cell_type": "code",
   "execution_count": 23,
   "id": "c6bc58d5",
   "metadata": {
    "execution": {
     "iopub.execute_input": "2022-07-30T10:45:15.877018Z",
     "iopub.status.busy": "2022-07-30T10:45:15.876425Z",
     "iopub.status.idle": "2022-07-30T10:45:15.936592Z",
     "shell.execute_reply": "2022-07-30T10:45:15.935689Z"
    },
    "papermill": {
     "duration": 0.078265,
     "end_time": "2022-07-30T10:45:15.939097",
     "exception": false,
     "start_time": "2022-07-30T10:45:15.860832",
     "status": "completed"
    },
    "tags": []
   },
   "outputs": [],
   "source": [
    "from sklearn.model_selection import train_test_split"
   ]
  },
  {
   "cell_type": "code",
   "execution_count": 24,
   "id": "03781ebe",
   "metadata": {
    "execution": {
     "iopub.execute_input": "2022-07-30T10:45:15.970064Z",
     "iopub.status.busy": "2022-07-30T10:45:15.969446Z",
     "iopub.status.idle": "2022-07-30T10:45:15.977665Z",
     "shell.execute_reply": "2022-07-30T10:45:15.976626Z"
    },
    "papermill": {
     "duration": 0.026783,
     "end_time": "2022-07-30T10:45:15.980533",
     "exception": false,
     "start_time": "2022-07-30T10:45:15.953750",
     "status": "completed"
    },
    "tags": []
   },
   "outputs": [],
   "source": [
    "X = df2.drop('LUNG_CANCER',axis=1)\n",
    "y = df2.LUNG_CANCER\n",
    "X_train, X_test, y_train, y_test = train_test_split(X, y, test_size = 0.2, random_state = 50)"
   ]
  },
  {
   "cell_type": "code",
   "execution_count": 25,
   "id": "c14e7e8c",
   "metadata": {
    "execution": {
     "iopub.execute_input": "2022-07-30T10:45:16.010931Z",
     "iopub.status.busy": "2022-07-30T10:45:16.010355Z",
     "iopub.status.idle": "2022-07-30T10:45:16.350850Z",
     "shell.execute_reply": "2022-07-30T10:45:16.349743Z"
    },
    "papermill": {
     "duration": 0.358556,
     "end_time": "2022-07-30T10:45:16.353485",
     "exception": false,
     "start_time": "2022-07-30T10:45:15.994929",
     "status": "completed"
    },
    "tags": []
   },
   "outputs": [],
   "source": [
    "from imblearn.over_sampling import SMOTE"
   ]
  },
  {
   "cell_type": "code",
   "execution_count": 26,
   "id": "669ea80d",
   "metadata": {
    "execution": {
     "iopub.execute_input": "2022-07-30T10:45:16.383407Z",
     "iopub.status.busy": "2022-07-30T10:45:16.382763Z",
     "iopub.status.idle": "2022-07-30T10:45:16.395562Z",
     "shell.execute_reply": "2022-07-30T10:45:16.394664Z"
    },
    "papermill": {
     "duration": 0.030716,
     "end_time": "2022-07-30T10:45:16.398031",
     "exception": false,
     "start_time": "2022-07-30T10:45:16.367315",
     "status": "completed"
    },
    "tags": []
   },
   "outputs": [],
   "source": [
    "sm = SMOTE(random_state = 500)\n",
    "X_res, y_res = sm.fit_resample(X_train, y_train)"
   ]
  },
  {
   "cell_type": "markdown",
   "id": "607ccdb8",
   "metadata": {
    "papermill": {
     "duration": 0.013946,
     "end_time": "2022-07-30T10:45:16.425680",
     "exception": false,
     "start_time": "2022-07-30T10:45:16.411734",
     "status": "completed"
    },
    "tags": []
   },
   "source": [
    "# **Training Model**"
   ]
  },
  {
   "cell_type": "code",
   "execution_count": 27,
   "id": "ae450c33",
   "metadata": {
    "execution": {
     "iopub.execute_input": "2022-07-30T10:45:16.455823Z",
     "iopub.status.busy": "2022-07-30T10:45:16.455143Z",
     "iopub.status.idle": "2022-07-30T10:45:16.598105Z",
     "shell.execute_reply": "2022-07-30T10:45:16.596996Z"
    },
    "papermill": {
     "duration": 0.161147,
     "end_time": "2022-07-30T10:45:16.600785",
     "exception": false,
     "start_time": "2022-07-30T10:45:16.439638",
     "status": "completed"
    },
    "tags": []
   },
   "outputs": [],
   "source": [
    "from sklearn.metrics import classification_report,confusion_matrix\n",
    "from xgboost import XGBClassifier"
   ]
  },
  {
   "cell_type": "code",
   "execution_count": 28,
   "id": "ef1ec76e",
   "metadata": {
    "execution": {
     "iopub.execute_input": "2022-07-30T10:45:16.630428Z",
     "iopub.status.busy": "2022-07-30T10:45:16.629571Z",
     "iopub.status.idle": "2022-07-30T10:45:29.166344Z",
     "shell.execute_reply": "2022-07-30T10:45:29.165403Z"
    },
    "papermill": {
     "duration": 12.55479,
     "end_time": "2022-07-30T10:45:29.169191",
     "exception": false,
     "start_time": "2022-07-30T10:45:16.614401",
     "status": "completed"
    },
    "tags": []
   },
   "outputs": [
    {
     "data": {
      "text/plain": [
       "0.9285714285714286"
      ]
     },
     "execution_count": 28,
     "metadata": {},
     "output_type": "execute_result"
    }
   ],
   "source": [
    "model = XGBClassifier(learning_rate=0.2,n_estimators=5000,use_label_encoder=False,random_state=40)\n",
    "model.fit(X_res, y_res)\n",
    "y_pred = model.predict(X_test)\n",
    "accuracy = model.score(X_test, y_test)\n",
    "accuracy"
   ]
  },
  {
   "cell_type": "code",
   "execution_count": 29,
   "id": "bc396cfc",
   "metadata": {
    "execution": {
     "iopub.execute_input": "2022-07-30T10:45:29.201130Z",
     "iopub.status.busy": "2022-07-30T10:45:29.200239Z",
     "iopub.status.idle": "2022-07-30T10:45:29.209635Z",
     "shell.execute_reply": "2022-07-30T10:45:29.208833Z"
    },
    "papermill": {
     "duration": 0.028557,
     "end_time": "2022-07-30T10:45:29.212992",
     "exception": false,
     "start_time": "2022-07-30T10:45:29.184435",
     "status": "completed"
    },
    "tags": []
   },
   "outputs": [
    {
     "name": "stdout",
     "output_type": "stream",
     "text": [
      "              precision    recall  f1-score   support\n",
      "\n",
      "         0.0       0.88      0.70      0.78        10\n",
      "         1.0       0.94      0.98      0.96        46\n",
      "\n",
      "    accuracy                           0.93        56\n",
      "   macro avg       0.91      0.84      0.87        56\n",
      "weighted avg       0.93      0.93      0.93        56\n",
      "\n"
     ]
    }
   ],
   "source": [
    "print(classification_report(y_test,y_pred))"
   ]
  },
  {
   "cell_type": "markdown",
   "id": "0e206cc9",
   "metadata": {
    "papermill": {
     "duration": 0.013691,
     "end_time": "2022-07-30T10:45:29.242258",
     "exception": false,
     "start_time": "2022-07-30T10:45:29.228567",
     "status": "completed"
    },
    "tags": []
   },
   "source": [
    "As the amount of data was very low, we were not able to do muhc, additionally this was a very imbalanced data, which led to low no of training samples."
   ]
  },
  {
   "cell_type": "code",
   "execution_count": null,
   "id": "8acbd760",
   "metadata": {
    "papermill": {
     "duration": 0.014277,
     "end_time": "2022-07-30T10:45:29.271229",
     "exception": false,
     "start_time": "2022-07-30T10:45:29.256952",
     "status": "completed"
    },
    "tags": []
   },
   "outputs": [],
   "source": []
  }
 ],
 "metadata": {
  "kernelspec": {
   "display_name": "Python 3",
   "language": "python",
   "name": "python3"
  },
  "language_info": {
   "codemirror_mode": {
    "name": "ipython",
    "version": 3
   },
   "file_extension": ".py",
   "mimetype": "text/x-python",
   "name": "python",
   "nbconvert_exporter": "python",
   "pygments_lexer": "ipython3",
   "version": "3.7.12"
  },
  "papermill": {
   "default_parameters": {},
   "duration": 30.278228,
   "end_time": "2022-07-30T10:45:30.110904",
   "environment_variables": {},
   "exception": null,
   "input_path": "__notebook__.ipynb",
   "output_path": "__notebook__.ipynb",
   "parameters": {},
   "start_time": "2022-07-30T10:44:59.832676",
   "version": "2.3.4"
  }
 },
 "nbformat": 4,
 "nbformat_minor": 5
}
