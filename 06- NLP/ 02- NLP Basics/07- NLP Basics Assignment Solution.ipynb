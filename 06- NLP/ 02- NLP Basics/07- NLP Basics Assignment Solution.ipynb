{
  "cells": [
    {
      "cell_type": "markdown",
      "metadata": {
        "id": "view-in-github",
        "colab_type": "text"
      },
      "source": [
        "<a href=\"https://colab.research.google.com/github/NilanjanJana16/Data-Science/blob/main/06-%20NLP/%2002-%20NLP%20Basics/07-%20NLP%20Basics%20Assignment%20Solution.ipynb\" target=\"_parent\"><img src=\"https://colab.research.google.com/assets/colab-badge.svg\" alt=\"Open In Colab\"/></a>"
      ]
    },
    {
      "cell_type": "markdown",
      "metadata": {
        "id": "wX8jo9v3SmV1"
      },
      "source": [
        "# NLP Basics Assessment - Solutions"
      ]
    },
    {
      "cell_type": "markdown",
      "metadata": {
        "id": "X9KOD4wMSmV2"
      },
      "source": [
        "For this assessment we'll be using the short story [_An Occurrence at Owl Creek Bridge_](https://en.wikipedia.org/wiki/An_Occurrence_at_Owl_Creek_Bridge) by Ambrose Bierce (1890). <br>The text file was obtained from [Project Gutenberg](https://www.gutenberg.org/ebooks/375.txt.utf-8)."
      ]
    },
    {
      "cell_type": "code",
      "execution_count": null,
      "metadata": {
        "id": "XB96wqpOSmV2"
      },
      "outputs": [],
      "source": [
        "# RUN THIS CELL to perform standard imports:\n",
        "import spacy\n",
        "nlp = spacy.load('en_core_web_sm')"
      ]
    },
    {
      "cell_type": "markdown",
      "metadata": {
        "id": "CtFlo2aCSmV3"
      },
      "source": [
        "**1. Create a Doc object from the file `owlcreek.txt`**<br>\n",
        "> HINT: Use `with open('../TextFiles/owlcreek.txt') as f:`"
      ]
    },
    {
      "cell_type": "code",
      "execution_count": null,
      "metadata": {
        "id": "ayknXpHtSmV3"
      },
      "outputs": [],
      "source": [
        "# Enter your code here:\n",
        "\n",
        "with open('../TextFiles/owlcreek.txt') as f:\n",
        "    doc = nlp(f.read())"
      ]
    },
    {
      "cell_type": "code",
      "execution_count": null,
      "metadata": {
        "id": "WA2iKt9KSmV4",
        "outputId": "30e4ba15-486b-4045-eaec-dc9b091fe50e"
      },
      "outputs": [
        {
          "data": {
            "text/plain": [
              "AN OCCURRENCE AT OWL CREEK BRIDGE\n",
              "\n",
              "by Ambrose Bierce\n",
              "\n",
              "I\n",
              "\n",
              "A man stood upon a railroad bridge in northern Alabama, looking down\n",
              "into the swift water twenty feet below.  "
            ]
          },
          "execution_count": 3,
          "metadata": {},
          "output_type": "execute_result"
        }
      ],
      "source": [
        "# Run this cell to verify it worked:\n",
        "\n",
        "doc[:36]"
      ]
    },
    {
      "cell_type": "markdown",
      "metadata": {
        "id": "RmF_TEOwSmV5"
      },
      "source": [
        "**2. How many tokens are contained in the file?**"
      ]
    },
    {
      "cell_type": "code",
      "execution_count": null,
      "metadata": {
        "id": "XnBZMfatSmV5",
        "outputId": "a42121d1-2080-4290-9119-84781ae1cc30"
      },
      "outputs": [
        {
          "data": {
            "text/plain": [
              "4833"
            ]
          },
          "execution_count": 4,
          "metadata": {},
          "output_type": "execute_result"
        }
      ],
      "source": [
        "len(doc)"
      ]
    },
    {
      "cell_type": "markdown",
      "metadata": {
        "id": "SFkBXPvJSmV5"
      },
      "source": [
        "**3. How many sentences are contained in the file?**<br>HINT: You'll want to build a list first!"
      ]
    },
    {
      "cell_type": "code",
      "execution_count": null,
      "metadata": {
        "id": "kwf1YoDESmV6",
        "outputId": "bffb02b7-cd21-465f-bbb5-0216eca393b5"
      },
      "outputs": [
        {
          "data": {
            "text/plain": [
              "211"
            ]
          },
          "execution_count": 5,
          "metadata": {},
          "output_type": "execute_result"
        }
      ],
      "source": [
        "sents = [sent for sent in doc.sents]\n",
        "len(sents)"
      ]
    },
    {
      "cell_type": "markdown",
      "metadata": {
        "id": "nDJ3wNWLSmV6"
      },
      "source": [
        "**4. Print the second sentence in the document**<br> HINT: Indexing starts at zero, and the title counts as the first sentence."
      ]
    },
    {
      "cell_type": "code",
      "execution_count": null,
      "metadata": {
        "id": "O-tZQ9e6SmV7",
        "outputId": "7a6ccef5-92c1-4c75-9775-216bcea9e4f2"
      },
      "outputs": [
        {
          "name": "stdout",
          "output_type": "stream",
          "text": [
            "A man stood upon a railroad bridge in northern Alabama, looking down\n",
            "into the swift water twenty feet below.  \n"
          ]
        }
      ],
      "source": [
        "print(sents[1].text)"
      ]
    },
    {
      "cell_type": "markdown",
      "metadata": {
        "id": "E8K2z_E4SmV7"
      },
      "source": [
        "** 5. For each token in the sentence above, print its `text`, `POS` tag, `dep` tag and `lemma`<br>\n",
        "CHALLENGE: Have values line up in columns in the print output.**"
      ]
    },
    {
      "cell_type": "code",
      "execution_count": null,
      "metadata": {
        "id": "tQ0KTPX9SmV7",
        "outputId": "af016248-dd23-4971-bfcd-a689a2fb8ac3"
      },
      "outputs": [
        {
          "name": "stdout",
          "output_type": "stream",
          "text": [
            "A DET det a\n",
            "man NOUN nsubj man\n",
            "stood VERB ROOT stand\n",
            "upon ADP prep upon\n",
            "a DET det a\n",
            "railroad NOUN compound railroad\n",
            "bridge NOUN pobj bridge\n",
            "in ADP prep in\n",
            "northern ADJ amod northern\n",
            "Alabama PROPN pobj alabama\n",
            ", PUNCT punct ,\n",
            "looking VERB advcl look\n",
            "down PART prt down\n",
            "\n",
            " SPACE  \n",
            "\n",
            "into ADP prep into\n",
            "the DET det the\n",
            "swift ADJ amod swift\n",
            "water NOUN pobj water\n",
            "twenty NUM nummod twenty\n",
            "feet NOUN npadvmod foot\n",
            "below ADV advmod below\n",
            ". PUNCT punct .\n",
            "  SPACE   \n"
          ]
        }
      ],
      "source": [
        "# NORMAL SOLUTION:\n",
        "for token in sents[1]:\n",
        "    print(token.text, token.pos_, token.dep_, token.lemma_)"
      ]
    },
    {
      "cell_type": "code",
      "execution_count": null,
      "metadata": {
        "id": "q0o9WuAMSmV7",
        "outputId": "bc81de96-1dd6-4268-b900-b957ed8ff329"
      },
      "outputs": [
        {
          "name": "stdout",
          "output_type": "stream",
          "text": [
            "A               DET   det        a              \n",
            "man             NOUN  nsubj      man            \n",
            "stood           VERB  ROOT       stand          \n",
            "upon            ADP   prep       upon           \n",
            "a               DET   det        a              \n",
            "railroad        NOUN  compound   railroad       \n",
            "bridge          NOUN  pobj       bridge         \n",
            "in              ADP   prep       in             \n",
            "northern        ADJ   amod       northern       \n",
            "Alabama         PROPN pobj       alabama        \n",
            ",               PUNCT punct      ,              \n",
            "looking         VERB  advcl      look           \n",
            "down            PART  prt        down           \n",
            "\n",
            "               SPACE            \n",
            "              \n",
            "into            ADP   prep       into           \n",
            "the             DET   det        the            \n",
            "swift           ADJ   amod       swift          \n",
            "water           NOUN  pobj       water          \n",
            "twenty          NUM   nummod     twenty         \n",
            "feet            NOUN  npadvmod   foot           \n",
            "below           ADV   advmod     below          \n",
            ".               PUNCT punct      .              \n",
            "                SPACE                           \n"
          ]
        }
      ],
      "source": [
        "# CHALLENGE SOLUTION:\n",
        "for token in sents[1]:\n",
        "    print(f'{token.text:{15}} {token.pos_:{5}} {token.dep_:{10}} {token.lemma_:{15}}')"
      ]
    },
    {
      "cell_type": "markdown",
      "metadata": {
        "id": "IujDls32SmV8"
      },
      "source": [
        "**6. Write a matcher called 'Swimming' that finds both occurrences of the phrase \"swimming vigorously\" in the text**<br>\n",
        "HINT: You should include an `'IS_SPACE': True` pattern between the two words!"
      ]
    },
    {
      "cell_type": "code",
      "execution_count": null,
      "metadata": {
        "id": "gMOLVGMESmV8"
      },
      "outputs": [],
      "source": [
        "# Import the Matcher library:\n",
        "\n",
        "from spacy.matcher import Matcher\n",
        "matcher = Matcher(nlp.vocab)"
      ]
    },
    {
      "cell_type": "code",
      "execution_count": null,
      "metadata": {
        "id": "MI6i6acPSmV8"
      },
      "outputs": [],
      "source": [
        "# Create a pattern and add it to matcher:\n",
        "\n",
        "pattern = [{'LOWER': 'swimming'}, {'IS_SPACE': True, 'OP':'*'}, {'LOWER': 'vigorously'}]\n",
        "\n",
        "matcher.add('Swimming', None, pattern)"
      ]
    },
    {
      "cell_type": "code",
      "execution_count": null,
      "metadata": {
        "id": "a-90A2N7SmV8",
        "outputId": "539d1d9a-fdfb-4c4b-eeb1-bbb250963e59"
      },
      "outputs": [
        {
          "name": "stdout",
          "output_type": "stream",
          "text": [
            "[(12881893835109366681, 1274, 1277), (12881893835109366681, 3607, 3610)]\n"
          ]
        }
      ],
      "source": [
        "# Create a list of matches called \"found_matches\" and print the list:\n",
        "\n",
        "found_matches = matcher(doc)\n",
        "print(found_matches)"
      ]
    },
    {
      "cell_type": "markdown",
      "metadata": {
        "id": "LVb5OIGTSmV9"
      },
      "source": [
        "**7. Print the text surrounding each found match**"
      ]
    },
    {
      "cell_type": "code",
      "execution_count": null,
      "metadata": {
        "id": "Cd2oyMacSmV9",
        "outputId": "cb1cf6bd-d185-43cc-d951-b428d1308a50"
      },
      "outputs": [
        {
          "name": "stdout",
          "output_type": "stream",
          "text": [
            "By diving I could evade the bullets and, swimming\n",
            "vigorously, reach the bank, take to the woods and get away home\n"
          ]
        }
      ],
      "source": [
        "print(doc[1265:1290])"
      ]
    },
    {
      "cell_type": "code",
      "execution_count": null,
      "metadata": {
        "id": "Cw3dTj82SmV9",
        "outputId": "308fc953-9ca5-4b49-a0ea-51ad524a00a5"
      },
      "outputs": [
        {
          "name": "stdout",
          "output_type": "stream",
          "text": [
            "over his shoulder; he was now swimming\n",
            "vigorously with the current.  \n"
          ]
        }
      ],
      "source": [
        "print(doc[3600:3615])"
      ]
    },
    {
      "cell_type": "markdown",
      "metadata": {
        "id": "jtYJFK4KSmV9"
      },
      "source": [
        "**EXTRA CREDIT:<br>Print the *sentence* that contains each found match**"
      ]
    },
    {
      "cell_type": "code",
      "execution_count": null,
      "metadata": {
        "id": "jKnIBOwiSmV9",
        "outputId": "d2f7f16e-3a07-42f0-dfc8-6806722897cf"
      },
      "outputs": [
        {
          "name": "stdout",
          "output_type": "stream",
          "text": [
            "By diving I could evade the bullets and, swimming\n",
            "vigorously, reach the bank, take to the woods and get away home.  \n"
          ]
        }
      ],
      "source": [
        "for sent in sents:\n",
        "    if found_matches[0][1] < sent.end:\n",
        "        print(sent)\n",
        "        break"
      ]
    },
    {
      "cell_type": "code",
      "execution_count": null,
      "metadata": {
        "id": "EePsLrCsSmV-",
        "outputId": "b1447e1e-d25c-442a-dd1e-5f503bb068c7"
      },
      "outputs": [
        {
          "name": "stdout",
          "output_type": "stream",
          "text": [
            "The hunted man saw all this over his shoulder; he was now swimming\n",
            "vigorously with the current.  \n"
          ]
        }
      ],
      "source": [
        "for sent in sents:\n",
        "    if found_matches[1][1] < sent.end:\n",
        "        print(sent)\n",
        "        break"
      ]
    },
    {
      "cell_type": "markdown",
      "metadata": {
        "id": "hPPdJYnqSmV-"
      },
      "source": [
        "### Great Job!"
      ]
    }
  ],
  "metadata": {
    "kernelspec": {
      "display_name": "Python 3",
      "language": "python",
      "name": "python3"
    },
    "language_info": {
      "codemirror_mode": {
        "name": "ipython",
        "version": 3
      },
      "file_extension": ".py",
      "mimetype": "text/x-python",
      "name": "python",
      "nbconvert_exporter": "python",
      "pygments_lexer": "ipython3",
      "version": "3.6.2"
    },
    "colab": {
      "name": "07-NLP-Basics-Assessment-Solution.ipynb",
      "provenance": [],
      "include_colab_link": true
    }
  },
  "nbformat": 4,
  "nbformat_minor": 0
}