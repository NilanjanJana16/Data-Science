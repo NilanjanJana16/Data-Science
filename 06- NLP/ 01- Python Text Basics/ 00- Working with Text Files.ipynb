{
  "cells": [
    {
      "cell_type": "markdown",
      "metadata": {
        "id": "view-in-github",
        "colab_type": "text"
      },
      "source": [
        "<a href=\"https://colab.research.google.com/github/NilanjanJana16/Data-Science/blob/main/06-%20NLP/%2001-%20Python%20Text%20Basics/%2000-%20Working%20with%20Text%20Files.ipynb\" target=\"_parent\"><img src=\"https://colab.research.google.com/assets/colab-badge.svg\" alt=\"Open In Colab\"/></a>"
      ]
    },
    {
      "cell_type": "markdown",
      "metadata": {
        "id": "zXS_6F6unu3E"
      },
      "source": [
        "___\n",
        "\n",
        "<a href='http://www.pieriandata.com'> <img src='../Pierian_Data_Logo.png' /></a>\n",
        "___"
      ]
    },
    {
      "cell_type": "markdown",
      "metadata": {
        "id": "bFUD7J2bnu3F"
      },
      "source": [
        "# Working with Text Files\n",
        "In this section we'll cover\n",
        " * Working with f-strings (formatted string literals) to format printed text\n",
        " * Working with Files - opening, reading, writing and appending text files"
      ]
    },
    {
      "cell_type": "markdown",
      "metadata": {
        "id": "DI028PQnnu3F"
      },
      "source": [
        "## Formatted String Literals (f-strings)"
      ]
    },
    {
      "cell_type": "markdown",
      "metadata": {
        "id": "wuYFagoPnu3F"
      },
      "source": [
        "Introduced in Python 3.6, <strong>f-strings</strong> offer several benefits over the older `.format()` string method. <br>For one, you can bring outside variables immediately into to the string rather than pass them through as keyword arguments:"
      ]
    },
    {
      "cell_type": "code",
      "execution_count": null,
      "metadata": {
        "id": "Fr-dx01jnu3F",
        "outputId": "d31f48b5-8b48-44a9-e6cf-939eeb7aecfa"
      },
      "outputs": [
        {
          "name": "stdout",
          "output_type": "stream",
          "text": [
            "His name is Fred.\n",
            "His name is Fred.\n"
          ]
        }
      ],
      "source": [
        "name = 'Fred'\n",
        "\n",
        "# Using the old .format() method:\n",
        "print('His name is {var}.'.format(var=name))\n",
        "\n",
        "# Using f-strings:\n",
        "print(f'His name is {name}.')"
      ]
    },
    {
      "cell_type": "markdown",
      "metadata": {
        "id": "9Snk8pPOnu3G"
      },
      "source": [
        "Pass `!r` to get the <strong>string representation</strong>:"
      ]
    },
    {
      "cell_type": "code",
      "execution_count": null,
      "metadata": {
        "id": "sVkQZ8lAnu3G",
        "outputId": "81d45828-44cb-4fea-e93c-901af1b2f997"
      },
      "outputs": [
        {
          "name": "stdout",
          "output_type": "stream",
          "text": [
            "His name is 'Fred'\n"
          ]
        }
      ],
      "source": [
        "print(f'His name is {name!r}')"
      ]
    },
    {
      "cell_type": "markdown",
      "metadata": {
        "id": "ZqxLi8Q9nu3G"
      },
      "source": [
        "Be careful not to let quotation marks in the replacement fields conflict with the quoting used in the outer string:"
      ]
    },
    {
      "cell_type": "code",
      "execution_count": null,
      "metadata": {
        "id": "SgiDrc95nu3H",
        "outputId": "e84266d5-5747-45b9-957e-6e3ce7038fd9"
      },
      "outputs": [
        {
          "ename": "SyntaxError",
          "evalue": "invalid syntax (<ipython-input-3-b2f08335b9e5>, line 3)",
          "output_type": "error",
          "traceback": [
            "\u001b[1;36m  File \u001b[1;32m\"<ipython-input-3-b2f08335b9e5>\"\u001b[1;36m, line \u001b[1;32m3\u001b[0m\n\u001b[1;33m    print(f'Address: {d['a']} Main Street')\u001b[0m\n\u001b[1;37m                         ^\u001b[0m\n\u001b[1;31mSyntaxError\u001b[0m\u001b[1;31m:\u001b[0m invalid syntax\n"
          ]
        }
      ],
      "source": [
        "d = {'a':123,'b':456}\n",
        "\n",
        "print(f'Address: {d['a']} Main Street')"
      ]
    },
    {
      "cell_type": "markdown",
      "metadata": {
        "id": "CEO88pVonu3H"
      },
      "source": [
        "Instead, use different styles of quotation marks:"
      ]
    },
    {
      "cell_type": "code",
      "execution_count": null,
      "metadata": {
        "id": "b_4_szEenu3H",
        "outputId": "6d2e69cf-3611-46a0-b4f0-e70a926bacd0"
      },
      "outputs": [
        {
          "name": "stdout",
          "output_type": "stream",
          "text": [
            "Address: 123 Main Street\n"
          ]
        }
      ],
      "source": [
        "d = {'a':123,'b':456}\n",
        "\n",
        "print(f\"Address: {d['a']} Main Street\")"
      ]
    },
    {
      "cell_type": "markdown",
      "metadata": {
        "id": "McqctscSnu3H"
      },
      "source": [
        "### Minimum Widths, Alignment and Padding\n",
        "You can pass arguments inside a nested set of curly braces to set a minimum width for the field, the alignment and even padding characters."
      ]
    },
    {
      "cell_type": "code",
      "execution_count": null,
      "metadata": {
        "id": "5-61bXwwnu3H",
        "outputId": "0be71d7d-68f1-4fda-f93c-e3880d5dcb6a"
      },
      "outputs": [
        {
          "name": "stdout",
          "output_type": "stream",
          "text": [
            "Author     Topic    Pages  \n",
            "Twain      Rafting      601\n",
            "Feynman    Physics       95\n",
            "Hamilton   Mythology     144\n"
          ]
        }
      ],
      "source": [
        "library = [('Author', 'Topic', 'Pages'), ('Twain', 'Rafting', 601), ('Feynman', 'Physics', 95), ('Hamilton', 'Mythology', 144)]\n",
        "\n",
        "for book in library:\n",
        "    print(f'{book[0]:{10}} {book[1]:{8}} {book[2]:{7}}')"
      ]
    },
    {
      "cell_type": "markdown",
      "metadata": {
        "id": "r8-wosolnu3I"
      },
      "source": [
        "Here the first three lines align, except `Pages` follows a default left-alignment while numbers are right-aligned. Also, the fourth line's page number is pushed to the right as `Mythology` exceeds the minimum field width of `8`. When setting minimum field widths make sure to take the longest item into account.\n",
        "\n",
        "To set the alignment, use the character `<` for left-align,  `^` for center, `>` for right.<br>\n",
        "To set padding, precede the alignment character with the padding character (`-` and `.` are common choices).\n",
        "\n",
        "Let's make some adjustments:"
      ]
    },
    {
      "cell_type": "code",
      "execution_count": null,
      "metadata": {
        "id": "l_EfAVDonu3I",
        "outputId": "22da337b-3e50-4483-c9a0-45a3ab3c79ba"
      },
      "outputs": [
        {
          "name": "stdout",
          "output_type": "stream",
          "text": [
            "Author     Topic      ..Pages\n",
            "Twain      Rafting    ....601\n",
            "Feynman    Physics    .....95\n",
            "Hamilton   Mythology  ....144\n"
          ]
        }
      ],
      "source": [
        "for book in library:\n",
        "    print(f'{book[0]:{10}} {book[1]:{10}} {book[2]:.>{7}}') # here .> was added"
      ]
    },
    {
      "cell_type": "markdown",
      "metadata": {
        "id": "mfq2_Lkbnu3I"
      },
      "source": [
        "### Date Formatting"
      ]
    },
    {
      "cell_type": "code",
      "execution_count": 1,
      "metadata": {
        "colab": {
          "base_uri": "https://localhost:8080/"
        },
        "id": "4wK8Zg-knu3I",
        "outputId": "bf19d735-2c5d-47ee-e97a-3ac1154b7d89"
      },
      "outputs": [
        {
          "output_type": "stream",
          "name": "stdout",
          "text": [
            "August 02, 2022\n"
          ]
        }
      ],
      "source": [
        "from datetime import datetime\n",
        "\n",
        "today = datetime(year=2022, month=8, day=2)\n",
        "\n",
        "print(f'{today:%B %d, %Y}')"
      ]
    },
    {
      "cell_type": "markdown",
      "metadata": {
        "id": "d-MBKxIjnu3I"
      },
      "source": [
        "For more info on formatted string literals visit https://docs.python.org/3/reference/lexical_analysis.html#f-strings\n",
        "\n",
        "***"
      ]
    },
    {
      "cell_type": "markdown",
      "metadata": {
        "id": "b1wv76Canu3J"
      },
      "source": [
        "# Files\n",
        "\n",
        "Python uses file objects to interact with external files on your computer. These file objects can be any sort of file you have on your computer, whether it be an audio file, a text file, emails, Excel documents, etc. Note: You will probably need to install certain libraries or modules to interact with those various file types, but they are easily available. (We will cover downloading modules later on in the course).\n",
        "\n",
        "Python has a built-in open function that allows us to open and play with basic file types. First we will need a file though. We're going to use some IPython magic to create a text file!\n",
        "\n",
        "## Creating a File with IPython\n",
        "#### This function is specific to jupyter notebooks! Alternatively, quickly create a simple .txt file with Sublime text editor."
      ]
    },
    {
      "cell_type": "code",
      "execution_count": 2,
      "metadata": {
        "colab": {
          "base_uri": "https://localhost:8080/"
        },
        "id": "MIfo_xq8nu3J",
        "outputId": "21668551-73d3-47dc-e26f-7f2d03955837"
      },
      "outputs": [
        {
          "output_type": "stream",
          "name": "stdout",
          "text": [
            "Writing test.txt\n"
          ]
        }
      ],
      "source": [
        "%%writefile test.txt\n",
        "Hello, this is a quick test file.\n",
        "This is the second line of the file."
      ]
    },
    {
      "cell_type": "markdown",
      "metadata": {
        "id": "w9WAFKoRnu3J"
      },
      "source": [
        "## Python Opening a File\n",
        "\n",
        "### Know Your File's Location\n",
        "\n",
        "It's easy to get an error on this step:"
      ]
    },
    {
      "cell_type": "markdown",
      "metadata": {
        "id": "_HKQlR8nnu3K"
      },
      "source": [
        "To avoid this error, make sure your .txt file is saved in the same location as your notebook. To check your notebook location, use **pwd**:"
      ]
    },
    {
      "cell_type": "code",
      "execution_count": 4,
      "metadata": {
        "colab": {
          "base_uri": "https://localhost:8080/",
          "height": 35
        },
        "id": "7oBPQGYnnu3K",
        "outputId": "25f898e3-035d-4abd-821b-ae07a72ff2bc"
      },
      "outputs": [
        {
          "output_type": "execute_result",
          "data": {
            "text/plain": [
              "'/content'"
            ],
            "application/vnd.google.colaboratory.intrinsic+json": {
              "type": "string"
            }
          },
          "metadata": {},
          "execution_count": 4
        }
      ],
      "source": [
        "pwd"
      ]
    },
    {
      "cell_type": "markdown",
      "metadata": {
        "id": "6-a6S72lnu3K"
      },
      "source": [
        "**Alternatively, to grab files from any location on your computer, simply pass in the entire file path. **\n",
        "\n",
        "For Windows you need to use double \\ so python doesn't treat the second \\ as an escape character, a file path is in the form:\n",
        "\n",
        "    myfile = open(\"C:\\\\Users\\\\YourUserName\\\\Home\\\\Folder\\\\myfile.txt\")\n",
        "\n",
        "For MacOS and Linux you use slashes in the opposite direction:\n",
        "\n",
        "    myfile = open(\"/Users/YourUserName/Folder/myfile.txt\")"
      ]
    },
    {
      "cell_type": "code",
      "execution_count": 5,
      "metadata": {
        "id": "iZOINMzXnu3K"
      },
      "outputs": [],
      "source": [
        "# Open the text.txt file we created earlier\n",
        "my_file = open('test.txt')"
      ]
    },
    {
      "cell_type": "code",
      "execution_count": 6,
      "metadata": {
        "colab": {
          "base_uri": "https://localhost:8080/"
        },
        "id": "3_3Kmkicnu3K",
        "outputId": "c1d7d471-1bdb-4cb3-f0bf-0c7a7fb05994"
      },
      "outputs": [
        {
          "output_type": "execute_result",
          "data": {
            "text/plain": [
              "<_io.TextIOWrapper name='test.txt' mode='r' encoding='UTF-8'>"
            ]
          },
          "metadata": {},
          "execution_count": 6
        }
      ],
      "source": [
        "my_file"
      ]
    },
    {
      "cell_type": "markdown",
      "metadata": {
        "id": "RxactXj9nu3L"
      },
      "source": [
        "`my_file` is now an open file object held in memory. We'll perform some reading and writing exercises, and then we have to close the file to free up memory.\n",
        "\n",
        "### .read() and .seek()"
      ]
    },
    {
      "cell_type": "code",
      "execution_count": 7,
      "metadata": {
        "colab": {
          "base_uri": "https://localhost:8080/",
          "height": 35
        },
        "id": "6pk7mQzOnu3L",
        "outputId": "b0fa0e9e-d820-4297-b5d4-6a7923cc3c6f"
      },
      "outputs": [
        {
          "output_type": "execute_result",
          "data": {
            "text/plain": [
              "'Hello, this is a quick test file.\\nThis is the second line of the file.'"
            ],
            "application/vnd.google.colaboratory.intrinsic+json": {
              "type": "string"
            }
          },
          "metadata": {},
          "execution_count": 7
        }
      ],
      "source": [
        "# We can now read the file\n",
        "my_file.read()"
      ]
    },
    {
      "cell_type": "code",
      "execution_count": 8,
      "metadata": {
        "colab": {
          "base_uri": "https://localhost:8080/",
          "height": 35
        },
        "id": "Lsz6LONonu3L",
        "outputId": "970032b0-ac48-4f0c-b8fe-d520ef5ce849"
      },
      "outputs": [
        {
          "output_type": "execute_result",
          "data": {
            "text/plain": [
              "''"
            ],
            "application/vnd.google.colaboratory.intrinsic+json": {
              "type": "string"
            }
          },
          "metadata": {},
          "execution_count": 8
        }
      ],
      "source": [
        "# But what happens if we try to read it again?\n",
        "my_file.read()"
      ]
    },
    {
      "cell_type": "markdown",
      "metadata": {
        "id": "gCBp6JR-nu3L"
      },
      "source": [
        "This happens because you can imagine the reading \"cursor\" is at the end of the file after having read it. So there is nothing left to read. We can reset the \"cursor\" like this:"
      ]
    },
    {
      "cell_type": "code",
      "execution_count": 9,
      "metadata": {
        "colab": {
          "base_uri": "https://localhost:8080/"
        },
        "id": "ks16okQNnu3L",
        "outputId": "de7c8881-91e2-41aa-dbbf-221f60f6c699"
      },
      "outputs": [
        {
          "output_type": "execute_result",
          "data": {
            "text/plain": [
              "0"
            ]
          },
          "metadata": {},
          "execution_count": 9
        }
      ],
      "source": [
        "# Seek to the start of file (index 0)\n",
        "my_file.seek(0)"
      ]
    },
    {
      "cell_type": "code",
      "execution_count": 10,
      "metadata": {
        "colab": {
          "base_uri": "https://localhost:8080/",
          "height": 35
        },
        "id": "0A0iGNqdnu3L",
        "outputId": "defb56e4-877b-4ad1-c9f9-3f09b0e23754"
      },
      "outputs": [
        {
          "output_type": "execute_result",
          "data": {
            "text/plain": [
              "'Hello, this is a quick test file.\\nThis is the second line of the file.'"
            ],
            "application/vnd.google.colaboratory.intrinsic+json": {
              "type": "string"
            }
          },
          "metadata": {},
          "execution_count": 10
        }
      ],
      "source": [
        "# Now read again\n",
        "my_file.read()"
      ]
    },
    {
      "cell_type": "markdown",
      "metadata": {
        "id": "DidT7weEnu3L"
      },
      "source": [
        "### .readlines()\n",
        "You can read a file line by line using the readlines method. Use caution with large files, since everything will be held in memory. We will learn how to iterate over large files later in the course."
      ]
    },
    {
      "cell_type": "code",
      "execution_count": 11,
      "metadata": {
        "colab": {
          "base_uri": "https://localhost:8080/",
          "height": 35
        },
        "id": "fkM5Z15bnu3M",
        "outputId": "4ab088ee-3d0f-4239-cfe1-4d42857099c8"
      },
      "outputs": [
        {
          "output_type": "execute_result",
          "data": {
            "text/plain": [
              "'Hello, this is a quick test file.\\nThis is the second line of the file.'"
            ],
            "application/vnd.google.colaboratory.intrinsic+json": {
              "type": "string"
            }
          },
          "metadata": {},
          "execution_count": 11
        }
      ],
      "source": [
        "# Saving in read mode\n",
        "my_file.seek(0)\n",
        "content = my_file.read()\n",
        "content"
      ]
    },
    {
      "cell_type": "markdown",
      "metadata": {
        "id": "l2CG4Xq3nu3M"
      },
      "source": [
        "When you have finished using a file, it is always good practice to close it."
      ]
    },
    {
      "cell_type": "code",
      "execution_count": 12,
      "metadata": {
        "id": "UtyMZMrInu3M"
      },
      "outputs": [],
      "source": [
        "my_file.close()"
      ]
    },
    {
      "cell_type": "markdown",
      "metadata": {
        "id": "ALLoZhsRnu3M"
      },
      "source": [
        "## Writing to a File\n",
        "\n",
        "By default, the `open()` function will only allow us to read the file. We need to pass the argument `'w'` to write over the file. For example:"
      ]
    },
    {
      "cell_type": "code",
      "execution_count": 13,
      "metadata": {
        "id": "_eifVYgrnu3M"
      },
      "outputs": [],
      "source": [
        "# Add a second argument to the function, 'w' which stands for write.\n",
        "# Passing 'w+' lets us read and write to the file\n",
        "\n",
        "my_file = open('test.txt','w+')"
      ]
    },
    {
      "cell_type": "markdown",
      "metadata": {
        "id": "RC8eDWrbnu3M"
      },
      "source": [
        "<div class=\"alert alert-danger\" style=\"margin: 20px\">**Use caution!**<br>\n",
        "Opening a file with 'w' or 'w+' *truncates the original*, meaning that anything that was in the original file **is deleted**!</div>"
      ]
    },
    {
      "cell_type": "code",
      "execution_count": 14,
      "metadata": {
        "colab": {
          "base_uri": "https://localhost:8080/"
        },
        "id": "GzVq1IhAnu3M",
        "outputId": "6471d8e5-5ec5-40a7-999e-2809f83186e5"
      },
      "outputs": [
        {
          "output_type": "execute_result",
          "data": {
            "text/plain": [
              "24"
            ]
          },
          "metadata": {},
          "execution_count": 14
        }
      ],
      "source": [
        "# Write to the file\n",
        "my_file.write('This is a new first line')"
      ]
    },
    {
      "cell_type": "code",
      "execution_count": 15,
      "metadata": {
        "colab": {
          "base_uri": "https://localhost:8080/",
          "height": 35
        },
        "id": "dQ1zvPTZnu3N",
        "outputId": "87580b21-2605-4fc0-d121-7003c9227f63"
      },
      "outputs": [
        {
          "output_type": "execute_result",
          "data": {
            "text/plain": [
              "'This is a new first line'"
            ],
            "application/vnd.google.colaboratory.intrinsic+json": {
              "type": "string"
            }
          },
          "metadata": {},
          "execution_count": 15
        }
      ],
      "source": [
        "# Read the file\n",
        "my_file.seek(0)\n",
        "my_file.read()"
      ]
    },
    {
      "cell_type": "code",
      "execution_count": null,
      "metadata": {
        "id": "nzN9pow7nu3N"
      },
      "outputs": [],
      "source": [
        "my_file.close()  # always do this when you're done with a file"
      ]
    },
    {
      "cell_type": "markdown",
      "metadata": {
        "id": "G2d6qH36nu3N"
      },
      "source": [
        "## Appending to a File\n",
        "Passing the argument `'a'` opens the file and puts the pointer at the end, so anything written is appended. Like `'w+'`, `'a+'` lets us read and write to a file. If the file does not exist, one will be created."
      ]
    },
    {
      "cell_type": "code",
      "execution_count": 16,
      "metadata": {
        "colab": {
          "base_uri": "https://localhost:8080/"
        },
        "id": "3D_PvE8Rnu3N",
        "outputId": "5d5efbf6-67dd-4d67-cae1-034a31b4e3f8"
      },
      "outputs": [
        {
          "output_type": "execute_result",
          "data": {
            "text/plain": [
              "23"
            ]
          },
          "metadata": {},
          "execution_count": 16
        }
      ],
      "source": [
        "my_file = open('test.txt','a+')\n",
        "my_file.write('\\nThis line is being appended to test.txt')\n",
        "my_file.write('\\nAnd another line here.')"
      ]
    },
    {
      "cell_type": "code",
      "execution_count": 17,
      "metadata": {
        "colab": {
          "base_uri": "https://localhost:8080/"
        },
        "id": "o3aBc2jVnu3N",
        "outputId": "303a830a-d4f0-406f-83dd-7923ef31b76c"
      },
      "outputs": [
        {
          "output_type": "stream",
          "name": "stdout",
          "text": [
            "This is a new first line\n",
            "This line is being appended to test.txt\n",
            "And another line here.\n"
          ]
        }
      ],
      "source": [
        "my_file.seek(0)\n",
        "print(my_file.read())"
      ]
    },
    {
      "cell_type": "code",
      "execution_count": 18,
      "metadata": {
        "id": "EXsXkdvmnu3N"
      },
      "outputs": [],
      "source": [
        "my_file.close()"
      ]
    },
    {
      "cell_type": "markdown",
      "metadata": {
        "id": "3S2mzA6wnu3N"
      },
      "source": [
        "### Appending with `%%writefile`\n",
        "Jupyter notebook users can do the same thing using IPython cell magic:"
      ]
    },
    {
      "cell_type": "code",
      "execution_count": null,
      "metadata": {
        "id": "F5aCQ5Zanu3N",
        "outputId": "af94b794-1a90-43ba-ae46-fc3066daf5a9"
      },
      "outputs": [
        {
          "name": "stdout",
          "output_type": "stream",
          "text": [
            "Appending to test.txt\n"
          ]
        }
      ],
      "source": [
        "%%writefile -a test.txt\n",
        "\n",
        "This is more text being appended to test.txt\n",
        "And another line here."
      ]
    },
    {
      "cell_type": "markdown",
      "metadata": {
        "id": "ue24ed6Hnu3O"
      },
      "source": [
        "Add a blank space if you want the first line to begin on its own line, as Jupyter won't recognize escape sequences like `\\n`"
      ]
    },
    {
      "cell_type": "markdown",
      "metadata": {
        "id": "5Sin8nbbnu3O"
      },
      "source": [
        "## Aliases and Context Managers\n",
        "You can assign temporary variable names as aliases, and manage the opening and closing of files automatically using a context manager:"
      ]
    },
    {
      "cell_type": "code",
      "execution_count": 19,
      "metadata": {
        "colab": {
          "base_uri": "https://localhost:8080/"
        },
        "id": "g48b22nenu3O",
        "outputId": "c334ad13-b9e2-458a-f4bc-d6958d3ab1dc"
      },
      "outputs": [
        {
          "output_type": "stream",
          "name": "stdout",
          "text": [
            "This is a new first line\n",
            "\n"
          ]
        }
      ],
      "source": [
        "with open('test.txt','r') as txt:\n",
        "    first_line = txt.readlines()[0]\n",
        "    \n",
        "print(first_line)"
      ]
    },
    {
      "cell_type": "markdown",
      "metadata": {
        "id": "AN096j08nu3O"
      },
      "source": [
        "Note that the `with ... as ...:` context manager automatically closed `test.txt` after assigning the first line of text to first_line:"
      ]
    },
    {
      "cell_type": "code",
      "execution_count": null,
      "metadata": {
        "id": "oiTZcolgnu3O",
        "outputId": "266f72d3-5f1e-468a-aa20-baa9a83b096c"
      },
      "outputs": [
        {
          "ename": "ValueError",
          "evalue": "I/O operation on closed file.",
          "output_type": "error",
          "traceback": [
            "\u001b[1;31m---------------------------------------------------------------------------\u001b[0m",
            "\u001b[1;31mValueError\u001b[0m                                Traceback (most recent call last)",
            "\u001b[1;32m<ipython-input-28-39ca4397fa0a>\u001b[0m in \u001b[0;36m<module>\u001b[1;34m()\u001b[0m\n\u001b[1;32m----> 1\u001b[1;33m \u001b[0mtxt\u001b[0m\u001b[1;33m.\u001b[0m\u001b[0mread\u001b[0m\u001b[1;33m(\u001b[0m\u001b[1;33m)\u001b[0m\u001b[1;33m\u001b[0m\u001b[0m\n\u001b[0m",
            "\u001b[1;31mValueError\u001b[0m: I/O operation on closed file."
          ]
        }
      ],
      "source": [
        "txt.read()"
      ]
    },
    {
      "cell_type": "markdown",
      "metadata": {
        "id": "6SoqM68Gnu3O"
      },
      "source": [
        "## Iterating through a File"
      ]
    },
    {
      "cell_type": "code",
      "execution_count": 20,
      "metadata": {
        "colab": {
          "base_uri": "https://localhost:8080/"
        },
        "id": "LhOep3SCnu3O",
        "outputId": "68f3d66b-dbc4-4f70-8a42-ce9c5417c504"
      },
      "outputs": [
        {
          "output_type": "stream",
          "name": "stdout",
          "text": [
            "This is a new first line\n",
            "This line is being appended to test.txt\n",
            "And another line here."
          ]
        }
      ],
      "source": [
        "with open('test.txt','r') as txt:\n",
        "    for line in txt:\n",
        "        print(line, end='')  # the end='' argument removes extra linebreaks"
      ]
    },
    {
      "cell_type": "code",
      "source": [
        ""
      ],
      "metadata": {
        "id": "QhdvQKnHsHAi"
      },
      "execution_count": null,
      "outputs": []
    }
  ],
  "metadata": {
    "kernelspec": {
      "display_name": "Python 3",
      "language": "python",
      "name": "python3"
    },
    "language_info": {
      "codemirror_mode": {
        "name": "ipython",
        "version": 3
      },
      "file_extension": ".py",
      "mimetype": "text/x-python",
      "name": "python",
      "nbconvert_exporter": "python",
      "pygments_lexer": "ipython3",
      "version": "3.6.7"
    },
    "colab": {
      "name": "00-Working-with-Text-Files.ipynb",
      "provenance": [],
      "collapsed_sections": [],
      "include_colab_link": true
    }
  },
  "nbformat": 4,
  "nbformat_minor": 0
}