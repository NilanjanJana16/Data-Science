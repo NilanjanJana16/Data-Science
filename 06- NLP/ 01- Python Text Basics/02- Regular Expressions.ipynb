{
  "cells": [
    {
      "cell_type": "markdown",
      "metadata": {
        "id": "view-in-github",
        "colab_type": "text"
      },
      "source": [
        "<a href=\"https://colab.research.google.com/github/NilanjanJana16/Data-Science/blob/main/06-%20NLP/%2001-%20Python%20Text%20Basics/02-%20Regular%20Expressions.ipynb\" target=\"_parent\"><img src=\"https://colab.research.google.com/assets/colab-badge.svg\" alt=\"Open In Colab\"/></a>"
      ]
    },
    {
      "cell_type": "markdown",
      "metadata": {
        "id": "0dHribTKoChi"
      },
      "source": [
        "# Regular Expressions\n",
        "\n",
        "Regular Expressions (sometimes called regex for short) allow a user to search for strings using almost any sort of rule they can come up with. For example, finding all capital letters in a string, or finding a phone number in a document. \n",
        "\n",
        "Regular expressions are notorious for their seemingly strange syntax. This strange syntax is a byproduct of their flexibility. Regular expressions have to be able to filter out any string pattern you can imagine, which is why they have a complex string pattern format.\n",
        "\n",
        "Regular expressions are handled using Python's built-in **re** library. See [the docs](https://docs.python.org/3/library/re.html) for more information."
      ]
    },
    {
      "cell_type": "markdown",
      "metadata": {
        "id": "Deospj4LoChj"
      },
      "source": [
        "Let's begin by explaining how to search for basic patterns in a string!"
      ]
    },
    {
      "cell_type": "markdown",
      "metadata": {
        "id": "ZhwGTId1oChj"
      },
      "source": [
        "## Searching for Basic Patterns\n",
        "\n",
        "Let's imagine that we have the following string:"
      ]
    },
    {
      "cell_type": "code",
      "execution_count": 11,
      "metadata": {
        "id": "mK03417ooChj"
      },
      "outputs": [],
      "source": [
        "text = \"The agent's phone number is 408-555-1234. Call soon!\""
      ]
    },
    {
      "cell_type": "markdown",
      "metadata": {
        "id": "cxj9BUO8oChk"
      },
      "source": [
        "We'll start off by trying to find out if the string \"phone\" is inside the text string. Now we could quickly do this with:"
      ]
    },
    {
      "cell_type": "code",
      "execution_count": 12,
      "metadata": {
        "colab": {
          "base_uri": "https://localhost:8080/"
        },
        "id": "aQ8FNxDYoChk",
        "outputId": "bc27424e-9af8-4505-81ab-169d7d00464b"
      },
      "outputs": [
        {
          "output_type": "execute_result",
          "data": {
            "text/plain": [
              "True"
            ]
          },
          "metadata": {},
          "execution_count": 12
        }
      ],
      "source": [
        "'phone' in text"
      ]
    },
    {
      "cell_type": "markdown",
      "metadata": {
        "id": "HBDWpWPwoChl"
      },
      "source": [
        "But let's show the format for regular expressions, because later on we will be searching for patterns that won't have such a simple solution."
      ]
    },
    {
      "cell_type": "code",
      "execution_count": 13,
      "metadata": {
        "id": "dvekppZJoChm"
      },
      "outputs": [],
      "source": [
        "import re   #regular expression library"
      ]
    },
    {
      "cell_type": "code",
      "execution_count": 14,
      "metadata": {
        "id": "XImFcMxIoChm"
      },
      "outputs": [],
      "source": [
        "pattern = 'phone'"
      ]
    },
    {
      "cell_type": "code",
      "execution_count": 15,
      "metadata": {
        "colab": {
          "base_uri": "https://localhost:8080/"
        },
        "id": "he8JmxPOoChn",
        "outputId": "7c6b0bcb-c489-4f8d-ffcb-4f58025ea1f9"
      },
      "outputs": [
        {
          "output_type": "execute_result",
          "data": {
            "text/plain": [
              "<re.Match object; span=(12, 17), match='phone'>"
            ]
          },
          "metadata": {},
          "execution_count": 15
        }
      ],
      "source": [
        "re.search(pattern,text)"
      ]
    },
    {
      "cell_type": "code",
      "execution_count": 16,
      "metadata": {
        "id": "DS1HY7ePoChn"
      },
      "outputs": [],
      "source": [
        "pattern = \"NOT IN TEXT\""
      ]
    },
    {
      "cell_type": "code",
      "execution_count": 17,
      "metadata": {
        "id": "8vYEH_-HoChn"
      },
      "outputs": [],
      "source": [
        "re.search(pattern,text)"
      ]
    },
    {
      "cell_type": "markdown",
      "metadata": {
        "id": "rqXtpVO1oChn"
      },
      "source": [
        "Now we've seen that re.search() will take the pattern, scan the text, and then returns a Match object. If no pattern is found, a None is returned (in Jupyter Notebook this just means that nothing is output below the cell).\n",
        "\n",
        "Let's take a closer look at this Match object."
      ]
    },
    {
      "cell_type": "code",
      "execution_count": 18,
      "metadata": {
        "id": "8YJR7JNDoCho"
      },
      "outputs": [],
      "source": [
        "pattern = 'phone'"
      ]
    },
    {
      "cell_type": "code",
      "execution_count": 19,
      "metadata": {
        "id": "mWOAb2TkoCho"
      },
      "outputs": [],
      "source": [
        "match = re.search(pattern,text)"
      ]
    },
    {
      "cell_type": "code",
      "execution_count": 20,
      "metadata": {
        "colab": {
          "base_uri": "https://localhost:8080/"
        },
        "id": "gpCRsb0boCho",
        "outputId": "9723b12f-a2a0-4c75-ff2c-ae369f2bf8c0"
      },
      "outputs": [
        {
          "output_type": "execute_result",
          "data": {
            "text/plain": [
              "<re.Match object; span=(12, 17), match='phone'>"
            ]
          },
          "metadata": {},
          "execution_count": 20
        }
      ],
      "source": [
        "match"
      ]
    },
    {
      "cell_type": "markdown",
      "metadata": {
        "id": "1Qv1_sKDoCho"
      },
      "source": [
        "Notice the span, there is also a start and end index information."
      ]
    },
    {
      "cell_type": "code",
      "execution_count": 21,
      "metadata": {
        "colab": {
          "base_uri": "https://localhost:8080/"
        },
        "id": "UgnXx59PoCho",
        "outputId": "c5b25fb2-c6cd-417b-cc35-d53d64bd4f79"
      },
      "outputs": [
        {
          "output_type": "execute_result",
          "data": {
            "text/plain": [
              "(12, 17)"
            ]
          },
          "metadata": {},
          "execution_count": 21
        }
      ],
      "source": [
        "match.span()"
      ]
    },
    {
      "cell_type": "code",
      "execution_count": 22,
      "metadata": {
        "colab": {
          "base_uri": "https://localhost:8080/"
        },
        "id": "FwWzLhOJoChp",
        "outputId": "b97d519d-b0fc-4420-a5b2-642643710413"
      },
      "outputs": [
        {
          "output_type": "execute_result",
          "data": {
            "text/plain": [
              "12"
            ]
          },
          "metadata": {},
          "execution_count": 22
        }
      ],
      "source": [
        "match.start()"
      ]
    },
    {
      "cell_type": "code",
      "execution_count": 23,
      "metadata": {
        "colab": {
          "base_uri": "https://localhost:8080/"
        },
        "id": "6xxlHiYmoChp",
        "outputId": "94d10f2f-ed48-490e-cacb-502a263b95f5"
      },
      "outputs": [
        {
          "output_type": "execute_result",
          "data": {
            "text/plain": [
              "17"
            ]
          },
          "metadata": {},
          "execution_count": 23
        }
      ],
      "source": [
        "match.end()"
      ]
    },
    {
      "cell_type": "markdown",
      "metadata": {
        "id": "yZec0VrBoChp"
      },
      "source": [
        "But what if the pattern occurs more than once?"
      ]
    },
    {
      "cell_type": "code",
      "execution_count": 24,
      "metadata": {
        "id": "ubQ2nkl1oChp"
      },
      "outputs": [],
      "source": [
        "text = \"my phone is a new phone\""
      ]
    },
    {
      "cell_type": "code",
      "execution_count": 25,
      "metadata": {
        "id": "7WoXh_c0oChp"
      },
      "outputs": [],
      "source": [
        "match = re.search(\"phone\",text)"
      ]
    },
    {
      "cell_type": "code",
      "execution_count": 26,
      "metadata": {
        "colab": {
          "base_uri": "https://localhost:8080/"
        },
        "id": "WFUVHTUsoChq",
        "outputId": "dac3115b-8972-4b60-9f43-676dd810c644"
      },
      "outputs": [
        {
          "output_type": "execute_result",
          "data": {
            "text/plain": [
              "(3, 8)"
            ]
          },
          "metadata": {},
          "execution_count": 26
        }
      ],
      "source": [
        "match.span()"
      ]
    },
    {
      "cell_type": "markdown",
      "metadata": {
        "id": "oDZ_JZOfoChq"
      },
      "source": [
        "Notice it only matches the first instance. If we wanted a list of all matches, we can use .findall() method:"
      ]
    },
    {
      "cell_type": "code",
      "execution_count": 27,
      "metadata": {
        "id": "wHz82xh9oChq"
      },
      "outputs": [],
      "source": [
        "matches = re.findall(\"phone\",text)"
      ]
    },
    {
      "cell_type": "code",
      "execution_count": 28,
      "metadata": {
        "colab": {
          "base_uri": "https://localhost:8080/"
        },
        "id": "pWDJFpQVoChq",
        "outputId": "ad5bd4e8-a672-4044-e59f-5eb98a05ed1a"
      },
      "outputs": [
        {
          "output_type": "execute_result",
          "data": {
            "text/plain": [
              "['phone', 'phone']"
            ]
          },
          "metadata": {},
          "execution_count": 28
        }
      ],
      "source": [
        "matches"
      ]
    },
    {
      "cell_type": "code",
      "execution_count": 29,
      "metadata": {
        "colab": {
          "base_uri": "https://localhost:8080/"
        },
        "id": "QM64GKHJoChq",
        "outputId": "e61a736c-14f5-4c61-9d7a-910b54daff06"
      },
      "outputs": [
        {
          "output_type": "execute_result",
          "data": {
            "text/plain": [
              "2"
            ]
          },
          "metadata": {},
          "execution_count": 29
        }
      ],
      "source": [
        "len(matches)"
      ]
    },
    {
      "cell_type": "markdown",
      "metadata": {
        "id": "5E8SETyToChq"
      },
      "source": [
        "To get actual match objects, use the iterator:"
      ]
    },
    {
      "cell_type": "code",
      "execution_count": 30,
      "metadata": {
        "colab": {
          "base_uri": "https://localhost:8080/"
        },
        "id": "M_OVWRT0oChq",
        "outputId": "6964053d-88cf-4e35-bbbd-fab6c87289ea"
      },
      "outputs": [
        {
          "output_type": "stream",
          "name": "stdout",
          "text": [
            "(3, 8)\n",
            "(18, 23)\n"
          ]
        }
      ],
      "source": [
        "for match in re.finditer(\"phone\",text):\n",
        "    print(match.span())"
      ]
    },
    {
      "cell_type": "markdown",
      "metadata": {
        "id": "iUML_YULoChr"
      },
      "source": [
        "If you wanted the actual text that matched, you can use the .group() method."
      ]
    },
    {
      "cell_type": "code",
      "execution_count": 31,
      "metadata": {
        "colab": {
          "base_uri": "https://localhost:8080/",
          "height": 35
        },
        "id": "tlymNtH0oChr",
        "outputId": "5c827dd5-ec44-488a-cbfa-ae3af11d7417"
      },
      "outputs": [
        {
          "output_type": "execute_result",
          "data": {
            "text/plain": [
              "'phone'"
            ],
            "application/vnd.google.colaboratory.intrinsic+json": {
              "type": "string"
            }
          },
          "metadata": {},
          "execution_count": 31
        }
      ],
      "source": [
        "match.group()"
      ]
    },
    {
      "cell_type": "markdown",
      "metadata": {
        "id": "sEGCeX0WoChr"
      },
      "source": [
        "# Patterns\n",
        "\n",
        "So far we've learned how to search for a basic string. What about more complex examples? Such as trying to find a telephone number in a large string of text? Or an email address?\n",
        "\n",
        "We could just use search method if we know the exact phone or email, but what if we don't know it? We may know the general format, and we can use that along with regular expressions to search the document for strings that match a particular pattern.\n",
        "\n",
        "This is where the syntax may appear strange at first, but take your time with this; often it's just a matter of looking up the pattern code.\n",
        "\n",
        "Let's begin!"
      ]
    },
    {
      "cell_type": "markdown",
      "metadata": {
        "id": "yZcGcu7coChr"
      },
      "source": [
        "## Identifiers for Characters in Patterns\n",
        "\n",
        "Characters such as a digit or a single string have different codes that represent them. You can use these to build up a pattern string. Notice how these make heavy use of the backwards slash \\ . Because of this when defining a pattern string for regular expression we use the format:\n",
        "\n",
        "    r'mypattern'\n",
        "    \n",
        "placing the r in front of the string allows python to understand that the \\ in the pattern string are not meant to be escape slashes.\n",
        "\n",
        "Below you can find a table of all the possible identifiers:"
      ]
    },
    {
      "cell_type": "markdown",
      "metadata": {
        "id": "UVGkOwPcoChr"
      },
      "source": [
        "<table ><tr><th>Character</th><th>Description</th><th>Example Pattern Code</th><th >Exammple Match</th></tr>\n",
        "\n",
        "<tr ><td><span >\\d</span></td><td>A digit</td><td>file_\\d\\d</td><td>file_25</td></tr>\n",
        "\n",
        "<tr ><td><span >\\w</span></td><td>Alphanumeric</td><td>\\w-\\w\\w\\w</td><td>A-b_1</td></tr>\n",
        "\n",
        "\n",
        "\n",
        "<tr ><td><span >\\s</span></td><td>White space</td><td>a\\sb\\sc</td><td>a b c</td></tr>\n",
        "\n",
        "\n",
        "\n",
        "<tr ><td><span >\\D</span></td><td>A non digit</td><td>\\D\\D\\D</td><td>ABC</td></tr>\n",
        "\n",
        "<tr ><td><span >\\W</span></td><td>Non-alphanumeric</td><td>\\W\\W\\W\\W\\W</td><td>*-+=)</td></tr>\n",
        "\n",
        "<tr ><td><span >\\S</span></td><td>Non-whitespace</td><td>\\S\\S\\S\\S</td><td>Yoyo</td></tr></table>"
      ]
    },
    {
      "cell_type": "markdown",
      "metadata": {
        "id": "9gZoL1WNoChs"
      },
      "source": [
        "For example:"
      ]
    },
    {
      "cell_type": "code",
      "execution_count": 32,
      "metadata": {
        "id": "xVzi0cQuoChs"
      },
      "outputs": [],
      "source": [
        "text = \"My telephone number is 408-555-1234\""
      ]
    },
    {
      "cell_type": "code",
      "execution_count": 33,
      "metadata": {
        "id": "AiC0TaRCoChs"
      },
      "outputs": [],
      "source": [
        "phone = re.search(r'\\d\\d\\d-\\d\\d\\d-\\d\\d\\d\\d',text)"
      ]
    },
    {
      "cell_type": "code",
      "execution_count": 34,
      "metadata": {
        "colab": {
          "base_uri": "https://localhost:8080/",
          "height": 35
        },
        "id": "SJ9QffPnoChs",
        "outputId": "be47fc39-9e6b-4a9b-8166-47f2d3cb20da"
      },
      "outputs": [
        {
          "output_type": "execute_result",
          "data": {
            "text/plain": [
              "'408-555-1234'"
            ],
            "application/vnd.google.colaboratory.intrinsic+json": {
              "type": "string"
            }
          },
          "metadata": {},
          "execution_count": 34
        }
      ],
      "source": [
        "phone.group()"
      ]
    },
    {
      "cell_type": "markdown",
      "metadata": {
        "id": "hlf5nWWJoChs"
      },
      "source": [
        "Notice the repetition of \\d. That is a bit of an annoyance, especially if we are looking for very long strings of numbers. Let's explore the possible quantifiers.\n",
        "\n",
        "## Quantifiers\n",
        "\n",
        "Now that we know the special character designations, we can use them along with quantifiers to define how many we expect."
      ]
    },
    {
      "cell_type": "markdown",
      "metadata": {
        "id": "wjxaFloJoChs"
      },
      "source": [
        "<table ><tr><th>Character</th><th>Description</th><th>Example Pattern Code</th><th >Exammple Match</th></tr>\n",
        "\n",
        "<tr ><td><span >+</span></td><td>Occurs one or more times</td><td>\tVersion \\w-\\w+</td><td>Version A-b1_1</td></tr>\n",
        "\n",
        "<tr ><td><span >{3}</span></td><td>Occurs exactly 3 times</td><td>\\D{3}</td><td>abc</td></tr>\n",
        "\n",
        "\n",
        "\n",
        "<tr ><td><span >{2,4}</span></td><td>Occurs 2 to 4 times</td><td>\\d{2,4}</td><td>123</td></tr>\n",
        "\n",
        "\n",
        "\n",
        "<tr ><td><span >{3,}</span></td><td>Occurs 3 or more</td><td>\\w{3,}</td><td>anycharacters</td></tr>\n",
        "\n",
        "<tr ><td><span >\\*</span></td><td>Occurs zero or more times</td><td>A\\*B\\*C*</td><td>AAACC</td></tr>\n",
        "\n",
        "<tr ><td><span >?</span></td><td>Once or none</td><td>plurals?</td><td>plural</td></tr></table>"
      ]
    },
    {
      "cell_type": "markdown",
      "metadata": {
        "id": "gUudNbiQoChs"
      },
      "source": [
        "Let's rewrite our pattern using these quantifiers:"
      ]
    },
    {
      "cell_type": "code",
      "execution_count": 35,
      "metadata": {
        "colab": {
          "base_uri": "https://localhost:8080/"
        },
        "id": "_YGmkqd0oCht",
        "outputId": "6337773b-2a5c-4619-bc2c-4fc8b325f538"
      },
      "outputs": [
        {
          "output_type": "execute_result",
          "data": {
            "text/plain": [
              "<re.Match object; span=(23, 35), match='408-555-1234'>"
            ]
          },
          "metadata": {},
          "execution_count": 35
        }
      ],
      "source": [
        "re.search(r'\\d{3}-\\d{3}-\\d{4}',text)"
      ]
    },
    {
      "cell_type": "markdown",
      "metadata": {
        "id": "7HSHwqVWoCht"
      },
      "source": [
        "## Groups\n",
        "\n",
        "What if we wanted to do two tasks, find phone numbers, but also be able to quickly extract their area code (the first three digits). We can use groups for any general task that involves grouping together regular expressions (so that we can later break them down). \n",
        "\n",
        "Using the phone number example, we can separate groups of regular expressions using parentheses:"
      ]
    },
    {
      "cell_type": "code",
      "execution_count": 36,
      "metadata": {
        "id": "jThuDM2GoCht"
      },
      "outputs": [],
      "source": [
        "phone_pattern = re.compile(r'(\\d{3})-(\\d{3})-(\\d{4})')"
      ]
    },
    {
      "cell_type": "code",
      "execution_count": 37,
      "metadata": {
        "id": "ZfDjMbDWoCht"
      },
      "outputs": [],
      "source": [
        "results = re.search(phone_pattern,text)"
      ]
    },
    {
      "cell_type": "code",
      "execution_count": 38,
      "metadata": {
        "colab": {
          "base_uri": "https://localhost:8080/",
          "height": 35
        },
        "id": "8Sx-x-nBoCht",
        "outputId": "92b97b3e-425e-4a56-c6a7-82e0fe3ff163"
      },
      "outputs": [
        {
          "output_type": "execute_result",
          "data": {
            "text/plain": [
              "'408-555-1234'"
            ],
            "application/vnd.google.colaboratory.intrinsic+json": {
              "type": "string"
            }
          },
          "metadata": {},
          "execution_count": 38
        }
      ],
      "source": [
        "# The entire result\n",
        "results.group()"
      ]
    },
    {
      "cell_type": "code",
      "execution_count": 39,
      "metadata": {
        "colab": {
          "base_uri": "https://localhost:8080/",
          "height": 35
        },
        "id": "6bARKRCqoCht",
        "outputId": "e5da09b9-5ca5-4d08-bf6c-63a3cb658317"
      },
      "outputs": [
        {
          "output_type": "execute_result",
          "data": {
            "text/plain": [
              "'408'"
            ],
            "application/vnd.google.colaboratory.intrinsic+json": {
              "type": "string"
            }
          },
          "metadata": {},
          "execution_count": 39
        }
      ],
      "source": [
        "# Can then also call by group position.\n",
        "# remember groups were separated by parentheses ()\n",
        "# Something to note is that group ordering starts at 1. Passing in 0 returns everything\n",
        "results.group(1)"
      ]
    },
    {
      "cell_type": "code",
      "execution_count": 40,
      "metadata": {
        "colab": {
          "base_uri": "https://localhost:8080/",
          "height": 35
        },
        "id": "Tjp9ZaAIoCht",
        "outputId": "d713dbe2-8be0-4a55-bf00-24dca7fe32bb"
      },
      "outputs": [
        {
          "output_type": "execute_result",
          "data": {
            "text/plain": [
              "'555'"
            ],
            "application/vnd.google.colaboratory.intrinsic+json": {
              "type": "string"
            }
          },
          "metadata": {},
          "execution_count": 40
        }
      ],
      "source": [
        "results.group(2)"
      ]
    },
    {
      "cell_type": "code",
      "execution_count": 41,
      "metadata": {
        "colab": {
          "base_uri": "https://localhost:8080/",
          "height": 35
        },
        "id": "dAxZIx4FoChu",
        "outputId": "224ccd32-0b20-4bc2-8ee6-32f999b786ff"
      },
      "outputs": [
        {
          "output_type": "execute_result",
          "data": {
            "text/plain": [
              "'1234'"
            ],
            "application/vnd.google.colaboratory.intrinsic+json": {
              "type": "string"
            }
          },
          "metadata": {},
          "execution_count": 41
        }
      ],
      "source": [
        "results.group(3)"
      ]
    },
    {
      "cell_type": "code",
      "execution_count": 42,
      "metadata": {
        "colab": {
          "base_uri": "https://localhost:8080/",
          "height": 183
        },
        "id": "psEhwgEJoChu",
        "outputId": "5ca8429f-0909-4071-af28-d22a629864e4"
      },
      "outputs": [
        {
          "output_type": "error",
          "ename": "IndexError",
          "evalue": "ignored",
          "traceback": [
            "\u001b[0;31m---------------------------------------------------------------------------\u001b[0m",
            "\u001b[0;31mIndexError\u001b[0m                                Traceback (most recent call last)",
            "\u001b[0;32m<ipython-input-42-79a918a9b5dc>\u001b[0m in \u001b[0;36m<module>\u001b[0;34m()\u001b[0m\n\u001b[1;32m      1\u001b[0m \u001b[0;31m# We only had three groups of parentheses\u001b[0m\u001b[0;34m\u001b[0m\u001b[0;34m\u001b[0m\u001b[0;34m\u001b[0m\u001b[0m\n\u001b[0;32m----> 2\u001b[0;31m \u001b[0mresults\u001b[0m\u001b[0;34m.\u001b[0m\u001b[0mgroup\u001b[0m\u001b[0;34m(\u001b[0m\u001b[0;36m4\u001b[0m\u001b[0;34m)\u001b[0m\u001b[0;34m\u001b[0m\u001b[0;34m\u001b[0m\u001b[0m\n\u001b[0m",
            "\u001b[0;31mIndexError\u001b[0m: no such group"
          ]
        }
      ],
      "source": [
        "# We only had three groups of parentheses\n",
        "results.group(4)"
      ]
    },
    {
      "cell_type": "markdown",
      "metadata": {
        "id": "Ft7Dn5TOoChu"
      },
      "source": [
        "## Additional Regex Syntax\n",
        "\n",
        "### Or operator |\n",
        "\n",
        "Use the pipe operator to have an **or** statment. For example"
      ]
    },
    {
      "cell_type": "code",
      "execution_count": 43,
      "metadata": {
        "colab": {
          "base_uri": "https://localhost:8080/"
        },
        "id": "pwpkx-ZVoChu",
        "outputId": "05b29aed-2814-47b9-bc86-62cc6965a8f2"
      },
      "outputs": [
        {
          "output_type": "execute_result",
          "data": {
            "text/plain": [
              "<re.Match object; span=(5, 8), match='man'>"
            ]
          },
          "metadata": {},
          "execution_count": 43
        }
      ],
      "source": [
        "re.search(r\"man|woman\",\"This man was here.\")"
      ]
    },
    {
      "cell_type": "code",
      "execution_count": 44,
      "metadata": {
        "colab": {
          "base_uri": "https://localhost:8080/"
        },
        "id": "RnIrgXOMoChu",
        "outputId": "a1091147-5f9b-4d0e-93bc-25c10f24e61b"
      },
      "outputs": [
        {
          "output_type": "execute_result",
          "data": {
            "text/plain": [
              "<re.Match object; span=(5, 10), match='woman'>"
            ]
          },
          "metadata": {},
          "execution_count": 44
        }
      ],
      "source": [
        "re.search(r\"man|woman\",\"This woman was here.\")"
      ]
    },
    {
      "cell_type": "markdown",
      "metadata": {
        "id": "tyeN9Gi9oChu"
      },
      "source": [
        "### The Wildcard Character\n",
        "\n",
        "Use a \"wildcard\" as a placement that will match any character placed there. You can use a simple period **.** for this. For example:"
      ]
    },
    {
      "cell_type": "code",
      "execution_count": 45,
      "metadata": {
        "colab": {
          "base_uri": "https://localhost:8080/"
        },
        "id": "GFepnfqDoChu",
        "outputId": "50aab544-2771-4a9a-eb66-c4d31b332ca6"
      },
      "outputs": [
        {
          "output_type": "execute_result",
          "data": {
            "text/plain": [
              "['cat', 'hat', 'sat']"
            ]
          },
          "metadata": {},
          "execution_count": 45
        }
      ],
      "source": [
        "re.findall(r\".at\",\"The cat in the hat sat here.\")"
      ]
    },
    {
      "cell_type": "code",
      "execution_count": 46,
      "metadata": {
        "colab": {
          "base_uri": "https://localhost:8080/"
        },
        "id": "tEbjcj3voChu",
        "outputId": "fedd5213-acbd-46e4-8b56-8cbd98a2f71a"
      },
      "outputs": [
        {
          "output_type": "execute_result",
          "data": {
            "text/plain": [
              "['bat', 'lat']"
            ]
          },
          "metadata": {},
          "execution_count": 46
        }
      ],
      "source": [
        "re.findall(r\".at\",\"The bat went splat\")"
      ]
    },
    {
      "cell_type": "markdown",
      "metadata": {
        "id": "Kjn2ZlB-oChv"
      },
      "source": [
        "Notice how we only matched the first 3 letters, that is because we need a **.** for each wildcard letter. Or use the quantifiers described above to set its own rules."
      ]
    },
    {
      "cell_type": "code",
      "execution_count": 47,
      "metadata": {
        "colab": {
          "base_uri": "https://localhost:8080/"
        },
        "id": "RwJ9QMJIoChv",
        "outputId": "d7567f89-d178-471c-d450-83dc3aef9bd9"
      },
      "outputs": [
        {
          "output_type": "execute_result",
          "data": {
            "text/plain": [
              "['e bat', 'splat']"
            ]
          },
          "metadata": {},
          "execution_count": 47
        }
      ],
      "source": [
        "re.findall(r\"...at\",\"The bat went splat\")"
      ]
    },
    {
      "cell_type": "markdown",
      "metadata": {
        "id": "gBigZh4hoChv"
      },
      "source": [
        "However this still leads the problem to grabbing more beforehand. Really we only want words that end with \"at\"."
      ]
    },
    {
      "cell_type": "code",
      "execution_count": 48,
      "metadata": {
        "colab": {
          "base_uri": "https://localhost:8080/"
        },
        "id": "EU2yAGpToChv",
        "outputId": "67fa9aad-b6b5-4141-eced-eede09444cd9"
      },
      "outputs": [
        {
          "output_type": "execute_result",
          "data": {
            "text/plain": [
              "['bat', 'splat']"
            ]
          },
          "metadata": {},
          "execution_count": 48
        }
      ],
      "source": [
        "# One or more non-whitespace that ends with 'at'\n",
        "re.findall(r'\\S+at',\"The bat went splat\")    #best to use"
      ]
    },
    {
      "cell_type": "markdown",
      "metadata": {
        "id": "Io-f3c4MoChv"
      },
      "source": [
        "### Starts With and Ends With\n",
        "\n",
        "We can use the **^** to signal starts with, and the **$** to signal ends with:"
      ]
    },
    {
      "cell_type": "code",
      "execution_count": 49,
      "metadata": {
        "colab": {
          "base_uri": "https://localhost:8080/"
        },
        "id": "AvpbzGgdoChv",
        "outputId": "4212b176-b20f-44d0-9aa0-5be3590e1175"
      },
      "outputs": [
        {
          "output_type": "execute_result",
          "data": {
            "text/plain": [
              "['2']"
            ]
          },
          "metadata": {},
          "execution_count": 49
        }
      ],
      "source": [
        "# Ends with a number\n",
        "re.findall(r'\\d$','This ends with a number 2')"
      ]
    },
    {
      "cell_type": "code",
      "execution_count": 50,
      "metadata": {
        "colab": {
          "base_uri": "https://localhost:8080/"
        },
        "id": "kV6Q7ypfoChw",
        "outputId": "2202a085-12dc-431c-b4af-1686d1e135a7"
      },
      "outputs": [
        {
          "output_type": "execute_result",
          "data": {
            "text/plain": [
              "['1']"
            ]
          },
          "metadata": {},
          "execution_count": 50
        }
      ],
      "source": [
        "# Starts with a number\n",
        "re.findall(r'^\\d','1 is the loneliest number.')"
      ]
    },
    {
      "cell_type": "markdown",
      "metadata": {
        "id": "AfLfeWNroChw"
      },
      "source": [
        "Note that this is for the entire string, not individual words!"
      ]
    },
    {
      "cell_type": "markdown",
      "metadata": {
        "id": "SklYxJSWoChw"
      },
      "source": [
        "### Exclusion\n",
        "\n",
        "To exclude characters, we can use the **^** symbol in conjunction with a set of brackets **[]**. Anything inside the brackets is excluded. For example:"
      ]
    },
    {
      "cell_type": "code",
      "execution_count": 51,
      "metadata": {
        "id": "kTI9mhfKoChw"
      },
      "outputs": [],
      "source": [
        "phrase = \"there are 3 numbers 34 inside 5 this sentence.\""
      ]
    },
    {
      "cell_type": "code",
      "execution_count": 52,
      "metadata": {
        "colab": {
          "base_uri": "https://localhost:8080/"
        },
        "id": "Lz1n8SZ3oChw",
        "outputId": "83e59c36-c8f6-4821-dcf7-369cde40b5c6"
      },
      "outputs": [
        {
          "output_type": "execute_result",
          "data": {
            "text/plain": [
              "['t',\n",
              " 'h',\n",
              " 'e',\n",
              " 'r',\n",
              " 'e',\n",
              " ' ',\n",
              " 'a',\n",
              " 'r',\n",
              " 'e',\n",
              " ' ',\n",
              " ' ',\n",
              " 'n',\n",
              " 'u',\n",
              " 'm',\n",
              " 'b',\n",
              " 'e',\n",
              " 'r',\n",
              " 's',\n",
              " ' ',\n",
              " ' ',\n",
              " 'i',\n",
              " 'n',\n",
              " 's',\n",
              " 'i',\n",
              " 'd',\n",
              " 'e',\n",
              " ' ',\n",
              " ' ',\n",
              " 't',\n",
              " 'h',\n",
              " 'i',\n",
              " 's',\n",
              " ' ',\n",
              " 's',\n",
              " 'e',\n",
              " 'n',\n",
              " 't',\n",
              " 'e',\n",
              " 'n',\n",
              " 'c',\n",
              " 'e',\n",
              " '.']"
            ]
          },
          "metadata": {},
          "execution_count": 52
        }
      ],
      "source": [
        "re.findall(r'[^\\d]',phrase)"
      ]
    },
    {
      "cell_type": "markdown",
      "metadata": {
        "id": "eTnzNnrvoChw"
      },
      "source": [
        "To get the words back together, use a + sign "
      ]
    },
    {
      "cell_type": "code",
      "execution_count": 53,
      "metadata": {
        "colab": {
          "base_uri": "https://localhost:8080/"
        },
        "id": "HeJUDqAnoChw",
        "outputId": "0a6cd6a7-2718-4b2c-bae0-5afc8fc757d3"
      },
      "outputs": [
        {
          "output_type": "execute_result",
          "data": {
            "text/plain": [
              "['there are ', ' numbers ', ' inside ', ' this sentence.']"
            ]
          },
          "metadata": {},
          "execution_count": 53
        }
      ],
      "source": [
        "re.findall(r'[^\\d]+',phrase)"
      ]
    },
    {
      "cell_type": "markdown",
      "metadata": {
        "id": "X072wy3EoChw"
      },
      "source": [
        "We can use this to remove punctuation from a sentence."
      ]
    },
    {
      "cell_type": "code",
      "execution_count": 54,
      "metadata": {
        "id": "Plr0PfwVoChw"
      },
      "outputs": [],
      "source": [
        "test_phrase = 'This is a string! But it has punctuation. How can we remove it?'"
      ]
    },
    {
      "cell_type": "code",
      "execution_count": 55,
      "metadata": {
        "colab": {
          "base_uri": "https://localhost:8080/"
        },
        "id": "o94IotZ7oChx",
        "outputId": "a676bff7-f24a-43d0-8c5f-03c096b4fdbb"
      },
      "outputs": [
        {
          "output_type": "execute_result",
          "data": {
            "text/plain": [
              "['This',\n",
              " 'is',\n",
              " 'a',\n",
              " 'string',\n",
              " 'But',\n",
              " 'it',\n",
              " 'has',\n",
              " 'punctuation',\n",
              " 'How',\n",
              " 'can',\n",
              " 'we',\n",
              " 'remove',\n",
              " 'it']"
            ]
          },
          "metadata": {},
          "execution_count": 55
        }
      ],
      "source": [
        "re.findall('[^!.? ]+',test_phrase)"
      ]
    },
    {
      "cell_type": "code",
      "execution_count": 56,
      "metadata": {
        "id": "lxIxSsO0oChx"
      },
      "outputs": [],
      "source": [
        "clean = ' '.join(re.findall('[^!.? ]+',test_phrase))"
      ]
    },
    {
      "cell_type": "code",
      "execution_count": 57,
      "metadata": {
        "colab": {
          "base_uri": "https://localhost:8080/",
          "height": 35
        },
        "id": "kdRj_G2uoChx",
        "outputId": "4a26ec35-7380-4ba9-e1cb-e2a5f1502577"
      },
      "outputs": [
        {
          "output_type": "execute_result",
          "data": {
            "text/plain": [
              "'This is a string But it has punctuation How can we remove it'"
            ],
            "application/vnd.google.colaboratory.intrinsic+json": {
              "type": "string"
            }
          },
          "metadata": {},
          "execution_count": 57
        }
      ],
      "source": [
        "clean"
      ]
    },
    {
      "cell_type": "markdown",
      "metadata": {
        "id": "cPqw3iqOoChx"
      },
      "source": [
        "## Brackets for Grouping\n",
        "\n",
        "As we showed above we can use brackets to group together options, for example if we wanted to find hyphenated words:"
      ]
    },
    {
      "cell_type": "code",
      "execution_count": 58,
      "metadata": {
        "id": "T2C1yurLoChx"
      },
      "outputs": [],
      "source": [
        "text = 'Only find the hypen-words in this sentence. But you do not know how long-ish they are'"
      ]
    },
    {
      "cell_type": "code",
      "execution_count": 59,
      "metadata": {
        "colab": {
          "base_uri": "https://localhost:8080/"
        },
        "id": "zj1hwF-woChx",
        "outputId": "5f0ab6b9-9c6d-493c-dc07-f63e601a2ead"
      },
      "outputs": [
        {
          "output_type": "execute_result",
          "data": {
            "text/plain": [
              "['hypen-words', 'long-ish']"
            ]
          },
          "metadata": {},
          "execution_count": 59
        }
      ],
      "source": [
        "re.findall(r'[\\w]+-[\\w]+',text)"
      ]
    },
    {
      "cell_type": "markdown",
      "metadata": {
        "id": "YOdCD4vxoChx"
      },
      "source": [
        "## Parentheses for Multiple Options\n",
        "\n",
        "If we have multiple options for matching, we can use parentheses to list out these options. For Example:"
      ]
    },
    {
      "cell_type": "code",
      "execution_count": 60,
      "metadata": {
        "id": "EQoOKEfmoChx"
      },
      "outputs": [],
      "source": [
        "# Find words that start with cat and end with one of these options: 'fish','nap', or 'claw'\n",
        "text = 'Hello, would you like some catfish?'\n",
        "texttwo = \"Hello, would you like to take a catnap?\"\n",
        "textthree = \"Hello, have you seen this caterpillar?\""
      ]
    },
    {
      "cell_type": "code",
      "execution_count": 61,
      "metadata": {
        "colab": {
          "base_uri": "https://localhost:8080/"
        },
        "id": "yDdqK1fnoChy",
        "outputId": "2d73565e-574f-4ffa-da8b-af5e10cc1d04"
      },
      "outputs": [
        {
          "output_type": "execute_result",
          "data": {
            "text/plain": [
              "<re.Match object; span=(27, 34), match='catfish'>"
            ]
          },
          "metadata": {},
          "execution_count": 61
        }
      ],
      "source": [
        "re.search(r'cat(fish|nap|claw)',text)"
      ]
    },
    {
      "cell_type": "code",
      "execution_count": 62,
      "metadata": {
        "colab": {
          "base_uri": "https://localhost:8080/"
        },
        "id": "uWgxCkIEoChy",
        "outputId": "b462bb49-8bbd-43be-8d6b-3826125683b1"
      },
      "outputs": [
        {
          "output_type": "execute_result",
          "data": {
            "text/plain": [
              "<re.Match object; span=(32, 38), match='catnap'>"
            ]
          },
          "metadata": {},
          "execution_count": 62
        }
      ],
      "source": [
        "re.search(r'cat(fish|nap|claw)',texttwo)"
      ]
    },
    {
      "cell_type": "code",
      "execution_count": 63,
      "metadata": {
        "id": "ynciNue0oChy"
      },
      "outputs": [],
      "source": [
        "# None returned\n",
        "re.search(r'cat(fish|nap|claw)',textthree)"
      ]
    },
    {
      "cell_type": "markdown",
      "metadata": {
        "id": "ZwrUA8FPoChy"
      },
      "source": [
        "### Conclusion\n",
        "\n",
        "Excellent work! For full information on all possible patterns, check out: https://docs.python.org/3/howto/regex.html"
      ]
    }
  ],
  "metadata": {
    "kernelspec": {
      "display_name": "Python 3",
      "language": "python",
      "name": "python3"
    },
    "language_info": {
      "codemirror_mode": {
        "name": "ipython",
        "version": 3
      },
      "file_extension": ".py",
      "mimetype": "text/x-python",
      "name": "python",
      "nbconvert_exporter": "python",
      "pygments_lexer": "ipython3",
      "version": "3.6.2"
    },
    "colab": {
      "name": "02-Regular-Expressions.ipynb",
      "provenance": [],
      "include_colab_link": true
    }
  },
  "nbformat": 4,
  "nbformat_minor": 0
}