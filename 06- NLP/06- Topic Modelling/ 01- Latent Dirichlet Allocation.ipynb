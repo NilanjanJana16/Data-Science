{
  "cells": [
    {
      "cell_type": "markdown",
      "metadata": {
        "id": "view-in-github",
        "colab_type": "text"
      },
      "source": [
        "<a href=\"https://colab.research.google.com/github/NilanjanJana16/Data-Science/blob/main/06-%20NLP/06-%20Topic%20Modelling/%2001-%20Latent%20Dirichlet%20Allocation.ipynb\" target=\"_parent\"><img src=\"https://colab.research.google.com/assets/colab-badge.svg\" alt=\"Open In Colab\"/></a>"
      ]
    },
    {
      "cell_type": "markdown",
      "metadata": {
        "id": "hCI-5MKjHCfo"
      },
      "source": [
        "# Latent Dirichlet Allocation"
      ]
    },
    {
      "cell_type": "markdown",
      "metadata": {
        "id": "VJC4E3PAHCfo"
      },
      "source": [
        "## Data\n",
        "\n",
        "We will be using articles from NPR (National Public Radio), obtained from their website [www.npr.org](http://www.npr.org)"
      ]
    },
    {
      "cell_type": "code",
      "execution_count": null,
      "metadata": {
        "collapsed": true,
        "id": "1edk4yc6HCfp"
      },
      "outputs": [],
      "source": [
        "import pandas as pd"
      ]
    },
    {
      "cell_type": "code",
      "execution_count": null,
      "metadata": {
        "collapsed": true,
        "id": "an2lLRNSHCfq"
      },
      "outputs": [],
      "source": [
        "npr = pd.read_csv('npr.csv')"
      ]
    },
    {
      "cell_type": "code",
      "execution_count": null,
      "metadata": {
        "id": "P6lKnzAtHCfq",
        "outputId": "a5381899-ce57-4b8e-ec2c-5f85fe718341"
      },
      "outputs": [
        {
          "data": {
            "text/html": [
              "<div>\n",
              "<style scoped>\n",
              "    .dataframe tbody tr th:only-of-type {\n",
              "        vertical-align: middle;\n",
              "    }\n",
              "\n",
              "    .dataframe tbody tr th {\n",
              "        vertical-align: top;\n",
              "    }\n",
              "\n",
              "    .dataframe thead th {\n",
              "        text-align: right;\n",
              "    }\n",
              "</style>\n",
              "<table border=\"1\" class=\"dataframe\">\n",
              "  <thead>\n",
              "    <tr style=\"text-align: right;\">\n",
              "      <th></th>\n",
              "      <th>Article</th>\n",
              "    </tr>\n",
              "  </thead>\n",
              "  <tbody>\n",
              "    <tr>\n",
              "      <th>0</th>\n",
              "      <td>In the Washington of 2016, even when the polic...</td>\n",
              "    </tr>\n",
              "    <tr>\n",
              "      <th>1</th>\n",
              "      <td>Donald Trump has used Twitter  —   his prefe...</td>\n",
              "    </tr>\n",
              "    <tr>\n",
              "      <th>2</th>\n",
              "      <td>Donald Trump is unabashedly praising Russian...</td>\n",
              "    </tr>\n",
              "    <tr>\n",
              "      <th>3</th>\n",
              "      <td>Updated at 2:50 p. m. ET, Russian President Vl...</td>\n",
              "    </tr>\n",
              "    <tr>\n",
              "      <th>4</th>\n",
              "      <td>From photography, illustration and video, to d...</td>\n",
              "    </tr>\n",
              "  </tbody>\n",
              "</table>\n",
              "</div>"
            ],
            "text/plain": [
              "                                             Article\n",
              "0  In the Washington of 2016, even when the polic...\n",
              "1    Donald Trump has used Twitter  —   his prefe...\n",
              "2    Donald Trump is unabashedly praising Russian...\n",
              "3  Updated at 2:50 p. m. ET, Russian President Vl...\n",
              "4  From photography, illustration and video, to d..."
            ]
          },
          "execution_count": 3,
          "metadata": {},
          "output_type": "execute_result"
        }
      ],
      "source": [
        "npr.head()"
      ]
    },
    {
      "cell_type": "markdown",
      "metadata": {
        "id": "qpGBxLEXHCfr"
      },
      "source": [
        "Notice how we don't have the topic of the articles! Let's use LDA to attempt to figure out clusters of the articles."
      ]
    },
    {
      "cell_type": "markdown",
      "metadata": {
        "id": "tjhdoiv-HCfr"
      },
      "source": [
        "## Preprocessing"
      ]
    },
    {
      "cell_type": "code",
      "execution_count": null,
      "metadata": {
        "collapsed": true,
        "id": "snQ_xm1rHCfr"
      },
      "outputs": [],
      "source": [
        "from sklearn.feature_extraction.text import CountVectorizer"
      ]
    },
    {
      "cell_type": "markdown",
      "metadata": {
        "id": "A5RGMlohHCfs"
      },
      "source": [
        "**`max_df`**` : float in range [0.0, 1.0] or int, default=1.0`<br>\n",
        "When building the vocabulary ignore terms that have a document frequency strictly higher than the given threshold (corpus-specific stop words). If float, the parameter represents a proportion of documents, integer absolute counts. This parameter is ignored if vocabulary is not None.\n",
        "\n",
        "**`min_df`**` : float in range [0.0, 1.0] or int, default=1`<br>\n",
        "When building the vocabulary ignore terms that have a document frequency strictly lower than the given threshold. This value is also called cut-off in the literature. If float, the parameter represents a proportion of documents, integer absolute counts. This parameter is ignored if vocabulary is not None."
      ]
    },
    {
      "cell_type": "code",
      "execution_count": null,
      "metadata": {
        "collapsed": true,
        "id": "h7cFaSxnHCfs"
      },
      "outputs": [],
      "source": [
        "cv = CountVectorizer(max_df=0.95, min_df=2, stop_words='english')"
      ]
    },
    {
      "cell_type": "code",
      "execution_count": null,
      "metadata": {
        "collapsed": true,
        "id": "KcEu2ApoHCft"
      },
      "outputs": [],
      "source": [
        "dtm = cv.fit_transform(npr['Article'])"
      ]
    },
    {
      "cell_type": "code",
      "execution_count": null,
      "metadata": {
        "id": "hFqugqSbHCft",
        "outputId": "a7e4d17f-aa45-4aa3-933a-37fbf7fba65e"
      },
      "outputs": [
        {
          "data": {
            "text/plain": [
              "<11992x54777 sparse matrix of type '<class 'numpy.int64'>'\n",
              "\twith 3033388 stored elements in Compressed Sparse Row format>"
            ]
          },
          "execution_count": 7,
          "metadata": {},
          "output_type": "execute_result"
        }
      ],
      "source": [
        "dtm"
      ]
    },
    {
      "cell_type": "markdown",
      "metadata": {
        "id": "z-WzLdDPHCft"
      },
      "source": [
        "## LDA"
      ]
    },
    {
      "cell_type": "code",
      "execution_count": null,
      "metadata": {
        "collapsed": true,
        "id": "lXGkr0kMHCfu"
      },
      "outputs": [],
      "source": [
        "from sklearn.decomposition import LatentDirichletAllocation"
      ]
    },
    {
      "cell_type": "code",
      "execution_count": null,
      "metadata": {
        "collapsed": true,
        "id": "Kvvk-iwnHCfu"
      },
      "outputs": [],
      "source": [
        "LDA = LatentDirichletAllocation(n_components=7,random_state=42)"
      ]
    },
    {
      "cell_type": "code",
      "execution_count": null,
      "metadata": {
        "id": "Kq_q6X8OHCfu",
        "outputId": "74db912f-6c11-48c5-8499-c0b5828ae4bb"
      },
      "outputs": [
        {
          "data": {
            "text/plain": [
              "LatentDirichletAllocation(batch_size=128, doc_topic_prior=None,\n",
              "             evaluate_every=-1, learning_decay=0.7,\n",
              "             learning_method='batch', learning_offset=10.0,\n",
              "             max_doc_update_iter=100, max_iter=10, mean_change_tol=0.001,\n",
              "             n_components=7, n_jobs=None, n_topics=None, perp_tol=0.1,\n",
              "             random_state=42, topic_word_prior=None,\n",
              "             total_samples=1000000.0, verbose=0)"
            ]
          },
          "execution_count": 40,
          "metadata": {},
          "output_type": "execute_result"
        }
      ],
      "source": [
        "# This can take awhile, we're dealing with a large amount of documents!\n",
        "LDA.fit(dtm)"
      ]
    },
    {
      "cell_type": "markdown",
      "metadata": {
        "id": "gvMp9gPZHCfu"
      },
      "source": [
        "## Showing Stored Words"
      ]
    },
    {
      "cell_type": "code",
      "execution_count": null,
      "metadata": {
        "id": "ltQNNQN3HCfv",
        "outputId": "084b9e4b-5407-4114-9fe8-c825c8a414e2"
      },
      "outputs": [
        {
          "data": {
            "text/plain": [
              "54777"
            ]
          },
          "execution_count": 41,
          "metadata": {},
          "output_type": "execute_result"
        }
      ],
      "source": [
        "len(cv.get_feature_names())"
      ]
    },
    {
      "cell_type": "code",
      "execution_count": null,
      "metadata": {
        "collapsed": true,
        "id": "lkCK-eD8HCfv"
      },
      "outputs": [],
      "source": [
        "import random"
      ]
    },
    {
      "cell_type": "code",
      "execution_count": null,
      "metadata": {
        "id": "58Mz9_qYHCfv",
        "outputId": "d3482c5c-b6ef-4b8a-f7e5-82446689b12c"
      },
      "outputs": [
        {
          "name": "stdout",
          "output_type": "stream",
          "text": [
            "cred\n",
            "fairly\n",
            "occupational\n",
            "temer\n",
            "tamil\n",
            "closest\n",
            "condone\n",
            "breathes\n",
            "tendrils\n",
            "pivot\n"
          ]
        }
      ],
      "source": [
        "for i in range(10):\n",
        "    random_word_id = random.randint(0,54776)\n",
        "    print(cv.get_feature_names()[random_word_id])"
      ]
    },
    {
      "cell_type": "code",
      "execution_count": null,
      "metadata": {
        "id": "FDBFjUbgHCfw",
        "outputId": "014540b4-e59c-4d82-ae35-caa08359ca4b"
      },
      "outputs": [
        {
          "name": "stdout",
          "output_type": "stream",
          "text": [
            "foremothers\n",
            "mocoa\n",
            "ellroy\n",
            "liron\n",
            "ally\n",
            "discouraged\n",
            "utterance\n",
            "provo\n",
            "videgaray\n",
            "archivist\n"
          ]
        }
      ],
      "source": [
        "for i in range(10):\n",
        "    random_word_id = random.randint(0,54776)\n",
        "    print(cv.get_feature_names()[random_word_id])"
      ]
    },
    {
      "cell_type": "markdown",
      "metadata": {
        "collapsed": true,
        "id": "a6P6duM6HCfw"
      },
      "source": [
        "### Showing Top Words Per Topic"
      ]
    },
    {
      "cell_type": "code",
      "execution_count": null,
      "metadata": {
        "id": "f9U-x5lJHCfw",
        "outputId": "e4bb84a7-d18c-4926-f835-907b88215ad4"
      },
      "outputs": [
        {
          "data": {
            "text/plain": [
              "7"
            ]
          },
          "execution_count": 46,
          "metadata": {},
          "output_type": "execute_result"
        }
      ],
      "source": [
        "len(LDA.components_)"
      ]
    },
    {
      "cell_type": "code",
      "execution_count": null,
      "metadata": {
        "id": "E6kDtwXXHCfw",
        "outputId": "01e259d7-0253-4134-a6d8-b60af1c2db9c"
      },
      "outputs": [
        {
          "data": {
            "text/plain": [
              "array([[8.64332806e+00, 2.38014333e+03, 1.42900522e-01, ...,\n",
              "        1.43006821e-01, 1.42902042e-01, 1.42861626e-01],\n",
              "       [2.76191749e+01, 5.36394437e+02, 1.42857148e-01, ...,\n",
              "        1.42861973e-01, 1.42857147e-01, 1.42906875e-01],\n",
              "       [7.22783888e+00, 8.24033986e+02, 1.42857148e-01, ...,\n",
              "        6.14236247e+00, 2.14061364e+00, 1.42923753e-01],\n",
              "       ...,\n",
              "       [3.11488651e+00, 3.50409655e+02, 1.42857147e-01, ...,\n",
              "        1.42859912e-01, 1.42857146e-01, 1.42866614e-01],\n",
              "       [4.61486388e+01, 5.14408600e+01, 3.14281373e+00, ...,\n",
              "        1.43107628e-01, 1.43902481e-01, 2.14271779e+00],\n",
              "       [4.93991422e-01, 4.18841042e+02, 1.42857151e-01, ...,\n",
              "        1.42857146e-01, 1.43760101e-01, 1.42866201e-01]])"
            ]
          },
          "execution_count": 47,
          "metadata": {},
          "output_type": "execute_result"
        }
      ],
      "source": [
        "LDA.components_"
      ]
    },
    {
      "cell_type": "code",
      "execution_count": null,
      "metadata": {
        "id": "66HlZCwJHCfw",
        "outputId": "cb8782a3-8261-4d1e-ec6b-817fd8248350"
      },
      "outputs": [
        {
          "data": {
            "text/plain": [
              "54777"
            ]
          },
          "execution_count": 48,
          "metadata": {},
          "output_type": "execute_result"
        }
      ],
      "source": [
        "len(LDA.components_[0])"
      ]
    },
    {
      "cell_type": "code",
      "execution_count": null,
      "metadata": {
        "collapsed": true,
        "id": "yie0coP8HCfx"
      },
      "outputs": [],
      "source": [
        "single_topic = LDA.components_[0]"
      ]
    },
    {
      "cell_type": "code",
      "execution_count": null,
      "metadata": {
        "id": "quQxvLcqHCfx",
        "outputId": "6032c21a-56a6-4dfc-951c-832811868dc9"
      },
      "outputs": [
        {
          "data": {
            "text/plain": [
              "array([ 2475, 18302, 35285, ..., 22673, 42561, 42993], dtype=int64)"
            ]
          },
          "execution_count": 50,
          "metadata": {},
          "output_type": "execute_result"
        }
      ],
      "source": [
        "# Returns the indices that would sort this array.\n",
        "single_topic.argsort()"
      ]
    },
    {
      "cell_type": "code",
      "execution_count": null,
      "metadata": {
        "id": "Jws5yNc4HCfx",
        "outputId": "9f44e3ec-71c0-487b-fbe2-ff24c5724d32"
      },
      "outputs": [
        {
          "data": {
            "text/plain": [
              "0.14285714309286987"
            ]
          },
          "execution_count": 51,
          "metadata": {},
          "output_type": "execute_result"
        }
      ],
      "source": [
        "# Word least representative of this topic\n",
        "single_topic[18302]"
      ]
    },
    {
      "cell_type": "code",
      "execution_count": null,
      "metadata": {
        "id": "dK60-dzpHCfx",
        "outputId": "2281c4b7-c209-4a46-c63a-1b02872bbc79"
      },
      "outputs": [
        {
          "data": {
            "text/plain": [
              "6247.245510521082"
            ]
          },
          "execution_count": 52,
          "metadata": {},
          "output_type": "execute_result"
        }
      ],
      "source": [
        "# Word most representative of this topic\n",
        "single_topic[42993]"
      ]
    },
    {
      "cell_type": "code",
      "execution_count": null,
      "metadata": {
        "id": "u605_6G5HCfx",
        "outputId": "eab88499-dfab-422e-c40b-4ed1091090cb"
      },
      "outputs": [
        {
          "data": {
            "text/plain": [
              "array([33390, 36310, 21228, 10425, 31464,  8149, 36283, 22673, 42561,\n",
              "       42993], dtype=int64)"
            ]
          },
          "execution_count": 53,
          "metadata": {},
          "output_type": "execute_result"
        }
      ],
      "source": [
        "# Top 10 words for this topic:\n",
        "single_topic.argsort()[-10:]"
      ]
    },
    {
      "cell_type": "code",
      "execution_count": null,
      "metadata": {
        "collapsed": true,
        "id": "CQIzSQj5HCfy"
      },
      "outputs": [],
      "source": [
        "top_word_indices = single_topic.argsort()[-10:]"
      ]
    },
    {
      "cell_type": "code",
      "execution_count": null,
      "metadata": {
        "id": "1t5X3Fg-HCfy",
        "outputId": "32e3f844-67c4-4c80-9bfc-c194356cc6bd"
      },
      "outputs": [
        {
          "name": "stdout",
          "output_type": "stream",
          "text": [
            "new\n",
            "percent\n",
            "government\n",
            "company\n",
            "million\n",
            "care\n",
            "people\n",
            "health\n",
            "said\n",
            "says\n"
          ]
        }
      ],
      "source": [
        "for index in top_word_indices:\n",
        "    print(cv.get_feature_names()[index])"
      ]
    },
    {
      "cell_type": "markdown",
      "metadata": {
        "id": "Gg3WqUJeHCfy"
      },
      "source": [
        "These look like business articles perhaps... Let's confirm by using .transform() on our vectorized articles to attach a label number. But first, let's view all the 10 topics found."
      ]
    },
    {
      "cell_type": "code",
      "execution_count": null,
      "metadata": {
        "id": "8i8kv1foHCfy",
        "outputId": "70cd870b-5b6e-4c07-d159-467f3d43d7c5"
      },
      "outputs": [
        {
          "name": "stdout",
          "output_type": "stream",
          "text": [
            "THE TOP 15 WORDS FOR TOPIC #0\n",
            "['companies', 'money', 'year', 'federal', '000', 'new', 'percent', 'government', 'company', 'million', 'care', 'people', 'health', 'said', 'says']\n",
            "\n",
            "\n",
            "THE TOP 15 WORDS FOR TOPIC #1\n",
            "['military', 'house', 'security', 'russia', 'government', 'npr', 'reports', 'says', 'news', 'people', 'told', 'police', 'president', 'trump', 'said']\n",
            "\n",
            "\n",
            "THE TOP 15 WORDS FOR TOPIC #2\n",
            "['way', 'world', 'family', 'home', 'day', 'time', 'water', 'city', 'new', 'years', 'food', 'just', 'people', 'like', 'says']\n",
            "\n",
            "\n",
            "THE TOP 15 WORDS FOR TOPIC #3\n",
            "['time', 'new', 'don', 'years', 'medical', 'disease', 'patients', 'just', 'children', 'study', 'like', 'women', 'health', 'people', 'says']\n",
            "\n",
            "\n",
            "THE TOP 15 WORDS FOR TOPIC #4\n",
            "['voters', 'vote', 'election', 'party', 'new', 'obama', 'court', 'republican', 'campaign', 'people', 'state', 'president', 'clinton', 'said', 'trump']\n",
            "\n",
            "\n",
            "THE TOP 15 WORDS FOR TOPIC #5\n",
            "['years', 'going', 've', 'life', 'don', 'new', 'way', 'music', 'really', 'time', 'know', 'think', 'people', 'just', 'like']\n",
            "\n",
            "\n",
            "THE TOP 15 WORDS FOR TOPIC #6\n",
            "['student', 'years', 'data', 'science', 'university', 'people', 'time', 'schools', 'just', 'education', 'new', 'like', 'students', 'school', 'says']\n",
            "\n",
            "\n"
          ]
        }
      ],
      "source": [
        "for index,topic in enumerate(LDA.components_):\n",
        "    print(f'THE TOP 15 WORDS FOR TOPIC #{index}')\n",
        "    print([cv.get_feature_names()[i] for i in topic.argsort()[-15:]])\n",
        "    print('\\n')"
      ]
    },
    {
      "cell_type": "markdown",
      "metadata": {
        "id": "p9LHUkHkHCfy"
      },
      "source": [
        "### Attaching Discovered Topic Labels to Original Articles"
      ]
    },
    {
      "cell_type": "code",
      "execution_count": null,
      "metadata": {
        "id": "T4ak54isHCfy",
        "outputId": "055eb4fb-9584-4ca9-cca6-2f8704a22df5"
      },
      "outputs": [
        {
          "data": {
            "text/plain": [
              "<11992x54777 sparse matrix of type '<class 'numpy.int64'>'\n",
              "\twith 3033388 stored elements in Compressed Sparse Row format>"
            ]
          },
          "execution_count": 57,
          "metadata": {},
          "output_type": "execute_result"
        }
      ],
      "source": [
        "dtm"
      ]
    },
    {
      "cell_type": "code",
      "execution_count": null,
      "metadata": {
        "id": "-wUig1mpHCfz",
        "outputId": "1e668262-e1c7-49fc-ce79-2a2db8f9ae27"
      },
      "outputs": [
        {
          "data": {
            "text/plain": [
              "(11992, 54777)"
            ]
          },
          "execution_count": 58,
          "metadata": {},
          "output_type": "execute_result"
        }
      ],
      "source": [
        "dtm.shape"
      ]
    },
    {
      "cell_type": "code",
      "execution_count": null,
      "metadata": {
        "id": "CW8Itu2IHCfz",
        "outputId": "0408a1a7-a5cb-48f6-f2c7-d33706cfbc69"
      },
      "outputs": [
        {
          "data": {
            "text/plain": [
              "11992"
            ]
          },
          "execution_count": 59,
          "metadata": {},
          "output_type": "execute_result"
        }
      ],
      "source": [
        "len(npr)"
      ]
    },
    {
      "cell_type": "code",
      "execution_count": null,
      "metadata": {
        "collapsed": true,
        "id": "v9H23RwOHCfz"
      },
      "outputs": [],
      "source": [
        "topic_results = LDA.transform(dtm)"
      ]
    },
    {
      "cell_type": "code",
      "execution_count": null,
      "metadata": {
        "id": "RlP71M8gHCfz",
        "outputId": "61808d67-e03c-4d98-fcd3-edf1af159f66"
      },
      "outputs": [
        {
          "data": {
            "text/plain": [
              "(11992, 7)"
            ]
          },
          "execution_count": 61,
          "metadata": {},
          "output_type": "execute_result"
        }
      ],
      "source": [
        "topic_results.shape"
      ]
    },
    {
      "cell_type": "code",
      "execution_count": null,
      "metadata": {
        "id": "VaFv7IhZHCfz",
        "outputId": "03cb60ed-4782-4526-fe1e-9ec52c3bd85f"
      },
      "outputs": [
        {
          "data": {
            "text/plain": [
              "array([1.61040465e-02, 6.83341493e-01, 2.25376318e-04, 2.25369288e-04,\n",
              "       2.99652737e-01, 2.25479379e-04, 2.25497980e-04])"
            ]
          },
          "execution_count": 62,
          "metadata": {},
          "output_type": "execute_result"
        }
      ],
      "source": [
        "topic_results[0]"
      ]
    },
    {
      "cell_type": "code",
      "execution_count": null,
      "metadata": {
        "id": "6Dwr1V5mHCfz",
        "outputId": "9be38207-d2ff-4ee1-926f-e49dcd0d64e0"
      },
      "outputs": [
        {
          "data": {
            "text/plain": [
              "array([0.02, 0.68, 0.  , 0.  , 0.3 , 0.  , 0.  ])"
            ]
          },
          "execution_count": 63,
          "metadata": {},
          "output_type": "execute_result"
        }
      ],
      "source": [
        "topic_results[0].round(2)"
      ]
    },
    {
      "cell_type": "code",
      "execution_count": null,
      "metadata": {
        "id": "4m7yIT_yHCfz",
        "outputId": "7bb4fea0-b887-4976-b098-88f6c04e4d15"
      },
      "outputs": [
        {
          "data": {
            "text/plain": [
              "1"
            ]
          },
          "execution_count": 64,
          "metadata": {},
          "output_type": "execute_result"
        }
      ],
      "source": [
        "topic_results[0].argmax()"
      ]
    },
    {
      "cell_type": "markdown",
      "metadata": {
        "id": "9Gt2WqA4HCfz"
      },
      "source": [
        "This means that our model thinks that the first article belongs to topic #1."
      ]
    },
    {
      "cell_type": "markdown",
      "metadata": {
        "id": "MFqO96z6HCf0"
      },
      "source": [
        "### Combining with Original Data"
      ]
    },
    {
      "cell_type": "code",
      "execution_count": null,
      "metadata": {
        "id": "1DBzujA1HCf0",
        "outputId": "fa1f4a2c-5e70-4a74-856a-77265631d0c0"
      },
      "outputs": [
        {
          "data": {
            "text/html": [
              "<div>\n",
              "<style scoped>\n",
              "    .dataframe tbody tr th:only-of-type {\n",
              "        vertical-align: middle;\n",
              "    }\n",
              "\n",
              "    .dataframe tbody tr th {\n",
              "        vertical-align: top;\n",
              "    }\n",
              "\n",
              "    .dataframe thead th {\n",
              "        text-align: right;\n",
              "    }\n",
              "</style>\n",
              "<table border=\"1\" class=\"dataframe\">\n",
              "  <thead>\n",
              "    <tr style=\"text-align: right;\">\n",
              "      <th></th>\n",
              "      <th>Article</th>\n",
              "      <th>Topic</th>\n",
              "    </tr>\n",
              "  </thead>\n",
              "  <tbody>\n",
              "    <tr>\n",
              "      <th>0</th>\n",
              "      <td>In the Washington of 2016, even when the polic...</td>\n",
              "      <td>1</td>\n",
              "    </tr>\n",
              "    <tr>\n",
              "      <th>1</th>\n",
              "      <td>Donald Trump has used Twitter  —   his prefe...</td>\n",
              "      <td>1</td>\n",
              "    </tr>\n",
              "    <tr>\n",
              "      <th>2</th>\n",
              "      <td>Donald Trump is unabashedly praising Russian...</td>\n",
              "      <td>1</td>\n",
              "    </tr>\n",
              "    <tr>\n",
              "      <th>3</th>\n",
              "      <td>Updated at 2:50 p. m. ET, Russian President Vl...</td>\n",
              "      <td>1</td>\n",
              "    </tr>\n",
              "    <tr>\n",
              "      <th>4</th>\n",
              "      <td>From photography, illustration and video, to d...</td>\n",
              "      <td>6</td>\n",
              "    </tr>\n",
              "  </tbody>\n",
              "</table>\n",
              "</div>"
            ],
            "text/plain": [
              "                                             Article  Topic\n",
              "0  In the Washington of 2016, even when the polic...      1\n",
              "1    Donald Trump has used Twitter  —   his prefe...      1\n",
              "2    Donald Trump is unabashedly praising Russian...      1\n",
              "3  Updated at 2:50 p. m. ET, Russian President Vl...      1\n",
              "4  From photography, illustration and video, to d...      6"
            ]
          },
          "execution_count": 65,
          "metadata": {},
          "output_type": "execute_result"
        }
      ],
      "source": [
        "npr.head()"
      ]
    },
    {
      "cell_type": "code",
      "execution_count": null,
      "metadata": {
        "id": "Mq8J7mPeHCf0",
        "outputId": "fd31270d-d48f-4ffd-c45d-d71ec057a841"
      },
      "outputs": [
        {
          "data": {
            "text/plain": [
              "array([1, 1, 1, ..., 3, 4, 0], dtype=int64)"
            ]
          },
          "execution_count": 66,
          "metadata": {},
          "output_type": "execute_result"
        }
      ],
      "source": [
        "topic_results.argmax(axis=1)"
      ]
    },
    {
      "cell_type": "code",
      "execution_count": null,
      "metadata": {
        "collapsed": true,
        "id": "teUQzMkHHCf0"
      },
      "outputs": [],
      "source": [
        "npr['Topic'] = topic_results.argmax(axis=1)"
      ]
    },
    {
      "cell_type": "code",
      "execution_count": null,
      "metadata": {
        "id": "YFyRRVtgHCf0",
        "outputId": "cf040438-3d2e-4e23-b5b5-103c1ba08712"
      },
      "outputs": [
        {
          "data": {
            "text/html": [
              "<div>\n",
              "<style scoped>\n",
              "    .dataframe tbody tr th:only-of-type {\n",
              "        vertical-align: middle;\n",
              "    }\n",
              "\n",
              "    .dataframe tbody tr th {\n",
              "        vertical-align: top;\n",
              "    }\n",
              "\n",
              "    .dataframe thead th {\n",
              "        text-align: right;\n",
              "    }\n",
              "</style>\n",
              "<table border=\"1\" class=\"dataframe\">\n",
              "  <thead>\n",
              "    <tr style=\"text-align: right;\">\n",
              "      <th></th>\n",
              "      <th>Article</th>\n",
              "      <th>Topic</th>\n",
              "    </tr>\n",
              "  </thead>\n",
              "  <tbody>\n",
              "    <tr>\n",
              "      <th>0</th>\n",
              "      <td>In the Washington of 2016, even when the polic...</td>\n",
              "      <td>1</td>\n",
              "    </tr>\n",
              "    <tr>\n",
              "      <th>1</th>\n",
              "      <td>Donald Trump has used Twitter  —   his prefe...</td>\n",
              "      <td>1</td>\n",
              "    </tr>\n",
              "    <tr>\n",
              "      <th>2</th>\n",
              "      <td>Donald Trump is unabashedly praising Russian...</td>\n",
              "      <td>1</td>\n",
              "    </tr>\n",
              "    <tr>\n",
              "      <th>3</th>\n",
              "      <td>Updated at 2:50 p. m. ET, Russian President Vl...</td>\n",
              "      <td>1</td>\n",
              "    </tr>\n",
              "    <tr>\n",
              "      <th>4</th>\n",
              "      <td>From photography, illustration and video, to d...</td>\n",
              "      <td>2</td>\n",
              "    </tr>\n",
              "    <tr>\n",
              "      <th>5</th>\n",
              "      <td>I did not want to join yoga class. I hated tho...</td>\n",
              "      <td>3</td>\n",
              "    </tr>\n",
              "    <tr>\n",
              "      <th>6</th>\n",
              "      <td>With a   who has publicly supported the debunk...</td>\n",
              "      <td>3</td>\n",
              "    </tr>\n",
              "    <tr>\n",
              "      <th>7</th>\n",
              "      <td>I was standing by the airport exit, debating w...</td>\n",
              "      <td>2</td>\n",
              "    </tr>\n",
              "    <tr>\n",
              "      <th>8</th>\n",
              "      <td>If movies were trying to be more realistic, pe...</td>\n",
              "      <td>3</td>\n",
              "    </tr>\n",
              "    <tr>\n",
              "      <th>9</th>\n",
              "      <td>Eighteen years ago, on New Year’s Eve, David F...</td>\n",
              "      <td>2</td>\n",
              "    </tr>\n",
              "  </tbody>\n",
              "</table>\n",
              "</div>"
            ],
            "text/plain": [
              "                                             Article  Topic\n",
              "0  In the Washington of 2016, even when the polic...      1\n",
              "1    Donald Trump has used Twitter  —   his prefe...      1\n",
              "2    Donald Trump is unabashedly praising Russian...      1\n",
              "3  Updated at 2:50 p. m. ET, Russian President Vl...      1\n",
              "4  From photography, illustration and video, to d...      2\n",
              "5  I did not want to join yoga class. I hated tho...      3\n",
              "6  With a   who has publicly supported the debunk...      3\n",
              "7  I was standing by the airport exit, debating w...      2\n",
              "8  If movies were trying to be more realistic, pe...      3\n",
              "9  Eighteen years ago, on New Year’s Eve, David F...      2"
            ]
          },
          "execution_count": 68,
          "metadata": {},
          "output_type": "execute_result"
        }
      ],
      "source": [
        "npr.head(10)"
      ]
    },
    {
      "cell_type": "markdown",
      "metadata": {
        "id": "fUh-iar3HCf0"
      },
      "source": [
        "## Great work!"
      ]
    }
  ],
  "metadata": {
    "kernelspec": {
      "display_name": "Python 3",
      "language": "python",
      "name": "python3"
    },
    "language_info": {
      "codemirror_mode": {
        "name": "ipython",
        "version": 3
      },
      "file_extension": ".py",
      "mimetype": "text/x-python",
      "name": "python",
      "nbconvert_exporter": "python",
      "pygments_lexer": "ipython3",
      "version": "3.6.6"
    },
    "colab": {
      "name": "00-Latent-Dirichlet-Allocation.ipynb",
      "provenance": [],
      "include_colab_link": true
    }
  },
  "nbformat": 4,
  "nbformat_minor": 0
}