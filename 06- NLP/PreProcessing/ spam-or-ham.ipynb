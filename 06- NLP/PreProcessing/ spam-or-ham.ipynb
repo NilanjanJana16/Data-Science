{
 "cells": [
  {
   "cell_type": "code",
   "execution_count": 1,
   "id": "02ed51ef",
   "metadata": {
    "_cell_guid": "b1076dfc-b9ad-4769-8c92-a6c4dae69d19",
    "_uuid": "8f2839f25d086af736a60e9eeb907d3b93b6e0e5",
    "execution": {
     "iopub.execute_input": "2022-08-10T18:24:45.873035Z",
     "iopub.status.busy": "2022-08-10T18:24:45.872109Z",
     "iopub.status.idle": "2022-08-10T18:24:45.888803Z",
     "shell.execute_reply": "2022-08-10T18:24:45.888163Z"
    },
    "papermill": {
     "duration": 0.0242,
     "end_time": "2022-08-10T18:24:45.890646",
     "exception": false,
     "start_time": "2022-08-10T18:24:45.866446",
     "status": "completed"
    },
    "tags": []
   },
   "outputs": [
    {
     "name": "stdout",
     "output_type": "stream",
     "text": [
      "/kaggle/input/spam-or-ham/SMSCollection.csv\n"
     ]
    }
   ],
   "source": [
    "# This Python 3 environment comes with many helpful analytics libraries installed\n",
    "# It is defined by the kaggle/python Docker image: https://github.com/kaggle/docker-python\n",
    "# For example, here's several helpful packages to load\n",
    "\n",
    "import numpy as np # linear algebra\n",
    "import pandas as pd # data processing, CSV file I/O (e.g. pd.read_csv)\n",
    "\n",
    "# Input data files are available in the read-only \"../input/\" directory\n",
    "# For example, running this (by clicking run or pressing Shift+Enter) will list all files under the input directory\n",
    "\n",
    "import os\n",
    "for dirname, _, filenames in os.walk('/kaggle/input'):\n",
    "    for filename in filenames:\n",
    "        print(os.path.join(dirname, filename))\n",
    "\n",
    "# You can write up to 20GB to the current directory (/kaggle/working/) that gets preserved as output when you create a version using \"Save & Run All\" \n",
    "# You can also write temporary files to /kaggle/temp/, but they won't be saved outside of the current session"
   ]
  },
  {
   "cell_type": "code",
   "execution_count": 2,
   "id": "4c8bf864",
   "metadata": {
    "execution": {
     "iopub.execute_input": "2022-08-10T18:24:45.899697Z",
     "iopub.status.busy": "2022-08-10T18:24:45.898874Z",
     "iopub.status.idle": "2022-08-10T18:24:45.925220Z",
     "shell.execute_reply": "2022-08-10T18:24:45.924555Z"
    },
    "papermill": {
     "duration": 0.032802,
     "end_time": "2022-08-10T18:24:45.927164",
     "exception": false,
     "start_time": "2022-08-10T18:24:45.894362",
     "status": "completed"
    },
    "tags": []
   },
   "outputs": [],
   "source": [
    "sms = pd.read_csv('/kaggle/input/spam-or-ham/SMSCollection.csv')"
   ]
  },
  {
   "cell_type": "code",
   "execution_count": 3,
   "id": "967b945a",
   "metadata": {
    "execution": {
     "iopub.execute_input": "2022-08-10T18:24:45.936916Z",
     "iopub.status.busy": "2022-08-10T18:24:45.935771Z",
     "iopub.status.idle": "2022-08-10T18:24:45.953072Z",
     "shell.execute_reply": "2022-08-10T18:24:45.951948Z"
    },
    "papermill": {
     "duration": 0.024148,
     "end_time": "2022-08-10T18:24:45.955172",
     "exception": false,
     "start_time": "2022-08-10T18:24:45.931024",
     "status": "completed"
    },
    "tags": []
   },
   "outputs": [
    {
     "data": {
      "text/html": [
       "<div>\n",
       "<style scoped>\n",
       "    .dataframe tbody tr th:only-of-type {\n",
       "        vertical-align: middle;\n",
       "    }\n",
       "\n",
       "    .dataframe tbody tr th {\n",
       "        vertical-align: top;\n",
       "    }\n",
       "\n",
       "    .dataframe thead th {\n",
       "        text-align: right;\n",
       "    }\n",
       "</style>\n",
       "<table border=\"1\" class=\"dataframe\">\n",
       "  <thead>\n",
       "    <tr style=\"text-align: right;\">\n",
       "      <th></th>\n",
       "      <th>Class</th>\n",
       "      <th>sms</th>\n",
       "    </tr>\n",
       "  </thead>\n",
       "  <tbody>\n",
       "    <tr>\n",
       "      <th>0</th>\n",
       "      <td>ham</td>\n",
       "      <td>Go until jurong point, crazy.. Available only ...</td>\n",
       "    </tr>\n",
       "    <tr>\n",
       "      <th>1</th>\n",
       "      <td>ham</td>\n",
       "      <td>Ok lar... Joking wif u oni...</td>\n",
       "    </tr>\n",
       "    <tr>\n",
       "      <th>2</th>\n",
       "      <td>spam</td>\n",
       "      <td>Free entry in 2 a wkly comp to win FA Cup fina...</td>\n",
       "    </tr>\n",
       "    <tr>\n",
       "      <th>3</th>\n",
       "      <td>ham</td>\n",
       "      <td>U dun say so early hor... U c already then say...</td>\n",
       "    </tr>\n",
       "    <tr>\n",
       "      <th>4</th>\n",
       "      <td>ham</td>\n",
       "      <td>Nah I don't think he goes to usf, he lives aro...</td>\n",
       "    </tr>\n",
       "  </tbody>\n",
       "</table>\n",
       "</div>"
      ],
      "text/plain": [
       "  Class                                                sms\n",
       "0   ham  Go until jurong point, crazy.. Available only ...\n",
       "1   ham                      Ok lar... Joking wif u oni...\n",
       "2  spam  Free entry in 2 a wkly comp to win FA Cup fina...\n",
       "3   ham  U dun say so early hor... U c already then say...\n",
       "4   ham  Nah I don't think he goes to usf, he lives aro..."
      ]
     },
     "execution_count": 3,
     "metadata": {},
     "output_type": "execute_result"
    }
   ],
   "source": [
    "sms.head()"
   ]
  },
  {
   "cell_type": "code",
   "execution_count": 4,
   "id": "d333b4dc",
   "metadata": {
    "execution": {
     "iopub.execute_input": "2022-08-10T18:24:45.965124Z",
     "iopub.status.busy": "2022-08-10T18:24:45.964774Z",
     "iopub.status.idle": "2022-08-10T18:24:47.456227Z",
     "shell.execute_reply": "2022-08-10T18:24:47.455590Z"
    },
    "papermill": {
     "duration": 1.499096,
     "end_time": "2022-08-10T18:24:47.458247",
     "exception": false,
     "start_time": "2022-08-10T18:24:45.959151",
     "status": "completed"
    },
    "tags": []
   },
   "outputs": [],
   "source": [
    "#data cleaning and preprocessing\n",
    "import re\n",
    "import nltk\n",
    "import matplotlib.pyplot as plt\n"
   ]
  },
  {
   "cell_type": "code",
   "execution_count": 5,
   "id": "2a76f92c",
   "metadata": {
    "execution": {
     "iopub.execute_input": "2022-08-10T18:24:47.468590Z",
     "iopub.status.busy": "2022-08-10T18:24:47.467930Z",
     "iopub.status.idle": "2022-08-10T18:24:47.472232Z",
     "shell.execute_reply": "2022-08-10T18:24:47.471585Z"
    },
    "papermill": {
     "duration": 0.011179,
     "end_time": "2022-08-10T18:24:47.474046",
     "exception": false,
     "start_time": "2022-08-10T18:24:47.462867",
     "status": "completed"
    },
    "tags": []
   },
   "outputs": [],
   "source": [
    "from nltk.corpus import stopwords\n",
    "from nltk.stem.porter import PorterStemmer\n",
    "from nltk.stem import WordNetLemmatizer"
   ]
  },
  {
   "cell_type": "code",
   "execution_count": 6,
   "id": "56297a8b",
   "metadata": {
    "execution": {
     "iopub.execute_input": "2022-08-10T18:24:47.483362Z",
     "iopub.status.busy": "2022-08-10T18:24:47.483071Z",
     "iopub.status.idle": "2022-08-10T18:24:47.486647Z",
     "shell.execute_reply": "2022-08-10T18:24:47.485819Z"
    },
    "papermill": {
     "duration": 0.010206,
     "end_time": "2022-08-10T18:24:47.488255",
     "exception": false,
     "start_time": "2022-08-10T18:24:47.478049",
     "status": "completed"
    },
    "tags": []
   },
   "outputs": [],
   "source": [
    "lem = WordNetLemmatizer()"
   ]
  },
  {
   "cell_type": "code",
   "execution_count": 7,
   "id": "81035b21",
   "metadata": {
    "execution": {
     "iopub.execute_input": "2022-08-10T18:24:47.497770Z",
     "iopub.status.busy": "2022-08-10T18:24:47.497029Z",
     "iopub.status.idle": "2022-08-10T18:24:47.500336Z",
     "shell.execute_reply": "2022-08-10T18:24:47.499835Z"
    },
    "papermill": {
     "duration": 0.009885,
     "end_time": "2022-08-10T18:24:47.502000",
     "exception": false,
     "start_time": "2022-08-10T18:24:47.492115",
     "status": "completed"
    },
    "tags": []
   },
   "outputs": [],
   "source": [
    "ps = PorterStemmer()\n",
    "corpus = []"
   ]
  },
  {
   "cell_type": "code",
   "execution_count": 8,
   "id": "3b328b34",
   "metadata": {
    "execution": {
     "iopub.execute_input": "2022-08-10T18:24:47.511069Z",
     "iopub.status.busy": "2022-08-10T18:24:47.510505Z",
     "iopub.status.idle": "2022-08-10T18:24:57.752221Z",
     "shell.execute_reply": "2022-08-10T18:24:57.751619Z"
    },
    "papermill": {
     "duration": 10.248397,
     "end_time": "2022-08-10T18:24:57.754107",
     "exception": false,
     "start_time": "2022-08-10T18:24:47.505710",
     "status": "completed"
    },
    "tags": []
   },
   "outputs": [],
   "source": [
    "for i in range(0, len(sms)):\n",
    "    review = re.sub('[^a-zA-Z]', ' ', sms['sms'][i])\n",
    "    review = review.lower()\n",
    "    review = review.split()    \n",
    "    review = [ps.stem(word) for word in review if not word in stopwords.words('english')]\n",
    "    #review = [lem.lemmatize(word) for word in review if not word in stopwords.words('english')]\n",
    "    review = ' '.join(review)\n",
    "    corpus.append(review)"
   ]
  },
  {
   "cell_type": "code",
   "execution_count": 9,
   "id": "87c6167e",
   "metadata": {
    "execution": {
     "iopub.execute_input": "2022-08-10T18:24:57.764406Z",
     "iopub.status.busy": "2022-08-10T18:24:57.763589Z",
     "iopub.status.idle": "2022-08-10T18:24:57.882246Z",
     "shell.execute_reply": "2022-08-10T18:24:57.881280Z"
    },
    "papermill": {
     "duration": 0.126086,
     "end_time": "2022-08-10T18:24:57.884485",
     "exception": false,
     "start_time": "2022-08-10T18:24:57.758399",
     "status": "completed"
    },
    "tags": []
   },
   "outputs": [],
   "source": [
    "#creating TFIDF model\n",
    "\n",
    "from sklearn.feature_extraction.text import TfidfVectorizer\n",
    "cv = TfidfVectorizer(max_features = 5000)\n",
    "X = cv.fit_transform(corpus).toarray()"
   ]
  },
  {
   "cell_type": "code",
   "execution_count": 10,
   "id": "bba38f20",
   "metadata": {
    "execution": {
     "iopub.execute_input": "2022-08-10T18:24:57.893471Z",
     "iopub.status.busy": "2022-08-10T18:24:57.893124Z",
     "iopub.status.idle": "2022-08-10T18:24:57.903105Z",
     "shell.execute_reply": "2022-08-10T18:24:57.902202Z"
    },
    "papermill": {
     "duration": 0.016685,
     "end_time": "2022-08-10T18:24:57.905146",
     "exception": false,
     "start_time": "2022-08-10T18:24:57.888461",
     "status": "completed"
    },
    "tags": []
   },
   "outputs": [],
   "source": [
    "y = pd.get_dummies(sms['Class'], drop_first = True) #one hot encoding label column \n"
   ]
  },
  {
   "cell_type": "code",
   "execution_count": 11,
   "id": "3aa44a58",
   "metadata": {
    "execution": {
     "iopub.execute_input": "2022-08-10T18:24:57.914115Z",
     "iopub.status.busy": "2022-08-10T18:24:57.913834Z",
     "iopub.status.idle": "2022-08-10T18:24:57.969157Z",
     "shell.execute_reply": "2022-08-10T18:24:57.967472Z"
    },
    "papermill": {
     "duration": 0.062484,
     "end_time": "2022-08-10T18:24:57.971558",
     "exception": false,
     "start_time": "2022-08-10T18:24:57.909074",
     "status": "completed"
    },
    "tags": []
   },
   "outputs": [],
   "source": [
    "# train test split\n",
    "\n",
    "from sklearn.model_selection import train_test_split\n",
    "X_train, X_test, y_train, y_test = train_test_split(X,y, test_size = 0.30, random_state = 42)"
   ]
  },
  {
   "cell_type": "code",
   "execution_count": 12,
   "id": "bcbc16f2",
   "metadata": {
    "execution": {
     "iopub.execute_input": "2022-08-10T18:24:57.980500Z",
     "iopub.status.busy": "2022-08-10T18:24:57.980132Z",
     "iopub.status.idle": "2022-08-10T18:24:57.986803Z",
     "shell.execute_reply": "2022-08-10T18:24:57.985892Z"
    },
    "papermill": {
     "duration": 0.013198,
     "end_time": "2022-08-10T18:24:57.988677",
     "exception": false,
     "start_time": "2022-08-10T18:24:57.975479",
     "status": "completed"
    },
    "tags": []
   },
   "outputs": [],
   "source": [
    "from sklearn.naive_bayes import MultinomialNB\n",
    "model = MultinomialNB()"
   ]
  },
  {
   "cell_type": "code",
   "execution_count": 13,
   "id": "98e7b7f6",
   "metadata": {
    "execution": {
     "iopub.execute_input": "2022-08-10T18:24:57.997525Z",
     "iopub.status.busy": "2022-08-10T18:24:57.997203Z",
     "iopub.status.idle": "2022-08-10T18:24:58.046077Z",
     "shell.execute_reply": "2022-08-10T18:24:58.044755Z"
    },
    "papermill": {
     "duration": 0.055674,
     "end_time": "2022-08-10T18:24:58.048263",
     "exception": false,
     "start_time": "2022-08-10T18:24:57.992589",
     "status": "completed"
    },
    "tags": []
   },
   "outputs": [
    {
     "name": "stderr",
     "output_type": "stream",
     "text": [
      "/opt/conda/lib/python3.7/site-packages/sklearn/utils/validation.py:993: DataConversionWarning: A column-vector y was passed when a 1d array was expected. Please change the shape of y to (n_samples, ), for example using ravel().\n",
      "  y = column_or_1d(y, warn=True)\n"
     ]
    },
    {
     "data": {
      "text/plain": [
       "MultinomialNB()"
      ]
     },
     "execution_count": 13,
     "metadata": {},
     "output_type": "execute_result"
    }
   ],
   "source": [
    "model.fit(X_train, y_train)"
   ]
  },
  {
   "cell_type": "code",
   "execution_count": 14,
   "id": "2ae53ce1",
   "metadata": {
    "execution": {
     "iopub.execute_input": "2022-08-10T18:24:58.060140Z",
     "iopub.status.busy": "2022-08-10T18:24:58.059813Z",
     "iopub.status.idle": "2022-08-10T18:24:58.073773Z",
     "shell.execute_reply": "2022-08-10T18:24:58.072949Z"
    },
    "papermill": {
     "duration": 0.022305,
     "end_time": "2022-08-10T18:24:58.075869",
     "exception": false,
     "start_time": "2022-08-10T18:24:58.053564",
     "status": "completed"
    },
    "tags": []
   },
   "outputs": [],
   "source": [
    "y_pred = model.predict(X_test)"
   ]
  },
  {
   "cell_type": "code",
   "execution_count": 15,
   "id": "a9131174",
   "metadata": {
    "execution": {
     "iopub.execute_input": "2022-08-10T18:24:58.087863Z",
     "iopub.status.busy": "2022-08-10T18:24:58.087548Z",
     "iopub.status.idle": "2022-08-10T18:24:58.095635Z",
     "shell.execute_reply": "2022-08-10T18:24:58.094940Z"
    },
    "papermill": {
     "duration": 0.017403,
     "end_time": "2022-08-10T18:24:58.098593",
     "exception": false,
     "start_time": "2022-08-10T18:24:58.081190",
     "status": "completed"
    },
    "tags": []
   },
   "outputs": [
    {
     "name": "stdout",
     "output_type": "stream",
     "text": [
      "[[1447    1]\n",
      " [  48  176]]\n"
     ]
    },
    {
     "data": {
      "text/plain": [
       "0.9706937799043063"
      ]
     },
     "execution_count": 15,
     "metadata": {},
     "output_type": "execute_result"
    }
   ],
   "source": [
    "from sklearn.metrics import confusion_matrix, accuracy_score\n",
    "cm = confusion_matrix(y_test, y_pred)\n",
    "print(cm)\n",
    "accuracy_score(y_test, y_pred)"
   ]
  },
  {
   "cell_type": "code",
   "execution_count": null,
   "id": "c7e558f1",
   "metadata": {
    "papermill": {
     "duration": 0.004978,
     "end_time": "2022-08-10T18:24:58.109004",
     "exception": false,
     "start_time": "2022-08-10T18:24:58.104026",
     "status": "completed"
    },
    "tags": []
   },
   "outputs": [],
   "source": []
  }
 ],
 "metadata": {
  "kernelspec": {
   "display_name": "Python 3",
   "language": "python",
   "name": "python3"
  },
  "language_info": {
   "codemirror_mode": {
    "name": "ipython",
    "version": 3
   },
   "file_extension": ".py",
   "mimetype": "text/x-python",
   "name": "python",
   "nbconvert_exporter": "python",
   "pygments_lexer": "ipython3",
   "version": "3.7.12"
  },
  "papermill": {
   "default_parameters": {},
   "duration": 20.000963,
   "end_time": "2022-08-10T18:24:58.733579",
   "environment_variables": {},
   "exception": null,
   "input_path": "__notebook__.ipynb",
   "output_path": "__notebook__.ipynb",
   "parameters": {},
   "start_time": "2022-08-10T18:24:38.732616",
   "version": "2.3.4"
  }
 },
 "nbformat": 4,
 "nbformat_minor": 5
}
